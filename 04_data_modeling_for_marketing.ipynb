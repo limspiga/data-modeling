{
  "nbformat": 4,
  "nbformat_minor": 0,
  "metadata": {
    "colab": {
      "provenance": []
    },
    "kernelspec": {
      "name": "python3",
      "display_name": "Python 3"
    },
    "language_info": {
      "name": "python"
    }
  },
  "cells": [
    {
      "cell_type": "markdown",
      "source": [
        "# 4. Funciones de Agregación para el Análisis de Datos\n"
      ],
      "metadata": {
        "id": "urSJrIjBbkHO"
      }
    },
    {
      "cell_type": "code",
      "source": [
        "# @title Preparación del entorno\n",
        "!pip install tabulate\n",
        "import sqlite3\n",
        "from tabulate import tabulate\n",
        "\n",
        "# Descargamos la base de datos sqlda\n",
        "!curl https://raw.githubusercontent.com/limspiga/data-modeling/main/db/sqlda.sql -O\n",
        "\n",
        "# Código auxiliar. Nota: ejecutar cuando se carge este libro.\n",
        "def sql_exec_query(query):\n",
        "  conn = sqlite3.connect('sqlda.sql')\n",
        "  cur = conn.cursor()\n",
        "  try:\n",
        "    cur.execute(query)\n",
        "    headers = [column[0] for column in cur.description]\n",
        "    print(tabulate(cur,  headers=headers))\n",
        "    # conn.commit()\n",
        "  except Exception as e:\n",
        "    print(str(e))\n",
        "    # conn.rollback()\n",
        "  cur.close()\n",
        "  conn.close()\n",
        "\n",
        "def sql_exec(query):\n",
        "  conn = sqlite3.connect('sqlda.sql')\n",
        "  cur = conn.cursor()\n",
        "  try:\n",
        "      cur.execute(query)\n",
        "      conn.commit()\n",
        "      print(\"Query executed successfully\")\n",
        "  except sqlite3.Error as e:\n",
        "      print(str(e))\n",
        "      conn.rollback()\n",
        "  cur.close()\n",
        "  conn.close()"
      ],
      "metadata": {
        "colab": {
          "base_uri": "https://localhost:8080/"
        },
        "cellView": "form",
        "id": "vlIg2IIXc3mn",
        "outputId": "ccec47ce-6625-4863-ce5d-46ec51bf0120"
      },
      "execution_count": 1,
      "outputs": [
        {
          "output_type": "stream",
          "name": "stdout",
          "text": [
            "Requirement already satisfied: tabulate in /usr/local/lib/python3.10/dist-packages (0.9.0)\n",
            "  % Total    % Received % Xferd  Average Speed   Time    Time     Time  Current\n",
            "                                 Dload  Upload   Total   Spent    Left  Speed\n",
            "100 60.5M  100 60.5M    0     0  14.6M      0  0:00:04  0:00:04 --:--:-- 14.6M\n"
          ]
        }
      ]
    },
    {
      "cell_type": "markdown",
      "source": [
        "\n",
        "# Introducción\n",
        "En el capítulo anterior, aprendiste a utilizar SQL para preparar conjuntos de datos para su análisis. En última instancia, el propósito de la preparación de datos es hacer que los datos sean adecuados para el análisis, de modo que puedas comprenderlos. Una vez que los datos han sido preparados, el siguiente paso es analizarlos. En general, los científicos de datos y los profesionales de la analítica intentarán comprender los datos resumiéndolos y buscando patrones de alto nivel. SQL puede ayudar en esta tarea principalmente mediante el uso de funciones de agregación. Estas funciones toman múltiples filas como entrada y devuelven nueva información basada en esas filas de entrada. Para comenzar, aprenderás acerca de las funciones de agregación.\n",
        "\n",
        "En este capítulo, comprenderás los fundamentos de las funciones de agregación a través de los siguientes temas:\n",
        "\n",
        "- Funciones de Agregación\n",
        "- Funciones de Agregación con la Cláusula GROUP BY\n",
        "- Funciones de Agregación con la Cláusula HAVING\n",
        "- Uso de Agregaciones para Limpiar Datos y Examinar la Calidad de los Datos"
      ],
      "metadata": {
        "id": "5BFeJ0T-c-4Y"
      }
    },
    {
      "cell_type": "markdown",
      "source": [
        "# Funciones de Agregación\n",
        "Además de simplemente ver filas individuales de datos, también es interesante comprender las propiedades de una columna o tabla completa. Por ejemplo, supongamos que acabas de recibir un conjunto de datos de muestra de una empresa ficticia llamada ZoomZoom, que se especializa en la venta de automóviles y scooters eléctricos. Te preguntas cuántos clientes contiene esta base de datos de ZoomZoom. Podrías seleccionar todos los datos de la tabla y luego ver cuántas filas se recuperaron, pero sería increíblemente tedioso hacerlo. Afortunadamente, SQL proporciona funciones que se pueden utilizar para realizar este tipo de cálculos en grandes grupos de filas. Estas funciones se llaman funciones de agregación.\n",
        "\n",
        "Las funciones de agregación toman una o más columnas con múltiples filas y devuelven un número basado en esas columnas. La siguiente tabla proporciona un resumen de las principales funciones de agregación que se utilizan en SQL:"
      ],
      "metadata": {
        "id": "bVbHLC5zb7e8"
      }
    },
    {
      "cell_type": "markdown",
      "source": [
        "<figure>\n",
        "<center><img src='https://github.com/limspiga/data-modeling/blob/main/images/cf9bf93b-3a6b-41d3-946d-eb670935630d.png?raw=true' width=\"500\" />\n",
        "<figcaption>\n",
        "Figure 4.1: Major aggregate functions</figcaption></center>\n",
        "</figure>"
      ],
      "metadata": {
        "id": "Xy6LGxTfcFmA"
      }
    },
    {
      "cell_type": "markdown",
      "source": [
        "Las funciones de agregación más utilizadas con frecuencia incluyen SUM(), AVG(), MIN(), MAX(), COUNT() y STDDEV(). También notarás la función CORR(), que se discutió en el Capítulo 1, Comprensión y Descripción de Datos. SQL proporciona esta función para que no necesites calcularla manualmente."
      ],
      "metadata": {
        "id": "yz8csrincaRj"
      }
    },
    {
      "cell_type": "markdown",
      "source": [
        "Las funciones de agregación pueden ayudarte a realizar varias tareas de manera eficiente, como las siguientes:"
      ],
      "metadata": {
        "id": "9ALROXs1cgwf"
      }
    },
    {
      "cell_type": "markdown",
      "source": [
        "- Las funciones de agregación se pueden utilizar con la cláusula WHERE para calcular valores agregados para subconjuntos específicos de datos. Por ejemplo, si deseas saber cuántos clientes tiene ZoomZoom en California, podrías utilizar la siguiente consulta:"
      ],
      "metadata": {
        "id": "ak387sHHcifN"
      }
    },
    {
      "cell_type": "code",
      "source": [
        "sql_exec_query('''\n",
        "SELECT\n",
        "  COUNT(*)\n",
        "FROM\n",
        "  customers\n",
        "WHERE\n",
        "  state='CA';\n",
        "''')\n",
        "# Figure 4.2: Result of COUNT(*) with the WHERE clause"
      ],
      "metadata": {
        "colab": {
          "base_uri": "https://localhost:8080/"
        },
        "id": "oL_UC2qVcn1e",
        "outputId": "feb4065d-16a5-4bda-a42a-d1b1fc1fd8f6"
      },
      "execution_count": 2,
      "outputs": [
        {
          "output_type": "stream",
          "name": "stdout",
          "text": [
            "  COUNT(*)\n",
            "----------\n",
            "      5038\n"
          ]
        }
      ]
    }
  ]
}