{
  "nbformat": 4,
  "nbformat_minor": 0,
  "metadata": {
    "colab": {
      "provenance": []
    },
    "kernelspec": {
      "name": "python3",
      "display_name": "Python 3"
    },
    "language_info": {
      "name": "python"
    }
  },
  "cells": [
    {
      "cell_type": "markdown",
      "source": [
        "# Fundamentos de SQL para análisis"
      ],
      "metadata": {
        "id": "Irrob1ZLxMMz"
      }
    },
    {
      "cell_type": "markdown",
      "source": [
        "# Introducción\n",
        "\n",
        "La transformación en la manera en que las empresas y organizaciones almacenan y gestionan datos.\n",
        "\n",
        "1. Dos herramientas cruciales en esta transformación son:\n",
        "   - Base de datos relacional.\n",
        "   - Lenguaje de Consulta Estructurado (SQL).\n",
        "2. Estas tecnologías son fundamentales en el procesamiento de datos y son esenciales para empresas que gestionan grandes volúmenes de información.\n",
        "3. Las empresas utilizan bases de datos relacionales como su principal medio de almacenamiento.\n",
        "4. Una gran cantidad de estos datos se transfieren a almacenes de datos especializados para análisis avanzados.\n",
        "5. La mayoría de estos almacenes de datos se acceden mediante SQL.\n",
        "\n",
        "Las bases de datos relacionales requieren que los datos se ajusten a un formato particular y se siga un algoritmo específico para su procesamiento. Sin embargo, en los últimos tiempos han surgido las bases de datos NoSQL. Estas fueron creadas como una opción diferente para guardar datos, usando tecnologías que no están basadas en el formato relacional o en el lenguaje SQL. Las bases de datos NoSQL están hechas para tareas que las relacionales no pueden hacer de manera eficaz, como trabajar con datos no estructurados, como los tweets, o realizar operaciones de lectura/escritura de forma distribuida. Aunque, es importante señalar que las bases de datos NoSQL están más orientadas a necesidades específicas y no son una solución universal para todas las necesidades de bases de datos. De hecho, el término \"NoSQL\" evolucionó a \"Not Only SQL\", lo que indica que estas bases son un añadido, no un sustituto, en el mundo de la gestión de datos. Las bases de datos relacionales y el SQL siguen siendo fundamentales en este ámbito.\n",
        "\n",
        "Comparadas con las NoSQL, las bases de datos relacionales tienen puntos fuertes. Primero, son versátiles, ya que ofrecen un balance entre características y rendimiento para diversas operaciones. Además, todas utilizan SQL, un lenguaje con fundamentos matemáticos sólidos y fácil de aprender. En resumen, para aquellos que se inician en el análisis de datos, las bases de datos relacionales y SQL son el punto de partida ideal. La mayoría descubrirá que SQL cubre la mayoría de sus necesidades. Solo unos pocos requerirán las capacidades de una base de datos NoSQL, pero aún para ellos, SQL sigue siendo una herramienta valiosa para analizar datos.\n",
        "\n",
        "**Bases de Datos Relacionales vs NoSQL**\n",
        "\n",
        "- **Bases de Datos Relacionales**\n",
        "  - Características:\n",
        "    - Requieren formato específico.\n",
        "    - Usan un algoritmo particular para procesamiento.\n",
        "  - Ventajas:\n",
        "    - Versátiles: buen balance entre características y rendimiento.\n",
        "    - Universalidad: todas utilizan SQL.\n",
        "    - Fundamentos sólidos: SQL tiene una base matemática robusta.\n",
        "    - Facilidad de aprendizaje: SQL es intuitivo para muchos principiantes.\n",
        "  - Aplicación:\n",
        "    - Punto de partida ideal para análisis de datos.\n",
        "    - Cubre la mayoría de las necesidades de las personas.\n",
        "\n",
        "- **Bases de Datos NoSQL**\n",
        "  - Origen:\n",
        "    - Creadas como alternativa al formato relacional y SQL.\n",
        "  - Características:\n",
        "    - Capaces de trabajar con datos no estructurados (ej. tweets).\n",
        "    - Realizan operaciones distribuidas.\n",
        "  - Terminología:\n",
        "    - Evolución del término: De \"NoSQL\" a \"Not Only SQL\".\n",
        "  - Limitaciones:\n",
        "    - Más orientadas a necesidades específicas.\n",
        "    - No son una solución universal.\n",
        "  - Aplicación:\n",
        "    - Añadido en el mundo de gestión de datos, no un sustituto.\n"
      ],
      "metadata": {
        "id": "EBlZJD4Vl-p7"
      }
    },
    {
      "cell_type": "markdown",
      "source": [
        "## 1.1 El Mundo de los Datos\n",
        "\n",
        "Los datos se pueden dividir en tres categorías principales:\n",
        "- estructurados,\n",
        "- semi-estructurados y\n",
        "- no estructurados.\n",
        "\n",
        "\n",
        "\n",
        "<figure>\n",
        "<center><img src='https://github.com/limspiga/data-modeling/blob/main/images/67733acf-d83a-4c54-902a-760467625c72.png?raw=true' width=\"400\" />\n",
        "<figcaption>Figura 2.1: La clasificación de los tipos de datos</figcaption></center>\n",
        "</figure>"
      ],
      "metadata": {
        "id": "OQwntmuecH3N"
      }
    },
    {
      "cell_type": "markdown",
      "source": [
        "<center>\n",
        "\n",
        "| Tipo de Datos          | Definición y Características                                                                                  | Ejemplo                                                         |\n",
        "|------------------------|---------------------------------------------------------------------------------------------------------------|-----------------------------------------------------------------|\n",
        "| **Datos Estructurados**| - Definición atómica clara. <br> - Tipo, rango y significado de valores definidos. <br> - Orden estricto.     | Tarjeta de inscripción escolar: <br> - Número de identificación. <br> - Nombre. <br> - Fecha de nacimiento.              |\n",
        "| **Datos No Estructurados** | - Sin definición clara. <br> - Difícil extracción y análisis.                                                | - Bloque binario: <br>   * Archivos de video. <br>   * Archivos de audio. <br> - Tokens naturales: <br>   * Redes sociales. <br>   * Discursos humanos.   |\n",
        "| **Datos Semi-estructurados** | - Sin formato y significado predefinidos. <br> - Cada valor está etiquetado con su definición.             | Información de una casa: <br> - Dirección. <br> - Sótano (opcional). <br> - Garaje (opcional). <br> - Mejoras futuras.    |\n",
        "\n",
        "</center>"
      ],
      "metadata": {
        "id": "fBf1omGOnYjs"
      }
    },
    {
      "cell_type": "markdown",
      "source": [
        "## Bases de Datos Relacionales y SQL\n",
        "Una base de datos relacional usa un modelo relacional, organizando los datos en relaciones o conjuntos de tuplas. Una tupla, también conocida como registro, es una serie ordenada de atributos que describen dicho registro.\n",
        "\n",
        "Por ejemplo, una empresa de bienes de consumo de rápido movimiento quiere rastrear a sus clientes. Pueden guardar la información del cliente en una relación llamada customer_info (información del cliente). Cada registro en esta relación contiene detalles sobre un cliente. Los atributos en cada registro incluyen información como el apellido del cliente, nombre, edad, fecha de inscripción y dirección de entrega. Esta relación y sus dos primeros registros se verían así:"
      ],
      "metadata": {
        "id": "Ccc5AWuahk66"
      }
    },
    {
      "cell_type": "markdown",
      "source": [
        "<center>\n",
        "\n",
        "| ID | Last Name | First Name | Age |\n",
        "|---|---|---|---|\n",
        "| 1 | Smith | John | 27 |\n",
        "| 2 | Higgins | Mary | 53 |\n",
        "\n",
        "Figure 2.2: Ejemplo de customer_info relation\n",
        "\n",
        "</center>"
      ],
      "metadata": {
        "id": "UeEn8ivUnqcW"
      }
    },
    {
      "cell_type": "markdown",
      "source": [
        "Como puede ver, cada relación es efectivamente una tabla bidimensional que se parece a una hoja de cálculo de Excel. Por lo tanto, cuando se implementa en una base de datos relacional, estas relaciones se llaman tablas. Cada tabla está compuesta por filas y columnas. Cada fila de la tabla es un registro, y los atributos se representan como columnas de la tabla. No puede haber columnas duplicadas y las columnas deben seguir el mismo orden en todas las filas. Cada columna también tiene un tipo de datos que describe el tipo de datos en la columna.\n",
        "\n",
        "Aunque no es técnicamente necesario, la mayoría de las tablas en una base de datos relacional tienen una columna (a veces un grupo de columnas) denominada clave primaria, que identifica de manera única una fila de la base de datos. En el ejemplo mostrado en la Figura 2.2, cada fila contiene una columna llamada ID. Este registro, como sugiere el nombre, es un atributo que se puede usar para identificar de manera única este registro. Se conoce como clave relacional. En todas las demás columnas, puede tener datos duplicados en diferentes filas. Pero en la(s) columna(s) de clave primaria, los datos deben ser únicos.\n",
        "\n",
        "**Base de Datos Relacional y Operaciones CRUD**\n",
        "\n",
        "- **Base de datos relacional**:\n",
        "  - Organizadas alrededor de tablas.\n",
        "  - Datos almacenados dentro de las tablas.\n",
        "\n",
        "- **Operaciones en Bases de Datos**:\n",
        "  - **CRUD**:\n",
        "    - **C** - Crear:\n",
        "      - Definir el conjunto de datos.\n",
        "      - Crear registros de datos individuales y colocarlos en el conjunto.\n",
        "    - **R** - Leer:\n",
        "      - Acceder y visualizar toda la información del conjunto de datos.\n",
        "    - **U** - Actualizar:\n",
        "      - Modificar los registros afectados por cambios.\n",
        "    - **D** - Eliminar:\n",
        "      - Eliminar registros individuales.\n",
        "      - Si no es necesario el conjunto, eliminar toda la definición del conjunto en la base de datos.\n",
        "\n",
        "- **Objetivo de eliminar registros**:\n",
        "  - Ahorrar costos de almacenamiento.\n",
        "  - Aumentar rendimiento.\n",
        "\n",
        "**Nota**: CRUD es el acrónimo de Crear, Leer, Actualizar y Eliminar.\n",
        "\n"
      ],
      "metadata": {
        "id": "MbjhrC_GoA8m"
      }
    },
    {
      "cell_type": "markdown",
      "source": [
        "## Ventajas y Desventajas de las Bases de Datos SQL\n",
        "**Resumen:**\n",
        "Las bases de datos relacionales (SQL) son herramientas ampliamente utilizadas para almacenar y procesar datos estructurados debido a sus múltiples ventajas, tales como la representación intuitiva, eficiencia en almacenamiento, declaratividad y robustez. Sin embargo, enfrentan desafíos en áreas como la escalabilidad, el procesamiento de datos no estructurados y el equilibrio entre consistencia y rendimiento.\n",
        "\n",
        "**Comparativa: Ventajas vs. Desventajas**\n",
        "\n",
        "**Ventajas:**\n",
        "1. **Intuitivo:** Representación clara y fácil de entender con tablas.\n",
        "2. **Eficiente:** Normalización evita redundancia de datos, optimizando el espacio.\n",
        "3. **Declarativo:** SQL especifica qué datos se quieren sin preocuparse por cómo obtenerlos.\n",
        "4. **Robusto:** Cumplimiento de atomicidad, consistencia, aislamiento y durabilidad (ACID) garantiza la validez de los datos.\n",
        "\n",
        "**Desventajas:**\n",
        "1. **Especificidad relativamente baja:** Limitaciones en la funcionalidad preprogramada.\n",
        "2. **Escalabilidad limitada:** El costo de recursos crece exponencialmente con la información.\n",
        "3. **Sacrificar rendimiento por consistencia:** Mecanismos complejos pueden disminuir el rendimiento en escenarios que no requieren alta consistencia.\n",
        "4. **Falta de capacidad para procesar datos semi-estructurados y no estructurados:** Las bases de datos SQL se centran principalmente en datos estructurados, lo que limita su versatilidad con otros tipos de datos."
      ],
      "metadata": {
        "id": "8x-AX-nZofqW"
      }
    },
    {
      "cell_type": "markdown",
      "source": [
        "# Sqlite Sistema de Gestión de Bases de Datos Relacionales (RDBMS)\n",
        "SQLite es un RDBMS que administra datos en sistemas informáticos, asegurando su adecuado almacenamiento y recuperación mediante el lenguaje SQL."
      ],
      "metadata": {
        "id": "a11JMpNmpoGK"
      }
    },
    {
      "cell_type": "markdown",
      "source": [
        "Los RDBMS, que manejan bases de datos, vienen en dos variedades: comerciales y de código abierto. Aunque todos siguen en su mayoría un estándar de SQL establecido por ANSI, cada uno tiene pequeñas diferencias en su funcionamiento y en el uso del lenguaje SQL. Durante este curso, usaremos Colab como nuestra herramienta principal para trabajar con SQL. Colab actúa como un espacio de almacenamiento temporal para los datos, y los usuarios interactúan con él a través de distintas herramientas cliente."
      ],
      "metadata": {
        "id": "b3c67-eLp-6e"
      }
    },
    {
      "cell_type": "markdown",
      "source": [
        "A continuación, se presenta la lista de tablas contenidas en la base de datos SQLQA, acompañada de una breve descripción de cada una:\n",
        "\n",
        "| **Nombre de la tabla**                   | **Descripción**                                                                                                                                                         |\n",
        "|-----------------------------------------|-------------------------------------------------------------------------------------------------------------------------------------------------------------------------|\n",
        "| closest_dealerships                     | Contiene la distancia entre cada cliente y concesionario                                                                                                               |\n",
        "| countries                               | Una tabla vacía con columnas que describen países                                                                                                                      |\n",
        "| customer_sales                          | Contiene datos brutos en un formato semi-estructurado de algunos registros de ventas                                                                                    |\n",
        "| customer_survey                         | Contiene retroalimentación con calificaciones de los clientes                                                                                                          |\n",
        "| customers                               | Contiene información detallada para todos los clientes                                                                                                                 |\n",
        "| dealerships                             | Contiene información detallada para todos los concesionarios                                                                                                           |\n",
        "| emails                                  | Contiene los detalles de los correos electrónicos enviados a cada cliente                                                                                              |\n",
        "| products                                | Contiene los productos vendidos por ZoomZoom                                                                                                                           |\n",
        "| public_transportation_by_zip            | Contiene la medida de disponibilidad de transporte público en diferentes códigos postales en Estados Unidos                                                            |\n",
        "| sales                                   | Contiene los registros de ventas de ZoomZoom basados en un registro por cliente por producto                                                                           |\n",
        "| salespeople                             | Contiene los detalles de los vendedores en todos los concesionarios                                                                                                     |\n",
        "| top_cities_data                         | Contiene algunos datos agregados sobre el número de clientes en diferentes ciudades                                                                                     |\n"
      ],
      "metadata": {
        "id": "rskphcBgpzWK"
      }
    },
    {
      "cell_type": "markdown",
      "source": [
        "# Ejercicio 2.01: Realizando tu primera consulta con SELECT.\n",
        "En este ejercicio, emplearás Python para establecer una conexión con una base de datos de muestra denominada ZoomZoom en tu servidor Sqlite3 y llevarás a cabo una consulta SQL sencilla."
      ],
      "metadata": {
        "id": "uGgITAdXqLp0"
      }
    },
    {
      "cell_type": "markdown",
      "source": [
        "1. Descarga la base de datos sqlda"
      ],
      "metadata": {
        "id": "o2awqbibqhZX"
      }
    },
    {
      "cell_type": "code",
      "source": [
        "!pip install tabulate\n",
        "import sqlite3\n",
        "\n",
        "# Descargamos la base de datos sqlda\n",
        "!curl https://raw.githubusercontent.com/limspiga/data-modeling/main/db/sqlda.sql -O"
      ],
      "metadata": {
        "id": "UT-qvgpXqhqk",
        "colab": {
          "base_uri": "https://localhost:8080/"
        },
        "outputId": "3795f47e-3e60-4780-90c1-3bd4d40d7882"
      },
      "execution_count": 100,
      "outputs": [
        {
          "output_type": "stream",
          "name": "stdout",
          "text": [
            "Requirement already satisfied: tabulate in /usr/local/lib/python3.10/dist-packages (0.9.0)\n",
            "  % Total    % Received % Xferd  Average Speed   Time    Time     Time  Current\n",
            "                                 Dload  Upload   Total   Spent    Left  Speed\n",
            "100 60.5M  100 60.5M    0     0  7708k      0  0:00:08  0:00:08 --:--:-- 15.7M\n"
          ]
        }
      ]
    },
    {
      "cell_type": "markdown",
      "source": [
        "2. La base de datos sqlda.sql contiene datos de muestra de una empresa imaginaria llamada ZoomZoom, dedicada a la venta en línea de automóviles y scooters eléctricos a través de su plataforma web y red de concesionarios. En cada concesionario hay un vendedor encargado. Los clientes, tras realizar una compra, pueden optar por completar una encuesta. Adicionalmente, ZoomZoom envía correos electrónicos promocionales a sus clientes, registrando las fechas de envío, apertura, clics y el contenido del mensaje.\n",
        "\n",
        "  Ahora, introduce la consulta siguiente en el terminal:"
      ],
      "metadata": {
        "id": "oGD0SvKMqvK3"
      }
    },
    {
      "cell_type": "code",
      "source": [
        "# 1. Establecer una conexión con la base de datos\n",
        "conn = sqlite3.connect('sqlda.sql')\n",
        "\n",
        "# 2. Iniciar un cursor para interactuar con la base de datos\n",
        "cur = conn.cursor()\n",
        "\n",
        "# 3. Realizar una consulta para obtener los primeros nombres\n",
        "# de los clientes en Arizona (AZ)\n",
        "cur.execute('''\n",
        "  SELECT first_name\n",
        "  FROM customers\n",
        "  WHERE state='AZ'\n",
        "ORDER BY first_name LIMIT 2;''')\n",
        "\n",
        "# 4. Mostrar los resultados obtenidos de la consulta\n",
        "for row in cur:\n",
        "  print(row)\n",
        "\n",
        "# 5. Cerrar la conexión con la base de datos\n",
        "conn.close()"
      ],
      "metadata": {
        "id": "9a7WVqEhqk5Y",
        "colab": {
          "base_uri": "https://localhost:8080/"
        },
        "outputId": "73b77f05-e3af-4742-ddb1-db7d853b272f"
      },
      "execution_count": 4,
      "outputs": [
        {
          "output_type": "stream",
          "name": "stdout",
          "text": [
            "('Abba',)\n",
            "('Abbey',)\n"
          ]
        }
      ]
    },
    {
      "cell_type": "markdown",
      "source": [
        " El resultado de este SQL aparece debajo del editor de consultas.\n",
        "\n",
        "La consulta SQL que acabas de ejecutar en este ejercicio es una sentencia SELECT."
      ],
      "metadata": {
        "id": "IJbc9gf4sFN8"
      }
    },
    {
      "cell_type": "markdown",
      "source": [
        "\n",
        "## Declaración SELECT\n",
        "En una base de datos relacional, las operaciones CRUD se ejecutan mediante declaraciones SQL. Una declaración SQL es un comando que utiliza ciertas palabras clave de SQL y sigue ciertos estándares para especificar qué resultado esperas de la base de datos relacional. En el Ejercicio 2.01, Ejecutando tu primera consulta SELECT, viste un ejemplo de declaración SQL SELECT. SELECT es probablemente la declaración SQL más común; recupera datos de una base de datos. Esta operación se realiza casi exclusivamente usando la palabra clave SELECT.\n",
        "\n",
        "La consulta SELECT más básica sigue este patrón:\n",
        "\n",
        "```\n",
        "# SELECT...FROM <nombre_tabla>;\n",
        "```\n",
        "Esta consulta es una forma de extraer datos de una única tabla. En su forma más simple, si quieres extraer todos los datos de la tabla de productos en la base de datos de muestra, simplemente usa esta consulta:"
      ],
      "metadata": {
        "id": "SncZxt7knHSS"
      }
    },
    {
      "cell_type": "code",
      "source": [
        "from tabulate import tabulate\n",
        "\n",
        "conn = sqlite3.connect('sqlda.sql')\n",
        "cur = conn.cursor()\n",
        "\n",
        "# 3. Realizar una consulta para obtener los primeros nombres\n",
        "# de los clientes en Arizona (AZ)\n",
        "cur.execute('SELECT * FROM products;')\n",
        "\n",
        "# Fetch column names\n",
        "headers = [column[0] for column in cur.description]\n",
        "\n",
        "# Print in table format using tabulate\n",
        "# print(tabulate(cur, headers=headers, tablefmt=\"grid\"))\n",
        "print(tabulate(cur,  headers=headers))\n",
        "\n",
        "conn.close()"
      ],
      "metadata": {
        "id": "z2anQSrfr8JC",
        "outputId": "dc34ae82-bf0f-42d2-9d6a-8c241d1af85c",
        "colab": {
          "base_uri": "https://localhost:8080/"
        }
      },
      "execution_count": 20,
      "outputs": [
        {
          "output_type": "stream",
          "name": "stdout",
          "text": [
            "  product_id  model                    year  product_type      base_msrp  production_start_date    production_end_date\n",
            "------------  ---------------------  ------  --------------  -----------  -----------------------  ---------------------\n",
            "           1  Lemon                    2013  scooter              399.99  2012-10-28 00:00:00      2015-02-03 00:00:00\n",
            "           2  Lemon Limited Edition    2014  scooter              799.99  2013-08-30 00:00:00      2013-11-24 00:00:00\n",
            "           3  Lemon                    2016  scooter              499.99  2015-12-27 00:00:00      2021-08-24 00:00:00\n",
            "           4  Model Chi                2017  automobile        115000     2017-02-17 00:00:00      2021-08-24 00:00:00\n",
            "           5  Blade                    2017  scooter              699.99  2017-02-17 00:00:00      2017-09-23 00:00:00\n",
            "           6  Model Sigma              2018  automobile         65500     2017-12-10 00:00:00      2021-05-28 00:00:00\n",
            "           7  Bat                      2019  scooter              599.99  2019-06-07 00:00:00      \\N\n",
            "           8  Bat Limited Edition      2020  scooter              699.99  2019-10-13 00:00:00      \\N\n",
            "           9  Model Epsilon            2020  automobile         35000     2019-10-13 00:00:00      \\N\n",
            "          10  Model Gamma              2020  automobile         85750     2019-10-13 00:00:00      \\N\n",
            "          11  Model Chi                2022  automobile         95000     2021-10-01 00:00:00      \\N\n",
            "          12  Lemon Zester             2022  scooter              349.99  2021-10-01 00:00:00      \\N\n"
          ]
        }
      ]
    },
    {
      "cell_type": "markdown",
      "source": [
        "\n",
        "Esta consulta extraerá todos los datos de una base de datos. La salida será:"
      ],
      "metadata": {
        "id": "f5Z9yrCYr8bt"
      }
    },
    {
      "cell_type": "markdown",
      "source": [
        "\n",
        "<figure>\n",
        "<center><img src='https://github.com/limspiga/data-modeling/blob/main/images/4e5bfa84-8e92-4d9d-99ed-35217e5e84d9.png?raw=true' width=\"600\" />\n",
        "<figcaption>Figure 2.7: Simple SELECT statement</figcaption></center>\n",
        "</figure>"
      ],
      "metadata": {
        "id": "K7ZM8am0oHe4"
      }
    },
    {
      "cell_type": "markdown",
      "source": [
        "Es importante entender la sintaxis de la consulta SELECT con un poco más de detalle."
      ],
      "metadata": {
        "id": "0n4bPahroYlT"
      }
    },
    {
      "cell_type": "markdown",
      "source": [
        "Nota\n",
        "\n",
        "En las declaraciones presentadas en esta sección, las palabras clave de SQL, como SELECT y FROM, están en letras mayúsculas, mientras que los nombres de tablas y columnas se muestran en minúsculas. Aunque SQL no diferencia entre mayúsculas y minúsculas en sus declaraciones y palabras clave, es recomendable seguir ciertas convenciones de formato y estructura al escribir. Esto facilita la comprensión de la estructura y finalidad de la declaración."
      ],
      "metadata": {
        "id": "YiSQy63yonav"
      }
    },
    {
      "cell_type": "markdown",
      "source": [
        "Dentro de la cláusula SELECT, el símbolo * sirve como abreviatura para seleccionar todas las columnas de una base de datos. Se utiliza el punto y coma (;) al final de la consulta para señalar su conclusión, similar a cómo un punto finaliza una oración. Si deseas seleccionar columnas específicas en una consulta, simplemente sustituye el asterisco (*) por los nombres de las columnas deseadas en el orden en que prefieras que se muestren. Por ejemplo, para mostrar las columnas product_id y model de la tabla products, la consulta sería:"
      ],
      "metadata": {
        "id": "pKKsufGKo4U_"
      }
    },
    {
      "cell_type": "code",
      "source": [
        "conn = sqlite3.connect('sqlda.sql')\n",
        "cur = conn.cursor()\n",
        "\n",
        "cur.execute('SELECT product_id, model FROM products;')\n",
        "\n",
        "# Fetch column names\n",
        "headers = [column[0] for column in cur.description]\n",
        "print(tabulate(cur,  headers=headers))\n",
        "\n",
        "conn.close()"
      ],
      "metadata": {
        "id": "lpD1SUS-uIU1",
        "outputId": "b7907928-8466-4a65-e3bc-f418f2104f11",
        "colab": {
          "base_uri": "https://localhost:8080/"
        }
      },
      "execution_count": 21,
      "outputs": [
        {
          "output_type": "stream",
          "name": "stdout",
          "text": [
            "  product_id  model\n",
            "------------  ---------------------\n",
            "           1  Lemon\n",
            "           2  Lemon Limited Edition\n",
            "           3  Lemon\n",
            "           4  Model Chi\n",
            "           5  Blade\n",
            "           6  Model Sigma\n",
            "           7  Bat\n",
            "           8  Bat Limited Edition\n",
            "           9  Model Epsilon\n",
            "          10  Model Gamma\n",
            "          11  Model Chi\n",
            "          12  Lemon Zester\n"
          ]
        }
      ]
    },
    {
      "cell_type": "markdown",
      "source": [
        "La respuesta se mostrará de la siguiente manera:\n",
        "\n",
        "<figure>\n",
        "<center><img src='https://github.com/limspiga/data-modeling/blob/main/images/71d622a3-2af1-4f0d-9e59-345e9fb5866b.png?raw=true' width=\"200\" />\n",
        "<figcaption>Figure 2.7: Simple SELECT statement</figcaption></center>\n",
        "</figure>"
      ],
      "metadata": {
        "id": "7ZqYz0wquIhN"
      }
    },
    {
      "cell_type": "markdown",
      "source": [
        "Figura 2.8: Sentencia SELECT con nombres de columnas\n",
        "Para mostrar primero la columna model y luego la columna product_id, escribirías lo siguiente:\n"
      ],
      "metadata": {
        "id": "Gg9gDwowpWUG"
      }
    },
    {
      "cell_type": "code",
      "source": [
        "conn = sqlite3.connect('sqlda.sql')\n",
        "cur = conn.cursor()\n",
        "\n",
        "cur.execute('SELECT model, product_id FROM products;')\n",
        "\n",
        "# Fetch column names\n",
        "headers = [column[0] for column in cur.description]\n",
        "print(tabulate(cur,  headers=headers))\n",
        "\n",
        "conn.close()"
      ],
      "metadata": {
        "id": "mJLM8l3EuiAE",
        "outputId": "7d0c079c-1634-424b-c531-d20dd745d8a7",
        "colab": {
          "base_uri": "https://localhost:8080/"
        }
      },
      "execution_count": 23,
      "outputs": [
        {
          "output_type": "stream",
          "name": "stdout",
          "text": [
            "model                    product_id\n",
            "---------------------  ------------\n",
            "Lemon                             1\n",
            "Lemon Limited Edition             2\n",
            "Lemon                             3\n",
            "Model Chi                         4\n",
            "Blade                             5\n",
            "Model Sigma                       6\n",
            "Bat                               7\n",
            "Bat Limited Edition               8\n",
            "Model Epsilon                     9\n",
            "Model Gamma                      10\n",
            "Model Chi                        11\n",
            "Lemon Zester                     12\n"
          ]
        }
      ]
    },
    {
      "cell_type": "markdown",
      "source": [
        "\n",
        "La respuesta se mostrará de la siguiente manera:"
      ],
      "metadata": {
        "id": "7luflnRQuiLw"
      }
    },
    {
      "cell_type": "markdown",
      "source": [
        "<figure>\n",
        "<center><img src='https://github.com/limspiga/data-modeling/blob/main/images/2914d3b5-fc04-480f-8b1d-15df7d13e0da.png?raw=true' width=\"200\" />\n",
        "<figcaption>Figura 2.9: Comparación entre las sentencias SELECT con nombres de columnas de las Figuras 2.8 y 2.9.</figcaption></center>\n",
        "</figure>"
      ],
      "metadata": {
        "id": "KFvJig-mpgoF"
      }
    },
    {
      "cell_type": "markdown",
      "source": [
        "Es esencial entender que, a pesar de que las columnas se muestran en el orden establecido en la consulta `SELECT`, las filas se presentarán de manera no secuencial.\n",
        "\n",
        "Una consulta SELECT se estructura en cinco segmentos:\n",
        "1. **Operación**: Se refiere a lo que se mostrará. Por ejemplo, el término SELECT seguido de los nombres de las columnas o funciones.\n",
        "2. **Datos**: Representado por la palabra clave `FROM`, seguida de las tablas relacionadas, especifica qué información será considerada para acciones como filtrado y cálculos.\n",
        "3. **Condición**: Es el segmento que limita los datos, mostrando únicamente aquellos registros que cumplan con ciertas condiciones, generalmente marcadas con `WHERE`.\n",
        "4. **Agrupación**: Envolucra la reunión de registros basándose en criterios determinados por una cláusula `GROUP BY`, generando salidas basadas en valores similares. Profundizarás en este aspecto en el Capítulo 4, Funciones Agregadas para el Análisis de Datos.\n",
        "5. **Postprocesamiento**: Es el proceso final que ajusta y organiza los resultados, comúnmente usando términos como `ORDER BY` y `LIMIT`.\n",
        "\n",
        "Como ilustración, toma en cuenta la declaración que realizaste en el Ejercicio 2.01, donde quisieras obtener el nombre principal de todos los clientes en Arizona, listados alfabéticamente. La consulta `SELECT` para este propósito sería:\n",
        "\n"
      ],
      "metadata": {
        "id": "9BEF_7NyqQFU"
      }
    },
    {
      "cell_type": "code",
      "source": [
        "conn = sqlite3.connect('sqlda.sql')\n",
        "cur = conn.cursor()\n",
        "\n",
        "cur.execute('''\n",
        "  SELECT first_name\n",
        "  FROM customers\n",
        "  WHERE state='AZ'\n",
        "  ORDER BY first_name LIMIT 10;''')\n",
        "\n",
        "# Fetch column names\n",
        "headers = [column[0] for column in cur.description]\n",
        "print(tabulate(cur,  headers=headers))\n",
        "\n",
        "conn.close()"
      ],
      "metadata": {
        "id": "SWRCOrKJu7VE",
        "outputId": "a5930165-6eb4-46a1-9360-ad1c40f07f29",
        "colab": {
          "base_uri": "https://localhost:8080/"
        }
      },
      "execution_count": 25,
      "outputs": [
        {
          "output_type": "stream",
          "name": "stdout",
          "text": [
            "first_name\n",
            "------------\n",
            "Abba\n",
            "Abbey\n",
            "Abra\n",
            "Abrahan\n",
            "Adams\n",
            "Adham\n",
            "Adora\n",
            "Adore\n",
            "Adrianna\n",
            "Agnese\n"
          ]
        }
      ]
    },
    {
      "cell_type": "markdown",
      "source": [
        "Los resultados iniciales se visualizan de la siguiente manera:"
      ],
      "metadata": {
        "id": "f-PtMFdhu7hG"
      }
    },
    {
      "cell_type": "markdown",
      "source": [
        "<figure>\n",
        "<center><img src='https://github.com/limspiga/data-modeling/blob/main/images/640a3027-ff64-4cc0-b1f7-0c2764ba4a97.png?raw=true' width=\"100\" />\n",
        "<figcaption>Figure 2.10: Sample SELECT statement.</figcaption></center>\n",
        "</figure>"
      ],
      "metadata": {
        "id": "LDACGvM_qoss"
      }
    },
    {
      "cell_type": "markdown",
      "source": [
        "## La Cláusula WHERE\n",
        "\n",
        "La cláusula WHERE es una lógica condicional que limita la cantidad de datos devueltos. Puedes usar la cláusula WHERE para especificar condiciones basadas en las cuales la declaración SELECT recuperará filas específicas. En una declaración SELECT, generalmente encontrarás esta cláusula colocada después de la cláusula FROM.\n",
        "\n",
        "La condición en la cláusula WHERE generalmente es una declaración booleana que puede ser verdadera o falsa para cada fila. En el caso de las columnas numéricas, estas declaraciones booleanas pueden usar operadores como igual (=), mayor que (>), o menor que (<) para comparar las columnas contra un valor.\n",
        "\n",
        "Por ejemplo, supongamos que quieres ver los nombres de los modelos de los productos con el año modelo 2014 del conjunto de datos de muestra. Escribirías la siguiente consulta:\n",
        "\n",
        "La salida de este SQL es:"
      ],
      "metadata": {
        "id": "sZ8B2MhAvSo4"
      }
    },
    {
      "cell_type": "code",
      "source": [
        "conn = sqlite3.connect('sqlda.sql')\n",
        "cur = conn.cursor()\n",
        "\n",
        "cur.execute('''\n",
        "  SELECT model\n",
        "  FROM products\n",
        "  WHERE year=2014 LIMIT 10;''')\n",
        "\n",
        "# Fetch column names\n",
        "headers = [column[0] for column in cur.description]\n",
        "print(tabulate(cur,  headers=headers))\n",
        "\n",
        "conn.close()"
      ],
      "metadata": {
        "id": "2evkyx6FvtfY",
        "outputId": "0e2892ec-4aea-4353-9ba1-46b152668c38",
        "colab": {
          "base_uri": "https://localhost:8080/"
        }
      },
      "execution_count": 26,
      "outputs": [
        {
          "output_type": "stream",
          "name": "stdout",
          "text": [
            "model\n",
            "---------------------\n",
            "Lemon Limited Edition\n"
          ]
        }
      ]
    },
    {
      "cell_type": "markdown",
      "source": [
        "Figura 2.11: Cláusula WHERE simple\n",
        "\n",
        "Mediante la cláusula WHERE, has logrado filtrar los productos según un criterio específico. Si estás interesado en productos anteriores al año 2014, simplemente ajusta la cláusula `WHERE a year < 2014`. Ahora, si deseas aplicar varios criterios simultáneamente o seleccionar filas que cumplan alguna de varias condiciones, puedes incorporar las cláusulas AND u OR en tus consultas."
      ],
      "metadata": {
        "id": "S97Yypodvtte"
      }
    },
    {
      "cell_type": "markdown",
      "source": [
        "### La Cláusula AND/OR\n",
        "\n",
        "La consulta previa, representada en la Figura 2.11, se basó en una única condición. No obstante, en ocasiones, podrías querer satisfacer múltiples criterios simultáneamente. Para lograrlo, puedes integrar distintas condiciones utilizando las cláusulas AND y OR. Mientras que AND selecciona las filas que cumplen con todas las condiciones establecidas, OR recoge aquellas que satisfacen al menos una de las condiciones especificadas.\n",
        "\n",
        "Por ejemplo, si quieres obtener modelos que no solo fueron fabricados en 2014, sino que también tienen un Precio Sugerido por el Fabricante (MSRP) de menos de $1,000, puedes escribir la siguiente consulta:\n"
      ],
      "metadata": {
        "id": "WMwlHsIYwugL"
      }
    },
    {
      "cell_type": "code",
      "source": [
        "conn = sqlite3.connect('sqlda.sql')\n",
        "cur = conn.cursor()\n",
        "\n",
        "cur.execute('''\n",
        "  SELECT model, year, base_msrp\n",
        "FROM products\n",
        "WHERE year=2014\n",
        "AND base_msrp<=1000;''')\n",
        "\n",
        "# Fetch column names\n",
        "headers = [column[0] for column in cur.description]\n",
        "print(tabulate(cur,  headers=headers))\n",
        "\n",
        "conn.close()"
      ],
      "metadata": {
        "id": "HXQHa9Q9xFeJ",
        "outputId": "6c394cf9-4fac-45b5-81de-0995fc876bd1",
        "colab": {
          "base_uri": "https://localhost:8080/"
        }
      },
      "execution_count": 27,
      "outputs": [
        {
          "output_type": "stream",
          "name": "stdout",
          "text": [
            "model                    year    base_msrp\n",
            "---------------------  ------  -----------\n",
            "Lemon Limited Edition    2014       799.99\n"
          ]
        }
      ]
    },
    {
      "cell_type": "markdown",
      "source": [
        "\n",
        "El resultado se verá así:\n",
        "Figura 2.12: Cláusula WHERE con operador AND\n",
        "\n",
        "Aquí, puedes ver que el año del producto es 2014 y el base_msrp es menor a $1,000. Esto es exactamente lo que estás buscando.\n",
        "\n",
        "Supongamos que quieres obtener cualquier modelo que se lanzó en el año 2014 o que tenía un tipo de producto como automóvil. Escribirías la siguiente consulta:\n"
      ],
      "metadata": {
        "id": "6YEbbiVVxFot"
      }
    },
    {
      "cell_type": "code",
      "source": [
        "conn = sqlite3.connect('sqlda.sql')\n",
        "cur = conn.cursor()\n",
        "\n",
        "cur.execute('''\n",
        "SELECT Model, product_type\n",
        "FROM products\n",
        "WHERE year=2014\n",
        "OR product_type='automobile';''')\n",
        "\n",
        "# Fetch column names\n",
        "headers = [column[0] for column in cur.description]\n",
        "print(tabulate(cur,  headers=headers))\n",
        "\n",
        "conn.close()"
      ],
      "metadata": {
        "id": "NLjOYGy-xM_3",
        "outputId": "c8248f6f-5e47-4031-cb81-43fcdee951d5",
        "colab": {
          "base_uri": "https://localhost:8080/"
        }
      },
      "execution_count": 28,
      "outputs": [
        {
          "output_type": "stream",
          "name": "stdout",
          "text": [
            "model                  product_type\n",
            "---------------------  --------------\n",
            "Lemon Limited Edition  scooter\n",
            "Model Chi              automobile\n",
            "Model Sigma            automobile\n",
            "Model Epsilon          automobile\n",
            "Model Gamma            automobile\n",
            "Model Chi              automobile\n"
          ]
        }
      ]
    },
    {
      "cell_type": "markdown",
      "source": [
        "\n",
        "\n",
        "\n",
        "\n",
        "El resultado es el siguiente:\n",
        "Figura 2.13: Cláusula WHERE con operador OR\n",
        "\n",
        "Ya sabes que hay un producto, Lemon Limited Edition, del año 2014. El resto de los productos en el ejemplo están listados con \"automobile\" como product_type. Estás viendo el conjunto de datos combinado de year=2014 junto con product_type='automobile'. Eso es exactamente lo que hace el operador OR.\n",
        "\n",
        "Al usar más de una condición AND u OR, es posible que necesites usar paréntesis para separar y posicionar las piezas de lógica juntas. Esto garantizará que tu consulta funcione como se espera y sea lo más legible posible. Por ejemplo, si quisieras obtener todos los productos con modelos entre los años 2016 y 2018, así como cualquier producto que sean scooters, podrías escribir lo siguiente:\n",
        "\n"
      ],
      "metadata": {
        "id": "yp-Av98pxNKP"
      }
    },
    {
      "cell_type": "code",
      "source": [
        "\n",
        "\n",
        "conn = sqlite3.connect('sqlda.sql')\n",
        "cur = conn.cursor()\n",
        "\n",
        "cur.execute('''\n",
        "SELECT *\n",
        "FROM products\n",
        "WHERE year > 2016\n",
        "AND year < 2018\n",
        "OR product_type='scooter';''')\n",
        "\n",
        "# Fetch column names\n",
        "headers = [column[0] for column in cur.description]\n",
        "print(tabulate(cur,  headers=headers))\n",
        "\n",
        "conn.close()"
      ],
      "metadata": {
        "id": "BBJA74sZxbKK",
        "outputId": "102e1b95-8a67-48e6-b6ff-9d54ab985182",
        "colab": {
          "base_uri": "https://localhost:8080/"
        }
      },
      "execution_count": 29,
      "outputs": [
        {
          "output_type": "stream",
          "name": "stdout",
          "text": [
            "  product_id  model                    year  product_type      base_msrp  production_start_date    production_end_date\n",
            "------------  ---------------------  ------  --------------  -----------  -----------------------  ---------------------\n",
            "           1  Lemon                    2013  scooter              399.99  2012-10-28 00:00:00      2015-02-03 00:00:00\n",
            "           2  Lemon Limited Edition    2014  scooter              799.99  2013-08-30 00:00:00      2013-11-24 00:00:00\n",
            "           3  Lemon                    2016  scooter              499.99  2015-12-27 00:00:00      2021-08-24 00:00:00\n",
            "           4  Model Chi                2017  automobile        115000     2017-02-17 00:00:00      2021-08-24 00:00:00\n",
            "           5  Blade                    2017  scooter              699.99  2017-02-17 00:00:00      2017-09-23 00:00:00\n",
            "           7  Bat                      2019  scooter              599.99  2019-06-07 00:00:00      \\N\n",
            "           8  Bat Limited Edition      2020  scooter              699.99  2019-10-13 00:00:00      \\N\n",
            "          12  Lemon Zester             2022  scooter              349.99  2021-10-01 00:00:00      \\N\n"
          ]
        }
      ]
    },
    {
      "cell_type": "markdown",
      "source": [
        "\n",
        "El resultado contiene todos los scooters, así como un automóvil que tiene un año entre 2016 y 2018.\n",
        "Figura 2.14: Cláusula WHERE con múltiples operadores AND/OR\n",
        "\n",
        "Sin embargo, para aclarar la cláusula WHERE, sería preferible escribir lo siguiente:"
      ],
      "metadata": {
        "id": "KhhpYUkXxbWU"
      }
    },
    {
      "cell_type": "code",
      "source": [
        "conn = sqlite3.connect('sqlda.sql')\n",
        "cur = conn.cursor()\n",
        "\n",
        "cur.execute('''SELECT *\n",
        "FROM products\n",
        "WHERE (year>2016 AND year<2018)\n",
        "OR product_type='scooter';''')\n",
        "\n",
        "# Fetch column names\n",
        "headers = [column[0] for column in cur.description]\n",
        "print(tabulate(cur,  headers=headers))\n",
        "\n",
        "conn.close()"
      ],
      "metadata": {
        "id": "n2_SyLUjyNKm",
        "outputId": "1c7dbdcf-069d-4a1a-df2a-3766078f6493",
        "colab": {
          "base_uri": "https://localhost:8080/"
        }
      },
      "execution_count": 31,
      "outputs": [
        {
          "output_type": "stream",
          "name": "stdout",
          "text": [
            "  product_id  model                    year  product_type      base_msrp  production_start_date    production_end_date\n",
            "------------  ---------------------  ------  --------------  -----------  -----------------------  ---------------------\n",
            "           1  Lemon                    2013  scooter              399.99  2012-10-28 00:00:00      2015-02-03 00:00:00\n",
            "           2  Lemon Limited Edition    2014  scooter              799.99  2013-08-30 00:00:00      2013-11-24 00:00:00\n",
            "           3  Lemon                    2016  scooter              499.99  2015-12-27 00:00:00      2021-08-24 00:00:00\n",
            "           4  Model Chi                2017  automobile        115000     2017-02-17 00:00:00      2021-08-24 00:00:00\n",
            "           5  Blade                    2017  scooter              699.99  2017-02-17 00:00:00      2017-09-23 00:00:00\n",
            "           7  Bat                      2019  scooter              599.99  2019-06-07 00:00:00      \\N\n",
            "           8  Bat Limited Edition      2020  scooter              699.99  2019-10-13 00:00:00      \\N\n",
            "          12  Lemon Zester             2022  scooter              349.99  2021-10-01 00:00:00      \\N\n"
          ]
        }
      ]
    },
    {
      "cell_type": "markdown",
      "source": [
        "Recibirás el mismo resultado que antes. La lógica de este SQL es más fácil de entender. Descubrirás que las cláusulas AND y OR se utilizan con frecuencia en las consultas SQL. Sin embargo, en algunos escenarios, pueden resultar tediosas, especialmente cuando hay alternativas más eficientes para tales escenarios."
      ],
      "metadata": {
        "id": "z3j0rRsNyNWV"
      }
    },
    {
      "cell_type": "markdown",
      "source": [
        "### La Cláusula IN/NOT IN\n",
        "Ahora que puedes escribir consultas que coincidan con múltiples condiciones, también podrías querer refinar tus criterios recuperando filas que contienen (o no contienen) uno o más valores específicos en una o más de sus columnas. Aquí es donde las cláusulas IN y NOT IN resultan útiles.\n",
        "\n",
        "Por ejemplo, estás interesado en devolver todos los modelos de los años 2014,\n",
        "2016 o 2019. Podrías escribir una consulta como esta:"
      ],
      "metadata": {
        "id": "1Yit4WGxzZYx"
      }
    },
    {
      "cell_type": "code",
      "source": [
        "conn = sqlite3.connect('sqlda.sql')\n",
        "cur = conn.cursor()\n",
        "\n",
        "cur.execute('''SELECT model, year\n",
        "FROM products\n",
        "WHERE year = 2014\n",
        "OR year = 2016\n",
        "OR year = 2019;''')\n",
        "\n",
        "# Fetch column names\n",
        "headers = [column[0] for column in cur.description]\n",
        "print(tabulate(cur,  headers=headers))"
      ],
      "metadata": {
        "id": "QN3jaS1YzZk-",
        "outputId": "74c0970d-83be-4c93-8f56-75fc0d0a174b",
        "colab": {
          "base_uri": "https://localhost:8080/"
        }
      },
      "execution_count": 33,
      "outputs": [
        {
          "output_type": "stream",
          "name": "stdout",
          "text": [
            "model                    year\n",
            "---------------------  ------\n",
            "Lemon Limited Edition    2014\n",
            "Lemon                    2016\n",
            "Bat                      2019\n"
          ]
        }
      ]
    },
    {
      "cell_type": "markdown",
      "source": [
        "El resultado se verá como la siguiente imagen, mostrando tres modelos de estos tres años:\n",
        "\n",
        "Sin embargo, esto es tedioso de escribir. Usando IN, puedes escribir lo siguiente:\n",
        "\n",
        "\n",
        "\n"
      ],
      "metadata": {
        "id": "LuBZ2mMpzxs-"
      }
    },
    {
      "cell_type": "code",
      "source": [
        "cur.execute('''SELECT model, year\n",
        "FROM products\n",
        "WHERE year IN (2014, 2016, 2019);''')\n",
        "\n",
        "print(tabulate(cur,  headers=headers))"
      ],
      "metadata": {
        "id": "gxSPeW5N0GOz",
        "outputId": "e2f926b7-07fb-4233-abcf-fd0c981fdd8c",
        "colab": {
          "base_uri": "https://localhost:8080/"
        }
      },
      "execution_count": 39,
      "outputs": [
        {
          "output_type": "stream",
          "name": "stdout",
          "text": [
            "model                    year\n",
            "---------------------  ------\n",
            "Lemon Limited Edition    2014\n",
            "Lemon                    2016\n",
            "Bat                      2019\n"
          ]
        }
      ]
    },
    {
      "cell_type": "markdown",
      "source": [
        "\n",
        "Esto es mucho más limpio y facilita la comprensión de lo que está sucediendo. También\n",
        "devolverá el mismo resultado que arriba.\n",
        "Por el contrario, también puedes usar la cláusula NOT IN para devolver todos los valores que no están en una lista de valores. Por ejemplo, si quisieras todos los productos que no fueron producidos en los años 2014, 2016 y 2019, podrías escribir lo siguiente:\n",
        "\n"
      ],
      "metadata": {
        "id": "moVvgx-20Gjr"
      }
    },
    {
      "cell_type": "code",
      "source": [
        "cur.execute('''SELECT model, year\n",
        "FROM products\n",
        "WHERE year = 2014\n",
        "OR year = 2016\n",
        "OR year = 2019;''')\n",
        "\n",
        "print(tabulate(cur,  headers=headers))\n",
        "conn.close()"
      ],
      "metadata": {
        "id": "ofzBzB2S0LJN",
        "outputId": "6b4f511d-fa15-4a7a-edd4-ac299af4e92d",
        "colab": {
          "base_uri": "https://localhost:8080/"
        }
      },
      "execution_count": 40,
      "outputs": [
        {
          "output_type": "stream",
          "name": "stdout",
          "text": [
            "model                    year\n",
            "---------------------  ------\n",
            "Lemon Limited Edition    2014\n",
            "Lemon                    2016\n",
            "Bat                      2019\n"
          ]
        }
      ]
    },
    {
      "cell_type": "markdown",
      "source": [
        "\n",
        "Ahora ves los productos que están en años diferentes a los tres mencionados en la declaración SQL.\n",
        "\n",
        "En la siguiente sección, aprenderás cómo usar la cláusula ORDER BY en tus consultas."
      ],
      "metadata": {
        "id": "gd2TyNIh0LTv"
      }
    },
    {
      "cell_type": "markdown",
      "source": [
        "### Cláusula ORDER BY\n",
        "En ausencia de instrucciones específicas, las consultas SQL organizarán las filas según el orden en que las encuentre la base de datos. Aunque este comportamiento predeterminado puede ser adecuado en muchos escenarios, en ocasiones es necesario establecer un orden específico.\n",
        "Por ejemplo, si deseas visualizar todos los productos ordenados por la fecha de su primera producción, desde el más antiguo al más reciente, puedes lograrlo en SQL utilizando la cláusula ORDER BY de la siguiente forma:\n"
      ],
      "metadata": {
        "id": "NVU24ZGmzZyz"
      }
    },
    {
      "cell_type": "code",
      "source": [
        "conn = sqlite3.connect('sqlda.sql')\n",
        "cur = conn.cursor()\n",
        "\n",
        "cur.execute('''SELECT model, production_start_date\n",
        "FROM products\n",
        "ORDER BY production_start_date;''')\n",
        "\n",
        "# Fetch column names\n",
        "headers = [column[0] for column in cur.description]\n",
        "print(tabulate(cur,  headers=headers))\n",
        "\n",
        "\n",
        "# Como se muestra en la captura de pantalla a continuación,\n",
        "# los productos están ordenados por el campo production_start_date."
      ],
      "metadata": {
        "id": "Uz78sQs22lg-",
        "outputId": "1a1e98d8-8dfc-4b83-aff8-46f7c9ed004b",
        "colab": {
          "base_uri": "https://localhost:8080/"
        }
      },
      "execution_count": 41,
      "outputs": [
        {
          "output_type": "stream",
          "name": "stdout",
          "text": [
            "model                  production_start_date\n",
            "---------------------  -----------------------\n",
            "Lemon                  2012-10-28 00:00:00\n",
            "Lemon Limited Edition  2013-08-30 00:00:00\n",
            "Lemon                  2015-12-27 00:00:00\n",
            "Model Chi              2017-02-17 00:00:00\n",
            "Blade                  2017-02-17 00:00:00\n",
            "Model Sigma            2017-12-10 00:00:00\n",
            "Bat                    2019-06-07 00:00:00\n",
            "Bat Limited Edition    2019-10-13 00:00:00\n",
            "Model Epsilon          2019-10-13 00:00:00\n",
            "Model Gamma            2019-10-13 00:00:00\n",
            "Model Chi              2021-10-01 00:00:00\n",
            "Lemon Zester           2021-10-01 00:00:00\n"
          ]
        }
      ]
    },
    {
      "cell_type": "markdown",
      "source": [
        "\n",
        "Figura 2.17: Sentencia SELECT con ORDER BY\n",
        "\n",
        "Si no se menciona explícitamente una secuencia de orden, las filas se devolverán en orden ascendente. Orden ascendente simplemente significa que las filas estarán ordenadas desde el valor más pequeño hasta el valor más alto de la columna o columnas elegidas. En el caso de cosas como el texto, esto significa ordenar en orden alfabético. Puedes hacer el orden ascendente explícito usando la palabra clave ASC. Para la última consulta, esto se podría lograr escribiendo lo siguiente:\n",
        "\n"
      ],
      "metadata": {
        "id": "2KY7kcph2lsZ"
      }
    },
    {
      "cell_type": "code",
      "source": [
        "conn = sqlite3.connect('sqlda.sql')\n",
        "cur = conn.cursor()\n",
        "cur.execute('''SELECT model\n",
        "FROM products\n",
        "ORDER BY production_start_date ASC;''')\n",
        "\n",
        "print(tabulate(cur,  headers=headers))\n",
        "conn.close()"
      ],
      "metadata": {
        "id": "NXcl1VUZ2l3J",
        "outputId": "75b6d01a-0dcf-4a65-95f4-1bec37ad8254",
        "colab": {
          "base_uri": "https://localhost:8080/"
        }
      },
      "execution_count": 53,
      "outputs": [
        {
          "output_type": "stream",
          "name": "stdout",
          "text": [
            "model\n",
            "---------------------\n",
            "Lemon\n",
            "Lemon Limited Edition\n",
            "Lemon\n",
            "Model Chi\n",
            "Blade\n",
            "Model Sigma\n",
            "Bat\n",
            "Bat Limited Edition\n",
            "Model Epsilon\n",
            "Model Gamma\n",
            "Model Chi\n",
            "Lemon Zester\n"
          ]
        }
      ]
    },
    {
      "cell_type": "markdown",
      "source": [
        "Este SQL devolverá el mismo resultado en el mismo orden que el SQL anterior.\n",
        "\n",
        "Si quieres extraer datos en orden descendente, puedes usar la palabra clave `DESC`. Si quisieras buscar modelos fabricados ordenados de más nuevos a más antiguos, escribirías la siguiente consulta:"
      ],
      "metadata": {
        "id": "UqJXky0t4LVH"
      }
    },
    {
      "cell_type": "markdown",
      "source": [
        "El resultado estará ordenado en orden descendente de `production_start_date`, el más reciente primero.\n"
      ],
      "metadata": {
        "id": "SneVthQH2mA7"
      }
    },
    {
      "cell_type": "code",
      "source": [
        "conn = sqlite3.connect('sqlda.sql')\n",
        "cur = conn.cursor()\n",
        "cur.execute('''SELECT model, production_start_date\n",
        "FROM products\n",
        "ORDER BY production_start_date DESC;''')\n",
        "\n",
        "print(tabulate(cur,  headers=headers))\n",
        "conn.close()"
      ],
      "metadata": {
        "id": "K8FwYKgd2mL4",
        "outputId": "d79423e6-b9f4-41e1-cb49-6b682a4adb25",
        "colab": {
          "base_uri": "https://localhost:8080/"
        }
      },
      "execution_count": 54,
      "outputs": [
        {
          "output_type": "stream",
          "name": "stdout",
          "text": [
            "model                  production_start_date\n",
            "---------------------  -----------------------\n",
            "Model Chi              2021-10-01 00:00:00\n",
            "Lemon Zester           2021-10-01 00:00:00\n",
            "Bat Limited Edition    2019-10-13 00:00:00\n",
            "Model Epsilon          2019-10-13 00:00:00\n",
            "Model Gamma            2019-10-13 00:00:00\n",
            "Bat                    2019-06-07 00:00:00\n",
            "Model Sigma            2017-12-10 00:00:00\n",
            "Model Chi              2017-02-17 00:00:00\n",
            "Blade                  2017-02-17 00:00:00\n",
            "Lemon                  2015-12-27 00:00:00\n",
            "Lemon Limited Edition  2013-08-30 00:00:00\n",
            "Lemon                  2012-10-28 00:00:00\n"
          ]
        }
      ]
    },
    {
      "cell_type": "markdown",
      "source": [
        "\n",
        "Además, en lugar de escribir el nombre de la columna por la que quieres ordenar, puedes referirte al número de posición de esa columna en la cláusula SELECT de la consulta. Por ejemplo, si quisieras devolver todos los modelos en la tabla de productos ordenados por ID de producto, podrías escribir lo siguiente:\n"
      ],
      "metadata": {
        "id": "aM26nB1N2mWC"
      }
    },
    {
      "cell_type": "code",
      "source": [
        "conn = sqlite3.connect('sqlda.sql')\n",
        "cur = conn.cursor()\n",
        "cur.execute('''SELECT product_id, model\n",
        "FROM products\n",
        "ORDER BY product_id;''')\n",
        "\n",
        "print(tabulate(cur,  headers=headers))\n",
        "conn.close()"
      ],
      "metadata": {
        "id": "UwjPv7JM5HkJ",
        "outputId": "6e415b6d-0b4a-456b-ed99-8d907da3b8a0",
        "colab": {
          "base_uri": "https://localhost:8080/"
        }
      },
      "execution_count": 55,
      "outputs": [
        {
          "output_type": "stream",
          "name": "stdout",
          "text": [
            "  model  production_start_date\n",
            "-------  -----------------------\n",
            "      1  Lemon\n",
            "      2  Lemon Limited Edition\n",
            "      3  Lemon\n",
            "      4  Model Chi\n",
            "      5  Blade\n",
            "      6  Model Sigma\n",
            "      7  Bat\n",
            "      8  Bat Limited Edition\n",
            "      9  Model Epsilon\n",
            "     10  Model Gamma\n",
            "     11  Model Chi\n",
            "     12  Lemon Zester\n"
          ]
        }
      ]
    },
    {
      "cell_type": "markdown",
      "source": [
        "Este SQL devolverá el mismo resultado que la Figura 2.19.\n",
        "\n",
        "Finalmente, puedes ordenar por múltiples columnas agregando columnas adicionales después de ORDER BY, separadas con comas. Por ejemplo, quieres ordenar todas las filas en la tabla primero por el año del modelo de más nuevo a más antiguo, y luego por el MSRP de menor a mayor. Entonces escribirías la siguiente consulta:\n"
      ],
      "metadata": {
        "id": "lO3EnYUS5Ht3"
      }
    },
    {
      "cell_type": "code",
      "source": [
        "conn = sqlite3.connect('sqlda.sql')\n",
        "cur = conn.cursor()\n",
        "\n",
        "cur.execute('''\n",
        "  SELECT *\n",
        "FROM products\n",
        "ORDER BY year DESC, base_msrp ASC;''')\n",
        "\n",
        "# Fetch column names\n",
        "headers = [column[0] for column in cur.description]\n",
        "print(tabulate(cur,  headers=headers))\n",
        "\n",
        "conn.close()"
      ],
      "metadata": {
        "id": "UN70JBTb2_op",
        "outputId": "fc535890-b934-4c09-c367-75555862d1d8",
        "colab": {
          "base_uri": "https://localhost:8080/"
        }
      },
      "execution_count": 61,
      "outputs": [
        {
          "output_type": "stream",
          "name": "stdout",
          "text": [
            "  product_id  model                    year  product_type      base_msrp  production_start_date    production_end_date\n",
            "------------  ---------------------  ------  --------------  -----------  -----------------------  ---------------------\n",
            "          12  Lemon Zester             2022  scooter              349.99  2021-10-01 00:00:00      \\N\n",
            "          11  Model Chi                2022  automobile         95000     2021-10-01 00:00:00      \\N\n",
            "           8  Bat Limited Edition      2020  scooter              699.99  2019-10-13 00:00:00      \\N\n",
            "           9  Model Epsilon            2020  automobile         35000     2019-10-13 00:00:00      \\N\n",
            "          10  Model Gamma              2020  automobile         85750     2019-10-13 00:00:00      \\N\n",
            "           7  Bat                      2019  scooter              599.99  2019-06-07 00:00:00      \\N\n",
            "           6  Model Sigma              2018  automobile         65500     2017-12-10 00:00:00      2021-05-28 00:00:00\n",
            "           5  Blade                    2017  scooter              699.99  2017-02-17 00:00:00      2017-09-23 00:00:00\n",
            "           4  Model Chi                2017  automobile        115000     2017-02-17 00:00:00      2021-08-24 00:00:00\n",
            "           3  Lemon                    2016  scooter              499.99  2015-12-27 00:00:00      2021-08-24 00:00:00\n",
            "           2  Lemon Limited Edition    2014  scooter              799.99  2013-08-30 00:00:00      2013-11-24 00:00:00\n",
            "           1  Lemon                    2013  scooter              399.99  2012-10-28 00:00:00      2015-02-03 00:00:00\n"
          ]
        }
      ]
    },
    {
      "cell_type": "markdown",
      "source": [
        "\n",
        "Lo siguiente es la salida del código anterior:\n",
        "Figura 2.20: Ordenando múltiples columnas usando ORDER BY\n",
        "En la siguiente sección, aprenderás sobre la palabra clave LIMIT en SQL."
      ],
      "metadata": {
        "id": "uueX-R3T3BBO"
      }
    },
    {
      "cell_type": "markdown",
      "source": [
        "### La Cláusula LIMIT\n",
        "La mayoría de las tablas en las bases de datos SQL tienden a ser considerablemente grandes, por lo que devolver cada fila individualmente resulta innecesario. En ocasiones, es posible que solo estés interesado en las primeras filas. Para manejar esta situación, entra en juego la palabra clave LIMIT. Supongamos que solo deseas obtener los modelos de los primeros cinco productos que la compañía produjo. Podrías lograrlo utilizando la siguiente consulta:\n",
        "\n"
      ],
      "metadata": {
        "id": "MfPGUbt56YSV"
      }
    },
    {
      "cell_type": "code",
      "source": [
        "conn = sqlite3.connect('sqlda.sql')\n",
        "cur = conn.cursor()\n",
        "\n",
        "cur.execute('''\n",
        "SELECT model\n",
        "FROM products\n",
        "ORDER BY production_start_date\n",
        "LIMIT 5;''')\n",
        "\n",
        "# Fetch column names\n",
        "headers = [column[0] for column in cur.description]\n",
        "print(tabulate(cur,  headers=headers))\n",
        "\n",
        "conn.close()"
      ],
      "metadata": {
        "id": "o4EcyGg46Ym7",
        "outputId": "fd8fb119-2b2d-421d-fb32-8428187039df",
        "colab": {
          "base_uri": "https://localhost:8080/"
        }
      },
      "execution_count": 62,
      "outputs": [
        {
          "output_type": "stream",
          "name": "stdout",
          "text": [
            "model\n",
            "---------------------\n",
            "Lemon\n",
            "Lemon Limited Edition\n",
            "Lemon\n",
            "Model Chi\n",
            "Blade\n"
          ]
        }
      ]
    },
    {
      "cell_type": "markdown",
      "source": [
        "Cuando no estás familiarizado con una tabla o consulta, es una preocupación común que al ejecutar una sentencia SELECT accidentalmente se devuelvan muchas filas, lo que puede consumir mucho tiempo y ancho de banda de la máquina. Como precaución habitual, deberías usar la palabra clave LIMIT para recuperar solo un pequeño número de filas cuando ejecutes la consulta por primera vez."
      ],
      "metadata": {
        "id": "2eIOcXaQ6Yxo"
      }
    },
    {
      "cell_type": "markdown",
      "source": [
        "### Cláusula IS NULL/IS NOT NULL\n",
        "Frecuentemente, algunas entradas en una columna pueden estar ausentes debido a diversas razones. Quizás los datos no fueron recopilados o no estaban disponibles en el momento de la recopilación. Esta falta de un valor puede reflejar un estado particular en la fila y proporcionar información valiosa.\n",
        "\n",
        "Independientemente de la causa, a menudo surge el interés por identificar las filas donde los datos no están completos para un valor específico.\n",
        "- En SQL, los valores en blanco a menudo se representan mediante el término NULL.\n",
        "\n",
        "Por ejemplo, en la tabla de productos, cuando la columna \"production_end_date\" tiene un valor NULL, esto indica que el producto aún está en proceso de fabricación. En esta situación, para listar todos los productos que todavía están siendo fabricados, puedes emplear la siguiente consulta:"
      ],
      "metadata": {
        "id": "t6HBdV-66ZH3"
      }
    },
    {
      "cell_type": "code",
      "source": [
        "conn = sqlite3.connect('sqlda.sql')\n",
        "cur = conn.cursor()\n",
        "\n",
        "cur.execute('''\n",
        "SELECT *\n",
        "FROM products\n",
        "WHERE production_end_date IS NULL;''')\n",
        "\n",
        "# Fetch column names\n",
        "headers = [column[0] for column in cur.description]\n",
        "print(tabulate(cur,  headers=headers))\n",
        "\n",
        "conn.close()"
      ],
      "metadata": {
        "id": "NyqmFrOn7cEJ",
        "outputId": "05d6c2b5-c62f-45fd-833a-e214d495758f",
        "colab": {
          "base_uri": "https://localhost:8080/"
        }
      },
      "execution_count": 63,
      "outputs": [
        {
          "output_type": "stream",
          "name": "stdout",
          "text": [
            "product_id    model    year    product_type    base_msrp    production_start_date    production_end_date\n",
            "------------  -------  ------  --------------  -----------  -----------------------  ---------------------\n"
          ]
        }
      ]
    },
    {
      "cell_type": "markdown",
      "source": [
        "Lo siguiente es el resultado de la consulta:\n",
        "Figura 2.22: Productos con production_end_date NULL\n",
        "Si solo te interesan los productos que ya no se están fabricando, puedes usar la cláusula IS NOT NULL, como se muestra en la siguiente consulta:\n",
        "Lo siguiente es el resultado del código:\n",
        "\n"
      ],
      "metadata": {
        "id": "gqgCyA6_7cPc"
      }
    },
    {
      "cell_type": "code",
      "source": [
        "conn = sqlite3.connect('sqlda.sql')\n",
        "cur = conn.cursor()\n",
        "\n",
        "cur.execute('''\n",
        "SELECT *\n",
        "FROM products\n",
        "WHERE production_end_date IS NOT NULL;''')\n",
        "\n",
        "# Fetch column names\n",
        "headers = [column[0] for column in cur.description]\n",
        "print(tabulate(cur,  headers=headers))\n",
        "\n",
        "conn.close()"
      ],
      "metadata": {
        "id": "VME4S5SC7cZH",
        "outputId": "1afd0833-129e-4c43-9d05-b85ad26b2487",
        "colab": {
          "base_uri": "https://localhost:8080/"
        }
      },
      "execution_count": 64,
      "outputs": [
        {
          "output_type": "stream",
          "name": "stdout",
          "text": [
            "  product_id  model                    year  product_type      base_msrp  production_start_date    production_end_date\n",
            "------------  ---------------------  ------  --------------  -----------  -----------------------  ---------------------\n",
            "           1  Lemon                    2013  scooter              399.99  2012-10-28 00:00:00      2015-02-03 00:00:00\n",
            "           2  Lemon Limited Edition    2014  scooter              799.99  2013-08-30 00:00:00      2013-11-24 00:00:00\n",
            "           3  Lemon                    2016  scooter              499.99  2015-12-27 00:00:00      2021-08-24 00:00:00\n",
            "           4  Model Chi                2017  automobile        115000     2017-02-17 00:00:00      2021-08-24 00:00:00\n",
            "           5  Blade                    2017  scooter              699.99  2017-02-17 00:00:00      2017-09-23 00:00:00\n",
            "           6  Model Sigma              2018  automobile         65500     2017-12-10 00:00:00      2021-05-28 00:00:00\n",
            "           7  Bat                      2019  scooter              599.99  2019-06-07 00:00:00      \\N\n",
            "           8  Bat Limited Edition      2020  scooter              699.99  2019-10-13 00:00:00      \\N\n",
            "           9  Model Epsilon            2020  automobile         35000     2019-10-13 00:00:00      \\N\n",
            "          10  Model Gamma              2020  automobile         85750     2019-10-13 00:00:00      \\N\n",
            "          11  Model Chi                2022  automobile         95000     2021-10-01 00:00:00      \\N\n",
            "          12  Lemon Zester             2022  scooter              349.99  2021-10-01 00:00:00      \\N\n"
          ]
        }
      ]
    },
    {
      "cell_type": "markdown",
      "source": [
        "\n",
        "Figura 2.23: Productos con production_end_date no NULL\n",
        "  \n",
        "Ahora aprenderás cómo usar estas nuevas palabras clave en el ejercicio siguiente."
      ],
      "metadata": {
        "id": "lQWwmlhk7cjN"
      }
    },
    {
      "cell_type": "markdown",
      "source": [
        "### Ejercicio 2.02: Consultando la tabla de vendedores usando palabras clave básicas en una consulta SELECT\n",
        "\n",
        "Instrucciones\n",
        "\n",
        "En este ejercicio, crearás varias consultas utilizando palabras clave básicas en una consulta `SELECT`.\n",
        "\n",
        "Imagina que después de unos días en tu nuevo trabajo, finalmente obtienes acceso a la base de datos de la empresa. Tu jefe te ha pedido que ayudes a un gerente de ventas que no está muy familiarizado con SQL. El gerente de ventas necesita obtener diferentes listas de vendedores.\n",
        "\n",
        "1. Generar una lista de los primeros 10 vendedores contratados por el concesionario 17, es decir, los vendedores con la fecha de contratación más antigua, ordenados por fecha de contratación, empezando por los más antiguos.\n",
        "2. Obtener a todos los vendedores contratados en 2021 y 2022, que no han sido dados de baja. Esto implica que la fecha de contratación debe ser posterior al 01-01-2021 y la fecha de terminación debe ser NULL. Ordenar los resultados por fecha de contratación, comenzando por los más recientes.\n",
        "3. Ayudar al gerente a encontrar un vendedor contratado en 2021, recordando que su primer nombre comienza con \"Nic\".\n",
        "\n",
        "Utilizarás tus habilidades en SQL para ayudar al gerente a lograr estos objetivos."
      ],
      "metadata": {
        "id": "ekIKH1ib8PQJ"
      }
    },
    {
      "cell_type": "markdown",
      "source": [
        "Realiza los siguientes pasos para completar el ejercicio:\n",
        "\n",
        "1. Examina el esquema de la tabla de vendedores desde la lista desplegable de esquemas. Familiarízate con los nombres de las columnas en la siguiente figura.\n",
        "\n",
        "\n",
        "\n",
        "\n"
      ],
      "metadata": {
        "id": "KI2AWLtC8wA3"
      }
    },
    {
      "cell_type": "code",
      "source": [
        "conn = sqlite3.connect('sqlda.sql')\n",
        "cur = conn.cursor()\n",
        "\n",
        "# Obtener información sobre la estructura de la tabla\n",
        "cur.execute(f\"PRAGMA table_info(salespeople)\")\n",
        "info_tabla = cur.fetchall()\n",
        "\n",
        "headers = [column[0] for column in cur.description]\n",
        "print(tabulate(info_tabla,  headers=headers))\n",
        "conn.close()"
      ],
      "metadata": {
        "id": "vgxcidxs8_ek",
        "outputId": "c9c68613-f8d3-4a81-e5c5-1fc0ad4efd51",
        "colab": {
          "base_uri": "https://localhost:8080/"
        }
      },
      "execution_count": 69,
      "outputs": [
        {
          "output_type": "stream",
          "name": "stdout",
          "text": [
            "  cid  name              type        notnull  dflt_value      pk\n",
            "-----  ----------------  --------  ---------  ------------  ----\n",
            "    0  salesperson_id    INTEGER           0                   1\n",
            "    1  dealership_id     INTEGER           0                   0\n",
            "    2  title             TEXT              0                   0\n",
            "    3  first_name        TEXT              0                   0\n",
            "    4  last_name         TEXT              0                   0\n",
            "    5  suffix            TEXT              0                   0\n",
            "    6  username          TEXT              0                   0\n",
            "    7  gender            TEXT              0                   0\n",
            "    8  hire_date         DATETIME          0                   0\n",
            "    9  termination_date  DATETIME          0                   0\n"
          ]
        }
      ]
    },
    {
      "cell_type": "markdown",
      "source": [
        "2. Ejecuta la siguiente consulta para obtener los nombres de usuario de los vendedores del concesionario con ID 17, ordenados por sus valores de fecha de contratación, y luego establece LIMIT en 10:"
      ],
      "metadata": {
        "id": "dv71XvF-99oa"
      }
    },
    {
      "cell_type": "code",
      "source": [
        "conn = sqlite3.connect('sqlda.sql')\n",
        "cur = conn.cursor()\n",
        "\n",
        "cur.execute('''\n",
        "SELECT *\n",
        "FROM salespeople\n",
        "WHERE dealership_id = 17\n",
        "ORDER BY hire_date\n",
        "LIMIT 10;''')\n",
        "\n",
        "# Fetch column names\n",
        "headers = [column[0] for column in cur.description]\n",
        "print(tabulate(cur,  headers=headers))\n",
        "\n",
        "conn.close()"
      ],
      "metadata": {
        "id": "bNdUTqEN991e",
        "outputId": "29b5e25a-5b24-4679-d55e-2a685d0c1f58",
        "colab": {
          "base_uri": "https://localhost:8080/"
        }
      },
      "execution_count": 87,
      "outputs": [
        {
          "output_type": "stream",
          "name": "stdout",
          "text": [
            "  salesperson_id    dealership_id  title    first_name    last_name    suffix    username        gender    hire_date            termination_date\n",
            "----------------  ---------------  -------  ------------  -----------  --------  --------------  --------  -------------------  ------------------\n",
            "              52               17           Bobbi         McKeon                 bmckeon1f       Female    2017-12-08 00:00:00\n",
            "              88               17           Eldin         Addenbrooke            eaddenbrooke2f  Male      2018-03-03 00:00:00\n",
            "             189               17           Abby          Drewery                adrewery58      Male      2018-04-28 00:00:00\n",
            "             249               17           Tristan       Ainge                  tainge6w        Male      2018-08-11 00:00:00\n",
            "             187               17           Tyson         Kerford                tkerford56      Male      2018-12-23 00:00:00\n",
            "              86               17           Willie        Gullen                 wgullen2d       Male      2019-03-13 00:00:00\n",
            "               3               17           Ethyl         Sloss        IV        esloss2         Female    2019-04-07 00:00:00\n",
            "             150               17           Jermaine      Bamell                 jbamell45       Female    2019-11-14 00:00:00\n",
            "               1               17           Electra       Elleyne                eelleyne0       Female    2020-01-26 00:00:00\n",
            "              84               17  Ms       Klemens       Schneidau    II        kschneidau2b    Male      2020-01-27 00:00:00\n"
          ]
        }
      ]
    },
    {
      "cell_type": "markdown",
      "source": [
        "Ahora tienes la lista de los primeros 10 vendedores contratados por el concesionario 17, es decir, los vendedores con la fecha de contratación más antigua, ordenados por fecha de contratación, empezando por los más antiguos."
      ],
      "metadata": {
        "id": "jNBWJvkK-W_Y"
      }
    },
    {
      "cell_type": "markdown",
      "source": [
        "3. Ahora, para encontrar a todos los vendedores que fueron contratados en 2021 y 2022 pero que no han sido despedidos, es decir, la fecha de contratación debe ser posterior al 2021-01-01 y la fecha de terminación es nula, ordenados por fecha de contratación, comenzando por los más recientes:\n",
        "\n"
      ],
      "metadata": {
        "id": "jVfbpeML-guM"
      }
    },
    {
      "cell_type": "code",
      "source": [
        "conn = sqlite3.connect('sqlda.sql')\n",
        "cur = conn.cursor()\n",
        "\n",
        "cur.execute('''\n",
        "SELECT *\n",
        "FROM salespeople\n",
        "WHERE hire_date >= '2021-01-01 00:00:00'\n",
        "AND termination_date is null\n",
        "ORDER BY hire_date DESC;''')\n",
        "\n",
        "# Fetch column names\n",
        "headers = [column[0] for column in cur.description]\n",
        "print(tabulate(cur,  headers=headers))\n",
        "\n",
        "conn.close()"
      ],
      "metadata": {
        "id": "1arnDHiF-l8H",
        "outputId": "4cce8438-98db-4996-c21a-d96f78355f4e",
        "colab": {
          "base_uri": "https://localhost:8080/"
        }
      },
      "execution_count": 89,
      "outputs": [
        {
          "output_type": "stream",
          "name": "stdout",
          "text": [
            "  salesperson_id    dealership_id  title    first_name    last_name     suffix    username        gender    hire_date            termination_date\n",
            "----------------  ---------------  -------  ------------  ------------  --------  --------------  --------  -------------------  ------------------\n",
            "             226               20           Moll          Kardos-Stowe            mkardosstowe69  Female    2021-10-20 00:00:00\n",
            "              72               13           Neron         Hamly                   nhamly1z        Male      2021-10-17 00:00:00\n",
            "             163                1           Lyda          Prine                   lprine4i        Female    2021-10-15 00:00:00\n",
            "             254                2           Pincus        Cowp                    pcowp71         Male      2021-10-13 00:00:00\n",
            "              39                1           Massimiliano  McSpirron               mmcspirron12    Male      2021-10-09 00:00:00\n",
            "             259               11           Demetris      Gable                   dgable76        Male      2021-10-08 00:00:00\n",
            "             243               17           Shandie       Allderidge              sallderidge6q   Female    2021-09-30 00:00:00\n",
            "              92                1  Rev      Sandye        Duny                    sduny2j         Female    2021-08-30 00:00:00\n",
            "               2                6           Montague      Alcoran                 malcoran1       Male      2021-08-27 00:00:00\n",
            "              76               16           Pablo         Fleming                 pfleming23      Male      2021-08-26 00:00:00\n",
            "             247                6           Kahlil        Senior                  ksenior6u       Male      2021-08-23 00:00:00\n",
            "             117                9           Gisela        Spurling                gspurling38     Female    2021-08-21 00:00:00\n",
            "              71                2           Georgianna    Bastian                 gbastian1y      Female    2021-08-19 00:00:00\n",
            "              91                7           Napoleon      Heak                    nheak2i         Male      2021-08-18 00:00:00\n",
            "              89               14           Letizia       Dober                   ldober2g        Female    2021-08-16 00:00:00\n",
            "             166               14           Micah         Spalls                  mspalls4l       Male      2021-08-13 00:00:00\n",
            "             228               17           Blakeley      Blaxill                 bblaxill6b      Female    2021-08-13 00:00:00\n",
            "             285               20           Rog           Wardall                 rwardall7w      Male      2021-08-07 00:00:00\n",
            "             122               16           Judie         Lages                   jlages3d        Female    2021-07-16 00:00:00\n",
            "             205                9           Wilma         Millson                 wmillson5o      Female    2021-07-11 00:00:00\n",
            "             132               10           Nikolai       Lomasney                nlomasney3n     Male      2021-07-07 00:00:00\n",
            "              35               17           Agnella       Linke                   alinkey         Female    2021-06-19 00:00:00\n",
            "             258                1           Dorie         Dosedale                ddosedale75     Male      2021-06-11 00:00:00\n",
            "             138               10           Cathy         Rulf                    crulf3t         Female    2021-06-04 00:00:00\n",
            "             162                1           Cristine      Gibbens                 cgibbens4h      Female    2021-06-03 00:00:00\n",
            "             103                7           Pacorro       Howroyd                 phowroyd2u      Male      2021-05-30 00:00:00\n",
            "             276               15           Corrine       Redmire                 credmire7n      Female    2021-05-30 00:00:00\n",
            "              23                2           Beauregard    Peschke                 bpeschkem       Male      2021-05-09 00:00:00\n",
            "             158               18           Collie        Donaway                 cdonaway4d      Female    2021-05-08 00:00:00\n",
            "             172                3           Bink          Kemet                   bkemet4r        Male      2021-05-05 00:00:00\n",
            "             130               15           Atlante       De Bernardis            adebernardis3l  Female    2021-04-27 00:00:00\n",
            "              40               17           Bertrando     Slay                    bslay13         Male      2021-04-16 00:00:00\n",
            "             213               12           Kimberlyn     Dayce                   kdayce5w        Female    2021-04-03 00:00:00\n",
            "             194               17           Gillie        Constance               gconstance5d    Female    2021-04-02 00:00:00\n",
            "             170                1           Giselbert     Schule                  gschule4p       Male      2021-03-28 00:00:00\n",
            "             283               13           Thor          Sigmund                 tsigmund7u      Male      2021-03-27 00:00:00\n",
            "              82               17           Giulietta     Schulke                 gschulke29      Female    2021-03-21 00:00:00\n",
            "             279               19           Nicholle      Lisciandri              nlisciandri7q   Female    2021-03-10 00:00:00\n",
            "             183                1           Eleen         McAndie                 emcandie52      Female    2021-03-04 00:00:00\n",
            "             234                7           Christin      Wannes                  cwannes6h       Female    2021-03-01 00:00:00\n",
            "             230               18           Carmine       Garrow                  cgarrow6d       Male      2021-02-28 00:00:00\n",
            "              29               17           Elsi          Hamer                   ehamers         Female    2021-02-25 00:00:00\n",
            "             192                6           Hope          Kidstoun                hkidstoun5b     Female    2021-02-23 00:00:00\n",
            "             286               18           Katherina     Sambell                 ksambell7x      Female    2021-02-20 00:00:00\n",
            "              51                5           Lanette       Gerriessen              lgerriessen1e   Female    2021-02-18 00:00:00\n",
            "              95               18           Krissie       Wollacott               kwollacott2m    Female    2021-02-18 00:00:00\n",
            "              73                3           Ives          Dooler                  idooler20       Male      2021-02-14 00:00:00\n",
            "             262               13           Crissy        Robertazzi              crobertazzi79   Female    2021-02-11 00:00:00\n",
            "             204               19           Sheppard      Oleksinski              soleksinski5n   Male      2021-02-07 00:00:00\n",
            "              69               15           Clifford      Stoaks                  cstoaks1w       Male      2021-02-05 00:00:00\n",
            "              96                7           Nonnah        Ahrens                  nahrens2n       Female    2021-01-20 00:00:00\n",
            "               5               17           Cornall       Swanger                 cswanger4       Male      2021-01-11 00:00:00\n",
            "               9               14           Lamar         Treleven                ltreleven8      Male      2021-01-02 00:00:00\n",
            "             244               17           Clevey        Sainer                  csainer6r       Male      2021-01-02 00:00:00\n"
          ]
        }
      ]
    },
    {
      "cell_type": "markdown",
      "source": [
        "Se devuelven 54 filas de esta consulta SQL. A continuación, se muestran las primeras filas de la salida:"
      ],
      "metadata": {
        "id": "4yyqO65_-mGn"
      }
    },
    {
      "cell_type": "markdown",
      "source": [
        "Aquí tienes la traducción al español de tu solicitud:\n",
        "\n",
        "Ahora, encuentra un vendedor que fue contratado en 2021 y cuyo primer nombre comienza con Nic.\n"
      ],
      "metadata": {
        "id": "qKIRAzgnDdEc"
      }
    },
    {
      "cell_type": "code",
      "source": [
        "conn = sqlite3.connect('sqlda.sql')\n",
        "cur = conn.cursor()\n",
        "\n",
        "cur.execute('''\n",
        "SELECT *\n",
        "FROM salespeople\n",
        "WHERE first_name LIKE 'Nic%'\n",
        "AND hire_date >= '2021-01-01'\n",
        "AND hire_date <= '2021-12-31';''')\n",
        "\n",
        "# Fetch column names\n",
        "headers = [column[0] for column in cur.description]\n",
        "print(tabulate(cur,  headers=headers))\n",
        "\n",
        "conn.close()"
      ],
      "metadata": {
        "id": "9Wd1FPcvDfbJ",
        "outputId": "6ef22c61-278d-45b9-f003-8027c4c62a16",
        "colab": {
          "base_uri": "https://localhost:8080/"
        }
      },
      "execution_count": 92,
      "outputs": [
        {
          "output_type": "stream",
          "name": "stdout",
          "text": [
            "  salesperson_id    dealership_id  title    first_name    last_name    suffix    username       gender    hire_date            termination_date\n",
            "----------------  ---------------  -------  ------------  -----------  --------  -------------  --------  -------------------  ------------------\n",
            "             279               19           Nicholle      Lisciandri             nlisciandri7q  Female    2021-03-10 00:00:00\n"
          ]
        }
      ]
    },
    {
      "cell_type": "markdown",
      "source": [
        "En este ejercicio, utilizaste varias palabras clave básicas en una consulta SELECT para ayudar al gerente de ventas a obtener una lista de vendedores que necesitaba."
      ],
      "metadata": {
        "id": "gZKxmdenDiZh"
      }
    },
    {
      "cell_type": "markdown",
      "source": [
        "### Actividad 2.01: Consultando la tabla de clientes usando palabras clave básicas en una consulta SELECT\n",
        "El departamento de marketing ha decidido que quieren llevar a cabo una serie de campañas de marketing para promover una venta. Para hacerlo, necesitan los registros de comunicación por correo electrónico de los clientes de ZoomZoom en el estado de Florida, y los detalles de todos los clientes en la ciudad de Nueva York. También necesitan los números de teléfono de los clientes con órdenes específicas. Los siguientes son los pasos para completar la actividad:\n",
        "1. Conéctate a la base de datos SQLDA.\n",
        "2. Examina el esquema de la tabla de `customers` desde la lista desplegable del esquema. Familiarízate con las columnas de esta tabla.\n",
        "3. Escribe una consulta que recupere todos los correos electrónicos de los clientes de ZoomZoom en el estado de Florida en orden alfabético.\n",
        "4. Escribe una consulta que obtenga todos los nombres, apellidos y correos electrónicos de los clientes de ZoomZoom en la ciudad de Nueva York, en el estado de Nueva York. Deben ser ordenados alfabéticamente, con el apellido seguido del nombre.\n",
        "5. Escribe una consulta que devuelva todos los clientes con un número de teléfono ordenados por la fecha en que el cliente fue agregado a la base de datos."
      ],
      "metadata": {
        "id": "A-lp_YO3D7cF"
      }
    },
    {
      "cell_type": "markdown",
      "source": [
        "Solucion\n",
        "\n",
        "1. Examina el esquema de la tabla de clientes desde la lista desplegable del esquema.\n",
        "\n"
      ],
      "metadata": {
        "id": "8xgfB0uZE3Yu"
      }
    },
    {
      "cell_type": "code",
      "source": [
        "conn = sqlite3.connect('sqlda.sql')\n",
        "cur = conn.cursor()\n",
        "\n",
        "# Obtener información sobre la estructura de la tabla\n",
        "cur.execute(f\"PRAGMA table_info(customers)\")\n",
        "info_tabla = cur.fetchall()\n",
        "\n",
        "headers = [column[0] for column in cur.description]\n",
        "print(tabulate(info_tabla,  headers=headers))\n",
        "conn.close()"
      ],
      "metadata": {
        "id": "aV6N3YZRF1oO",
        "outputId": "fec89ee2-234f-4279-965c-a902963c6136",
        "colab": {
          "base_uri": "https://localhost:8080/"
        }
      },
      "execution_count": 93,
      "outputs": [
        {
          "output_type": "stream",
          "name": "stdout",
          "text": [
            "  cid  name            type        notnull  dflt_value      pk\n",
            "-----  --------------  --------  ---------  ------------  ----\n",
            "    0  customer_id     INTEGER           0                   0\n",
            "    1  title           TEXT              0                   0\n",
            "    2  first_name      TEXT              0                   0\n",
            "    3  last_name       TEXT              0                   0\n",
            "    4  suffix          TEXT              0                   0\n",
            "    5  email           TEXT              0                   0\n",
            "    6  gender          TEXT              0                   0\n",
            "    7  ip_address      TEXT              0                   0\n",
            "    8  phone           TEXT              0                   0\n",
            "    9  street_address  TEXT              0                   0\n",
            "   10  city            TEXT              0                   0\n",
            "   11  state           TEXT              0                   0\n",
            "   12  postal_code     TEXT              0                   0\n",
            "   13  latitude        REAL              0                   0\n",
            "   14  longitude       REAL              0                   0\n",
            "   15  date_added      DATETIME          0                   0\n"
          ]
        }
      ]
    },
    {
      "cell_type": "markdown",
      "source": [
        "3. Ejecuta la siguiente consulta para obtener los correos electrónicos de los clientes en el estado de Florida en orden alfabético:"
      ],
      "metadata": {
        "id": "OfbI4e1nF1xk"
      }
    },
    {
      "cell_type": "code",
      "source": [
        "conn = sqlite3.connect('sqlda.sql')\n",
        "cur = conn.cursor()\n",
        "\n",
        "cur.execute('''\n",
        "SELECT email\n",
        "FROM customers\n",
        "WHERE state='FL'\n",
        "ORDER BY email;''')\n",
        "\n",
        "# Fetch column names\n",
        "headers = [column[0] for column in cur.description]\n",
        "print(tabulate(cur,  headers=headers))\n",
        "\n",
        "conn.close()"
      ],
      "metadata": {
        "id": "abEL_kWSFG5-"
      },
      "execution_count": null,
      "outputs": []
    },
    {
      "cell_type": "markdown",
      "source": [
        "3. Ejecuta la siguiente consulta para obtener todos los nombres, apellidos y direcciones de correo electrónico de los clientes de ZoomZoom en la ciudad de Nueva York, Nueva York. Los clientes deben ser ordenados alfabéticamente, con el apellido seguido del nombre:"
      ],
      "metadata": {
        "id": "02Eaf_lOGde2"
      }
    },
    {
      "cell_type": "code",
      "source": [
        "conn = sqlite3.connect('sqlda.sql')\n",
        "cur = conn.cursor()\n",
        "\n",
        "cur.execute('''\n",
        "SELECT first_name, last_name, email\n",
        "FROM customers\n",
        "WHERE city='New York City' AND state='NY'\n",
        "ORDER BY last_name, first_name;''')\n",
        "\n",
        "# Fetch column names\n",
        "headers = [column[0] for column in cur.description]\n",
        "print(tabulate(cur,  headers=headers))\n",
        "\n",
        "conn.close()"
      ],
      "metadata": {
        "id": "tiOE6u7SGmSY"
      },
      "execution_count": null,
      "outputs": []
    },
    {
      "cell_type": "markdown",
      "source": [
        "4. Ejecuta la siguiente consulta para obtener todos los clientes que tienen un número de teléfono, ordenados por la fecha en que el cliente fue agregado a la base de datos:"
      ],
      "metadata": {
        "id": "QwzaiWmbG4wp"
      }
    },
    {
      "cell_type": "code",
      "source": [
        "conn = sqlite3.connect('sqlda.sql')\n",
        "cur = conn.cursor()\n",
        "\n",
        "cur.execute('''\n",
        "SELECT *\n",
        "FROM customers\n",
        "WHERE phone IS NOT NULL\n",
        "ORDER BY date_added LIMIT 10;''')\n",
        "\n",
        "# Fetch column names\n",
        "headers = [column[0] for column in cur.description]\n",
        "print(tabulate(cur,  headers=headers))\n",
        "\n",
        "conn.close()"
      ],
      "metadata": {
        "id": "xmVKKYZIG97J",
        "outputId": "3698ed99-a502-449c-9b2e-db555e8564b6",
        "colab": {
          "base_uri": "https://localhost:8080/"
        }
      },
      "execution_count": 101,
      "outputs": [
        {
          "output_type": "stream",
          "name": "stdout",
          "text": [
            "  customer_id  title    first_name    last_name    suffix    email                           gender    ip_address       phone         street_address          city           state      postal_code    latitude    longitude  date_added\n",
            "-------------  -------  ------------  -----------  --------  ------------------------------  --------  ---------------  ------------  ----------------------  -------------  -------  -------------  ----------  -----------  -------------------\n",
            "         2625           Binky         Dawtrey                bdawtrey20w@shareasale.com      M         15.75.236.78     804-990-4322  0353 Iowa Road          Richmond       VA               23208     37.5593     -77.4471  2012-11-09 00:00:00\n",
            "         6173           Danila        Gristwood              dgristwood4rg@furl.net          F         254.239.58.108   832-157-3870  79865 Hagan Terrace     Katy           TX               77493     29.8678     -95.8298  2012-11-09 00:00:00\n",
            "         7486           Ciro          Ferencowicz            cferencowicz5rx@ucoz.ru         M         8.151.167.184    786-458-8754  61 Village Crossing     Miami          FL               33111     25.5584     -80.4582  2012-11-09 00:00:00\n",
            "        13390           Danika        Lough                  dloughabx@skype.com             F         188.19.7.207     212-769-6845  38463 Forest Dale Way   New York City  NY               10019     40.7651     -73.9858  2012-11-09 00:00:00\n",
            "        17099           Pearla        Halksworth             phalksworthd6y@cyberchimps.com  F         114.138.82.24    541-198-6063  130 Marcy Crossing      Eugene         OR               97405     44.0185    -123.1     2012-11-09 00:00:00\n",
            "        18685           Ingram        Crossman               icrossmanef0@weebly.com         M         207.145.1.202    503-352-8809  86 Michigan Junction    Salem          OR               97306     44.8685    -123.044   2012-11-09 00:00:00\n",
            "        30046           Nanete        Hassur                 nhassurn6l@alibaba.com          F         232.115.170.92   209-364-5939  13961 Steensland Trail  Stockton       CA               95205     37.9625    -121.262   2012-11-09 00:00:00\n",
            "        35683           Betteanne     Rulf                   brulfrj6@jalbum.net             F         52.208.248.90    503-396-8643  1 Cordelia Crossing     Salem          OR               97306     44.8685    -123.044   2012-11-09 00:00:00\n",
            "         8571           Christina     Kenningham             ckenningham6m2@princeton.edu    F         245.162.246.123  615-646-6020  39223 Lunder Street     Memphis        TN               38119     35.0821     -89.8501  2012-11-10 00:00:00\n",
            "        17626           Dav           Vanyard                dvanyarddll@taobao.com          M         88.119.149.125   706-947-1265  086 East Hill           Columbus       GA               31904     32.5161     -84.9785  2012-11-10 00:00:00\n"
          ]
        }
      ]
    }
  ]
}