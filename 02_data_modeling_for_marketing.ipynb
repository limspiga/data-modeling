{
  "nbformat": 4,
  "nbformat_minor": 0,
  "metadata": {
    "colab": {
      "provenance": [],
      "toc_visible": true
    },
    "kernelspec": {
      "name": "python3",
      "display_name": "Python 3"
    },
    "language_info": {
      "name": "python"
    }
  },
  "cells": [
    {
      "cell_type": "markdown",
      "source": [
        "# Fundamentos de SQL para análisis"
      ],
      "metadata": {
        "id": "Irrob1ZLxMMz"
      }
    },
    {
      "cell_type": "markdown",
      "source": [
        "#1.1 Introducción\n",
        "\n",
        "La transformación en la manera en que las empresas y organizaciones almacenan y gestionan datos.\n",
        "\n",
        "1. Dos herramientas cruciales en esta transformación son:\n",
        "   - Base de datos relacional.\n",
        "   - Lenguaje de Consulta Estructurado (SQL).\n",
        "2. Estas tecnologías son fundamentales en el procesamiento de datos y son esenciales para empresas que gestionan grandes volúmenes de información.\n",
        "3. Las empresas utilizan bases de datos relacionales como su principal medio de almacenamiento.\n",
        "4. Una gran cantidad de estos datos se transfieren a almacenes de datos especializados para análisis avanzados.\n",
        "5. La mayoría de estos almacenes de datos se acceden mediante SQL.\n",
        "\n",
        "Las bases de datos relacionales requieren que los datos se ajusten a un formato particular y se siga un algoritmo específico para su procesamiento. Sin embargo, en los últimos tiempos han surgido las bases de datos NoSQL. Estas fueron creadas como una opción diferente para guardar datos, usando tecnologías que no están basadas en el formato relacional o en el lenguaje SQL. Las bases de datos NoSQL están hechas para tareas que las relacionales no pueden hacer de manera eficaz, como trabajar con datos no estructurados, como los tweets, o realizar operaciones de lectura/escritura de forma distribuida. Aunque, es importante señalar que las bases de datos NoSQL están más orientadas a necesidades específicas y no son una solución universal para todas las necesidades de bases de datos. De hecho, el término \"NoSQL\" evolucionó a \"Not Only SQL\", lo que indica que estas bases son un añadido, no un sustituto, en el mundo de la gestión de datos. Las bases de datos relacionales y el SQL siguen siendo fundamentales en este ámbito.\n",
        "\n",
        "Comparadas con las NoSQL, las bases de datos relacionales tienen puntos fuertes. Primero, son versátiles, ya que ofrecen un balance entre características y rendimiento para diversas operaciones. Además, todas utilizan SQL, un lenguaje con fundamentos matemáticos sólidos y fácil de aprender. En resumen, para aquellos que se inician en el análisis de datos, las bases de datos relacionales y SQL son el punto de partida ideal. La mayoría descubrirá que SQL cubre la mayoría de sus necesidades. Solo unos pocos requerirán las capacidades de una base de datos NoSQL, pero aún para ellos, SQL sigue siendo una herramienta valiosa para analizar datos.\n",
        "\n",
        "**Bases de Datos Relacionales vs NoSQL**\n",
        "\n",
        "- **Bases de Datos Relacionales**\n",
        "  - Características:\n",
        "    - Requieren formato específico.\n",
        "    - Usan un algoritmo particular para procesamiento.\n",
        "  - Ventajas:\n",
        "    - Versátiles: buen balance entre características y rendimiento.\n",
        "    - Universalidad: todas utilizan SQL.\n",
        "    - Fundamentos sólidos: SQL tiene una base matemática robusta.\n",
        "    - Facilidad de aprendizaje: SQL es intuitivo para muchos principiantes.\n",
        "  - Aplicación:\n",
        "    - Punto de partida ideal para análisis de datos.\n",
        "    - Cubre la mayoría de las necesidades de las personas.\n",
        "\n",
        "- **Bases de Datos NoSQL**\n",
        "  - Origen:\n",
        "    - Creadas como alternativa al formato relacional y SQL.\n",
        "  - Características:\n",
        "    - Capaces de trabajar con datos no estructurados (ej. tweets).\n",
        "    - Realizan operaciones distribuidas.\n",
        "  - Terminología:\n",
        "    - Evolución del término: De \"NoSQL\" a \"Not Only SQL\".\n",
        "  - Limitaciones:\n",
        "    - Más orientadas a necesidades específicas.\n",
        "    - No son una solución universal.\n",
        "  - Aplicación:\n",
        "    - Añadido en el mundo de gestión de datos, no un sustituto.\n"
      ],
      "metadata": {
        "id": "EBlZJD4Vl-p7"
      }
    },
    {
      "cell_type": "markdown",
      "source": [
        "# 1.2 El Mundo de los Datos\n",
        "\n",
        "Los datos se pueden dividir en tres categorías principales:\n",
        "- estructurados,\n",
        "- semi-estructurados y\n",
        "- no estructurados.\n",
        "\n",
        "\n",
        "\n",
        "<figure>\n",
        "<center><img src='https://github.com/limspiga/data-modeling/blob/main/images/67733acf-d83a-4c54-902a-760467625c72.png?raw=true' width=\"400\" />\n",
        "<figcaption>Figura 2.1: La clasificación de los tipos de datos</figcaption></center>\n",
        "</figure>"
      ],
      "metadata": {
        "id": "OQwntmuecH3N"
      }
    },
    {
      "cell_type": "markdown",
      "source": [
        "<center>\n",
        "\n",
        "| Tipo de Datos          | Definición y Características                                                                                  | Ejemplo                                                         |\n",
        "|------------------------|---------------------------------------------------------------------------------------------------------------|-----------------------------------------------------------------|\n",
        "| **Datos Estructurados**| - Definición atómica clara. <br> - Tipo, rango y significado de valores definidos. <br> - Orden estricto.     | Tarjeta de inscripción escolar: <br> - Número de identificación. <br> - Nombre. <br> - Fecha de nacimiento.              |\n",
        "| **Datos No Estructurados** | - Sin definición clara. <br> - Difícil extracción y análisis.                                                | - Bloque binario: <br>   * Archivos de video. <br>   * Archivos de audio. <br> - Tokens naturales: <br>   * Redes sociales. <br>   * Discursos humanos.   |\n",
        "| **Datos Semi-estructurados** | - Sin formato y significado predefinidos. <br> - Cada valor está etiquetado con su definición.             | Información de una casa: <br> - Dirección. <br> - Sótano (opcional). <br> - Garaje (opcional). <br> - Mejoras futuras.    |\n",
        "\n",
        "</center>"
      ],
      "metadata": {
        "id": "fBf1omGOnYjs"
      }
    },
    {
      "cell_type": "markdown",
      "source": [
        "# 1.3 Bases de Datos Relacionales y SQL\n",
        "Una base de datos relacional usa un modelo relacional, organizando los datos en relaciones o conjuntos de tuplas. Una tupla, también conocida como registro, es una serie ordenada de atributos que describen dicho registro.\n",
        "\n",
        "Por ejemplo, una empresa de bienes de consumo de rápido movimiento quiere rastrear a sus clientes. Pueden guardar la información del cliente en una relación llamada customer_info (información del cliente). Cada registro en esta relación contiene detalles sobre un cliente. Los atributos en cada registro incluyen información como el apellido del cliente, nombre, edad, fecha de inscripción y dirección de entrega. Esta relación y sus dos primeros registros se verían así:"
      ],
      "metadata": {
        "id": "Ccc5AWuahk66"
      }
    },
    {
      "cell_type": "markdown",
      "source": [
        "<center>\n",
        "\n",
        "| ID | Last Name | First Name | Age |\n",
        "|---|---|---|---|\n",
        "| 1 | Smith | John | 27 |\n",
        "| 2 | Higgins | Mary | 53 |\n",
        "\n",
        "Figure 2.2: Ejemplo de customer_info relation\n",
        "\n",
        "</center>"
      ],
      "metadata": {
        "id": "UeEn8ivUnqcW"
      }
    },
    {
      "cell_type": "markdown",
      "source": [
        "Como puede ver, cada relación es efectivamente una tabla bidimensional que se parece a una hoja de cálculo de Excel. Por lo tanto, cuando se implementa en una base de datos relacional, estas relaciones se llaman tablas. Cada tabla está compuesta por filas y columnas. Cada fila de la tabla es un registro, y los atributos se representan como columnas de la tabla. No puede haber columnas duplicadas y las columnas deben seguir el mismo orden en todas las filas. Cada columna también tiene un tipo de datos que describe el tipo de datos en la columna.\n",
        "\n",
        "Aunque no es técnicamente necesario, la mayoría de las tablas en una base de datos relacional tienen una columna (a veces un grupo de columnas) denominada clave primaria, que identifica de manera única una fila de la base de datos. En el ejemplo mostrado en la Figura 2.2, cada fila contiene una columna llamada ID. Este registro, como sugiere el nombre, es un atributo que se puede usar para identificar de manera única este registro. Se conoce como clave relacional. En todas las demás columnas, puede tener datos duplicados en diferentes filas. Pero en la(s) columna(s) de clave primaria, los datos deben ser únicos.\n",
        "\n",
        "**Base de Datos Relacional y Operaciones CRUD**\n",
        "\n",
        "- **Base de datos relacional**:\n",
        "  - Organizadas alrededor de tablas.\n",
        "  - Datos almacenados dentro de las tablas.\n",
        "\n",
        "- **Operaciones en Bases de Datos**:\n",
        "  - **CRUD**:\n",
        "    - **C** - Crear:\n",
        "      - Definir el conjunto de datos.\n",
        "      - Crear registros de datos individuales y colocarlos en el conjunto.\n",
        "    - **R** - Leer:\n",
        "      - Acceder y visualizar toda la información del conjunto de datos.\n",
        "    - **U** - Actualizar:\n",
        "      - Modificar los registros afectados por cambios.\n",
        "    - **D** - Eliminar:\n",
        "      - Eliminar registros individuales.\n",
        "      - Si no es necesario el conjunto, eliminar toda la definición del conjunto en la base de datos.\n",
        "\n",
        "- **Objetivo de eliminar registros**:\n",
        "  - Ahorrar costos de almacenamiento.\n",
        "  - Aumentar rendimiento.\n",
        "\n",
        "**Nota**: CRUD es el acrónimo de Crear, Leer, Actualizar y Eliminar.\n",
        "\n"
      ],
      "metadata": {
        "id": "MbjhrC_GoA8m"
      }
    },
    {
      "cell_type": "markdown",
      "source": [
        "## 1.3.1 Ventajas y Desventajas de las Bases de Datos SQL\n",
        "**Resumen:**\n",
        "Las bases de datos relacionales (SQL) son herramientas ampliamente utilizadas para almacenar y procesar datos estructurados debido a sus múltiples ventajas, tales como la representación intuitiva, eficiencia en almacenamiento, declaratividad y robustez. Sin embargo, enfrentan desafíos en áreas como la escalabilidad, el procesamiento de datos no estructurados y el equilibrio entre consistencia y rendimiento.\n",
        "\n",
        "**Comparativa: Ventajas vs. Desventajas**\n",
        "\n",
        "**Ventajas:**\n",
        "1. **Intuitivo:** Representación clara y fácil de entender con tablas.\n",
        "2. **Eficiente:** Normalización evita redundancia de datos, optimizando el espacio.\n",
        "3. **Declarativo:** SQL especifica qué datos se quieren sin preocuparse por cómo obtenerlos.\n",
        "4. **Robusto:** Cumplimiento de atomicidad, consistencia, aislamiento y durabilidad (ACID) garantiza la validez de los datos.\n",
        "\n",
        "**Desventajas:**\n",
        "1. **Especificidad relativamente baja:** Limitaciones en la funcionalidad preprogramada.\n",
        "2. **Escalabilidad limitada:** El costo de recursos crece exponencialmente con la información.\n",
        "3. **Sacrificar rendimiento por consistencia:** Mecanismos complejos pueden disminuir el rendimiento en escenarios que no requieren alta consistencia.\n",
        "4. **Falta de capacidad para procesar datos semi-estructurados y no estructurados:** Las bases de datos SQL se centran principalmente en datos estructurados, lo que limita su versatilidad con otros tipos de datos."
      ],
      "metadata": {
        "id": "8x-AX-nZofqW"
      }
    },
    {
      "cell_type": "markdown",
      "source": [
        "# 1.4 Sqlite Sistema de Gestión de Bases de Datos Relacionales (RDBMS)\n",
        "SQLite es un RDBMS que administra datos en sistemas informáticos, asegurando su adecuado almacenamiento y recuperación mediante el lenguaje SQL."
      ],
      "metadata": {
        "id": "a11JMpNmpoGK"
      }
    },
    {
      "cell_type": "markdown",
      "source": [
        "Los RDBMS, que manejan bases de datos, vienen en dos variedades: comerciales y de código abierto. Aunque todos siguen en su mayoría un estándar de SQL establecido por ANSI, cada uno tiene pequeñas diferencias en su funcionamiento y en el uso del lenguaje SQL. Durante este curso, usaremos Colab como nuestra herramienta principal para trabajar con SQL. Colab actúa como un espacio de almacenamiento temporal para los datos, y los usuarios interactúan con él a través de distintas herramientas cliente."
      ],
      "metadata": {
        "id": "b3c67-eLp-6e"
      }
    },
    {
      "cell_type": "markdown",
      "source": [
        "A continuación, se presenta la lista de tablas contenidas en la base de datos SQLQA, acompañada de una breve descripción de cada una:\n",
        "\n",
        "| **Nombre de la tabla**                   | **Descripción**                                                                                                                                                         |\n",
        "|-----------------------------------------|-------------------------------------------------------------------------------------------------------------------------------------------------------------------------|\n",
        "| closest_dealerships                     | Contiene la distancia entre cada cliente y concesionario                                                                                                               |\n",
        "| countries                               | Una tabla vacía con columnas que describen países                                                                                                                      |\n",
        "| customer_sales                          | Contiene datos brutos en un formato semi-estructurado de algunos registros de ventas                                                                                    |\n",
        "| customer_survey                         | Contiene retroalimentación con calificaciones de los clientes                                                                                                          |\n",
        "| customers                               | Contiene información detallada para todos los clientes                                                                                                                 |\n",
        "| dealerships                             | Contiene información detallada para todos los concesionarios                                                                                                           |\n",
        "| emails                                  | Contiene los detalles de los correos electrónicos enviados a cada cliente                                                                                              |\n",
        "| products                                | Contiene los productos vendidos por ZoomZoom                                                                                                                           |\n",
        "| public_transportation_by_zip            | Contiene la medida de disponibilidad de transporte público en diferentes códigos postales en Estados Unidos                                                            |\n",
        "| sales                                   | Contiene los registros de ventas de ZoomZoom basados en un registro por cliente por producto                                                                           |\n",
        "| salespeople                             | Contiene los detalles de los vendedores en todos los concesionarios                                                                                                     |\n",
        "| top_cities_data                         | Contiene algunos datos agregados sobre el número de clientes en diferentes ciudades                                                                                     |\n"
      ],
      "metadata": {
        "id": "rskphcBgpzWK"
      }
    },
    {
      "cell_type": "markdown",
      "source": [
        "## Ejercicio 2.01: Realizando tu primera consulta con SELECT.\n",
        "En este ejercicio, emplearás Python para establecer una conexión con una base de datos de muestra denominada ZoomZoom en tu servidor Sqlite3 y llevarás a cabo una consulta SQL sencilla."
      ],
      "metadata": {
        "id": "uGgITAdXqLp0"
      }
    },
    {
      "cell_type": "markdown",
      "source": [
        "1. Descarga la base de datos sqlda"
      ],
      "metadata": {
        "id": "o2awqbibqhZX"
      }
    },
    {
      "cell_type": "code",
      "source": [
        "!pip install tabulate\n",
        "import sqlite3\n",
        "from tabulate import tabulate\n",
        "\n",
        "# Descargamos la base de datos sqlda\n",
        "!curl https://raw.githubusercontent.com/limspiga/data-modeling/main/db/sqlda.sql -O"
      ],
      "metadata": {
        "id": "UT-qvgpXqhqk",
        "colab": {
          "base_uri": "https://localhost:8080/"
        },
        "outputId": "eda5e06c-50f4-423c-a3c4-6312e61ab868"
      },
      "execution_count": 1,
      "outputs": [
        {
          "output_type": "stream",
          "name": "stdout",
          "text": [
            "Requirement already satisfied: tabulate in /usr/local/lib/python3.10/dist-packages (0.9.0)\n",
            "  % Total    % Received % Xferd  Average Speed   Time    Time     Time  Current\n",
            "                                 Dload  Upload   Total   Spent    Left  Speed\n",
            "100 60.5M  100 60.5M    0     0  43.6M      0  0:00:01  0:00:01 --:--:-- 43.6M\n"
          ]
        }
      ]
    },
    {
      "cell_type": "code",
      "source": [
        "# Código auxiliar. Nota: ejecutar cuando se carge este libro.\n",
        "def sql_exec_query(query):\n",
        "  conn = sqlite3.connect('sqlda.sql')\n",
        "  cur = conn.cursor()\n",
        "  try:\n",
        "    cur.execute(query)\n",
        "    headers = [column[0] for column in cur.description]\n",
        "    print(tabulate(cur,  headers=headers))\n",
        "    # conn.commit()\n",
        "  except Exception as e:\n",
        "    print(str(e))\n",
        "    # conn.rollback()\n",
        "  cur.close()\n",
        "  conn.close()\n",
        "\n",
        "def sql_exec(query):\n",
        "  conn = sqlite3.connect('sqlda.sql')\n",
        "  cur = conn.cursor()\n",
        "  try:\n",
        "      cur.execute(query)\n",
        "      conn.commit()\n",
        "      print(\"Query executed successfully\")\n",
        "  except sqlite3.Error as e:\n",
        "      print(str(e))\n",
        "      conn.rollback()\n",
        "  cur.close()\n",
        "  conn.close()"
      ],
      "metadata": {
        "id": "xFJP81xepgBQ"
      },
      "execution_count": 2,
      "outputs": []
    },
    {
      "cell_type": "code",
      "source": [
        "# sql_exec_query('''\n",
        "# UPDATE Products SET\n",
        "#   base_msrp = 299.99\n",
        "# WHERE product_type = 'scooter'\n",
        "# AND year<2018;\n",
        "# ''')"
      ],
      "metadata": {
        "colab": {
          "base_uri": "https://localhost:8080/"
        },
        "id": "JZzVXhr4t5Pn",
        "outputId": "6a823fdd-75c5-4bf3-e718-e04031035079"
      },
      "execution_count": 4,
      "outputs": [
        {
          "output_type": "stream",
          "name": "stdout",
          "text": [
            "'NoneType' object is not iterable\n"
          ]
        }
      ]
    },
    {
      "cell_type": "markdown",
      "source": [
        "2. La base de datos sqlda.sql contiene datos de muestra de una empresa imaginaria llamada ZoomZoom, dedicada a la venta en línea de automóviles y scooters eléctricos a través de su plataforma web y red de concesionarios. En cada concesionario hay un vendedor encargado. Los clientes, tras realizar una compra, pueden optar por completar una encuesta. Adicionalmente, ZoomZoom envía correos electrónicos promocionales a sus clientes, registrando las fechas de envío, apertura, clics y el contenido del mensaje.\n",
        "\n",
        "  Ahora, introduce la consulta siguiente en el terminal:"
      ],
      "metadata": {
        "id": "oGD0SvKMqvK3"
      }
    },
    {
      "cell_type": "code",
      "source": [
        "# # 1. Establecer una conexión con la base de datos\n",
        "# conn = sqlite3.connect('sqlda.sql')\n",
        "\n",
        "# # 2. Iniciar un cursor para interactuar con la base de datos\n",
        "# cur = conn.cursor()\n",
        "\n",
        "# # 3. Realizar una consulta para obtener los primeros nombres\n",
        "# # de los clientes en Arizona (AZ)\n",
        "# cur.execute('''\n",
        "#   SELECT first_name\n",
        "#   FROM customers\n",
        "#   WHERE state='AZ'\n",
        "# ORDER BY first_name LIMIT 2;\n",
        "# ''')\n",
        "\n",
        "# # 4. Mostrar los resultados obtenidos de la consulta\n",
        "# for row in cur:\n",
        "#   print(row)\n",
        "\n",
        "# # 5. Cerrar la conexión con la base de datos\n",
        "# conn.close()\n",
        "\n",
        "sql_exec_query('''\n",
        "  SELECT first_name\n",
        "  FROM customers\n",
        "  WHERE state='AZ'\n",
        "  ORDER BY first_name LIMIT 2;\n",
        "''')\n"
      ],
      "metadata": {
        "id": "9a7WVqEhqk5Y",
        "colab": {
          "base_uri": "https://localhost:8080/"
        },
        "outputId": "68ed73a1-0fd4-4b7e-92e4-9a5a3ddc675a"
      },
      "execution_count": 5,
      "outputs": [
        {
          "output_type": "stream",
          "name": "stdout",
          "text": [
            "first_name\n",
            "------------\n",
            "Abba\n",
            "Abbey\n"
          ]
        }
      ]
    },
    {
      "cell_type": "markdown",
      "source": [
        " El resultado de este SQL aparece debajo del editor de consultas.\n",
        "\n",
        "La consulta SQL que acabas de ejecutar en este ejercicio es una sentencia SELECT."
      ],
      "metadata": {
        "id": "IJbc9gf4sFN8"
      }
    },
    {
      "cell_type": "markdown",
      "source": [
        "\n",
        "## 1.4.1 Declaración SELECT\n",
        "En una base de datos relacional, las operaciones CRUD se ejecutan mediante declaraciones SQL. Una declaración SQL es un comando que utiliza ciertas palabras clave de SQL y sigue ciertos estándares para especificar qué resultado esperas de la base de datos relacional. En el Ejercicio 2.01, Ejecutando tu primera consulta SELECT, viste un ejemplo de declaración SQL SELECT. SELECT es probablemente la declaración SQL más común; recupera datos de una base de datos. Esta operación se realiza casi exclusivamente usando la palabra clave SELECT.\n",
        "\n",
        "La consulta SELECT más básica sigue este patrón:\n",
        "\n",
        "```\n",
        "# SELECT...FROM <nombre_tabla>;\n",
        "```\n",
        "Esta consulta es una forma de extraer datos de una única tabla. En su forma más simple, si quieres extraer todos los datos de la tabla de productos en la base de datos de muestra, simplemente usa esta consulta:"
      ],
      "metadata": {
        "id": "SncZxt7knHSS"
      }
    },
    {
      "cell_type": "code",
      "source": [
        "sql_exec_query('''\n",
        "  SELECT * FROM products;\n",
        "''')"
      ],
      "metadata": {
        "id": "z2anQSrfr8JC",
        "outputId": "f8f139df-7996-4469-e861-92a3999b2a3f",
        "colab": {
          "base_uri": "https://localhost:8080/"
        }
      },
      "execution_count": 6,
      "outputs": [
        {
          "output_type": "stream",
          "name": "stdout",
          "text": [
            "  product_id  model                    year  product_type      base_msrp  production_start_date    production_end_date\n",
            "------------  ---------------------  ------  --------------  -----------  -----------------------  ---------------------\n",
            "           1  Lemon                    2013  scooter              399.99  2012-10-28 00:00:00      2015-02-03 00:00:00\n",
            "           2  Lemon Limited Edition    2014  scooter              799.99  2013-08-30 00:00:00      2013-11-24 00:00:00\n",
            "           3  Lemon                    2016  scooter              499.99  2015-12-27 00:00:00      2021-08-24 00:00:00\n",
            "           4  Model Chi                2017  automobile        115000     2017-02-17 00:00:00      2021-08-24 00:00:00\n",
            "           5  Blade                    2017  scooter              699.99  2017-02-17 00:00:00      2017-09-23 00:00:00\n",
            "           6  Model Sigma              2018  automobile         65500     2017-12-10 00:00:00      2021-05-28 00:00:00\n",
            "           7  Bat                      2019  scooter              599.99  2019-06-07 00:00:00      \\N\n",
            "           8  Bat Limited Edition      2020  scooter              699.99  2019-10-13 00:00:00      \\N\n",
            "           9  Model Epsilon            2020  automobile         35000     2019-10-13 00:00:00      \\N\n",
            "          10  Model Gamma              2020  automobile         85750     2019-10-13 00:00:00      \\N\n",
            "          11  Model Chi                2022  automobile         95000     2021-10-01 00:00:00      \\N\n",
            "          12  Lemon Zester             2022  scooter              349.99  2021-10-01 00:00:00      \\N\n"
          ]
        }
      ]
    },
    {
      "cell_type": "markdown",
      "source": [
        "\n",
        "Esta consulta extraerá todos los datos de una base de datos. La salida será:"
      ],
      "metadata": {
        "id": "f5Z9yrCYr8bt"
      }
    },
    {
      "cell_type": "markdown",
      "source": [
        "\n",
        "<figure>\n",
        "<center><img src='https://github.com/limspiga/data-modeling/blob/main/images/4e5bfa84-8e92-4d9d-99ed-35217e5e84d9.png?raw=true' width=\"600\" />\n",
        "<figcaption>Figure 2.7: Simple SELECT statement</figcaption></center>\n",
        "</figure>"
      ],
      "metadata": {
        "id": "K7ZM8am0oHe4"
      }
    },
    {
      "cell_type": "markdown",
      "source": [
        "Es importante entender la sintaxis de la consulta SELECT con un poco más de detalle."
      ],
      "metadata": {
        "id": "0n4bPahroYlT"
      }
    },
    {
      "cell_type": "markdown",
      "source": [
        "Nota\n",
        "\n",
        "En las declaraciones presentadas en esta sección, las palabras clave de SQL, como SELECT y FROM, están en letras mayúsculas, mientras que los nombres de tablas y columnas se muestran en minúsculas. Aunque SQL no diferencia entre mayúsculas y minúsculas en sus declaraciones y palabras clave, es recomendable seguir ciertas convenciones de formato y estructura al escribir. Esto facilita la comprensión de la estructura y finalidad de la declaración."
      ],
      "metadata": {
        "id": "YiSQy63yonav"
      }
    },
    {
      "cell_type": "markdown",
      "source": [
        "Dentro de la cláusula SELECT, el símbolo * sirve como abreviatura para seleccionar todas las columnas de una base de datos. Se utiliza el punto y coma (;) al final de la consulta para señalar su conclusión, similar a cómo un punto finaliza una oración. Si deseas seleccionar columnas específicas en una consulta, simplemente sustituye el asterisco (*) por los nombres de las columnas deseadas en el orden en que prefieras que se muestren. Por ejemplo, para mostrar las columnas product_id y model de la tabla products, la consulta sería:"
      ],
      "metadata": {
        "id": "pKKsufGKo4U_"
      }
    },
    {
      "cell_type": "code",
      "source": [
        "# conn = sqlite3.connect('sqlda.sql')\n",
        "# cur = conn.cursor()\n",
        "\n",
        "# cur.execute('SELECT product_id, model FROM products;')\n",
        "\n",
        "# # Fetch column names\n",
        "# headers = [column[0] for column in cur.description]\n",
        "# print(tabulate(cur,  headers=headers))\n",
        "\n",
        "# conn.close()\n",
        "\n",
        "sql_exec_query('''\n",
        "  SELECT product_id, model FROM products;\n",
        "''')\n"
      ],
      "metadata": {
        "id": "lpD1SUS-uIU1",
        "outputId": "5d02a747-c495-4766-b758-a2dda30d248e",
        "colab": {
          "base_uri": "https://localhost:8080/"
        }
      },
      "execution_count": 7,
      "outputs": [
        {
          "output_type": "stream",
          "name": "stdout",
          "text": [
            "  product_id  model\n",
            "------------  ---------------------\n",
            "           1  Lemon\n",
            "           2  Lemon Limited Edition\n",
            "           3  Lemon\n",
            "           4  Model Chi\n",
            "           5  Blade\n",
            "           6  Model Sigma\n",
            "           7  Bat\n",
            "           8  Bat Limited Edition\n",
            "           9  Model Epsilon\n",
            "          10  Model Gamma\n",
            "          11  Model Chi\n",
            "          12  Lemon Zester\n"
          ]
        }
      ]
    },
    {
      "cell_type": "markdown",
      "source": [
        "La respuesta se mostrará de la siguiente manera:\n",
        "\n",
        "<figure>\n",
        "<center><img src='https://github.com/limspiga/data-modeling/blob/main/images/71d622a3-2af1-4f0d-9e59-345e9fb5866b.png?raw=true' width=\"200\" />\n",
        "<figcaption>Figure 2.7: Simple SELECT statement</figcaption></center>\n",
        "</figure>"
      ],
      "metadata": {
        "id": "7ZqYz0wquIhN"
      }
    },
    {
      "cell_type": "markdown",
      "source": [
        "Figura 2.8: Sentencia SELECT con nombres de columnas\n",
        "Para mostrar primero la columna model y luego la columna product_id, escribirías lo siguiente:\n"
      ],
      "metadata": {
        "id": "Gg9gDwowpWUG"
      }
    },
    {
      "cell_type": "code",
      "source": [
        "# conn = sqlite3.connect('sqlda.sql')\n",
        "# cur = conn.cursor()\n",
        "\n",
        "# cur.execute('SELECT model, product_id FROM products;')\n",
        "\n",
        "# # Fetch column names\n",
        "# headers = [column[0] for column in cur.description]\n",
        "# print(tabulate(cur,  headers=headers))\n",
        "\n",
        "# conn.close()\n",
        "\n",
        "sql_exec_query('''\n",
        "  SELECT model, product_id FROM products;\n",
        "''')"
      ],
      "metadata": {
        "id": "mJLM8l3EuiAE",
        "outputId": "9714d5d2-c7b1-49b5-edb6-6e354329ffe8",
        "colab": {
          "base_uri": "https://localhost:8080/"
        }
      },
      "execution_count": 8,
      "outputs": [
        {
          "output_type": "stream",
          "name": "stdout",
          "text": [
            "model                    product_id\n",
            "---------------------  ------------\n",
            "Lemon                             1\n",
            "Lemon Limited Edition             2\n",
            "Lemon                             3\n",
            "Model Chi                         4\n",
            "Blade                             5\n",
            "Model Sigma                       6\n",
            "Bat                               7\n",
            "Bat Limited Edition               8\n",
            "Model Epsilon                     9\n",
            "Model Gamma                      10\n",
            "Model Chi                        11\n",
            "Lemon Zester                     12\n"
          ]
        }
      ]
    },
    {
      "cell_type": "markdown",
      "source": [
        "\n",
        "La respuesta se mostrará de la siguiente manera:"
      ],
      "metadata": {
        "id": "7luflnRQuiLw"
      }
    },
    {
      "cell_type": "markdown",
      "source": [
        "<figure>\n",
        "<center><img src='https://github.com/limspiga/data-modeling/blob/main/images/2914d3b5-fc04-480f-8b1d-15df7d13e0da.png?raw=true' width=\"200\" />\n",
        "<figcaption>Figura 2.9: Comparación entre las sentencias SELECT con nombres de columnas de las Figuras 2.8 y 2.9.</figcaption></center>\n",
        "</figure>"
      ],
      "metadata": {
        "id": "KFvJig-mpgoF"
      }
    },
    {
      "cell_type": "markdown",
      "source": [
        "Es esencial entender que, a pesar de que las columnas se muestran en el orden establecido en la consulta `SELECT`, las filas se presentarán de manera no secuencial.\n",
        "\n",
        "Una consulta SELECT se estructura en cinco segmentos:\n",
        "1. **Operación**: Se refiere a lo que se mostrará. Por ejemplo, el término SELECT seguido de los nombres de las columnas o funciones.\n",
        "2. **Datos**: Representado por la palabra clave `FROM`, seguida de las tablas relacionadas, especifica qué información será considerada para acciones como filtrado y cálculos.\n",
        "3. **Condición**: Es el segmento que limita los datos, mostrando únicamente aquellos registros que cumplan con ciertas condiciones, generalmente marcadas con `WHERE`.\n",
        "4. **Agrupación**: Envolucra la reunión de registros basándose en criterios determinados por una cláusula `GROUP BY`, generando salidas basadas en valores similares. Profundizarás en este aspecto en el Capítulo 4, Funciones Agregadas para el Análisis de Datos.\n",
        "5. **Postprocesamiento**: Es el proceso final que ajusta y organiza los resultados, comúnmente usando términos como `ORDER BY` y `LIMIT`.\n",
        "\n",
        "Como ilustración, toma en cuenta la declaración que realizaste en el Ejercicio 2.01, donde quisieras obtener el nombre principal de todos los clientes en Arizona, listados alfabéticamente. La consulta `SELECT` para este propósito sería:\n",
        "\n"
      ],
      "metadata": {
        "id": "9BEF_7NyqQFU"
      }
    },
    {
      "cell_type": "code",
      "source": [
        "# conn = sqlite3.connect('sqlda.sql')\n",
        "# cur = conn.cursor()\n",
        "\n",
        "# cur.execute('''\n",
        "#   SELECT first_name\n",
        "#   FROM customers\n",
        "#   WHERE state='AZ'\n",
        "#   ORDER BY first_name LIMIT 10;\n",
        "#   ''')\n",
        "\n",
        "# # Fetch column names\n",
        "# headers = [column[0] for column in cur.description]\n",
        "# print(tabulate(cur,  headers=headers))\n",
        "\n",
        "# conn.close()\n",
        "\n",
        "sql_exec_query('''\n",
        "  SELECT first_name\n",
        "  FROM customers\n",
        "  WHERE state='AZ'\n",
        "  ORDER BY first_name LIMIT 10;\n",
        "''')\n"
      ],
      "metadata": {
        "id": "SWRCOrKJu7VE",
        "outputId": "d7b8faad-8b1a-4dee-a3de-951835fa34e9",
        "colab": {
          "base_uri": "https://localhost:8080/"
        }
      },
      "execution_count": 9,
      "outputs": [
        {
          "output_type": "stream",
          "name": "stdout",
          "text": [
            "first_name\n",
            "------------\n",
            "Abba\n",
            "Abbey\n",
            "Abra\n",
            "Abrahan\n",
            "Adams\n",
            "Adham\n",
            "Adora\n",
            "Adore\n",
            "Adrianna\n",
            "Agnese\n"
          ]
        }
      ]
    },
    {
      "cell_type": "markdown",
      "source": [
        "Los resultados iniciales se visualizan de la siguiente manera:"
      ],
      "metadata": {
        "id": "f-PtMFdhu7hG"
      }
    },
    {
      "cell_type": "markdown",
      "source": [
        "<figure>\n",
        "<center><img src='https://github.com/limspiga/data-modeling/blob/main/images/640a3027-ff64-4cc0-b1f7-0c2764ba4a97.png?raw=true' width=\"100\" />\n",
        "<figcaption>Figure 2.10: Sample SELECT statement.</figcaption></center>\n",
        "</figure>"
      ],
      "metadata": {
        "id": "LDACGvM_qoss"
      }
    },
    {
      "cell_type": "markdown",
      "source": [
        "## 1.4.2 La Cláusula WHERE\n",
        "\n",
        "La cláusula WHERE es una lógica condicional que limita la cantidad de datos devueltos. Puedes usar la cláusula WHERE para especificar condiciones basadas en las cuales la declaración SELECT recuperará filas específicas. En una declaración SELECT, generalmente encontrarás esta cláusula colocada después de la cláusula FROM.\n",
        "\n",
        "La condición en la cláusula WHERE generalmente es una declaración booleana que puede ser verdadera o falsa para cada fila. En el caso de las columnas numéricas, estas declaraciones booleanas pueden usar operadores como igual (=), mayor que (>), o menor que (<) para comparar las columnas contra un valor.\n",
        "\n",
        "Por ejemplo, supongamos que quieres ver los nombres de los modelos de los productos con el año modelo 2014 del conjunto de datos de muestra. Escribirías la siguiente consulta:\n",
        "\n",
        "La salida de este SQL es:"
      ],
      "metadata": {
        "id": "sZ8B2MhAvSo4"
      }
    },
    {
      "cell_type": "code",
      "source": [
        "# conn = sqlite3.connect('sqlda.sql')\n",
        "# cur = conn.cursor()\n",
        "\n",
        "# cur.execute('''\n",
        "#   SELECT model\n",
        "#   FROM products\n",
        "#   WHERE year=2014 LIMIT 10;''')\n",
        "\n",
        "# # Fetch column names\n",
        "# headers = [column[0] for column in cur.description]\n",
        "# print(tabulate(cur,  headers=headers))\n",
        "\n",
        "# conn.close()\n",
        "\n",
        "sql_exec_query('''\n",
        "  SELECT model\n",
        "  FROM products\n",
        "  WHERE year=2014 LIMIT 10;\n",
        "''')\n"
      ],
      "metadata": {
        "id": "2evkyx6FvtfY",
        "outputId": "c257b0cf-e49a-4839-a1e5-a0a144d58da7",
        "colab": {
          "base_uri": "https://localhost:8080/"
        }
      },
      "execution_count": 10,
      "outputs": [
        {
          "output_type": "stream",
          "name": "stdout",
          "text": [
            "model\n",
            "---------------------\n",
            "Lemon Limited Edition\n"
          ]
        }
      ]
    },
    {
      "cell_type": "markdown",
      "source": [
        "Figura 2.11: Cláusula WHERE simple\n",
        "\n",
        "Mediante la cláusula WHERE, has logrado filtrar los productos según un criterio específico. Si estás interesado en productos anteriores al año 2014, simplemente ajusta la cláusula `WHERE a year < 2014`. Ahora, si deseas aplicar varios criterios simultáneamente o seleccionar filas que cumplan alguna de varias condiciones, puedes incorporar las cláusulas AND u OR en tus consultas."
      ],
      "metadata": {
        "id": "S97Yypodvtte"
      }
    },
    {
      "cell_type": "markdown",
      "source": [
        "## 1.4.3  La Cláusula AND/OR\n",
        "\n",
        "La consulta previa, representada en la Figura 2.11, se basó en una única condición. No obstante, en ocasiones, podrías querer satisfacer múltiples criterios simultáneamente. Para lograrlo, puedes integrar distintas condiciones utilizando las cláusulas AND y OR. Mientras que AND selecciona las filas que cumplen con todas las condiciones establecidas, OR recoge aquellas que satisfacen al menos una de las condiciones especificadas.\n",
        "\n",
        "Por ejemplo, si quieres obtener modelos que no solo fueron fabricados en 2014, sino que también tienen un Precio Sugerido por el Fabricante (MSRP) de menos de $1,000, puedes escribir la siguiente consulta:\n"
      ],
      "metadata": {
        "id": "WMwlHsIYwugL"
      }
    },
    {
      "cell_type": "code",
      "source": [
        "sql_exec_query('''\n",
        "  SELECT model, year, base_msrp\n",
        "  FROM products\n",
        "  WHERE year=2014\n",
        "  AND base_msrp<=1000;\n",
        "''')"
      ],
      "metadata": {
        "id": "HXQHa9Q9xFeJ",
        "outputId": "116ac036-2ff1-4bd8-bedd-6038cad1de09",
        "colab": {
          "base_uri": "https://localhost:8080/"
        }
      },
      "execution_count": 11,
      "outputs": [
        {
          "output_type": "stream",
          "name": "stdout",
          "text": [
            "model                    year    base_msrp\n",
            "---------------------  ------  -----------\n",
            "Lemon Limited Edition    2014       799.99\n"
          ]
        }
      ]
    },
    {
      "cell_type": "markdown",
      "source": [
        "\n",
        "El resultado se verá así:\n",
        "Figura 2.12: Cláusula WHERE con operador AND\n",
        "\n",
        "Aquí, puedes ver que el año del producto es 2014 y el base_msrp es menor a $1,000. Esto es exactamente lo que estás buscando.\n",
        "\n",
        "Supongamos que quieres obtener cualquier modelo que se lanzó en el año 2014 o que tenía un tipo de producto como automóvil. Escribirías la siguiente consulta:\n"
      ],
      "metadata": {
        "id": "6YEbbiVVxFot"
      }
    },
    {
      "cell_type": "code",
      "source": [
        "sql_exec_query('''\n",
        "  SELECT Model, product_type\n",
        "  FROM products\n",
        "  WHERE year=2014\n",
        "  OR product_type='automobile';\n",
        "''')"
      ],
      "metadata": {
        "id": "NLjOYGy-xM_3",
        "outputId": "23ea49c0-68a2-4acf-c3c7-4ecc3a0834c3",
        "colab": {
          "base_uri": "https://localhost:8080/"
        }
      },
      "execution_count": 12,
      "outputs": [
        {
          "output_type": "stream",
          "name": "stdout",
          "text": [
            "model                  product_type\n",
            "---------------------  --------------\n",
            "Lemon Limited Edition  scooter\n",
            "Model Chi              automobile\n",
            "Model Sigma            automobile\n",
            "Model Epsilon          automobile\n",
            "Model Gamma            automobile\n",
            "Model Chi              automobile\n"
          ]
        }
      ]
    },
    {
      "cell_type": "markdown",
      "source": [
        "\n",
        "\n",
        "\n",
        "\n",
        "El resultado es el siguiente:\n",
        "Figura 2.13: Cláusula WHERE con operador OR\n",
        "\n",
        "Ya sabes que hay un producto, Lemon Limited Edition, del año 2014. El resto de los productos en el ejemplo están listados con \"automobile\" como product_type. Estás viendo el conjunto de datos combinado de year=2014 junto con product_type='automobile'. Eso es exactamente lo que hace el operador OR.\n",
        "\n",
        "Al usar más de una condición AND u OR, es posible que necesites usar paréntesis para separar y posicionar las piezas de lógica juntas. Esto garantizará que tu consulta funcione como se espera y sea lo más legible posible. Por ejemplo, si quisieras obtener todos los productos con modelos entre los años 2016 y 2018, así como cualquier producto que sean scooters, podrías escribir lo siguiente:\n",
        "\n"
      ],
      "metadata": {
        "id": "yp-Av98pxNKP"
      }
    },
    {
      "cell_type": "code",
      "source": [
        "sql_exec_query('''\n",
        "  SELECT *\n",
        "  FROM products\n",
        "  WHERE year > 2016\n",
        "  AND year < 2018\n",
        "  OR product_type='scooter';\n",
        "''')"
      ],
      "metadata": {
        "id": "BBJA74sZxbKK",
        "outputId": "ee3393c7-1c74-4c60-d531-73b0e5f3b694",
        "colab": {
          "base_uri": "https://localhost:8080/"
        }
      },
      "execution_count": 13,
      "outputs": [
        {
          "output_type": "stream",
          "name": "stdout",
          "text": [
            "  product_id  model                    year  product_type      base_msrp  production_start_date    production_end_date\n",
            "------------  ---------------------  ------  --------------  -----------  -----------------------  ---------------------\n",
            "           1  Lemon                    2013  scooter              399.99  2012-10-28 00:00:00      2015-02-03 00:00:00\n",
            "           2  Lemon Limited Edition    2014  scooter              799.99  2013-08-30 00:00:00      2013-11-24 00:00:00\n",
            "           3  Lemon                    2016  scooter              499.99  2015-12-27 00:00:00      2021-08-24 00:00:00\n",
            "           4  Model Chi                2017  automobile        115000     2017-02-17 00:00:00      2021-08-24 00:00:00\n",
            "           5  Blade                    2017  scooter              699.99  2017-02-17 00:00:00      2017-09-23 00:00:00\n",
            "           7  Bat                      2019  scooter              599.99  2019-06-07 00:00:00      \\N\n",
            "           8  Bat Limited Edition      2020  scooter              699.99  2019-10-13 00:00:00      \\N\n",
            "          12  Lemon Zester             2022  scooter              349.99  2021-10-01 00:00:00      \\N\n"
          ]
        }
      ]
    },
    {
      "cell_type": "markdown",
      "source": [
        "\n",
        "El resultado contiene todos los scooters, así como un automóvil que tiene un año entre 2016 y 2018.\n",
        "Figura 2.14: Cláusula WHERE con múltiples operadores AND/OR\n",
        "\n",
        "Sin embargo, para aclarar la cláusula WHERE, sería preferible escribir lo siguiente:"
      ],
      "metadata": {
        "id": "KhhpYUkXxbWU"
      }
    },
    {
      "cell_type": "code",
      "source": [
        "sql_exec_query('''\n",
        "  SELECT *\n",
        "  FROM products\n",
        "  WHERE (year>2016 AND year<2018)\n",
        "  OR product_type='scooter';\n",
        "''')"
      ],
      "metadata": {
        "id": "n2_SyLUjyNKm",
        "outputId": "896ebb34-492b-4115-f941-58403a2d0dca",
        "colab": {
          "base_uri": "https://localhost:8080/"
        }
      },
      "execution_count": 14,
      "outputs": [
        {
          "output_type": "stream",
          "name": "stdout",
          "text": [
            "  product_id  model                    year  product_type      base_msrp  production_start_date    production_end_date\n",
            "------------  ---------------------  ------  --------------  -----------  -----------------------  ---------------------\n",
            "           1  Lemon                    2013  scooter              399.99  2012-10-28 00:00:00      2015-02-03 00:00:00\n",
            "           2  Lemon Limited Edition    2014  scooter              799.99  2013-08-30 00:00:00      2013-11-24 00:00:00\n",
            "           3  Lemon                    2016  scooter              499.99  2015-12-27 00:00:00      2021-08-24 00:00:00\n",
            "           4  Model Chi                2017  automobile        115000     2017-02-17 00:00:00      2021-08-24 00:00:00\n",
            "           5  Blade                    2017  scooter              699.99  2017-02-17 00:00:00      2017-09-23 00:00:00\n",
            "           7  Bat                      2019  scooter              599.99  2019-06-07 00:00:00      \\N\n",
            "           8  Bat Limited Edition      2020  scooter              699.99  2019-10-13 00:00:00      \\N\n",
            "          12  Lemon Zester             2022  scooter              349.99  2021-10-01 00:00:00      \\N\n"
          ]
        }
      ]
    },
    {
      "cell_type": "markdown",
      "source": [
        "Recibirás el mismo resultado que antes. La lógica de este SQL es más fácil de entender. Descubrirás que las cláusulas AND y OR se utilizan con frecuencia en las consultas SQL. Sin embargo, en algunos escenarios, pueden resultar tediosas, especialmente cuando hay alternativas más eficientes para tales escenarios."
      ],
      "metadata": {
        "id": "z3j0rRsNyNWV"
      }
    },
    {
      "cell_type": "markdown",
      "source": [
        "## 1.4.4  La Cláusula IN/NOT IN\n",
        "Ahora que puedes escribir consultas que coincidan con múltiples condiciones, también podrías querer refinar tus criterios recuperando filas que contienen (o no contienen) uno o más valores específicos en una o más de sus columnas. Aquí es donde las cláusulas IN y NOT IN resultan útiles.\n",
        "\n",
        "Por ejemplo, estás interesado en devolver todos los modelos de los años 2014,\n",
        "2016 o 2019. Podrías escribir una consulta como esta:"
      ],
      "metadata": {
        "id": "1Yit4WGxzZYx"
      }
    },
    {
      "cell_type": "code",
      "source": [
        "sql_exec_query('''\n",
        "SELECT model, year\n",
        "FROM products\n",
        "WHERE year = 2014\n",
        "OR year = 2016\n",
        "OR year = 2019;\n",
        "''')\n"
      ],
      "metadata": {
        "id": "QN3jaS1YzZk-",
        "outputId": "8f67a78b-5e92-493a-fe45-30dfdca76934",
        "colab": {
          "base_uri": "https://localhost:8080/"
        }
      },
      "execution_count": 15,
      "outputs": [
        {
          "output_type": "stream",
          "name": "stdout",
          "text": [
            "model                    year\n",
            "---------------------  ------\n",
            "Lemon Limited Edition    2014\n",
            "Lemon                    2016\n",
            "Bat                      2019\n"
          ]
        }
      ]
    },
    {
      "cell_type": "markdown",
      "source": [
        "El resultado se verá como la siguiente imagen, mostrando tres modelos de estos tres años:\n",
        "\n",
        "Sin embargo, esto es tedioso de escribir. Usando IN, puedes escribir lo siguiente:\n",
        "\n",
        "\n",
        "\n"
      ],
      "metadata": {
        "id": "LuBZ2mMpzxs-"
      }
    },
    {
      "cell_type": "code",
      "source": [
        "sql_exec_query('''\n",
        "SELECT model, year\n",
        "FROM products\n",
        "WHERE year IN (2014, 2016, 2019);\n",
        "''')"
      ],
      "metadata": {
        "id": "gxSPeW5N0GOz",
        "outputId": "3d775136-7f07-4c22-b2f4-511da039ef62",
        "colab": {
          "base_uri": "https://localhost:8080/"
        }
      },
      "execution_count": 16,
      "outputs": [
        {
          "output_type": "stream",
          "name": "stdout",
          "text": [
            "model                    year\n",
            "---------------------  ------\n",
            "Lemon Limited Edition    2014\n",
            "Lemon                    2016\n",
            "Bat                      2019\n"
          ]
        }
      ]
    },
    {
      "cell_type": "markdown",
      "source": [
        "\n",
        "Esto es mucho más limpio y facilita la comprensión de lo que está sucediendo. También\n",
        "devolverá el mismo resultado que arriba.\n",
        "Por el contrario, también puedes usar la cláusula NOT IN para devolver todos los valores que no están en una lista de valores. Por ejemplo, si quisieras todos los productos que no fueron producidos en los años 2014, 2016 y 2019, podrías escribir lo siguiente:\n",
        "\n"
      ],
      "metadata": {
        "id": "moVvgx-20Gjr"
      }
    },
    {
      "cell_type": "code",
      "source": [
        "sql_exec_query('''\n",
        "SELECT model, year\n",
        "FROM products\n",
        "WHERE year = 2014\n",
        "OR year = 2016\n",
        "OR year = 2019;\n",
        "''')"
      ],
      "metadata": {
        "id": "ofzBzB2S0LJN",
        "outputId": "06b632d5-2614-4927-a437-12fd5d1d9b9d",
        "colab": {
          "base_uri": "https://localhost:8080/"
        }
      },
      "execution_count": 17,
      "outputs": [
        {
          "output_type": "stream",
          "name": "stdout",
          "text": [
            "model                    year\n",
            "---------------------  ------\n",
            "Lemon Limited Edition    2014\n",
            "Lemon                    2016\n",
            "Bat                      2019\n"
          ]
        }
      ]
    },
    {
      "cell_type": "markdown",
      "source": [
        "\n",
        "Ahora ves los productos que están en años diferentes a los tres mencionados en la declaración SQL.\n",
        "\n",
        "En la siguiente sección, aprenderás cómo usar la cláusula ORDER BY en tus consultas."
      ],
      "metadata": {
        "id": "gd2TyNIh0LTv"
      }
    },
    {
      "cell_type": "markdown",
      "source": [
        "## 1.4.5  Cláusula ORDER BY\n",
        "En ausencia de instrucciones específicas, las consultas SQL organizarán las filas según el orden en que las encuentre la base de datos. Aunque este comportamiento predeterminado puede ser adecuado en muchos escenarios, en ocasiones es necesario establecer un orden específico.\n",
        "Por ejemplo, si deseas visualizar todos los productos ordenados por la fecha de su primera producción, desde el más antiguo al más reciente, puedes lograrlo en SQL utilizando la cláusula ORDER BY de la siguiente forma:\n"
      ],
      "metadata": {
        "id": "NVU24ZGmzZyz"
      }
    },
    {
      "cell_type": "code",
      "source": [
        "sql_exec_query('''\n",
        "SELECT model, production_start_date\n",
        "FROM products\n",
        "ORDER BY production_start_date;\n",
        "''')\n",
        "\n",
        "# Como se muestra en la captura de pantalla a continuación,\n",
        "# los productos están ordenados por el campo production_start_date."
      ],
      "metadata": {
        "id": "Uz78sQs22lg-",
        "outputId": "23143726-eaf5-4905-e7ad-43d8e80c1988",
        "colab": {
          "base_uri": "https://localhost:8080/"
        }
      },
      "execution_count": 18,
      "outputs": [
        {
          "output_type": "stream",
          "name": "stdout",
          "text": [
            "model                  production_start_date\n",
            "---------------------  -----------------------\n",
            "Lemon                  2012-10-28 00:00:00\n",
            "Lemon Limited Edition  2013-08-30 00:00:00\n",
            "Lemon                  2015-12-27 00:00:00\n",
            "Model Chi              2017-02-17 00:00:00\n",
            "Blade                  2017-02-17 00:00:00\n",
            "Model Sigma            2017-12-10 00:00:00\n",
            "Bat                    2019-06-07 00:00:00\n",
            "Bat Limited Edition    2019-10-13 00:00:00\n",
            "Model Epsilon          2019-10-13 00:00:00\n",
            "Model Gamma            2019-10-13 00:00:00\n",
            "Model Chi              2021-10-01 00:00:00\n",
            "Lemon Zester           2021-10-01 00:00:00\n"
          ]
        }
      ]
    },
    {
      "cell_type": "markdown",
      "source": [
        "\n",
        "Figura 2.17: Sentencia SELECT con ORDER BY\n",
        "\n",
        "Si no se menciona explícitamente una secuencia de orden, las filas se devolverán en orden ascendente. Orden ascendente simplemente significa que las filas estarán ordenadas desde el valor más pequeño hasta el valor más alto de la columna o columnas elegidas. En el caso de cosas como el texto, esto significa ordenar en orden alfabético. Puedes hacer el orden ascendente explícito usando la palabra clave ASC. Para la última consulta, esto se podría lograr escribiendo lo siguiente:\n",
        "\n"
      ],
      "metadata": {
        "id": "2KY7kcph2lsZ"
      }
    },
    {
      "cell_type": "code",
      "source": [
        "sql_exec_query('''\n",
        "SELECT model\n",
        "FROM products\n",
        "ORDER BY production_start_date ASC;\n",
        "''')"
      ],
      "metadata": {
        "id": "NXcl1VUZ2l3J",
        "outputId": "f2da8280-ab01-4307-a2da-587d7c044554",
        "colab": {
          "base_uri": "https://localhost:8080/"
        }
      },
      "execution_count": 19,
      "outputs": [
        {
          "output_type": "stream",
          "name": "stdout",
          "text": [
            "model\n",
            "---------------------\n",
            "Lemon\n",
            "Lemon Limited Edition\n",
            "Lemon\n",
            "Model Chi\n",
            "Blade\n",
            "Model Sigma\n",
            "Bat\n",
            "Bat Limited Edition\n",
            "Model Epsilon\n",
            "Model Gamma\n",
            "Model Chi\n",
            "Lemon Zester\n"
          ]
        }
      ]
    },
    {
      "cell_type": "markdown",
      "source": [
        "Este SQL devolverá el mismo resultado en el mismo orden que el SQL anterior.\n",
        "\n",
        "Si quieres extraer datos en orden descendente, puedes usar la palabra clave `DESC`. Si quisieras buscar modelos fabricados ordenados de más nuevos a más antiguos, escribirías la siguiente consulta:"
      ],
      "metadata": {
        "id": "UqJXky0t4LVH"
      }
    },
    {
      "cell_type": "markdown",
      "source": [
        "El resultado estará ordenado en orden descendente de `production_start_date`, el más reciente primero.\n"
      ],
      "metadata": {
        "id": "SneVthQH2mA7"
      }
    },
    {
      "cell_type": "code",
      "source": [
        "sql_exec_query('''\n",
        "SELECT model, production_start_date\n",
        "FROM products\n",
        "ORDER BY production_start_date DESC;\n",
        "''')"
      ],
      "metadata": {
        "id": "K8FwYKgd2mL4",
        "outputId": "9953f146-2805-4457-e8b0-30b3c6518f45",
        "colab": {
          "base_uri": "https://localhost:8080/"
        }
      },
      "execution_count": 20,
      "outputs": [
        {
          "output_type": "stream",
          "name": "stdout",
          "text": [
            "model                  production_start_date\n",
            "---------------------  -----------------------\n",
            "Model Chi              2021-10-01 00:00:00\n",
            "Lemon Zester           2021-10-01 00:00:00\n",
            "Bat Limited Edition    2019-10-13 00:00:00\n",
            "Model Epsilon          2019-10-13 00:00:00\n",
            "Model Gamma            2019-10-13 00:00:00\n",
            "Bat                    2019-06-07 00:00:00\n",
            "Model Sigma            2017-12-10 00:00:00\n",
            "Model Chi              2017-02-17 00:00:00\n",
            "Blade                  2017-02-17 00:00:00\n",
            "Lemon                  2015-12-27 00:00:00\n",
            "Lemon Limited Edition  2013-08-30 00:00:00\n",
            "Lemon                  2012-10-28 00:00:00\n"
          ]
        }
      ]
    },
    {
      "cell_type": "markdown",
      "source": [
        "\n",
        "Además, en lugar de escribir el nombre de la columna por la que quieres ordenar, puedes referirte al número de posición de esa columna en la cláusula SELECT de la consulta. Por ejemplo, si quisieras devolver todos los modelos en la tabla de productos ordenados por ID de producto, podrías escribir lo siguiente:\n"
      ],
      "metadata": {
        "id": "aM26nB1N2mWC"
      }
    },
    {
      "cell_type": "code",
      "source": [
        "sql_exec_query('''\n",
        "SELECT product_id, model\n",
        "FROM products\n",
        "ORDER BY product_id;\n",
        "''')"
      ],
      "metadata": {
        "id": "UwjPv7JM5HkJ",
        "outputId": "a35a0459-d1de-4864-8bb6-214fd531e8b8",
        "colab": {
          "base_uri": "https://localhost:8080/"
        }
      },
      "execution_count": 21,
      "outputs": [
        {
          "output_type": "stream",
          "name": "stdout",
          "text": [
            "  product_id  model\n",
            "------------  ---------------------\n",
            "           1  Lemon\n",
            "           2  Lemon Limited Edition\n",
            "           3  Lemon\n",
            "           4  Model Chi\n",
            "           5  Blade\n",
            "           6  Model Sigma\n",
            "           7  Bat\n",
            "           8  Bat Limited Edition\n",
            "           9  Model Epsilon\n",
            "          10  Model Gamma\n",
            "          11  Model Chi\n",
            "          12  Lemon Zester\n"
          ]
        }
      ]
    },
    {
      "cell_type": "markdown",
      "source": [
        "Este SQL devolverá el mismo resultado que la Figura 2.19.\n",
        "\n",
        "Finalmente, puedes ordenar por múltiples columnas agregando columnas adicionales después de ORDER BY, separadas con comas. Por ejemplo, quieres ordenar todas las filas en la tabla primero por el año del modelo de más nuevo a más antiguo, y luego por el MSRP de menor a mayor. Entonces escribirías la siguiente consulta:\n"
      ],
      "metadata": {
        "id": "lO3EnYUS5Ht3"
      }
    },
    {
      "cell_type": "code",
      "source": [
        "sql_exec_query('''\n",
        "  SELECT *\n",
        "  FROM products\n",
        "  ORDER BY year DESC, base_msrp ASC;\n",
        "''')"
      ],
      "metadata": {
        "id": "UN70JBTb2_op",
        "outputId": "8a9f19f3-1df0-4e2e-bf3d-36d941efad66",
        "colab": {
          "base_uri": "https://localhost:8080/"
        }
      },
      "execution_count": 22,
      "outputs": [
        {
          "output_type": "stream",
          "name": "stdout",
          "text": [
            "  product_id  model                    year  product_type      base_msrp  production_start_date    production_end_date\n",
            "------------  ---------------------  ------  --------------  -----------  -----------------------  ---------------------\n",
            "          12  Lemon Zester             2022  scooter              349.99  2021-10-01 00:00:00      \\N\n",
            "          11  Model Chi                2022  automobile         95000     2021-10-01 00:00:00      \\N\n",
            "           8  Bat Limited Edition      2020  scooter              699.99  2019-10-13 00:00:00      \\N\n",
            "           9  Model Epsilon            2020  automobile         35000     2019-10-13 00:00:00      \\N\n",
            "          10  Model Gamma              2020  automobile         85750     2019-10-13 00:00:00      \\N\n",
            "           7  Bat                      2019  scooter              599.99  2019-06-07 00:00:00      \\N\n",
            "           6  Model Sigma              2018  automobile         65500     2017-12-10 00:00:00      2021-05-28 00:00:00\n",
            "           5  Blade                    2017  scooter              699.99  2017-02-17 00:00:00      2017-09-23 00:00:00\n",
            "           4  Model Chi                2017  automobile        115000     2017-02-17 00:00:00      2021-08-24 00:00:00\n",
            "           3  Lemon                    2016  scooter              499.99  2015-12-27 00:00:00      2021-08-24 00:00:00\n",
            "           2  Lemon Limited Edition    2014  scooter              799.99  2013-08-30 00:00:00      2013-11-24 00:00:00\n",
            "           1  Lemon                    2013  scooter              399.99  2012-10-28 00:00:00      2015-02-03 00:00:00\n"
          ]
        }
      ]
    },
    {
      "cell_type": "markdown",
      "source": [
        "\n",
        "Lo siguiente es la salida del código anterior:\n",
        "Figura 2.20: Ordenando múltiples columnas usando ORDER BY\n",
        "En la siguiente sección, aprenderás sobre la palabra clave LIMIT en SQL."
      ],
      "metadata": {
        "id": "uueX-R3T3BBO"
      }
    },
    {
      "cell_type": "markdown",
      "source": [
        "## 1.4.6  La Cláusula LIMIT\n",
        "La mayoría de las tablas en las bases de datos SQL tienden a ser considerablemente grandes, por lo que devolver cada fila individualmente resulta innecesario. En ocasiones, es posible que solo estés interesado en las primeras filas. Para manejar esta situación, entra en juego la palabra clave LIMIT. Supongamos que solo deseas obtener los modelos de los primeros cinco productos que la compañía produjo. Podrías lograrlo utilizando la siguiente consulta:\n",
        "\n"
      ],
      "metadata": {
        "id": "MfPGUbt56YSV"
      }
    },
    {
      "cell_type": "code",
      "source": [
        "sql_exec_query('''\n",
        "SELECT model\n",
        "FROM products\n",
        "ORDER BY production_start_date\n",
        "LIMIT 5;\n",
        "''')"
      ],
      "metadata": {
        "id": "o4EcyGg46Ym7",
        "outputId": "211d022a-b97a-4616-ff74-1e02f21abeee",
        "colab": {
          "base_uri": "https://localhost:8080/"
        }
      },
      "execution_count": 23,
      "outputs": [
        {
          "output_type": "stream",
          "name": "stdout",
          "text": [
            "model\n",
            "---------------------\n",
            "Lemon\n",
            "Lemon Limited Edition\n",
            "Lemon\n",
            "Model Chi\n",
            "Blade\n"
          ]
        }
      ]
    },
    {
      "cell_type": "markdown",
      "source": [
        "Cuando no estás familiarizado con una tabla o consulta, es una preocupación común que al ejecutar una sentencia SELECT accidentalmente se devuelvan muchas filas, lo que puede consumir mucho tiempo y ancho de banda de la máquina. Como precaución habitual, deberías usar la palabra clave LIMIT para recuperar solo un pequeño número de filas cuando ejecutes la consulta por primera vez."
      ],
      "metadata": {
        "id": "2eIOcXaQ6Yxo"
      }
    },
    {
      "cell_type": "markdown",
      "source": [
        "## 1.4.7  Cláusula IS NULL/IS NOT NULL\n",
        "Frecuentemente, algunas entradas en una columna pueden estar ausentes debido a diversas razones. Quizás los datos no fueron recopilados o no estaban disponibles en el momento de la recopilación. Esta falta de un valor puede reflejar un estado particular en la fila y proporcionar información valiosa.\n",
        "\n",
        "Independientemente de la causa, a menudo surge el interés por identificar las filas donde los datos no están completos para un valor específico.\n",
        "- En SQL, los valores en blanco a menudo se representan mediante el término NULL.\n",
        "\n",
        "Por ejemplo, en la tabla de productos, cuando la columna \"production_end_date\" tiene un valor NULL, esto indica que el producto aún está en proceso de fabricación. En esta situación, para listar todos los productos que todavía están siendo fabricados, puedes emplear la siguiente consulta:"
      ],
      "metadata": {
        "id": "t6HBdV-66ZH3"
      }
    },
    {
      "cell_type": "code",
      "source": [
        "sql_exec_query('''\n",
        "SELECT *\n",
        "FROM products\n",
        "WHERE production_end_date IS NULL;\n",
        "''')"
      ],
      "metadata": {
        "id": "NyqmFrOn7cEJ",
        "outputId": "c8016224-113c-404a-9e26-0ef9530515ae",
        "colab": {
          "base_uri": "https://localhost:8080/"
        }
      },
      "execution_count": 24,
      "outputs": [
        {
          "output_type": "stream",
          "name": "stdout",
          "text": [
            "product_id    model    year    product_type    base_msrp    production_start_date    production_end_date\n",
            "------------  -------  ------  --------------  -----------  -----------------------  ---------------------\n"
          ]
        }
      ]
    },
    {
      "cell_type": "markdown",
      "source": [
        "Lo siguiente es el resultado de la consulta:\n",
        "Figura 2.22: Productos con production_end_date NULL\n",
        "Si solo te interesan los productos que ya no se están fabricando, puedes usar la cláusula IS NOT NULL, como se muestra en la siguiente consulta:\n",
        "Lo siguiente es el resultado del código:\n",
        "\n"
      ],
      "metadata": {
        "id": "gqgCyA6_7cPc"
      }
    },
    {
      "cell_type": "code",
      "source": [
        "sql_exec_query('''\n",
        "SELECT *\n",
        "FROM products\n",
        "WHERE production_end_date IS NOT NULL;\n",
        "''')"
      ],
      "metadata": {
        "id": "VME4S5SC7cZH",
        "outputId": "30019e0e-6e51-45e4-9c28-a4ca0f15ce4a",
        "colab": {
          "base_uri": "https://localhost:8080/"
        }
      },
      "execution_count": 25,
      "outputs": [
        {
          "output_type": "stream",
          "name": "stdout",
          "text": [
            "  product_id  model                    year  product_type      base_msrp  production_start_date    production_end_date\n",
            "------------  ---------------------  ------  --------------  -----------  -----------------------  ---------------------\n",
            "           1  Lemon                    2013  scooter              399.99  2012-10-28 00:00:00      2015-02-03 00:00:00\n",
            "           2  Lemon Limited Edition    2014  scooter              799.99  2013-08-30 00:00:00      2013-11-24 00:00:00\n",
            "           3  Lemon                    2016  scooter              499.99  2015-12-27 00:00:00      2021-08-24 00:00:00\n",
            "           4  Model Chi                2017  automobile        115000     2017-02-17 00:00:00      2021-08-24 00:00:00\n",
            "           5  Blade                    2017  scooter              699.99  2017-02-17 00:00:00      2017-09-23 00:00:00\n",
            "           6  Model Sigma              2018  automobile         65500     2017-12-10 00:00:00      2021-05-28 00:00:00\n",
            "           7  Bat                      2019  scooter              599.99  2019-06-07 00:00:00      \\N\n",
            "           8  Bat Limited Edition      2020  scooter              699.99  2019-10-13 00:00:00      \\N\n",
            "           9  Model Epsilon            2020  automobile         35000     2019-10-13 00:00:00      \\N\n",
            "          10  Model Gamma              2020  automobile         85750     2019-10-13 00:00:00      \\N\n",
            "          11  Model Chi                2022  automobile         95000     2021-10-01 00:00:00      \\N\n",
            "          12  Lemon Zester             2022  scooter              349.99  2021-10-01 00:00:00      \\N\n"
          ]
        }
      ]
    },
    {
      "cell_type": "markdown",
      "source": [
        "\n",
        "Figura 2.23: Productos con production_end_date no NULL\n",
        "  \n",
        "Ahora aprenderás cómo usar estas nuevas palabras clave en el ejercicio siguiente."
      ],
      "metadata": {
        "id": "lQWwmlhk7cjN"
      }
    },
    {
      "cell_type": "markdown",
      "source": [
        "## Ejercicio 2.02: Consultando la tabla de vendedores usando palabras clave básicas en una consulta SELECT\n",
        "\n",
        "Instrucciones\n",
        "\n",
        "En este ejercicio, crearás varias consultas utilizando palabras clave básicas en una consulta `SELECT`.\n",
        "\n",
        "Imagina que después de unos días en tu nuevo trabajo, finalmente obtienes acceso a la base de datos de la empresa. Tu jefe te ha pedido que ayudes a un gerente de ventas que no está muy familiarizado con SQL. El gerente de ventas necesita obtener diferentes listas de vendedores.\n",
        "\n",
        "1. Generar una lista de los primeros 10 vendedores contratados por el concesionario 17, es decir, los vendedores con la fecha de contratación más antigua, ordenados por fecha de contratación, empezando por los más antiguos.\n",
        "2. Obtener a todos los vendedores contratados en 2021 y 2022, que no han sido dados de baja. Esto implica que la fecha de contratación debe ser posterior al 01-01-2021 y la fecha de terminación debe ser NULL. Ordenar los resultados por fecha de contratación, comenzando por los más recientes.\n",
        "3. Ayudar al gerente a encontrar un vendedor contratado en 2021, recordando que su primer nombre comienza con \"Nic\".\n",
        "\n",
        "Utilizarás tus habilidades en SQL para ayudar al gerente a lograr estos objetivos."
      ],
      "metadata": {
        "id": "ekIKH1ib8PQJ"
      }
    },
    {
      "cell_type": "markdown",
      "source": [
        "Realiza los siguientes pasos para completar el ejercicio:\n",
        "\n",
        "1. Examina el esquema de la tabla de vendedores desde la lista desplegable de esquemas. Familiarízate con los nombres de las columnas en la siguiente figura.\n",
        "\n",
        "\n",
        "\n",
        "\n"
      ],
      "metadata": {
        "id": "KI2AWLtC8wA3"
      }
    },
    {
      "cell_type": "code",
      "source": [
        "sql_exec_query('''\n",
        "PRAGMA table_info(salespeople);\n",
        "''')"
      ],
      "metadata": {
        "id": "vgxcidxs8_ek",
        "outputId": "af586525-123f-40a1-988c-d9d66ba5f875",
        "colab": {
          "base_uri": "https://localhost:8080/"
        }
      },
      "execution_count": 26,
      "outputs": [
        {
          "output_type": "stream",
          "name": "stdout",
          "text": [
            "  cid  name              type        notnull  dflt_value      pk\n",
            "-----  ----------------  --------  ---------  ------------  ----\n",
            "    0  salesperson_id    INTEGER           0                   1\n",
            "    1  dealership_id     INTEGER           0                   0\n",
            "    2  title             TEXT              0                   0\n",
            "    3  first_name        TEXT              0                   0\n",
            "    4  last_name         TEXT              0                   0\n",
            "    5  suffix            TEXT              0                   0\n",
            "    6  username          TEXT              0                   0\n",
            "    7  gender            TEXT              0                   0\n",
            "    8  hire_date         DATETIME          0                   0\n",
            "    9  termination_date  DATETIME          0                   0\n"
          ]
        }
      ]
    },
    {
      "cell_type": "markdown",
      "source": [
        "2. Ejecuta la siguiente consulta para obtener los nombres de usuario de los vendedores del concesionario con ID 17, ordenados por sus valores de fecha de contratación, y luego establece LIMIT en 10:"
      ],
      "metadata": {
        "id": "dv71XvF-99oa"
      }
    },
    {
      "cell_type": "code",
      "source": [
        "sql_exec_query('''\n",
        "SELECT *\n",
        "FROM salespeople\n",
        "WHERE dealership_id = 17\n",
        "ORDER BY hire_date\n",
        "LIMIT 10;\n",
        "''')"
      ],
      "metadata": {
        "id": "bNdUTqEN991e",
        "outputId": "ccf6cd8c-6139-4b95-f6fd-60218a424705",
        "colab": {
          "base_uri": "https://localhost:8080/"
        }
      },
      "execution_count": 27,
      "outputs": [
        {
          "output_type": "stream",
          "name": "stdout",
          "text": [
            "  salesperson_id    dealership_id  title    first_name    last_name    suffix    username        gender    hire_date            termination_date\n",
            "----------------  ---------------  -------  ------------  -----------  --------  --------------  --------  -------------------  ------------------\n",
            "              52               17           Bobbi         McKeon                 bmckeon1f       Female    2017-12-08 00:00:00\n",
            "              88               17           Eldin         Addenbrooke            eaddenbrooke2f  Male      2018-03-03 00:00:00\n",
            "             189               17           Abby          Drewery                adrewery58      Male      2018-04-28 00:00:00\n",
            "             249               17           Tristan       Ainge                  tainge6w        Male      2018-08-11 00:00:00\n",
            "             187               17           Tyson         Kerford                tkerford56      Male      2018-12-23 00:00:00\n",
            "              86               17           Willie        Gullen                 wgullen2d       Male      2019-03-13 00:00:00\n",
            "               3               17           Ethyl         Sloss        IV        esloss2         Female    2019-04-07 00:00:00\n",
            "             150               17           Jermaine      Bamell                 jbamell45       Female    2019-11-14 00:00:00\n",
            "               1               17           Electra       Elleyne                eelleyne0       Female    2020-01-26 00:00:00\n",
            "              84               17  Ms       Klemens       Schneidau    II        kschneidau2b    Male      2020-01-27 00:00:00\n"
          ]
        }
      ]
    },
    {
      "cell_type": "markdown",
      "source": [
        "Ahora tienes la lista de los primeros 10 vendedores contratados por el concesionario 17, es decir, los vendedores con la fecha de contratación más antigua, ordenados por fecha de contratación, empezando por los más antiguos."
      ],
      "metadata": {
        "id": "jNBWJvkK-W_Y"
      }
    },
    {
      "cell_type": "markdown",
      "source": [
        "3. Ahora, para encontrar a todos los vendedores que fueron contratados en 2021 y 2022 pero que no han sido despedidos, es decir, la fecha de contratación debe ser posterior al 2021-01-01 y la fecha de terminación es nula, ordenados por fecha de contratación, comenzando por los más recientes:\n",
        "\n"
      ],
      "metadata": {
        "id": "jVfbpeML-guM"
      }
    },
    {
      "cell_type": "code",
      "source": [
        "sql_exec_query('''\n",
        "SELECT *\n",
        "FROM salespeople\n",
        "WHERE hire_date >= '2021-01-01 00:00:00'\n",
        "AND termination_date is null\n",
        "ORDER BY hire_date DESC;\n",
        "''')"
      ],
      "metadata": {
        "id": "1arnDHiF-l8H",
        "outputId": "05bad4f1-a1ed-4faf-ddfe-2be8871c300e",
        "colab": {
          "base_uri": "https://localhost:8080/"
        }
      },
      "execution_count": 28,
      "outputs": [
        {
          "output_type": "stream",
          "name": "stdout",
          "text": [
            "  salesperson_id    dealership_id  title    first_name    last_name     suffix    username        gender    hire_date            termination_date\n",
            "----------------  ---------------  -------  ------------  ------------  --------  --------------  --------  -------------------  ------------------\n",
            "             226               20           Moll          Kardos-Stowe            mkardosstowe69  Female    2021-10-20 00:00:00\n",
            "              72               13           Neron         Hamly                   nhamly1z        Male      2021-10-17 00:00:00\n",
            "             163                1           Lyda          Prine                   lprine4i        Female    2021-10-15 00:00:00\n",
            "             254                2           Pincus        Cowp                    pcowp71         Male      2021-10-13 00:00:00\n",
            "              39                1           Massimiliano  McSpirron               mmcspirron12    Male      2021-10-09 00:00:00\n",
            "             259               11           Demetris      Gable                   dgable76        Male      2021-10-08 00:00:00\n",
            "             243               17           Shandie       Allderidge              sallderidge6q   Female    2021-09-30 00:00:00\n",
            "              92                1  Rev      Sandye        Duny                    sduny2j         Female    2021-08-30 00:00:00\n",
            "               2                6           Montague      Alcoran                 malcoran1       Male      2021-08-27 00:00:00\n",
            "              76               16           Pablo         Fleming                 pfleming23      Male      2021-08-26 00:00:00\n",
            "             247                6           Kahlil        Senior                  ksenior6u       Male      2021-08-23 00:00:00\n",
            "             117                9           Gisela        Spurling                gspurling38     Female    2021-08-21 00:00:00\n",
            "              71                2           Georgianna    Bastian                 gbastian1y      Female    2021-08-19 00:00:00\n",
            "              91                7           Napoleon      Heak                    nheak2i         Male      2021-08-18 00:00:00\n",
            "              89               14           Letizia       Dober                   ldober2g        Female    2021-08-16 00:00:00\n",
            "             166               14           Micah         Spalls                  mspalls4l       Male      2021-08-13 00:00:00\n",
            "             228               17           Blakeley      Blaxill                 bblaxill6b      Female    2021-08-13 00:00:00\n",
            "             285               20           Rog           Wardall                 rwardall7w      Male      2021-08-07 00:00:00\n",
            "             122               16           Judie         Lages                   jlages3d        Female    2021-07-16 00:00:00\n",
            "             205                9           Wilma         Millson                 wmillson5o      Female    2021-07-11 00:00:00\n",
            "             132               10           Nikolai       Lomasney                nlomasney3n     Male      2021-07-07 00:00:00\n",
            "              35               17           Agnella       Linke                   alinkey         Female    2021-06-19 00:00:00\n",
            "             258                1           Dorie         Dosedale                ddosedale75     Male      2021-06-11 00:00:00\n",
            "             138               10           Cathy         Rulf                    crulf3t         Female    2021-06-04 00:00:00\n",
            "             162                1           Cristine      Gibbens                 cgibbens4h      Female    2021-06-03 00:00:00\n",
            "             103                7           Pacorro       Howroyd                 phowroyd2u      Male      2021-05-30 00:00:00\n",
            "             276               15           Corrine       Redmire                 credmire7n      Female    2021-05-30 00:00:00\n",
            "              23                2           Beauregard    Peschke                 bpeschkem       Male      2021-05-09 00:00:00\n",
            "             158               18           Collie        Donaway                 cdonaway4d      Female    2021-05-08 00:00:00\n",
            "             172                3           Bink          Kemet                   bkemet4r        Male      2021-05-05 00:00:00\n",
            "             130               15           Atlante       De Bernardis            adebernardis3l  Female    2021-04-27 00:00:00\n",
            "              40               17           Bertrando     Slay                    bslay13         Male      2021-04-16 00:00:00\n",
            "             213               12           Kimberlyn     Dayce                   kdayce5w        Female    2021-04-03 00:00:00\n",
            "             194               17           Gillie        Constance               gconstance5d    Female    2021-04-02 00:00:00\n",
            "             170                1           Giselbert     Schule                  gschule4p       Male      2021-03-28 00:00:00\n",
            "             283               13           Thor          Sigmund                 tsigmund7u      Male      2021-03-27 00:00:00\n",
            "              82               17           Giulietta     Schulke                 gschulke29      Female    2021-03-21 00:00:00\n",
            "             279               19           Nicholle      Lisciandri              nlisciandri7q   Female    2021-03-10 00:00:00\n",
            "             183                1           Eleen         McAndie                 emcandie52      Female    2021-03-04 00:00:00\n",
            "             234                7           Christin      Wannes                  cwannes6h       Female    2021-03-01 00:00:00\n",
            "             230               18           Carmine       Garrow                  cgarrow6d       Male      2021-02-28 00:00:00\n",
            "              29               17           Elsi          Hamer                   ehamers         Female    2021-02-25 00:00:00\n",
            "             192                6           Hope          Kidstoun                hkidstoun5b     Female    2021-02-23 00:00:00\n",
            "             286               18           Katherina     Sambell                 ksambell7x      Female    2021-02-20 00:00:00\n",
            "              51                5           Lanette       Gerriessen              lgerriessen1e   Female    2021-02-18 00:00:00\n",
            "              95               18           Krissie       Wollacott               kwollacott2m    Female    2021-02-18 00:00:00\n",
            "              73                3           Ives          Dooler                  idooler20       Male      2021-02-14 00:00:00\n",
            "             262               13           Crissy        Robertazzi              crobertazzi79   Female    2021-02-11 00:00:00\n",
            "             204               19           Sheppard      Oleksinski              soleksinski5n   Male      2021-02-07 00:00:00\n",
            "              69               15           Clifford      Stoaks                  cstoaks1w       Male      2021-02-05 00:00:00\n",
            "              96                7           Nonnah        Ahrens                  nahrens2n       Female    2021-01-20 00:00:00\n",
            "               5               17           Cornall       Swanger                 cswanger4       Male      2021-01-11 00:00:00\n",
            "               9               14           Lamar         Treleven                ltreleven8      Male      2021-01-02 00:00:00\n",
            "             244               17           Clevey        Sainer                  csainer6r       Male      2021-01-02 00:00:00\n"
          ]
        }
      ]
    },
    {
      "cell_type": "markdown",
      "source": [
        "Se devuelven 54 filas de esta consulta SQL. A continuación, se muestran las primeras filas de la salida:"
      ],
      "metadata": {
        "id": "4yyqO65_-mGn"
      }
    },
    {
      "cell_type": "markdown",
      "source": [
        "Aquí tienes la traducción al español de tu solicitud:\n",
        "\n",
        "Ahora, encuentra un vendedor que fue contratado en 2021 y cuyo primer nombre comienza con Nic.\n"
      ],
      "metadata": {
        "id": "qKIRAzgnDdEc"
      }
    },
    {
      "cell_type": "code",
      "source": [
        "sql_exec_query('''\n",
        "SELECT *\n",
        "FROM salespeople\n",
        "WHERE first_name LIKE 'Nic%'\n",
        "AND hire_date >= '2021-01-01'\n",
        "AND hire_date <= '2021-12-31';\n",
        "''')"
      ],
      "metadata": {
        "id": "9Wd1FPcvDfbJ",
        "outputId": "a0e49329-7a01-44d6-945d-7f3a0e5c710f",
        "colab": {
          "base_uri": "https://localhost:8080/"
        }
      },
      "execution_count": 29,
      "outputs": [
        {
          "output_type": "stream",
          "name": "stdout",
          "text": [
            "  salesperson_id    dealership_id  title    first_name    last_name    suffix    username       gender    hire_date            termination_date\n",
            "----------------  ---------------  -------  ------------  -----------  --------  -------------  --------  -------------------  ------------------\n",
            "             279               19           Nicholle      Lisciandri             nlisciandri7q  Female    2021-03-10 00:00:00\n"
          ]
        }
      ]
    },
    {
      "cell_type": "markdown",
      "source": [
        "En este ejercicio, utilizaste varias palabras clave básicas en una consulta SELECT para ayudar al gerente de ventas a obtener una lista de vendedores que necesitaba."
      ],
      "metadata": {
        "id": "gZKxmdenDiZh"
      }
    },
    {
      "cell_type": "markdown",
      "source": [
        "## Actividad 2.01: Consultando la tabla de clientes usando palabras clave básicas en una consulta SELECT\n",
        "El departamento de marketing ha decidido que quieren llevar a cabo una serie de campañas de marketing para promover una venta. Para hacerlo, necesitan los registros de comunicación por correo electrónico de los clientes de ZoomZoom en el estado de Florida, y los detalles de todos los clientes en la ciudad de Nueva York. También necesitan los números de teléfono de los clientes con órdenes específicas. Los siguientes son los pasos para completar la actividad:\n",
        "1. Conéctate a la base de datos SQLDA.\n",
        "2. Examina el esquema de la tabla de `customers` desde la lista desplegable del esquema. Familiarízate con las columnas de esta tabla.\n",
        "3. Escribe una consulta que recupere todos los correos electrónicos de los clientes de ZoomZoom en el estado de Florida en orden alfabético.\n",
        "4. Escribe una consulta que obtenga todos los nombres, apellidos y correos electrónicos de los clientes de ZoomZoom en la ciudad de Nueva York, en el estado de Nueva York. Deben ser ordenados alfabéticamente, con el apellido seguido del nombre.\n",
        "5. Escribe una consulta que devuelva todos los clientes con un número de teléfono ordenados por la fecha en que el cliente fue agregado a la base de datos."
      ],
      "metadata": {
        "id": "A-lp_YO3D7cF"
      }
    },
    {
      "cell_type": "markdown",
      "source": [
        "Solucion\n",
        "\n",
        "1. Examina el esquema de la tabla de clientes desde la lista desplegable del esquema.\n",
        "\n"
      ],
      "metadata": {
        "id": "8xgfB0uZE3Yu"
      }
    },
    {
      "cell_type": "code",
      "source": [
        "sql_exec_query('''\n",
        "PRAGMA table_info(customers);\n",
        "''')"
      ],
      "metadata": {
        "id": "aV6N3YZRF1oO",
        "outputId": "a3a8403b-3a4c-4f11-ad77-f2d5b5b08929",
        "colab": {
          "base_uri": "https://localhost:8080/"
        }
      },
      "execution_count": 30,
      "outputs": [
        {
          "output_type": "stream",
          "name": "stdout",
          "text": [
            "  cid  name            type        notnull  dflt_value      pk\n",
            "-----  --------------  --------  ---------  ------------  ----\n",
            "    0  customer_id     INTEGER           0                   0\n",
            "    1  title           TEXT              0                   0\n",
            "    2  first_name      TEXT              0                   0\n",
            "    3  last_name       TEXT              0                   0\n",
            "    4  suffix          TEXT              0                   0\n",
            "    5  email           TEXT              0                   0\n",
            "    6  gender          TEXT              0                   0\n",
            "    7  ip_address      TEXT              0                   0\n",
            "    8  phone           TEXT              0                   0\n",
            "    9  street_address  TEXT              0                   0\n",
            "   10  city            TEXT              0                   0\n",
            "   11  state           TEXT              0                   0\n",
            "   12  postal_code     TEXT              0                   0\n",
            "   13  latitude        REAL              0                   0\n",
            "   14  longitude       REAL              0                   0\n",
            "   15  date_added      DATETIME          0                   0\n"
          ]
        }
      ]
    },
    {
      "cell_type": "markdown",
      "source": [
        "3. Ejecuta la siguiente consulta para obtener los correos electrónicos de los clientes en el estado de Florida en orden alfabético:"
      ],
      "metadata": {
        "id": "OfbI4e1nF1xk"
      }
    },
    {
      "cell_type": "code",
      "source": [
        "sql_exec_query('''\n",
        "SELECT email\n",
        "FROM customers\n",
        "WHERE state='FL'\n",
        "ORDER BY email;\n",
        "''')"
      ],
      "metadata": {
        "id": "abEL_kWSFG5-",
        "colab": {
          "base_uri": "https://localhost:8080/"
        },
        "outputId": "3e209adb-0196-46ea-8084-264f9f47fa12"
      },
      "execution_count": 31,
      "outputs": [
        {
          "output_type": "stream",
          "name": "stdout",
          "text": [
            "email\n",
            "---------------------------------------\n",
            "aachrameevu44@goo.gl\n",
            "aambresinlnt@walmart.com\n",
            "aanstiss12af@eepurl.com\n",
            "aantonove9l@last.fm\n",
            "aarnaudet1v3@cisco.com\n",
            "aarsmithxoe@dion.ne.jp\n",
            "aastle11rg@slate.com\n",
            "aaxelbey77x@cocolog-nifty.com\n",
            "aazemary2f@washingtonpost.com\n",
            "ababarm8m@ow.ly\n",
            "abarkessi6f@wikimedia.org\n",
            "abarnardocta@census.gov\n",
            "abatistey2z@lycos.com\n",
            "abaukham96k@squarespace.com\n",
            "abeeckb4l@imgur.com\n",
            "abeernaert11sf@nytimes.com\n",
            "abeezefeh@uol.com.br\n",
            "aberthomei22@studiopress.com\n",
            "abezley126e@t.co\n",
            "abiertonz36@uol.com.br\n",
            "ablatherwickqwg@goo.gl\n",
            "ablazalgj@hhs.gov\n",
            "abohanpza@ezinearticles.com\n",
            "abolderoad2@reference.com\n",
            "abosselyil@illinois.edu\n",
            "abratchf8r@webs.com\n",
            "abrisem4r@yellowpages.com\n",
            "abrundalluyj@arizona.edu\n",
            "abuddlesy0u@google.it\n",
            "abuscher6hl@sourceforge.net\n",
            "abutenus@ted.com\n",
            "abyforthov9@arizona.edu\n",
            "acapun124p@discuz.net\n",
            "acardon7v6@google.co.jp\n",
            "acarolana4a@webs.com\n",
            "acarrabotlm7@fc2.com\n",
            "acastanyerpcv@yelp.com\n",
            "achat10kw@ucla.edu\n",
            "achaudrellefa4@posterous.com\n",
            "achilcott12a3@imageshack.us\n",
            "achoke48r@typepad.com\n",
            "achristerekw@cmu.edu\n",
            "aclarkewilliamsamu@parallels.com\n",
            "aclaydene9t@live.com\n",
            "acleevelyiq2@fotki.com\n",
            "aclemmensenbdp@nps.gov\n",
            "acleverlyzas@live.com\n",
            "acoffinc3@businessinsider.com\n",
            "acollerany9@a8.net\n",
            "acorballiss5o@over-blog.com\n",
            "acoreyaux@constantcontact.com\n",
            "acorlesse1g@census.gov\n",
            "acouchmanbqd@people.com.cn\n",
            "acrutchleyplz@eventbrite.com\n",
            "acutmere10gw@bloglines.com\n",
            "adamrellcew@uiuc.edu\n",
            "adanaher89i@a8.net\n",
            "adannellm30@tripod.com\n",
            "adelmonti10pm@skype.com\n",
            "ademkowicz4jx@paginegialle.it\n",
            "adenslow129n@taobao.com\n",
            "adiddamsd5m@php.net\n",
            "adighthamoe8@tuttocitta.it\n",
            "adignankr2@admin.ch\n",
            "adingate3nf@digg.com\n",
            "adobely2h@newsvine.com\n",
            "adockerxok@cdc.gov\n",
            "adodgeuzs@edublogs.org\n",
            "adorbon1xb@rakuten.co.jp\n",
            "adoughteryyv8@omniture.com\n",
            "adreesw8e@linkedin.com\n",
            "adrescher5hw@hexun.com\n",
            "adrews1273@nasa.gov\n",
            "adudlistontif@chicagotribune.com\n",
            "adulwichwij@phoca.cz\n",
            "adunbobin10gr@purevolume.com\n",
            "adunstonhph@vimeo.com\n",
            "adurrellvbx@de.vu\n",
            "adustingzh7@blog.com\n",
            "aeastopavv@dedecms.com\n",
            "aeglingtonyqx@oaic.gov.au\n",
            "aelmorewun@webs.com\n",
            "aenockssonc73@latimes.com\n",
            "aesparzaaeh@nps.gov\n",
            "aespinas4fh@desdev.cn\n",
            "aethertonx9n@telegraph.co.uk\n",
            "aeverett1296@amazon.co.uk\n",
            "aexcell89o@skyrock.com\n",
            "afaldoedp9@bloglovin.com\n",
            "afawcettg86@psu.edu\n",
            "afeirnfvw@yale.edu\n",
            "aferberccd@indiatimes.com\n",
            "aferraraccioxk8@istockphoto.com\n",
            "aferrasgv0@ow.ly\n",
            "aferrigertq@mozilla.org\n",
            "afewfvj@hc360.com\n",
            "afice1208@naver.com\n",
            "afiggureslva@addtoany.com\n",
            "afilderyiv@businessweek.com\n",
            "afissendenbl9@aol.com\n",
            "afonteynealn@merriam-webster.com\n",
            "afoster5db@drupal.org\n",
            "afoyesw6@google.it\n",
            "afrewertv8@newyorker.com\n",
            "afuchsn6c@flickr.com\n",
            "agammidge9l3@list-manage.com\n",
            "agarrief05@cpanel.net\n",
            "agayneh81@globo.com\n",
            "agilcriests0b@nhs.uk\n",
            "agillis3bo@meetup.com\n",
            "agironen3@hibu.com\n",
            "aglitheroww6a@state.gov\n",
            "agohierc8z@twitter.com\n",
            "agomersalayq@unicef.org\n",
            "agoodnowva8@tmall.com\n",
            "agowdie4ah@wikia.com\n",
            "agreatreax2bh@craigslist.org\n",
            "agreenhalgh52f@pcworld.com\n",
            "agreenlyz4z@over-blog.com\n",
            "agreenroddske@shareasale.com\n",
            "agreevesonqwd@xinhuanet.com\n",
            "agrendonby3@merriam-webster.com\n",
            "agriffinnkx@lycos.com\n",
            "agummaryvo3@prlog.org\n",
            "agurrado9cv@nbcnews.com\n",
            "ahackworthfo6@ox.ac.uk\n",
            "ahakeworthu9n@addtoany.com\n",
            "ahanfrey4q@icq.com\n",
            "ahansie9uu@bizjournals.com\n",
            "ahardypigginah1@google.cn\n",
            "aharnott12ck@usa.gov\n",
            "ahawardczj@patch.com\n",
            "ahaycox5l5@desdev.cn\n",
            "ahazeldineore@wikimedia.org\n",
            "aheaviside8g3@soup.io\n",
            "aheinrichpb8@shinystat.com\n",
            "aholywellp1@nhs.uk\n",
            "ahusselbeevpn@nyu.edu\n",
            "aiddisonc5w@jugem.jp\n",
            "aifech0@noaa.gov\n",
            "aingryzya@google.co.jp\n",
            "ainkster6xh@zimbio.com\n",
            "aissacmra@jimdo.com\n",
            "aizatsonucq@delicious.com\n",
            "ajelkszvl@sciencedirect.com\n",
            "ajenneybzl@ebay.co.uk\n",
            "ajerrimdek@sakura.ne.jp\n",
            "ajoslowwko@hhs.gov\n",
            "ajovanovicl36@mapquest.com\n",
            "akeelan8d4@smh.com.au\n",
            "akemmish10w0@liveinternet.ru\n",
            "akennewayu10@sina.com.cn\n",
            "akeyme72g@ucoz.com\n",
            "akopkeb3p@devhub.com\n",
            "akubalk7b@google.com.au\n",
            "akummerlowe5h3@nps.gov\n",
            "akynsont04@artisteer.com\n",
            "alafayc5o@alibaba.com\n",
            "alallyxn5@techcrunch.com\n",
            "alangmantlo@forbes.com\n",
            "alauks247@home.pl\n",
            "alavisvg8@usnews.com\n",
            "alaweyjx5@mtv.com\n",
            "aleatheswz2@upenn.edu\n",
            "alegierxwc@accuweather.com\n",
            "alemoirdfq@ovh.net\n",
            "aleng117w@aol.com\n",
            "aleonidaig5@usatoday.com\n",
            "alevin7a@cafepress.com\n",
            "aligoecaq@linkedin.com\n",
            "alittlepageeb4@springer.com\n",
            "aloinesg6i@japanpost.jp\n",
            "alomathe1q@people.com.cn\n",
            "aloreitizf@google.com.au\n",
            "aloudep11@virginia.edu\n",
            "aludronu67@arstechnica.com\n",
            "alumhi9@elegantthemes.com\n",
            "amabon12kk@joomla.org\n",
            "amacanultyfk8@huffingtonpost.com\n",
            "amaccallumzaf@tuttocitta.it\n",
            "amackaintwz@slideshare.net\n",
            "amacnally750@abc.net.au\n",
            "amadlenpf@nature.com\n",
            "amaliphantwe3@zimbio.com\n",
            "amantripps1r@statcounter.com\n",
            "amarkeyla0@amazonaws.com\n",
            "amarklewbnd@npr.org\n",
            "amathiassenkxh@skype.com\n",
            "amattaser5on@clickbank.net\n",
            "amattimoebvm@wordpress.com\n",
            "amatyasikdou@free.fr\n",
            "amaxtedpco@wikipedia.org\n",
            "amccomiskieldo@answers.com\n",
            "amccritchiemsd@wired.com\n",
            "amcgarrityca0@amazon.co.uk\n",
            "amcian7l8@ocn.ne.jp\n",
            "amcilmurrayd5f@yandex.ru\n",
            "amclorinanz6i@hexun.com\n",
            "amcmackincsu@a8.net\n",
            "amcphelim98g@soundcloud.com\n",
            "amealiffesqg@seattletimes.com\n",
            "amedlinrgk@jigsy.com\n",
            "amerredyl1q@phoca.cz\n",
            "amessiterjk6@constantcontact.com\n",
            "amidlane3wc@bing.com\n",
            "aminithorpe1ws@china.com.cn\n",
            "amoffattlaq@yahoo.co.jp\n",
            "amoorcroftuz@de.vu\n",
            "amuddicliffep0l@ning.com\n",
            "amulcaster11li@apache.org\n",
            "amundow4tl@qq.com\n",
            "anapieren0@imdb.com\n",
            "anetherwoodr2e@odnoklassniki.ru\n",
            "anicholt7q@marriott.com\n",
            "anorwayt1g@google.co.jp\n",
            "another22g@wired.com\n",
            "anunson2ip@youtube.com\n",
            "aoakenfords48@youku.com\n",
            "aoldhamg1m@desdev.cn\n",
            "aoleahy11mr@patch.com\n",
            "aoliffzsh@360.cn\n",
            "aollis1027@skyrock.com\n",
            "aorts46t@unblog.fr\n",
            "aoselandfco@uol.com.br\n",
            "aovittszre@exblog.jp\n",
            "apackwood7u1@list-manage.com\n",
            "apagramlou@squarespace.com\n",
            "apapierzjjd@webnode.com\n",
            "aparcelltpi@bravesites.com\n",
            "apaulmannrda@psu.edu\n",
            "apeddelc94@irs.gov\n",
            "apellerbws@cbc.ca\n",
            "apheazeyfc2@joomla.org\n",
            "apibworthun0@1und1.de\n",
            "apickworthirf@archive.org\n",
            "apithcockxey@yahoo.co.jp\n",
            "apittendreightzk@cbslocal.com\n",
            "apledge1jv@geocities.jp\n",
            "apolendinemt2@goo.ne.jp\n",
            "apomfreycyt@xing.com\n",
            "apontinymm@uol.com.br\n",
            "aporterapl@behance.net\n",
            "apottenyhh@foxnews.com\n",
            "apuncherrqw@gov.uk\n",
            "apykef2d@phpbb.com\n",
            "aquest25u@mysql.com\n",
            "aquinlan4ku@answers.com\n",
            "aradden18d@sakura.ne.jp\n",
            "araffeorty8nd@disqus.com\n",
            "areasunovy@photobucket.com\n",
            "arenisonw22@clickbank.net\n",
            "arickerby6ea@pbs.org\n",
            "arieplthj@wufoo.com\n",
            "arontschio1@uol.com.br\n",
            "arookebyxza@microsoft.com\n",
            "aroscowdd4@noaa.gov\n",
            "arosenfeltdey@nydailynews.com\n",
            "arosenqvistlum@imgur.com\n",
            "arowlson26n@springer.com\n",
            "asawdenrzk@rediff.com\n",
            "asawersjwx@imgur.com\n",
            "ascarlettpje@eepurl.com\n",
            "ascullyude@sogou.com\n",
            "asemeradovai5a@cbsnews.com\n",
            "aserrell52x@ow.ly\n",
            "ashawld5l@yolasite.com\n",
            "ashepeardmay@nps.gov\n",
            "ashirtcliffezd2@weibo.com\n",
            "ashrievebc@pagesperso-orange.fr\n",
            "asibbornl2j@jimdo.com\n",
            "asidnell6d6@fotki.com\n",
            "askelbeckgjk@nifty.com\n",
            "askullyptf@mlb.com\n",
            "aslaughterubi@opera.com\n",
            "asmeedo3g@tripod.com\n",
            "asneezumcof@slideshare.net\n",
            "asoleddi@nymag.com\n",
            "asomerset2z6@hexun.com\n",
            "aspeakehix@arizona.edu\n",
            "aspenleydsq@joomla.org\n",
            "aspofford7f4@icio.us\n",
            "astallebrass7ko@1und1.de\n",
            "astanlack2i5@ow.ly\n",
            "astanlick560@vimeo.com\n",
            "astarbucke49f@stanford.edu\n",
            "astentuch@github.com\n",
            "astephensonds@opensource.org\n",
            "astockportkj9@bigcartel.com\n",
            "asuart158@mapquest.com\n",
            "aswanboroughxqd@elegantthemes.com\n",
            "atabrettvk@chicagotribune.com\n",
            "atailbyu7s@liveinternet.ru\n",
            "atarbetcwd@chron.com\n",
            "atartk9l@phoca.cz\n",
            "atebbett2oj@amazonaws.com\n",
            "athreadgoldd6j@mtv.com\n",
            "atilburyz2j@berkeley.edu\n",
            "atillardbfn@google.es\n",
            "atippingoxo@flickr.com\n",
            "atoomer5u3@fotki.com\n",
            "atotherqny@ebay.co.uk\n",
            "atrillop9@gmpg.org\n",
            "atroni5jp@cargocollective.com\n",
            "atruterohk@mac.com\n",
            "atuffleyx6d@meetup.com\n",
            "atummondqsi@desdev.cn\n",
            "atwigginswqe@de.vu\n",
            "atzarkovw3w@desdev.cn\n",
            "aughelli9mz@gravatar.com\n",
            "avainesf53@seattletimes.com\n",
            "avanyifg@europa.eu\n",
            "avasej0w@yandex.ru\n",
            "averey6jv@google.de\n",
            "avillage2e8@shutterfly.com\n",
            "awalleri84@tinyurl.com\n",
            "awarlandj29@amazon.co.jp\n",
            "aweekley5zg@mac.com\n",
            "awestbyz26@newsvine.com\n",
            "awhyardtlw@ovh.net\n",
            "awinchurstbml@umich.edu\n",
            "awinfindine597@cnn.com\n",
            "ayeardsleyics@ebay.co.uk\n",
            "ayeelesv59@mapy.cz\n",
            "aygou2dc@craigslist.org\n",
            "ayushkovf9e@microsoft.com\n",
            "aziehms12ka@artisteer.com\n",
            "aziehmsfos@hhs.gov\n",
            "azoanewte@goo.gl\n",
            "balbertifk5@paginegialle.it\n",
            "balbinfut@furl.net\n",
            "ballonerg8@netvibes.com\n",
            "balvaradoq2b@storify.com\n",
            "bamsdenmhh@g.co\n",
            "barnelyke1@biblegateway.com\n",
            "barton12gu@indiatimes.com\n",
            "bauld6mc@seattletimes.com\n",
            "bbacchusbvj@thetimes.co.uk\n",
            "bbainesxuy@dot.gov\n",
            "bbaissbk5@squidoo.com\n",
            "bbaseleypgq@printfriendly.com\n",
            "bbassettgyx@salon.com\n",
            "bbassilashvilidta@barnesandnoble.com\n",
            "bbaszkiewiczotl@state.gov\n",
            "bbelascogyz@xinhuanet.com\n",
            "bbellasyp9@xinhuanet.com\n",
            "bben77m@vkontakte.ru\n",
            "bbennoe8ky@reuters.com\n",
            "bbensusanpf7@yahoo.co.jp\n",
            "bbeynen3m@ustream.tv\n",
            "bblaksley1yb@wix.com\n",
            "bblything3ya@walmart.com\n",
            "bbohinew0@house.gov\n",
            "bborsnalljdm@about.me\n",
            "bbrasnere5@webeden.co.uk\n",
            "bbreewoodef1@elegantthemes.com\n",
            "bbriscoeyzc@rambler.ru\n",
            "bbrothwell11vs@usatoday.com\n",
            "bbrownswordx7v@unc.edu\n",
            "bbroxup75p@virginia.edu\n",
            "bbrummitt6lm@walmart.com\n",
            "bbudgettqz4@kickstarter.com\n",
            "bbumfordk46@bigcartel.com\n",
            "bbygrave3bt@delicious.com\n",
            "bbyromn1k@mysql.com\n",
            "bcallicottdrp@usa.gov\n",
            "bcardwell7i5@cnn.com\n",
            "bcarley5eg@cnn.com\n",
            "bcasestyk@forbes.com\n",
            "bchaffenpfn@mlb.com\n",
            "bchatelainwyd@vinaora.com\n",
            "bchazottezo9@irs.gov\n",
            "bchevertono29@twitpic.com\n",
            "bchristoffersenzr7@bandcamp.com\n",
            "bchucksjmn@si.edu\n",
            "bcodvb@ustream.tv\n",
            "bcoghlantal@comsenz.com\n",
            "bconaboysbq@mail.ru\n",
            "bcopsond2j@google.nl\n",
            "bcorkettth6@amazon.de\n",
            "bcrinidgeq96@example.com\n",
            "bcullingworthnyh@dropbox.com\n",
            "bdallicoathgc@theglobeandmail.com\n",
            "bdawbery513@nature.com\n",
            "bdeenyiyi@zdnet.com\n",
            "bdenerleyaby@nydailynews.com\n",
            "bdiiorio63l@hatena.ne.jp\n",
            "bdonnelaze@multiply.com\n",
            "bdotsonrh5@de.vu\n",
            "bdowntonkvw@cbslocal.com\n",
            "bdreuskmz@nytimes.com\n",
            "bduckittz7p@harvard.edu\n",
            "bdullardgj6@github.com\n",
            "bdumbarr29@yahoo.com\n",
            "bdumbartonn3a@deliciousdays.com\n",
            "bdutnall10u1@example.com\n",
            "bdyetywa@360.cn\n",
            "beardqzr@unc.edu\n",
            "beastlakexkl@unicef.org\n",
            "belementvga@unc.edu\n",
            "bellerbecki0e@theguardian.com\n",
            "beloizx1@zimbio.com\n",
            "besselinx8q@bing.com\n",
            "beveleigh1186@angelfire.com\n",
            "bfarniew1c@ed.gov\n",
            "bfassydi@patch.com\n",
            "bfaussett6cm@hatena.ne.jp\n",
            "bferenczyyew@jugem.jp\n",
            "bferronic76@com.com\n",
            "bfeveryearbgl@ox.ac.uk\n",
            "bfitzackerleykmc@ihg.com\n",
            "bflaxon6zz@bigcartel.com\n",
            "bfonte10l@opensource.org\n",
            "bfrance0p@jiathis.com\n",
            "bfreeburyj2b@apple.com\n",
            "bfullardd7u@adobe.com\n",
            "bgaleat0d@plala.or.jp\n",
            "bgarrud77v@ucla.edu\n",
            "bgatheralzew@prlog.org\n",
            "bgidney2qb@lycos.com\n",
            "bginsiexy2@canalblog.com\n",
            "bgiorgetti6aw@upenn.edu\n",
            "bgoldstern0h@patch.com\n",
            "bgoodalep0@fda.gov\n",
            "bgoodrum8gz@qq.com\n",
            "bgoodsell31f@zimbio.com\n",
            "bgormley9jc@nhs.uk\n",
            "bgorries10jl@soundcloud.com\n",
            "bgrassin18t@theglobeandmail.com\n",
            "bgrinawaydrd@artisteer.com\n",
            "bgrinovekg@wordpress.org\n",
            "bgrunsone88@typepad.com\n",
            "bhagyardv5b@opera.com\n",
            "bhansanahw6@ihg.com\n",
            "bharbison22e@bbc.co.uk\n",
            "bhardwaynqo@nature.com\n",
            "bhegg10bd@dion.ne.jp\n",
            "bheintzhf9@yale.edu\n",
            "bhesserkkz@ed.gov\n",
            "bhicklingbottomi2h@dell.com\n",
            "bhilleya96@smh.com.au\n",
            "bhinze48@yahoo.com\n",
            "bhosiersa6@booking.com\n",
            "bhovyf84@jigsy.com\n",
            "bhucwuj@nature.com\n",
            "bjagofto@free.fr\n",
            "bjankovicbfi@creativecommons.org\n",
            "bjaraythg@furl.net\n",
            "bjeffrydpp@digg.com\n",
            "bjerche4ff@tmall.com\n",
            "bjeskestv@jugem.jp\n",
            "bjollyejv4@bbc.co.uk\n",
            "bjordan2@geocities.com\n",
            "bjosiahz15@yandex.ru\n",
            "bkeenanbke@istockphoto.com\n",
            "bkeepencedtr@so-net.ne.jp\n",
            "bkenlinewf@scribd.com\n",
            "bkennau62@wikimedia.org\n",
            "bkensittv33@facebook.com\n",
            "bkilmartin4fe@cargocollective.com\n",
            "bklagemanxpz@va.gov\n",
            "bkrysztowczyk7ps@squidoo.com\n",
            "bkubasak6@geocities.jp\n",
            "blafayec1z@amazon.de\n",
            "blambineej@deliciousdays.com\n",
            "blarvints2@a8.net\n",
            "blarwoodp0n@sogou.com\n",
            "bleadesdl3@mozilla.com\n",
            "bleaknerzmv@tiny.cc\n",
            "blefeavervmo@alexa.com\n",
            "blipgenshw1@state.tx.us\n",
            "blistone6ky@bloomberg.com\n",
            "blivettrkc@1688.com\n",
            "bloftingns0@cbsnews.com\n",
            "blorensevm@house.gov\n",
            "blowseleysr@mail.ru\n",
            "bludlom3ex@umich.edu\n",
            "bluggar2hb@skyrock.com\n",
            "blumm951@howstuffworks.com\n",
            "bmacelholmjua@sbwire.com\n",
            "bmacepqq@eepurl.com\n",
            "bmachonnmj@pbs.org\n",
            "bmachostie18h@ask.com\n",
            "bmaddinrcn@de.vu\n",
            "bmallabarrr7@go.com\n",
            "bmangenetti9@cmu.edu\n",
            "bmarfeyk0@psu.edu\n",
            "bmarjoramld5@a8.net\n",
            "bmarquot7ij@youtu.be\n",
            "bmcartgy3@dmoz.org\n",
            "bmcelhinneytoe@constantcontact.com\n",
            "bmcgee7ac@google.com.br\n",
            "bmckirdy82v@who.int\n",
            "bmctaggartlob@netlog.com\n",
            "bmethaminy@latimes.com\n",
            "bmiddle4x4@home.pl\n",
            "bminchell4wj@census.gov\n",
            "bmonshallw9z@trellian.com\n",
            "bmorandoh2l@miibeian.gov.cn\n",
            "bmorfell8a0@ihg.com\n",
            "bmossman5w9@ning.com\n",
            "bmullinxpr@reddit.com\n",
            "bmunghamgp7@ow.ly\n",
            "bnann16t@cmu.edu\n",
            "bnelhams3c4@utexas.edu\n",
            "bnottonmee@cocolog-nifty.com\n",
            "boakenfieldo1t@printfriendly.com\n",
            "bodalyt15@google.com\n",
            "boehm101v@theguardian.com\n",
            "bordeltui8@elpais.com\n",
            "bosherrinqhr@geocities.com\n",
            "bosmondrkg@netvibes.com\n",
            "botridgeyr2@cornell.edu\n",
            "bpantridgenat@ow.ly\n",
            "bpaulottqs@youtube.com\n",
            "bphripprj5@youtube.com\n",
            "bpiddlehintonoyr@posterous.com\n",
            "bpinnington121h@noaa.gov\n",
            "bpithieims@addthis.com\n",
            "bpreskettr85@addtoany.com\n",
            "bpringourmvw@upenn.edu\n",
            "bpullarwxe@noaa.gov\n",
            "bpurvisse03@virginia.edu\n",
            "braddenburyglv@topsy.com\n",
            "bramsdenab0@wufoo.com\n",
            "branking10ve@ibm.com\n",
            "brebillardv1x@lycos.com\n",
            "brobbs9jw@google.cn\n",
            "broubert1p5@sourceforge.net\n",
            "bruste12ec@pinterest.com\n",
            "brysomv3s@aol.com\n",
            "bsaileiwx@cafepress.com\n",
            "bsands4it@goo.gl\n",
            "bsant2jm@wufoo.com\n",
            "bsarsfieldzmd@nifty.com\n",
            "bscandreddmc@ehow.com\n",
            "bscholtzj49@businessinsider.com\n",
            "bscrivenor80h@fema.gov\n",
            "bsebringqkq@nationalgeographic.com\n",
            "bsedworth10vk@nifty.com\n",
            "bshirleyutl@e-recht24.de\n",
            "bsiccomber26@wisc.edu\n",
            "bsichq87@wisc.edu\n",
            "bsillw33@goo.gl\n",
            "bsimcoe6z1@opensource.org\n",
            "bsissensq57@sogou.com\n",
            "bsiveter3t6@illinois.edu\n",
            "bskipponkv0@goo.gl\n",
            "bslaughteri27@cdc.gov\n",
            "bsmardonbnt@fastcompany.com\n",
            "bsollimecxo@sohu.com\n",
            "bspillinghnz@kickstarter.com\n",
            "bspinksd2o@answers.com\n",
            "bstaveskpb@51.la\n",
            "bstovinewi7@sohu.com\n",
            "bstovoldru5@marketwatch.com\n",
            "bsturridgeykz@google.ca\n",
            "bsuarez2wz@salon.com\n",
            "bsueroxfr@unblog.fr\n",
            "bsuttellc9t@sitemeter.com\n",
            "bsutterfieldcr4@unblog.fr\n",
            "btawsennu@xinhuanet.com\n",
            "btease3a0@ft.com\n",
            "btemperton7nb@skype.com\n",
            "bternaultddq@w3.org\n",
            "bterney1va@dell.com\n",
            "btetla119s@youtu.be\n",
            "btinceyjd4@wunderground.com\n",
            "btowllvac@yellowbook.com\n",
            "btregensoej9l@goo.ne.jp\n",
            "btrustie106m@state.gov\n",
            "bunderhilloua@about.com\n",
            "bvalintinetfk@ted.com\n",
            "bvasiljevicwpf@unc.edu\n",
            "bvoadeneo7@cnbc.com\n",
            "bvyelfsr@sohu.com\n",
            "bwebbbowenuqz@phpbb.com\n",
            "bweed73t@washington.edu\n",
            "bwhaymant85@artisteer.com\n",
            "bwhiteford7dl@elpais.com\n",
            "bwhymanha2@berkeley.edu\n",
            "bwilbyj5b@icio.us\n",
            "bwildtqtt@soup.io\n",
            "bwinwrighty4o@over-blog.com\n",
            "bwoolaghanwbf@t-online.de\n",
            "bworrall7c@taobao.com\n",
            "bworrill6jh@storify.com\n",
            "bwymernzn@usgs.gov\n",
            "bzuannxbo@wufoo.com\n",
            "cabatelli2ot@icio.us\n",
            "cabbottlhp@va.gov\n",
            "cakastjjg@issuu.com\n",
            "calans8g8@myspace.com\n",
            "caldred9k8@sohu.com\n",
            "calyukinlnq@livejournal.com\n",
            "calyutinpq5@joomla.org\n",
            "cambrosibqo@mediafire.com\n",
            "candrzej2gx@craigslist.org\n",
            "carchardvi@ucla.edu\n",
            "carndtrwn@npr.org\n",
            "carniz105c@mashable.com\n",
            "cartindale6h1@symantec.com\n",
            "caskiecsy@wordpress.org\n",
            "caventghx@ca.gov\n",
            "cbalmforth4ry@goodreads.com\n",
            "cbarette2bk@nytimes.com\n",
            "cbastianjrk@reuters.com\n",
            "cbaxstare2m5@engadget.com\n",
            "cbeevisum9@soup.io\n",
            "cberesfore5ax@indiatimes.com\n",
            "cbernhardssonota@pinterest.com\n",
            "cberzonsxn7@netlog.com\n",
            "cbielfeldsjx@umn.edu\n",
            "cbilamqt1@ibm.com\n",
            "cbillenu4@prnewswire.com\n",
            "cbillyarddvx@latimes.com\n",
            "cbixley196@constantcontact.com\n",
            "cblakeley100t@about.com\n",
            "cblasiusobg@eventbrite.com\n",
            "cblazyvfp@meetup.com\n",
            "cbogaysvha@aboutads.info\n",
            "cboldisongga@printfriendly.com\n",
            "cbontoft336@gnu.org\n",
            "cbound5lb@google.com\n",
            "cboykettz7f@seattletimes.com\n",
            "cbracherift@jugem.jp\n",
            "cbraizierv82@virginia.edu\n",
            "cbrashawhy@goo.ne.jp\n",
            "cbrechezfn@hp.com\n",
            "cbreslandbwt@themeforest.net\n",
            "cbressonr1r@reuters.com\n",
            "cbrimacombe1dx@yelp.com\n",
            "cbrimmacombei94@mapquest.com\n",
            "cbrislanwxm@quantcast.com\n",
            "cbrittonwk9@hatena.ne.jp\n",
            "cbucktrout2lv@hugedomains.com\n",
            "cbunting7wk@shop-pro.jp\n",
            "cburgisepmm@nsw.gov.au\n",
            "cburmasterbgx@sbwire.com\n",
            "cbutenkbd@infoseek.co.jp\n",
            "ccalderwoodou5@hexun.com\n",
            "ccannam1162@epa.gov\n",
            "ccassius4w2@ustream.tv\n",
            "ccelieru9v@nba.com\n",
            "cchesshireyjk@flickr.com\n",
            "cchirm2r2@devhub.com\n",
            "cclealun5@thetimes.co.uk\n",
            "ccolbranvif@symantec.com\n",
            "ccotilard11ht@zimbio.com\n",
            "ccotterrillkg@redcross.org\n",
            "ccrannachng9@xrea.com\n",
            "ccreboeyt9@shutterfly.com\n",
            "ccredland3hi@weebly.com\n",
            "ccrevylnl@nytimes.com\n",
            "ccullagh2sl@canalblog.com\n",
            "ccuttelltsl@163.com\n",
            "cdabbesvp2@phoca.cz\n",
            "cdancelnz@hatena.ne.jp\n",
            "cdaniau2p0@deliciousdays.com\n",
            "cdarwentr4h@npr.org\n",
            "cdebenhambqq@goo.ne.jp\n",
            "cdeboickmqn@independent.co.uk\n",
            "cdecroixewp@csmonitor.com\n",
            "cdelacosteoyg@utexas.edu\n",
            "cderingp6d@moonfruit.com\n",
            "cdevonshirev81@nih.gov\n",
            "cdillet74i@homestead.com\n",
            "cdimitrumc6@360.cn\n",
            "cdmtrovicy7d@desdev.cn\n",
            "cdmytryk1ur@meetup.com\n",
            "cdosdell8ff@icio.us\n",
            "cdunstanwgd@cnbc.com\n",
            "cdurbann61s@aol.com\n",
            "cdurbinfyb@nih.gov\n",
            "cdurgan115n@dailymotion.com\n",
            "cdursley3a3@google.com\n",
            "ceaclevt9@ftc.gov\n",
            "ceadesgq@diigo.com\n",
            "cegdalma5@ask.com\n",
            "celdredgexf2@whitehouse.gov\n",
            "celtune31@washingtonpost.com\n",
            "cemneyd4m@drupal.org\n",
            "cfairbeard6pd@walmart.com\n",
            "cfalloon1bf@blinklist.com\n",
            "cfarnanqsh@amazon.co.jp\n",
            "cferebeetp@ucoz.com\n",
            "cferencowicz5rx@ucoz.ru\n",
            "cferraroneg6l@miitbeian.gov.cn\n",
            "cfinan7y@hc360.com\n",
            "cfinnimorejvo@blogspot.com\n",
            "cflewinuy@icq.com\n",
            "cfranschinisdo@photobucket.com\n",
            "cfransemaiubl@spotify.com\n",
            "cfreer472@multiply.com\n",
            "cgainsboroughlfx@google.fr\n",
            "cgarnamo54@addthis.com\n",
            "cgeallmdi@pagesperso-orange.fr\n",
            "cgebbhdh@sun.com\n",
            "cgerish80p@i2i.jp\n",
            "cgianellivu8@smh.com.au\n",
            "cgianullo10sb@google.cn\n",
            "cgilchriest5jn@patch.com\n",
            "cgiovannilli11uf@uiuc.edu\n",
            "cgliddermji@harvard.edu\n",
            "cgodferynlv@google.com.hk\n",
            "cgolby92k@google.com.hk\n",
            "cgosalvezdnd@prweb.com\n",
            "cgosneyl01@blinklist.com\n",
            "cgradley49z@dot.gov\n",
            "cgreenaway10xz@reverbnation.com\n",
            "cgrishechkinhtu@tinypic.com\n",
            "cguidera2lf@nifty.com\n",
            "cguirardinx1c@e-recht24.de\n",
            "cgullyqyb@storify.com\n",
            "cgumbrells0l@howstuffworks.com\n",
            "cgummerlsv@examiner.com\n",
            "cgwyther1d0@addtoany.com\n",
            "chaggithv8@latimes.com\n",
            "challifaxhyu@prlog.org\n",
            "chalsworthog9@photobucket.com\n",
            "chalwillhk5@cafepress.com\n",
            "chamil74h@ebay.co.uk\n",
            "cheigho4bj@who.int\n",
            "chillett11fm@constantcontact.com\n",
            "chollowsasc@nasa.gov\n",
            "choovartttg@nsw.gov.au\n",
            "chounsom83i@indiatimes.com\n",
            "choutbync9@rakuten.co.jp\n",
            "chudelq2s@weather.com\n",
            "cillingsworthm8p@dailymotion.com\n",
            "cimlen1l8@blinklist.com\n",
            "cimorts11cf@youku.com\n",
            "cinnisi0b@furl.net\n",
            "civanchenkovcj4@cisco.com\n",
            "cjacobs78z@bravesites.com\n",
            "cjarleylcb@list-manage.com\n",
            "cjay1ge@npr.org\n",
            "cjeffcoatq4u@tuttocitta.it\n",
            "cjermyn107d@github.com\n",
            "cjimed75@live.com\n",
            "cjiracekw4h@printfriendly.com\n",
            "cjordeson89d@patch.com\n",
            "cjouanots10@zimbio.com\n",
            "ckarlmannpk6@miitbeian.gov.cn\n",
            "ckelnerr40@auda.org.au\n",
            "ckhalidfsf@hao123.com\n",
            "ckidstone9m4@dailymotion.com\n",
            "ckinde38u@dot.gov\n",
            "ckitchener4e3@stanford.edu\n",
            "ckittlesw5f@tripadvisor.com\n",
            "ckleinfeldvrn@utexas.edu\n",
            "cklesel10od@themeforest.net\n",
            "cknoxub7@apple.com\n",
            "ckubelka6tk@wikimedia.org\n",
            "ckynochs4s@java.com\n",
            "ckytter3x2@nifty.com\n",
            "clabat4ov@nydailynews.com\n",
            "clabbeo5y@gov.uk\n",
            "clandestk5@businessweek.com\n",
            "clangcasterp27@nymag.com\n",
            "clanktreezm8@wiley.com\n",
            "clarking81c@cnn.com\n",
            "clastyneg@123-reg.co.uk\n",
            "cledbetterqjg@about.com\n",
            "cleeuwerinks5g@blogtalkradio.com\n",
            "cleggingh13@quantcast.com\n",
            "cleonardeqh3@addtoany.com\n",
            "cleonardsvfs@howstuffworks.com\n",
            "clerwillma0@cyberchimps.com\n",
            "clindman114u@pagesperso-orange.fr\n",
            "clissandrimdu@macromedia.com\n",
            "clocksley5@weather.com\n",
            "clorencila@privacy.gov.au\n",
            "cludwigldv@nyu.edu\n",
            "cluno5bw@hao123.com\n",
            "clushoie@linkedin.com\n",
            "cmacgeaney4fm@smugmug.com\n",
            "cmachargk4w@pcworld.com\n",
            "cmaciloryfxd@yahoo.com\n",
            "cmaciverv0h@gizmodo.com\n",
            "cmackneisnh7@elpais.com\n",
            "cmackriellv3z@webmd.com\n",
            "cmaclarenbzf@hao123.com\n",
            "cmacterrellyms5@technorati.com\n",
            "cmadison7g4@chron.com\n",
            "cmainzptw@examiner.com\n",
            "cmalewmn@people.com.cn\n",
            "cmarsden757@examiner.com\n",
            "cmatchetteye@over-blog.com\n",
            "cmaxwalec3v@latimes.com\n",
            "cmaylottakm@businessweek.com\n",
            "cmcartanu@nytimes.com\n",
            "cmccrackemni7@weebly.com\n",
            "cmccroney4k@theglobeandmail.com\n",
            "cmcelroyiu7@tmall.com\n",
            "cmcmichaelgw6@guardian.co.uk\n",
            "cmeconi8u@ovh.net\n",
            "cmegarry3u6@people.com.cn\n",
            "cmetzigd8@merriam-webster.com\n",
            "cmitchenson11dg@mail.ru\n",
            "cmolnartih@usnews.com\n",
            "cmorysonh8v@tinypic.com\n",
            "cnehl5ot@fastcompany.com\n",
            "cnelthropdid@so-net.ne.jp\n",
            "cnielson121u@wunderground.com\n",
            "cnormavilleju9@so-net.ne.jp\n",
            "cnussey3f5@wix.com\n",
            "cnutten2vt@wordpress.org\n",
            "cnuttrqm@go.com\n",
            "cohowbane10xk@prlog.org\n",
            "comara127s@google.ru\n",
            "conealzjr@washingtonpost.com\n",
            "correyfah@4shared.com\n",
            "coshields10ke@cbsnews.com\n",
            "cosuairdwgo@loc.gov\n",
            "cpasbykec@nsw.gov.au\n",
            "cpawdenfli@examiner.com\n",
            "cpayesdl@ebay.co.uk\n",
            "cpedley5un@last.fm\n",
            "cpendreywr5@ycombinator.com\n",
            "cpenhallurick6r4@last.fm\n",
            "cpeploe3rb@qq.com\n",
            "cperillobvc@shareasale.com\n",
            "cperrinsmjd@amazon.co.jp\n",
            "cperryn99u@bbb.org\n",
            "cperssekm5@state.gov\n",
            "cpester2ru@free.fr\n",
            "cpettitttfh@patch.com\n",
            "cphythean4z9@ucla.edu\n",
            "cpicoppsnm@tinyurl.com\n",
            "cpidgeonsc7@blogger.com\n",
            "cpippingh1@deliciousdays.com\n",
            "cpochonnw2@dell.com\n",
            "cpockett4et@usatoday.com\n",
            "cpomroyfas@arizona.edu\n",
            "cprandyg04@goo.ne.jp\n",
            "cpridmore10ug@hhs.gov\n",
            "cpyatt12e9@livejournal.com\n",
            "cquestierz8h@mac.com\n",
            "cquinnellxf3@vk.com\n",
            "cramelmhb@ustream.tv\n",
            "cramlotm5g@digg.com\n",
            "craraty1189@behance.net\n",
            "craubenheimyk5@sogou.com\n",
            "craundsuqb@1688.com\n",
            "creasunwve@mlb.com\n",
            "cricardodnk@people.com.cn\n",
            "critchingsqjo@odnoklassniki.ru\n",
            "cronciymo@pen.io\n",
            "crosindill7c7@google.com.au\n",
            "croutledge11dl@msn.com\n",
            "csacher42z@weebly.com\n",
            "csallishlo@reuters.com\n",
            "csantellojoo@bloglovin.com\n",
            "csartainfgo@senate.gov\n",
            "cscardefieldmuq@soup.io\n",
            "cschaumakerso3@arstechnica.com\n",
            "cschimannbj1@live.com\n",
            "cschonfeld8dr@ning.com\n",
            "cscocroftwxn@csmonitor.com\n",
            "csconeshsd@plala.or.jp\n",
            "cscrivinord3n@virginia.edu\n",
            "cseagarajp@yelp.com\n",
            "cserginsonqso@google.com.hk\n",
            "csexceyq3i@aboutads.info\n",
            "cshadfourthit2@blogs.com\n",
            "csherynplo@google.de\n",
            "cshipstonze1@yandex.ru\n",
            "cshovelin3mq@pagesperso-orange.fr\n",
            "cshreenannqf@furl.net\n",
            "cskymi81@meetup.com\n",
            "cskynner7qp@ow.ly\n",
            "csnapxpw@mashable.com\n",
            "csongisthws@about.me\n",
            "csopperfkk@a8.net\n",
            "csouthwardvc7@e-recht24.de\n",
            "cspontonf1k@goo.gl\n",
            "csprakerxn@blogs.com\n",
            "csprigingsz9c@ibm.com\n",
            "cstailey115b@businessweek.com\n",
            "cstauntonqv3@privacy.gov.au\n",
            "cstaverstjn@dyndns.org\n",
            "cstollsteiner6i2@ucoz.ru\n",
            "csupplene7@biglobe.ne.jp\n",
            "cswadling4np@wordpress.org\n",
            "ctapson9yg@hexun.com\n",
            "ctebben18@hao123.com\n",
            "ctollandql5@eventbrite.com\n",
            "ctolumellomok@shop-pro.jp\n",
            "ctoppzy8@mtv.com\n",
            "ctothes16@gmpg.org\n",
            "ctrahairy1l@comcast.net\n",
            "ctreend3t5@mozilla.com\n",
            "ctrounson10ie@comcast.net\n",
            "ctruemankja@macromedia.com\n",
            "ctumielliefu@cnet.com\n",
            "cturfinkan@nhs.uk\n",
            "ctwelvetreeu2l@gravatar.com\n",
            "cundyxgs@examiner.com\n",
            "cupshallgmf@eventbrite.com\n",
            "cwalcotqc5@homestead.com\n",
            "cwattamygl@mail.ru\n",
            "cwealddug@theatlantic.com\n",
            "cwestcot35i@usnews.com\n",
            "cwestpfelsnf@hao123.com\n",
            "cwhitehousettr@indiatimes.com\n",
            "cwiggins9q8@dell.com\n",
            "cwinslet8ds@canalblog.com\n",
            "cwoodcraftnbc@ox.ac.uk\n",
            "cworkmanb9d@cnn.com\n",
            "cwortb51@t.co\n",
            "cwrefforduov@github.com\n",
            "cwrigleyhkf@ebay.com\n",
            "cyakuntsovt8x@ebay.co.uk\n",
            "czoephelsec@loc.gov\n",
            "dadelbergtue@va.gov\n",
            "daguirre5mh@ftc.gov\n",
            "dallcoat10bs@last.fm\n",
            "danderuct@livejournal.com\n",
            "dangroven0m@wunderground.com\n",
            "dapthorpez07@wp.com\n",
            "davon6ib@xinhuanet.com\n",
            "dbalcockwcn@usatoday.com\n",
            "dbanasevichm6@sphinn.com\n",
            "dbartaliny1y@istockphoto.com\n",
            "dbartolomeottiuzn@about.me\n",
            "dbartwhd@cnn.com\n",
            "dbattramz9n@thetimes.co.uk\n",
            "dbausmanndtn@intel.com\n",
            "dbellenyyhy@addtoany.com\n",
            "dbicknell7en@google.ru\n",
            "dblaxelandh11@sciencedaily.com\n",
            "dbootyman6mt@dyndns.org\n",
            "dboshardz3x@squarespace.com\n",
            "dbottleqjq@example.com\n",
            "dboulton27a@free.fr\n",
            "dbreitlerx4p@surveymonkey.com\n",
            "dbrinklerxcb@upenn.edu\n",
            "dbrion32@exblog.jp\n",
            "dbucksey10uz@newyorker.com\n",
            "dburgumsra@deliciousdays.com\n",
            "dburnupca1@nymag.com\n",
            "dbusaines6@cpanel.net\n",
            "dbuttnerluq@parallels.com\n",
            "dbuxeykck@chron.com\n",
            "dcarmodyn1l@phoca.cz\n",
            "dcaslake78m@nyu.edu\n",
            "dcastjwy@booking.com\n",
            "dcicettiosw@pinterest.com\n",
            "dcloustonx4@addtoany.com\n",
            "dcoase7bg@answers.com\n",
            "dcolleymorefhc@technorati.com\n",
            "dconfortv7h@woothemes.com\n",
            "dconstantinenwl@psu.edu\n",
            "dcooksey10z4@theglobeandmail.com\n",
            "dcoopey99j@kickstarter.com\n",
            "dcreang6h@over-blog.com\n",
            "dcrenagedms@google.ca\n",
            "dcrix5p2@tumblr.com\n",
            "ddalliwatrwn3@cargocollective.com\n",
            "ddarwood39q@dagondesign.com\n",
            "ddawneyzms@tuttocitta.it\n",
            "ddealyp50@pagesperso-orange.fr\n",
            "ddebold6qi@chronoengine.com\n",
            "ddeekao3@exblog.jp\n",
            "ddehmelcu6@trellian.com\n",
            "ddenyagin11dc@nba.com\n",
            "ddigglerut@businessinsider.com\n",
            "ddionisiiez6@hhs.gov\n",
            "ddochekdn@rediff.com\n",
            "ddodgson394@census.gov\n",
            "ddominique9n9@paginegialle.it\n",
            "ddominiquefwm@uiuc.edu\n",
            "ddonisoxxd@seesaa.net\n",
            "dduckelsykx@army.mil\n",
            "ddunkertond59@ucoz.com\n",
            "deneverrqz@hibu.com\n",
            "derrattbjf@auda.org.au\n",
            "dextalddp@nhs.uk\n",
            "dfarrimondlta@ycombinator.com\n",
            "dfeige7qq@freewebs.com\n",
            "dfeldhornkko@photobucket.com\n",
            "dfeltenrmj@moonfruit.com\n",
            "dfirmagerawj@umn.edu\n",
            "dflescher7i1@ycombinator.com\n",
            "dfloydmas@moonfruit.com\n",
            "dgabby10sx@topsy.com\n",
            "dgatsbysd3@nps.gov\n",
            "dgatusyfh@mysql.com\n",
            "dgazzardelz@cdbaby.com\n",
            "dgemlbettkex@nymag.com\n",
            "dgergus9ef@a8.net\n",
            "dgergusjxp@springer.com\n",
            "dgierthikn@berkeley.edu\n",
            "dginnib2f@google.co.uk\n",
            "dgiovanazzij9m@sciencedirect.com\n",
            "dgofordxku@samsung.com\n",
            "dgoldsbyx0p@weibo.com\n",
            "dgoldszes@usatoday.com\n",
            "dgoudmanqfo@deviantart.com\n",
            "dgreenfieldil0@altervista.org\n",
            "dgreenheadcrj@dailymotion.com\n",
            "dgrewes23a@ovh.net\n",
            "dguerinjug@booking.com\n",
            "dguidettin7h@google.pl\n",
            "dhaccletonbl7@google.fr\n",
            "dhalliwellqqo@fastcompany.com\n",
            "dhalmkinr4@cnn.com\n",
            "dhannigersk1@youtube.com\n",
            "dhansienwp@tripadvisor.com\n",
            "dhansterqbs@sun.com\n",
            "dheaney7hu@cafepress.com\n",
            "dheiblc3p@dedecms.com\n",
            "dheining41y@chicagotribune.com\n",
            "dheintschibq@si.edu\n",
            "dholberrycxx@liveinternet.ru\n",
            "dhulseqim@github.com\n",
            "dhussell101a@wufoo.com\n",
            "disaacsonp5g@webs.com\n",
            "divaindmt@trellian.com\n",
            "djaslemx6h@amazon.de\n",
            "djirak2xb@google.co.uk\n",
            "djones4h5@sourceforge.net\n",
            "djunkison1td@istockphoto.com\n",
            "dkaddxbv@t-online.de\n",
            "dkarusoj0@networksolutions.com\n",
            "dkibbeewv0@webeden.co.uk\n",
            "dkingcote8k8@rambler.ru\n",
            "dkinzec0@ft.com\n",
            "dlaceletttfj@tiny.cc\n",
            "dlangforthsif@loc.gov\n",
            "dlanmeidxu7@time.com\n",
            "dlavers8v1@amazonaws.com\n",
            "dleggon1a0@admin.ch\n",
            "dleghxgp@hp.com\n",
            "dlewingoex@hexun.com\n",
            "dlindroos7l7@usa.gov\n",
            "dlingner3kc@edublogs.org\n",
            "dloiseauyff@salon.com\n",
            "dlomanseyf1q@sciencedaily.com\n",
            "dlotteringtonzhm@upenn.edu\n",
            "dmaccoughennex@utexas.edu\n",
            "dmacqueenoqa@state.gov\n",
            "dmahadyt74@ucla.edu\n",
            "dmarvelln98@geocities.com\n",
            "dmathewsongom@qq.com\n",
            "dmaytomkot@naver.com\n",
            "dmcartlzk@princeton.edu\n",
            "dmcclementsufi@elpais.com\n",
            "dmcclurgwf5@reverbnation.com\n",
            "dmeeu7e@cdbaby.com\n",
            "dmenichinokh0@arizona.edu\n",
            "dmorefieldtwb@bbc.co.uk\n",
            "dmounter1ui@dmoz.org\n",
            "dmulqueen2n9@examiner.com\n",
            "dneathtf@flickr.com\n",
            "dnickoles11p7@msu.edu\n",
            "dnovotna8m6@dyndns.org\n",
            "doag11ts@merriam-webster.com\n",
            "dockleshaw17n@networkadvertising.org\n",
            "doflanneryr3p@dion.ne.jp\n",
            "doleszczakksh@mediafire.com\n",
            "doxtabyjj3@sohu.com\n",
            "dpackpld@forbes.com\n",
            "dpantoned9c@seattletimes.com\n",
            "dparleytia@yahoo.com\n",
            "dparrissfrj@cmu.edu\n",
            "dpickin2v8@4shared.com\n",
            "dpillman7m1@sciencedaily.com\n",
            "dposchelx5y@bandcamp.com\n",
            "dposselt117o@upenn.edu\n",
            "dpreblel3i@xinhuanet.com\n",
            "dprintp3q@illinois.edu\n",
            "dpurtonz8p@facebook.com\n",
            "dradenz06@latimes.com\n",
            "drojfda@gnu.org\n",
            "dronaldsonvfv@ucla.edu\n",
            "drowthorn599@epa.gov\n",
            "droxbyho8@gmpg.org\n",
            "druggz1c@sciencedaily.com\n",
            "dsackey1f8@mlb.com\n",
            "dsandham12fp@booking.com\n",
            "dschusterc5@cnn.com\n",
            "dseggesqkj@nydailynews.com\n",
            "dsesonszhq@addthis.com\n",
            "dsetchfieldq5b@virginia.edu\n",
            "dsharland99x@hc360.com\n",
            "dsharrard1wn@cbslocal.com\n",
            "dshevelines0@china.com.cn\n",
            "dshevilldr6@columbia.edu\n",
            "dshowers4vn@4shared.com\n",
            "dsimenetekl@51.la\n",
            "dslackmor@multiply.com\n",
            "dsnowballvtj@studiopress.com\n",
            "dspinagedb@liveinternet.ru\n",
            "dstert3lu@bbb.org\n",
            "dstoadqfn@sohu.com\n",
            "dstorrockkw0@mlb.com\n",
            "dstringer9bh@xrea.com\n",
            "dswiggsab9@jigsy.com\n",
            "dsyfaxcwm@nih.gov\n",
            "dtanswillc1g@kickstarter.com\n",
            "dteargqf@printfriendly.com\n",
            "dtee10bt@apple.com\n",
            "dtellwrightgtm@meetup.com\n",
            "dtimewelljw5@cmu.edu\n",
            "dtowellbuj@indiegogo.com\n",
            "dtrembeyp10@zimbio.com\n",
            "dtrumandmu@virginia.edu\n",
            "durian104e@google.pl\n",
            "dvallowdfm@51.la\n",
            "dvaltii4w@comsenz.com\n",
            "dvanyukhinqrc@slashdot.org\n",
            "dvintene1r@fotki.com\n",
            "dvintogz@google.cn\n",
            "dwesseljg4@blog.com\n",
            "dwhitlambtd@dedecms.com\n",
            "dwilfingeruho@posterous.com\n",
            "dwincomz85@sun.com\n",
            "dwoolatt1293@spiegel.de\n",
            "dwordley19d@webmd.com\n",
            "dyannuzh@oaic.gov.au\n",
            "dyegorshinbrc@spotify.com\n",
            "dyushkovhuc@bloglovin.com\n",
            "eadamiakqlu@g.co\n",
            "eairdsvra@icio.us\n",
            "eallewaypu6@netscape.com\n",
            "earniz5o1@bizjournals.com\n",
            "eatherlpk@answers.com\n",
            "eaugusta1h@walmart.com\n",
            "eaveling2qp@icio.us\n",
            "eavonwnu@vkontakte.ru\n",
            "ebalme25v@de.vu\n",
            "ebankesf9b@mashable.com\n",
            "ebarrowcliffey4y@adobe.com\n",
            "ebaudinetslk@tripod.com\n",
            "ebaumadierj8i@msu.edu\n",
            "ebernardt9rf@reddit.com\n",
            "ebevero4l@de.vu\n",
            "ebiddy9du@weather.com\n",
            "ebidgoodfj2@topsy.com\n",
            "ebiesingervxi@economist.com\n",
            "eblankmangsr@rediff.com\n",
            "ebleakley43k@slate.com\n",
            "eblewmenvxg@bbc.co.uk\n",
            "ebramhl5@slate.com\n",
            "ebrandinj07@mail.ru\n",
            "ebrandone34w@vimeo.com\n",
            "ebreakwellmo6@earthlink.net\n",
            "ebreite44@cmu.edu\n",
            "ebreukelman8sc@pcworld.com\n",
            "ebriknerbap@gmpg.org\n",
            "ebruhke9b1@rambler.ru\n",
            "ebumpasbsn@com.com\n",
            "eburnsall3b5@feedburner.com\n",
            "ebyrkmyrfga@hp.com\n",
            "ecalcutub1@dmoz.org\n",
            "ecaressio8@sfgate.com\n",
            "ecarme36r@cocolog-nifty.com\n",
            "ecarrenkii@cam.ac.uk\n",
            "ecassidyk9h@liveinternet.ru\n",
            "echewteri74@vimeo.com\n",
            "echinnickfi6@amazon.com\n",
            "echrispinno1@constantcontact.com\n",
            "eclowsleyo45@cornell.edu\n",
            "ecluelowwfw@google.cn\n",
            "ecoldwellru1@sfgate.com\n",
            "econfaithpc@mediafire.com\n",
            "econibere2wj@ed.gov\n",
            "ecookson2dk@youtu.be\n",
            "ecrannach6zq@desdev.cn\n",
            "ecristoferieco@wisc.edu\n",
            "edavidjdt@yolasite.com\n",
            "edomanekagh@cdbaby.com\n",
            "edominighimp6@intel.com\n",
            "edominighiz5o@rambler.ru\n",
            "edorianwzf@tripod.com\n",
            "edrillingcourtfju@sun.com\n",
            "edultonypd@dropbox.com\n",
            "edunkerlyxi6@slideshare.net\n",
            "edyballq0o@over-blog.com\n",
            "eebbin10tp@mediafire.com\n",
            "eelward8f9@nature.com\n",
            "efaughnanzl6@mediafire.com\n",
            "efautleyext@elegantthemes.com\n",
            "eferronelox@constantcontact.com\n",
            "efieldgate846@jigsy.com\n",
            "efilpii9m@tuttocitta.it\n",
            "efinlaterwcb@so-net.ne.jp\n",
            "efordhamu83@usa.gov\n",
            "eforsaithhwj@cnet.com\n",
            "efossjlv@state.tx.us\n",
            "efullstoneyed@yellowbook.com\n",
            "egarstangkf7@amazonaws.com\n",
            "egerringxvh@nsw.gov.au\n",
            "egiffin5qh@nydailynews.com\n",
            "eglascottrqx@nih.gov\n",
            "egleadhelloyy@blogger.com\n",
            "ehackwellqiu@drupal.org\n",
            "ehantonlut@intel.com\n",
            "ehartzenbergpfj@networksolutions.com\n",
            "ehassan12c2@smugmug.com\n",
            "ehellis563@indiatimes.com\n",
            "ehemphillnza@adobe.com\n",
            "ehowisontkh@nhs.uk\n",
            "ehuertaszlj@statcounter.com\n",
            "ehugonin6h0@yellowbook.com\n",
            "ehulburtgxf@1und1.de\n",
            "ehulkfjf@google.com\n",
            "eincescu@samsung.com\n",
            "ejacobszewz@home.pl\n",
            "ejersondkc@bloomberg.com\n",
            "ejewsterbut@tripadvisor.com\n",
            "ejilkesxac@cloudflare.com\n",
            "ejobbinsvqe@elpais.com\n",
            "ejohansenp4x@arstechnica.com\n",
            "ekembryv3x@upenn.edu\n",
            "ekingscote8bw@amazon.co.jp\n",
            "ekinsman992@so-net.ne.jp\n",
            "eklaessond4q@php.net\n",
            "ekleinsternoc1@businessinsider.com\n",
            "eklemenzpz@weebly.com\n",
            "eklosges2c0@storify.com\n",
            "ekollas68h@cnet.com\n",
            "eladlownla@purevolume.com\n",
            "elearevdk@weather.com\n",
            "eleisk96y@shop-pro.jp\n",
            "emacdonoughke5@bluehost.com\n",
            "emacellarsca@imdb.com\n",
            "emacririe7ot@privacy.gov.au\n",
            "emaidmentsy9@unicef.org\n",
            "emanclarkswd@harvard.edu\n",
            "emansfordjre@columbia.edu\n",
            "ematzeitisljy@marriott.com\n",
            "emaudu24@google.co.uk\n",
            "emaynell7y1@cpanel.net\n",
            "emcgeeuh4@istockphoto.com\n",
            "emcguinessbva@elpais.com\n",
            "emckallrd@sciencedaily.com\n",
            "emctrustie5sm@auda.org.au\n",
            "emcveagh4oz@sourceforge.net\n",
            "emcvitypti@mtv.com\n",
            "emollindiniaqft@joomla.org\n",
            "emurtellvdy@domainmarket.com\n",
            "emuzzlewhitecfy@people.com.cn\n",
            "eneasamr64@shutterfly.com\n",
            "enorvelvz9@sogou.com\n",
            "enuzzij1c@globo.com\n",
            "eodoohainewzr@accuweather.com\n",
            "eoglespss@about.com\n",
            "eohenehan5eq@columbia.edu\n",
            "eoxburyv5e@wordpress.com\n",
            "epark10l1@google.com.au\n",
            "eparoni104@microsoft.com\n",
            "epaule4jr@fastcompany.com\n",
            "epaxfordem5x@yale.edu\n",
            "epetofi10ds@goodreads.com\n",
            "ephaupszi@psu.edu\n",
            "epinkie17i@buzzfeed.com\n",
            "epococke171@instagram.com\n",
            "eprandyj6q@yale.edu\n",
            "epurkissbno@mlb.com\n",
            "epynny92@toplist.cz\n",
            "equipp5t7@g.co\n",
            "eravens46@slashdot.org\n",
            "ereignoldsq4j@addtoany.com\n",
            "ericksonl43@yandex.ru\n",
            "eroddamm5p@google.com.au\n",
            "erunnicleswhw@loc.gov\n",
            "eschistl20d@vistaprint.com\n",
            "esedcole2nz@etsy.com\n",
            "esellsvvg@blog.com\n",
            "esetch868@seattletimes.com\n",
            "eshowerkvr@cargocollective.com\n",
            "esibery6oa@wix.com\n",
            "eskokoe11rk@free.fr\n",
            "esoules8f@chronoengine.com\n",
            "espavinsiva@imdb.com\n",
            "estallworthyzmu@flickr.com\n",
            "estanaway9gg@amazon.co.uk\n",
            "estanworth5rj@qq.com\n",
            "estickenszgp@youtube.com\n",
            "estoop554@narod.ru\n",
            "estranieroj32@last.fm\n",
            "estronack3zs@spotify.com\n",
            "estuchbury12a8@xing.com\n",
            "esudron5sl@wiley.com\n",
            "esurgisone7n@soup.io\n",
            "esutworthlhj@storify.com\n",
            "eswarbrickpgz@free.fr\n",
            "eswetmanzpd@ovh.net\n",
            "etallentysq@state.gov\n",
            "etallet34b@cloudflare.com\n",
            "eteaseyjq@homestead.com\n",
            "etemporalv89@ebay.com\n",
            "eterramwia@bravesites.com\n",
            "ethornebarrowzlu@delicious.com\n",
            "etimmonsh3m@bloglovin.com\n",
            "etoolan124v@spotify.com\n",
            "etrevainsjam@unicef.org\n",
            "eupstoneu01@aboutads.info\n",
            "eusherwoodml0@mit.edu\n",
            "everbruggevnp@independent.co.uk\n",
            "evosseqrg@umn.edu\n",
            "ewescotti53@163.com\n",
            "ewhatleyz0p@delicious.com\n",
            "ewilleman7gp@diigo.com\n",
            "ewollraucht24@github.com\n",
            "eyakovlevds5@mozilla.org\n",
            "eyoule2ni@va.gov\n",
            "eyurenev11zc@t-online.de\n",
            "fachesonkzy@ifeng.com\n",
            "farkell66m@comsenz.com\n",
            "fbatheraau@naver.com\n",
            "fbeastall1n6@mlb.com\n",
            "fbenallackorr@icq.com\n",
            "fbentzen96@vistaprint.com\n",
            "fbindin10js@taobao.com\n",
            "fbraniganynb@msu.edu\n",
            "fbratleya8n@harvard.edu\n",
            "fbrownlow606@patch.com\n",
            "fbumpaswyx@reddit.com\n",
            "fcallingham7bb@g.co\n",
            "fcauntxrh@independent.co.uk\n",
            "fchambers5cv@toplist.cz\n",
            "fcluettx8d@163.com\n",
            "fconstanzayoa@networksolutions.com\n",
            "fconwayvb3@artisteer.com\n",
            "fcorneille5bx@mozilla.com\n",
            "fcrakeryh3@yale.edu\n",
            "fcredland9xr@sitemeter.com\n",
            "fcrossgroveqk9@bing.com\n",
            "fcrumby67o@shop-pro.jp\n",
            "fcrush1000@tuttocitta.it\n",
            "fcufflin2z2@mozilla.org\n",
            "fcustyckk@yolasite.com\n",
            "fdaggbbu@vimeo.com\n",
            "fdimbylowzs7@webs.com\n",
            "fdoman7a9@vinaora.com\n",
            "fdraneldl@admin.ch\n",
            "fdresselmld@acquirethisname.com\n",
            "fdurhampu@360.cn\n",
            "fellerbyekx@macromedia.com\n",
            "felsy5hj@dailymail.co.uk\n",
            "ffarquharsonwal@paypal.com\n",
            "ffeatherstonerzh@networkadvertising.org\n",
            "ffevierjdp@newyorker.com\n",
            "fffoulkesjf8@hhs.gov\n",
            "ffieldgate4hk@theatlantic.com\n",
            "ffillonhkp@forbes.com\n",
            "fflaubertyo6@networksolutions.com\n",
            "ffonescr2@shutterfly.com\n",
            "fgiblinh4f@nifty.com\n",
            "fgilbridej39@yahoo.co.jp\n",
            "fgilloranoll@vinaora.com\n",
            "fgiraudouxw1q@e-recht24.de\n",
            "fgravie75q@ft.com\n",
            "fgreedy8d5@gov.uk\n",
            "fgritsunovmjc@foxnews.com\n",
            "fhallihantb1@un.org\n",
            "fhalliwellrgv@squarespace.com\n",
            "fhaste11y5@so-net.ne.jp\n",
            "fhawksleez8t@indiegogo.com\n",
            "fheadyf5m@artisteer.com\n",
            "fhearst4l5@hhs.gov\n",
            "fhedylstoneghg@ted.com\n",
            "fhillborne11vg@163.com\n",
            "fhillock11ea@php.net\n",
            "fioselevichfns@gravatar.com\n",
            "fjedrzejewskyg0f@accuweather.com\n",
            "fjordison2ml@mysql.com\n",
            "fjosskoviz10ph@adobe.com\n",
            "fkleynermans35h@fema.gov\n",
            "fkoseljbw@alibaba.com\n",
            "fkowal6uh@photobucket.com\n",
            "fkunzel8uw@mozilla.org\n",
            "fkuscharku@ask.com\n",
            "flambavsk@unicef.org\n",
            "flefeveryo@themeforest.net\n",
            "fmaccollzt1@devhub.com\n",
            "fmacgeaney7r3@ed.gov\n",
            "fmanganjk2@gravatar.com\n",
            "fmarcinkowskilzw@behance.net\n",
            "fmartygin114k@vinaora.com\n",
            "fmastersd7f@va.gov\n",
            "fmayowkxn@webeden.co.uk\n",
            "fmazzeybty@princeton.edu\n",
            "fmcenirykg7@ning.com\n",
            "fmicheaufwt@admin.ch\n",
            "fmuckeen12gm@newyorker.com\n",
            "fnewby7p7@example.com\n",
            "fnicollsnm4@msn.com\n",
            "fnozzolinii109e@yelp.com\n",
            "foaklandpzl@mtv.com\n",
            "focorrigane67w@ftc.gov\n",
            "fodome8o@ft.com\n",
            "fomearan1e@mozilla.com\n",
            "fovenj52@imgur.com\n",
            "fpiffek3z@mlb.com\n",
            "fpoel5x2@npr.org\n",
            "fposselt3d9@w3.org\n",
            "fpunchardbdn@statcounter.com\n",
            "fquin856@nih.gov\n",
            "fradeliffexvw@wordpress.org\n",
            "franscomeoqq@dyndns.org\n",
            "fretterci8@goo.gl\n",
            "frowneypc3@apple.com\n",
            "fsalters1123@princeton.edu\n",
            "fsansburyv1u@gravatar.com\n",
            "fshuttlembc@dot.gov\n",
            "fsoden3ka@google.de\n",
            "fsoloway11z6@blogger.com\n",
            "fspraberryw2g@addthis.com\n",
            "ftavernorgkp@hp.com\n",
            "fthackrayrb9@usa.gov\n",
            "ftraiceaqn@google.com.br\n",
            "ftrelevenlz5@dailymail.co.uk\n",
            "ftunesiofx@usnews.com\n",
            "fvaune9q4@51.la\n",
            "fverekersol@reuters.com\n",
            "fwenmanziu@state.gov\n",
            "fwerlockdt8@google.cn\n",
            "fwhistan1104@sfgate.com\n",
            "fwillimotqj4@reddit.com\n",
            "fwinstanleybyt@taobao.com\n",
            "fwoodroof72i@chronoengine.com\n",
            "gacorsdtl@liveinternet.ru\n",
            "galldred6in@nhs.uk\n",
            "gandrettibus@wix.com\n",
            "gannesley18l@google.com\n",
            "gathersmith2g5@bizjournals.com\n",
            "gaustinzsq@china.com.cn\n",
            "gbalcerstqu@un.org\n",
            "gballay1fx@wordpress.org\n",
            "gbarleeq0e@upenn.edu\n",
            "gbavagedbf@intel.com\n",
            "gbedboroughfi2@google.com.au\n",
            "gbeekumt@hubpages.com\n",
            "gbellanger2j6@amazon.co.uk\n",
            "gbernadondfp@sourceforge.net\n",
            "gbettley71a@istockphoto.com\n",
            "gbillingslyi29@businessweek.com\n",
            "gbinstead1z3@europa.eu\n",
            "gbirksm8b@weibo.com\n",
            "gblacklidgef65@tripadvisor.com\n",
            "gboanastu9@earthlink.net\n",
            "gbogeyfk@chronoengine.com\n",
            "gbollinsgya@theglobeandmail.com\n",
            "gbondesen9r9@tamu.edu\n",
            "gbondesenfce@furl.net\n",
            "gboninduu@mashable.com\n",
            "gbosomworthkww@csmonitor.com\n",
            "gbraiziero0o@slate.com\n",
            "gburchilli6h@cornell.edu\n",
            "gburgentn8@ycombinator.com\n",
            "gburnyateas5@joomla.org\n",
            "gbuse1058@imgur.com\n",
            "gcahalanso@businessweek.com\n",
            "gcapelinggmm@loc.gov\n",
            "gcaskey3an@narod.ru\n",
            "gchandlarvpm@nationalgeographic.com\n",
            "gcheeld5gn@1688.com\n",
            "gchilds124x@studiopress.com\n",
            "gchiplen60q@trellian.com\n",
            "gchomickijxy@cnet.com\n",
            "gchstneyur7@vinaora.com\n",
            "gciraldozev@apple.com\n",
            "gcominitet@hc360.com\n",
            "gcommuccimkt@netvibes.com\n",
            "gcorammmi@mac.com\n",
            "gcrampton3io@nifty.com\n",
            "gcrookall3kr@dell.com\n",
            "gcrossthwaitemg@privacy.gov.au\n",
            "gdagonrz3@businesswire.com\n",
            "gdanihelka33w@live.com\n",
            "gdantonl3m@1und1.de\n",
            "gdelahaye69x@yahoo.co.jp\n",
            "gdespenserxhe@friendfeed.com\n",
            "gdetocjov@princeton.edu\n",
            "gdeverehuntxjp@purevolume.com\n",
            "gdicksonlo1@adobe.com\n",
            "gdorosariog66@psu.edu\n",
            "gdowdellugc@barnesandnoble.com\n",
            "gduchamvdn@ifeng.com\n",
            "gedgworth6br@gov.uk\n",
            "gfaheyi3i@youtu.be\n",
            "gfaldoezcv@dedecms.com\n",
            "gfanninglcl@usnews.com\n",
            "gfargie4z6@networksolutions.com\n",
            "gfatkinahg@devhub.com\n",
            "gfavelujt@eepurl.com\n",
            "gferier11xo@cloudflare.com\n",
            "gfilippovhoy@miibeian.gov.cn\n",
            "gfleckneypae@constantcontact.com\n",
            "gfraniesb40@homestead.com\n",
            "gfranzottohhz@google.de\n",
            "ggalileeubf@mac.com\n",
            "ggarrity11tp@ca.gov\n",
            "ggaveltonen9y@irs.gov\n",
            "ggirardettifbw@issuu.com\n",
            "ggirardeyo5x@ca.gov\n",
            "ggobbettpdq@purevolume.com\n",
            "ggochg6p@senate.gov\n",
            "ggreengrass1pb@ibm.com\n",
            "ggrieffg9@artisteer.com\n",
            "gguillotins@reddit.com\n",
            "ghalwelld9b@europa.eu\n",
            "ghanretty70q@xinhuanet.com\n",
            "gheinertx55@edublogs.org\n",
            "ghousamc0v@xing.com\n",
            "ghundeyaqq@howstuffworks.com\n",
            "gitzchakidhe@imdb.com\n",
            "gizon3nx@oakley.com\n",
            "gjannexvdb@hp.com\n",
            "gjentleqr3@dedecms.com\n",
            "gjowlingj14@miitbeian.gov.cn\n",
            "gjuaraahy@wsj.com\n",
            "gjuszczykiy8@lulu.com\n",
            "gkalkhoven5rd@ucoz.com\n",
            "gkealy112@dailymail.co.uk\n",
            "gkershow1zl@youtu.be\n",
            "gkisting10g@yandex.ru\n",
            "gkreberl7p@nationalgeographic.com\n",
            "gkrzyzowskicys@biglobe.ne.jp\n",
            "gladdsudb@ucsd.edu\n",
            "glamportfea@alexa.com\n",
            "gleemansjif@gravatar.com\n",
            "gletixiermir@google.de\n",
            "glevey9rr@altervista.org\n",
            "glipphno@wunderground.com\n",
            "glutzmann8yc@hostgator.com\n",
            "glyles127f@bigcartel.com\n",
            "gmaccrackan8rd@tinypic.com\n",
            "gmackaigu6w@dedecms.com\n",
            "gmannie11fv@delicious.com\n",
            "gmaskewoq4@tripadvisor.com\n",
            "gmcgradyp2j@nationalgeographic.com\n",
            "gmcpeicemuj@istockphoto.com\n",
            "gmellenby5zq@yellowbook.com\n",
            "gmilnenia@businessweek.com\n",
            "gmirandoi8r@loc.gov\n",
            "gmountfortglo@icq.com\n",
            "gnials113y@ehow.com\n",
            "gosmaregv@multiply.com\n",
            "gpalfremantzu@dailymotion.com\n",
            "gpancoastz05@odnoklassniki.ru\n",
            "gparadesuru@shinystat.com\n",
            "gparkseu0@businessinsider.com\n",
            "gpenellaxby@comsenz.com\n",
            "gpenley6c5@irs.gov\n",
            "gpetrellispl@amazon.com\n",
            "gpietruschkast5@buzzfeed.com\n",
            "gpollackalm@google.fr\n",
            "gpoutress26p@nsw.gov.au\n",
            "gpoynzeru1e@mashable.com\n",
            "gpoytressv4y@fda.gov\n",
            "gprangleegm@flickr.com\n",
            "gpresidey10nx@shutterfly.com\n",
            "gprujean12dk@nytimes.com\n",
            "gpughsleymwa@dagondesign.com\n",
            "grainonyov@tiny.cc\n",
            "grichingssez@ucsd.edu\n",
            "griddeltxh@tripadvisor.com\n",
            "gsancias1jb@phpbb.com\n",
            "gscanlone97@tiny.cc\n",
            "gsedgeworthn8s@github.com\n",
            "gselbyeby@nsw.gov.au\n",
            "gshearsiuo@ow.ly\n",
            "gshimonbmz@list-manage.com\n",
            "gsipsonp4@vinaora.com\n",
            "gslarkl08@utexas.edu\n",
            "gsleithsbd@craigslist.org\n",
            "gsondon4pz@csmonitor.com\n",
            "gsparshettpmt@abc.net.au\n",
            "gstarkqtg@state.tx.us\n",
            "gstedmanj74@php.net\n",
            "gstrathearncha@usnews.com\n",
            "gtattamwas@photobucket.com\n",
            "gvasishchev442@list-manage.com\n",
            "gvealllvl@adobe.com\n",
            "gwardrope1uy@google.pl\n",
            "gwelfordcpa@sciencedirect.com\n",
            "gwestbysmk@army.mil\n",
            "gwestmancws@bandcamp.com\n",
            "gwheeltonfxm@goo.ne.jp\n",
            "gwhimperyur@skyrock.com\n",
            "gwiddowsryd@chronoengine.com\n",
            "gwoffinden11m7@reverbnation.com\n",
            "gwondraschekuik@amazon.co.jp\n",
            "gwort23u@ycombinator.com\n",
            "gyannedoj@apache.org\n",
            "gyashunin1gd@about.com\n",
            "gyusupov39f@reference.com\n",
            "hagastina4p7@purevolume.com\n",
            "hairdsqh9@clickbank.net\n",
            "halesbrookwle@mashable.com\n",
            "handriolettiqzf@aol.com\n",
            "hangiertvd@tiny.cc\n",
            "hbartocciav3@unicef.org\n",
            "hbaytrop7ju@seattletimes.com\n",
            "hbeatonx0z@gizmodo.com\n",
            "hbegleyht6@miibeian.gov.cn\n",
            "hbeltonv41@ning.com\n",
            "hbemrosewqs@gov.uk\n",
            "hbench530@samsung.com\n",
            "hbendinie6@ow.ly\n",
            "hbessantdc9@tripadvisor.com\n",
            "hborlease10qm@flickr.com\n",
            "hbowsr62@joomla.org\n",
            "hbraddq2i@sogou.com\n",
            "hbrasherb3f@techcrunch.com\n",
            "hbrethertonzp8@sogou.com\n",
            "hbustard1wr@spotify.com\n",
            "hcallendarwfc@de.vu\n",
            "hcardnko@guardian.co.uk\n",
            "hcasley10oe@yale.edu\n",
            "hchastanetzh2@sciencedaily.com\n",
            "hchelnamkkb@epa.gov\n",
            "hchoak10h@mit.edu\n",
            "hclausenthuecqz@ask.com\n",
            "hclimance4b0@squidoo.com\n",
            "hcobsoncgr@disqus.com\n",
            "hcordallwcz@blinklist.com\n",
            "hcostalsl@cdc.gov\n",
            "hcottere9b@chron.com\n",
            "hcourtenay8xk@tripod.com\n",
            "hdavidovitzkpk@mtv.com\n",
            "hdawtryxze@nytimes.com\n",
            "hdensumbejzy@cmu.edu\n",
            "hdmitrievbee@taobao.com\n",
            "hdonati8xj@wikia.com\n",
            "hdonisthorpe4ro@joomla.org\n",
            "hdrysdalebiu@rakuten.co.jp\n",
            "hduffy25m@prlog.org\n",
            "hdurrett90y@biglobe.ne.jp\n",
            "helliker2tr@mtv.com\n",
            "hellisschp@berkeley.edu\n",
            "hfarnishnnz@umich.edu\n",
            "hfinneranr56@irs.gov\n",
            "hgauldwen@fema.gov\n",
            "hgeke9w9@redcross.org\n",
            "hgerataschsox@joomla.org\n",
            "hgiron7zm@nydailynews.com\n",
            "hgoodreidejr@geocities.com\n",
            "hgorrie11ja@howstuffworks.com\n",
            "hgratrixqve@wiley.com\n",
            "hgreginemjm@unc.edu\n",
            "hgruby10wc@google.co.uk\n",
            "hgullyes128e@xing.com\n",
            "hhamsherzlq@lycos.com\n",
            "hhandleyrra@google.pl\n",
            "hhartfieldn4k@360.cn\n",
            "hhelsdon71e@eventbrite.com\n",
            "hhensonv@nsw.gov.au\n",
            "hhornungwcv@paypal.com\n",
            "hhupew9d@smh.com.au\n",
            "hhusset4oi@mit.edu\n",
            "hjaycocksveo@comsenz.com\n",
            "hjiroudek4fy@telegraph.co.uk\n",
            "hjurkiewiczb5g@taobao.com\n",
            "hkebellzdk@google.cn\n",
            "hkryszkazuc@cnbc.com\n",
            "hlarimerwz7@blog.com\n",
            "hleheudegiz@eventbrite.com\n",
            "hleivers522@cornell.edu\n",
            "hleonw1j@mysql.com\n",
            "hlightwingh9v@google.es\n",
            "hlorencew8f@unblog.fr\n",
            "hmacalinden4ud@blogtalkradio.com\n",
            "hmaccaughans6a@gizmodo.com\n",
            "hmaciasgjl@eepurl.com\n",
            "hmccheyne18k@acquirethisname.com\n",
            "hmccraine4vf@xing.com\n",
            "hmcgeffenl2h@about.com\n",
            "hmcgilroy9z1@businesswire.com\n",
            "hmcmackin8qj@soundcloud.com\n",
            "hmenham41o@wikimedia.org\n",
            "hmichallata0p@nba.com\n",
            "hmillamfdr@wufoo.com\n",
            "hminers610@mayoclinic.com\n",
            "hnaisbyeoc@gnu.org\n",
            "hnewlingf8t@businessweek.com\n",
            "hnoweak39n@cnet.com\n",
            "hocodihiez66@wiley.com\n",
            "hogaven2pj@umn.edu\n",
            "holuwatoyin3gc@loc.gov\n",
            "hosirinkop@altervista.org\n",
            "hpalethorpevbs@ehow.com\n",
            "hpaulitschkeyp8@cbslocal.com\n",
            "hpennick101b@dion.ne.jp\n",
            "hpilbeamyn7@flickr.com\n",
            "hplaskett3ds@rediff.com\n",
            "hpollittj6n@last.fm\n",
            "hpoulsumsp4@unblog.fr\n",
            "hpoylezzv@acquirethisname.com\n",
            "hpurselowev@oaic.gov.au\n",
            "hpurseswm@answers.com\n",
            "hpursey10ue@blogs.com\n",
            "hquiddihykd2@boston.com\n",
            "hriatt4b6@gmpg.org\n",
            "hriellyria@uol.com.br\n",
            "hrissendbk@sohu.com\n",
            "hrymourqe9@eventbrite.com\n",
            "hsandbrookehx@who.int\n",
            "hschimoni8v9@smugmug.com\n",
            "hsenett93y@histats.com\n",
            "hsevernqsp@opensource.org\n",
            "hshaplin6fv@loc.gov\n",
            "hslinn64l@cbsnews.com\n",
            "hsmailscml@nationalgeographic.com\n",
            "hsnelson92l@bluehost.com\n",
            "hsommerlie105a@about.com\n",
            "hspottiswoodn75@auda.org.au\n",
            "hstonestreet64z@nps.gov\n",
            "hsuattfy@deviantart.com\n",
            "hsuccamores3@chron.com\n",
            "hsukbhans7kb@yellowpages.com\n",
            "hswanbourne10qd@vistaprint.com\n",
            "hsywellk5s@blinklist.com\n",
            "htalmanne3@geocities.com\n",
            "htennockk5y@usatoday.com\n",
            "htetley1t3@google.cn\n",
            "htolsonh2c@rediff.com\n",
            "htosselllvi@msu.edu\n",
            "htrahmelopo@constantcontact.com\n",
            "htwellpge@oaic.gov.au\n",
            "hvanderlindezm6@sfgate.com\n",
            "hvanyukovr38@github.io\n",
            "hvialsjo2@mail.ru\n",
            "hwakelingwvx@wikispaces.com\n",
            "hwastell607@umich.edu\n",
            "hwestfrimleyoma@unicef.org\n",
            "hwhiscardzvg@nih.gov\n",
            "hwhittock558@barnesandnoble.com\n",
            "hwiffen10mb@google.com.br\n",
            "hwillimotyhi@comcast.net\n",
            "hzacks4c@booking.com\n",
            "hzanetello8n7@yahoo.co.jp\n",
            "iabdee8ei@friendfeed.com\n",
            "iandrioni9kn@usnews.com\n",
            "ibaskeyfieldmfi@vistaprint.com\n",
            "ibirkenheadypm@csmonitor.com\n",
            "iboggis8xm@163.com\n",
            "ibultitudei0z@tmall.com\n",
            "icayzerahr@guardian.co.uk\n",
            "iclementzwt@liveinternet.ru\n",
            "icodrington3yg@mit.edu\n",
            "icomford689@jugem.jp\n",
            "icromar5dk@biblegateway.com\n",
            "icrowtheh6b@canalblog.com\n",
            "idudekuiy@virginia.edu\n",
            "iduleygd8@gizmodo.com\n",
            "ielgramxjr@list-manage.com\n",
            "ifilipoqp@redcross.org\n",
            "igarmanson88g@naver.com\n",
            "igaroghanhez@cnn.com\n",
            "igebbewho@live.com\n",
            "igerretsqei@godaddy.com\n",
            "igoodrickeeni@amazonaws.com\n",
            "igunstoneeyx@domainmarket.com\n",
            "ihaugghyo@flickr.com\n",
            "ihughillj@nationalgeographic.com\n",
            "iinsullqq0@yolasite.com\n",
            "ijohnstonmh8@wunderground.com\n",
            "ijoutapaviciusxtb@blogspot.com\n",
            "ikarolovsky105k@vistaprint.com\n",
            "ilapthornvjw@amazon.co.uk\n",
            "ileagasqzq@tinyurl.com\n",
            "ilindenmanmdf@ted.com\n",
            "ilipscombexz9@friendfeed.com\n",
            "ilovelandpwl@wp.com\n",
            "imagarrell46k@xrea.com\n",
            "imcinteerac9@berkeley.edu\n",
            "imowatx9w@plala.or.jp\n",
            "inorsister20v@spotify.com\n",
            "iovey5wm@java.com\n",
            "ipadginton7q6@senate.gov\n",
            "ipetriellon58@liveinternet.ru\n",
            "ipideon4v4@washingtonpost.com\n",
            "irosenshine9wh@apple.com\n",
            "isatford29l@flickr.com\n",
            "ishilitonlko@ycombinator.com\n",
            "isifleeta59@redcross.org\n",
            "isollowayetig@trellian.com\n",
            "ispellessyecj@chronoengine.com\n",
            "istegellpen@stumbleupon.com\n",
            "iswindenm1q@sciencedaily.com\n",
            "itald9l@virginia.edu\n",
            "ithompstonefov@etsy.com\n",
            "ivanderkruisg7q@networkadvertising.org\n",
            "iwhimpzgt@surveymonkey.com\n",
            "iwhitehead3yk@wiley.com\n",
            "iwickliffec27@jugem.jp\n",
            "iwilshirexmv@ucoz.com\n",
            "jadamsen12fx@parallels.com\n",
            "jannettdch@skyrock.com\n",
            "japfler42h@simplemachines.org\n",
            "jaston5xq@cloudflare.com\n",
            "jbarreau8vy@delicious.com\n",
            "jbarrim2zo@apple.com\n",
            "jbarthot3if@oaic.gov.au\n",
            "jbassickirw@nature.com\n",
            "jbathersbyezl@biblegateway.com\n",
            "jbatonnr0@smugmug.com\n",
            "jbeaverscnt@state.gov\n",
            "jbilbie5yf@tmall.com\n",
            "jbinehamec@jalbum.net\n",
            "jblackledgeuwv@rakuten.co.jp\n",
            "jbluemanifs@dagondesign.com\n",
            "jbodega7tv@discuz.net\n",
            "jbostick17b@imageshack.us\n",
            "jboswardoxa@biglobe.ne.jp\n",
            "jbougenfez@jiathis.com\n",
            "jbrainsbykc9@mayoclinic.com\n",
            "jbreretonpsx@accuweather.com\n",
            "jbrighty980@mlb.com\n",
            "jbrodyl0h@skyrock.com\n",
            "jcanas9wf@cdbaby.com\n",
            "jcastiglioiwo@pbs.org\n",
            "jcaswalljdz@bloomberg.com\n",
            "jcawtherygdi@amazon.co.uk\n",
            "jchadburnpw4@auda.org.au\n",
            "jchotty125q@plala.or.jp\n",
            "jclemptonytv@multiply.com\n",
            "jcloneyux4@nba.com\n",
            "jclyde321@fotki.com\n",
            "jconers53u@liveinternet.ru\n",
            "jcornilmzt@ezinearticles.com\n",
            "jcozby25s@slate.com\n",
            "jcricketx2x@liveinternet.ru\n",
            "jcurrin10ze@tiny.cc\n",
            "jczajkowski4ae@imgur.com\n",
            "jdaenenx96@aol.com\n",
            "jdavenallwg6@goodreads.com\n",
            "jdecruseb6h@photobucket.com\n",
            "jdemalchar5kl@alibaba.com\n",
            "jdennis100p@is.gd\n",
            "jderyebarrettdfe@ucsd.edu\n",
            "jdethloffg39@vkontakte.ru\n",
            "jdiemj3g@japanpost.jp\n",
            "jdifilippojnp@zimbio.com\n",
            "jdionisfbs@barnesandnoble.com\n",
            "jdomengue12g8@networksolutions.com\n",
            "jdonaghiexxz@nasa.gov\n",
            "jdoolanpio@desdev.cn\n",
            "jdreghornj5a@nasa.gov\n",
            "jdudderidge7xm@google.co.uk\n",
            "jduferiedj5@1und1.de\n",
            "jduffree10ty@ftc.gov\n",
            "jeastgate6rx@smh.com.au\n",
            "jeldenwld@youku.com\n",
            "jelementafg@biglobe.ne.jp\n",
            "jelsey9a9@addthis.com\n",
            "jewing12d5@bravesites.com\n",
            "jfarmery10ai@tmall.com\n",
            "jfawloatz@live.com\n",
            "jfeakinsgth@deliciousdays.com\n",
            "jfebrelru@posterous.com\n",
            "jfoakescdq@huffingtonpost.com\n",
            "jfollitt69u@surveymonkey.com\n",
            "jfouracres2tg@biglobe.ne.jp\n",
            "jgeldartjhe@answers.com\n",
            "jgeorge8i@hubpages.com\n",
            "jgipsonxge@ezinearticles.com\n",
            "jglasscootnf@fda.gov\n",
            "jglazierld1@i2i.jp\n",
            "jgooldingzpa@webnode.com\n",
            "jgrashafk9@trellian.com\n",
            "jgregrs5m@symantec.com\n",
            "jgristhwaite8yy@newyorker.com\n",
            "jgrunwaldnnf@furl.net\n",
            "jgrzelakl88@usa.gov\n",
            "jguisotd2w@barnesandnoble.com\n",
            "jgyurkotm8@amazon.de\n",
            "jhandes9yr@amazon.de\n",
            "jhandford7ji@google.com.hk\n",
            "jhanlinxdv@hibu.com\n",
            "jharburtsonpnv@usa.gov\n",
            "jhargrovehff@weebly.com\n",
            "jhawkingv9z@360.cn\n",
            "jhayne7vw@chronoengine.com\n",
            "jheeley8sw@fotki.com\n",
            "jhordellefv@cbslocal.com\n",
            "jhurlesvy7@simplemachines.org\n",
            "jisitt10n3@buzzfeed.com\n",
            "jjagsongj7@freewebs.com\n",
            "jjansikm44@spiegel.de\n",
            "jjerger10te@gnu.org\n",
            "jjillissdas@biblegateway.com\n",
            "jjimpsonhb2@dedecms.com\n",
            "jjochananyoc@behance.net\n",
            "jjoyesi6q@umich.edu\n",
            "jkahn641@bloomberg.com\n",
            "jkeuneke7ho@cnet.com\n",
            "jkornes3ud@mysql.com\n",
            "jkuschelo36@house.gov\n",
            "jlagne5vl@simplemachines.org\n",
            "jlampetthk7@is.gd\n",
            "jlanferfii@dell.com\n",
            "jlawrence11s3@meetup.com\n",
            "jleekvcg@kickstarter.com\n",
            "jlevane122b@smugmug.com\n",
            "jlilianz86@chicagotribune.com\n",
            "jlilley3hf@cocolog-nifty.com\n",
            "jlindenfeldylw@seesaa.net\n",
            "jlindenmankus@huffingtonpost.com\n",
            "jlofthouse5d8@ibm.com\n",
            "jluddyve1@github.com\n",
            "jlyven10b8@com.com\n",
            "jmacianu3i@drupal.org\n",
            "jmackney11ue@npr.org\n",
            "jmaliphanta7b@si.edu\n",
            "jmasterman7zy@pen.io\n",
            "jmccormickttu@squarespace.com\n",
            "jmcginlayiy4@goo.gl\n",
            "jmckeondf3@google.fr\n",
            "jmckernan8ah@ning.com\n",
            "jmcquillin6uo@state.tx.us\n",
            "jmilnthorpe11a@businesswire.com\n",
            "jminettey99@dion.ne.jp\n",
            "jmingayeqgj@feedburner.com\n",
            "jmourbeylj4@opera.com\n",
            "jodoghestyjf0@aol.com\n",
            "jodriscoll11uy@pagesperso-orange.fr\n",
            "jonolanzag@ameblo.jp\n",
            "jorys9uq@icq.com\n",
            "jpauteakr@i2i.jp\n",
            "jpavolilloqur@youku.com\n",
            "jpeatheyjohnsy56@netvibes.com\n",
            "jpeeblesgbw@upenn.edu\n",
            "jperl9sx@domainmarket.com\n",
            "jpettersenuip@businessinsider.com\n",
            "jpiffefws@google.com.au\n",
            "jpitrollo947@last.fm\n",
            "jpocklingtonmik@usatoday.com\n",
            "jquarrie76g@jugem.jp\n",
            "jradkiaf7@yolasite.com\n",
            "jrismanlkm@sciencedaily.com\n",
            "jrobbeoxe@shutterfly.com\n",
            "jrosasmqd@nature.com\n",
            "jrosenauerzrs@reference.com\n",
            "jroseoyo@vimeo.com\n",
            "jrotgegcr@w3.org\n",
            "jsavouryohc@cbc.ca\n",
            "jsaylor8ux@soup.io\n",
            "jsellor765@buzzfeed.com\n",
            "jshillittowjq@msu.edu\n",
            "jsilkstone1qx@patch.com\n",
            "jsketch2fb@yolasite.com\n",
            "jslixby9u6@tmall.com\n",
            "jsnaddin4t@typepad.com\n",
            "jsoamek67@imdb.com\n",
            "jsorensenrx4@vk.com\n",
            "jstanlackw58@cpanel.net\n",
            "jstickells1qh@virginia.edu\n",
            "jstuffinst6a@quantcast.com\n",
            "jtapinxbt@w3.org\n",
            "jtassellfe4@w3.org\n",
            "jtaylerqni@netscape.com\n",
            "jthominga8uq@oakley.com\n",
            "jthorneloehfl@cmu.edu\n",
            "jupsonpr3@prweb.com\n",
            "jvalde4md@goo.ne.jp\n",
            "jvalesu6t@soup.io\n",
            "jvanyashinb6w@umn.edu\n",
            "jvasyutochkino4y@about.me\n",
            "jvelticmn@vkontakte.ru\n",
            "jverntg8@woothemes.com\n",
            "jvolettenpz@woothemes.com\n",
            "jvongrollmann22r@nsw.gov.au\n",
            "jwort12jm@telegraph.co.uk\n",
            "jwyett1v5@eepurl.com\n",
            "jyakubovichhg4@diigo.com\n",
            "kaddionisiob10@yellowpages.com\n",
            "kallgoodf04@cargocollective.com\n",
            "kambergceo@europa.eu\n",
            "karchbould8h9@printfriendly.com\n",
            "karmittbvx@yahoo.co.jp\n",
            "kbacopqsk@wp.com\n",
            "kbaldcockc3i@irs.gov\n",
            "kballchinrux@time.com\n",
            "kbamberyau0@domainmarket.com\n",
            "kbanglella@issuu.com\n",
            "kbarehamt3c@skype.com\n",
            "kbarnewallvst@scientificamerican.com\n",
            "kbatchellor26i@shop-pro.jp\n",
            "kbeagles1243@aol.com\n",
            "kbeavonyv9@microsoft.com\n",
            "kbeckworthdjg@usda.gov\n",
            "kbessomc4d@4shared.com\n",
            "kbezzantlp9@usgs.gov\n",
            "kbiggadike3sx@ifeng.com\n",
            "kblaby10p@topsy.com\n",
            "kblindermannrdj@unicef.org\n",
            "kboarerjn6@samsung.com\n",
            "kbompas2nu@census.gov\n",
            "kbridgerii8@paypal.com\n",
            "kbrillemanvui@ucoz.ru\n",
            "kbrogi6rh@slate.com\n",
            "kbrownrigg10rk@jalbum.net\n",
            "kburnett9p@webmd.com\n",
            "kcapeliy@baidu.com\n",
            "kcareyhes@freewebs.com\n",
            "kcarlilll91@mtv.com\n",
            "kcaton11d2@vinaora.com\n",
            "kcausby3gx@yahoo.com\n",
            "kcessfordec9@homestead.com\n",
            "kcheavin1ti@sina.com.cn\n",
            "kchild6yv@archive.org\n",
            "kclampettdhx@reverbnation.com\n",
            "kcoath5u4@princeton.edu\n",
            "kcolten7iu@latimes.com\n",
            "kcomizzoliup@topsy.com\n",
            "kconnachan5ub@woothemes.com\n",
            "kcoryh95@nbcnews.com\n",
            "kcrabbb4t@jigsy.com\n",
            "kcrichtonr12@ed.gov\n",
            "kcrockfordfm8@pinterest.com\n",
            "kculloteykcq@harvard.edu\n",
            "kdaggettq40@archive.org\n",
            "kdemcak2tu@istockphoto.com\n",
            "kdemeltzvs@archive.org\n",
            "kdenningcm0@uiuc.edu\n",
            "kdenningtonx2g@tripadvisor.com\n",
            "kdewickea3a@php.net\n",
            "kdmych9kt@comsenz.com\n",
            "kdumingos2qa@senate.gov\n",
            "kduriehjj@nymag.com\n",
            "kdustt98@clickbank.net\n",
            "kdutton2c5@myspace.com\n",
            "kduxfieldmlj@edublogs.org\n",
            "kdwerryhousenw6@reddit.com\n",
            "keckert105j@disqus.com\n",
            "keelesv6a@woothemes.com\n",
            "kelmarxkv@blogtalkradio.com\n",
            "keppersonl73@purevolume.com\n",
            "kepsly9s5@elegantthemes.com\n",
            "kespinhok7g@unesco.org\n",
            "kfacer9zs@163.com\n",
            "kfairbourn1132@jimdo.com\n",
            "kferryybr@bizjournals.com\n",
            "kfitzroyk9z@bbb.org\n",
            "kfloweth5j4@nasa.gov\n",
            "kfollinx14@tripod.com\n",
            "kfrankcomnqc@yandex.ru\n",
            "kfronsekjnh@hugedomains.com\n",
            "kgarrardgiy@google.com.br\n",
            "kgheeraertlq7@jalbum.net\n",
            "kgibbons8mn@cnn.com\n",
            "kginnellybdu@sphinn.com\n",
            "kgiovaniziorg4@pagesperso-orange.fr\n",
            "kgoldster5v1@washingtonpost.com\n",
            "kgoomes3mv@usnews.com\n",
            "kgrishelyovp6s@businessinsider.com\n",
            "kgun5dc@ucla.edu\n",
            "kgynnea78@vimeo.com\n",
            "khabbemakx9@amazon.co.uk\n",
            "khadawayktz@microsoft.com\n",
            "khaffordjk0@homestead.com\n",
            "kharrill10bw@studiopress.com\n",
            "khaville9ox@reuters.com\n",
            "khellyar56a@telegraph.co.uk\n",
            "khulburtvw0@upenn.edu\n",
            "khulllyw@toplist.cz\n",
            "khurketth77@netlog.com\n",
            "kickovici4wu@trellian.com\n",
            "kjagiellou25@alibaba.com\n",
            "kjimeneze0s@360.cn\n",
            "kjosselsonlzo@live.com\n",
            "kkaresw2a@unc.edu\n",
            "kkavanaghclv@dion.ne.jp\n",
            "kkezourecx2t@sakura.ne.jp\n",
            "kkirtleys31@blogtalkradio.com\n",
            "kklazengacog@hugedomains.com\n",
            "kklossmann8iv@youku.com\n",
            "kknightleyvip@opera.com\n",
            "klakerhpj@ehow.com\n",
            "klarciereep4@123-reg.co.uk\n",
            "klarhambif@quantcast.com\n",
            "klauretic4@fastcompany.com\n",
            "klavrick88f@nps.gov\n",
            "klefeuvre1l7@walmart.com\n",
            "klippingwellsuu@pagesperso-orange.fr\n",
            "klomax6x2@pagesperso-orange.fr\n",
            "klorrymanx0d@mashable.com\n",
            "kloughrenoa7@geocities.jp\n",
            "klowensohnlop@cdc.gov\n",
            "kluard5vb@vinaora.com\n",
            "kluttonzb0@vkontakte.ru\n",
            "kmacalindenbk8@apple.com\n",
            "kmaccreew2o@reverbnation.com\n",
            "kmacgiollaf0f@nih.gov\n",
            "kmaffiotti6qv@networkadvertising.org\n",
            "kmartinettodns@joomla.org\n",
            "kmccollum1fe@fotki.com\n",
            "kmcgeeverjih@aboutads.info\n",
            "kmelmore88h@ucsd.edu\n",
            "kmeynellupx@smugmug.com\n",
            "kmitchinervf8@utexas.edu\n",
            "kmivali4r@skyrock.com\n",
            "kmohamedrbi@paypal.com\n",
            "kmoorevzv@time.com\n",
            "kmorse414@illinois.edu\n",
            "kmossszy@webeden.co.uk\n",
            "kmould2el@narod.ru\n",
            "kmundypxy@ustream.tv\n",
            "kmurfettr3@washingtonpost.com\n",
            "knatwickz9f@pinterest.com\n",
            "knono1a2@weather.com\n",
            "koakshottpy2@japanpost.jp\n",
            "kolageneyl@utexas.edu\n",
            "koleagham20@meetup.com\n",
            "kordish6jq@purevolume.com\n",
            "korisn5l@purevolume.com\n",
            "kpaladinoryf@issuu.com\n",
            "kpehrsson1t2@cbsnews.com\n",
            "kpetroff10vg@tmall.com\n",
            "kpidgin124e@umich.edu\n",
            "kpidwellpdv@example.com\n",
            "kpierpointj8@uiuc.edu\n",
            "kpiggensytt@prlog.org\n",
            "kplover359@sina.com.cn\n",
            "kpondew9g@constantcontact.com\n",
            "kpopleyi96@cdc.gov\n",
            "kprebblesx6@livejournal.com\n",
            "kpryn8ql@state.tx.us\n",
            "kquarlesscm@youtu.be\n",
            "krama5fi@github.com\n",
            "krameauxj9x@illinois.edu\n",
            "krauj3r@globo.com\n",
            "krhule1sj@sciencedaily.com\n",
            "krickeard35l@army.mil\n",
            "kriddettb2w@dropbox.com\n",
            "krolfoi1w@multiply.com\n",
            "krotteryuxq@gravatar.com\n",
            "krugierovab@canalblog.com\n",
            "ksimonin6ag@google.fr\n",
            "kslingsbycq8@skyrock.com\n",
            "kspilisytb@example.com\n",
            "kstarkiez12@narod.ru\n",
            "ksteansonnap@purevolume.com\n",
            "kstentifordyzn@wikipedia.org\n",
            "kstiven6y0@vistaprint.com\n",
            "kstocktony46@digg.com\n",
            "kstood11ji@rediff.com\n",
            "kstrutton11dm@netscape.com\n",
            "ksurguinehfr@squidoo.com\n",
            "ksuscensupg@ca.gov\n",
            "ktatchellyjv@so-net.ne.jp\n",
            "kterrisfwl@sourceforge.net\n",
            "ktesimonbdi@jigsy.com\n",
            "ktoffaninihd1@hc360.com\n",
            "ktomblingccb@unblog.fr\n",
            "ktomczykiewiczkyj@theglobeandmail.com\n",
            "ktomicki79o@wordpress.org\n",
            "ktommaseoi82@imgur.com\n",
            "ktommasetti5ql@ovh.net\n",
            "ktoupe5ux@wsj.com\n",
            "ktyghtbn7@pbs.org\n",
            "kvankin91b@seattletimes.com\n",
            "kvannozzii62j@berkeley.edu\n",
            "kwalickipt9@sbwire.com\n",
            "kwalklot59v@photobucket.com\n",
            "kwebbornhyr@indiatimes.com\n",
            "kwheadon112n@unblog.fr\n",
            "kyitzovitztw8@comcast.net\n",
            "kyushkinqdv@phoca.cz\n",
            "laberdalgy506@dot.gov\n",
            "lagus9u7@baidu.com\n",
            "laharoniznp@google.fr\n",
            "lairds4op@newsvine.com\n",
            "lalenikovnz7@youtu.be\n",
            "landryszczakmgu@surveymonkey.com\n",
            "lashurstfna@purevolume.com\n",
            "lavramovicyv@hugedomains.com\n",
            "lbakesp4p@who.int\n",
            "lbarclaymng@forbes.com\n",
            "lbeeverp99@ox.ac.uk\n",
            "lbehnekegb2@senate.gov\n",
            "lbehrendsenmg1@weather.com\n",
            "lbenzieyf8@dailymotion.com\n",
            "lbernuccigqa@joomla.org\n",
            "lbetjes61z@bravesites.com\n",
            "lbissetttb8@chron.com\n",
            "lblazej7ir@wordpress.com\n",
            "lbohlsenezr@state.tx.us\n",
            "lboik3dp@canalblog.com\n",
            "lbridat9qp@icio.us\n",
            "lbrotheridgeckx@people.com.cn\n",
            "lbrownsill4eb@123-reg.co.uk\n",
            "lbrunellig9l@behance.net\n",
            "lburdas71@a8.net\n",
            "lbusek9t9@sogou.com\n",
            "lcaesar3e@geocities.com\n",
            "lcarabinew0p@nba.com\n",
            "lcardozo2a7@bing.com\n",
            "lcarsberguwd@pbs.org\n",
            "lcasselspmi@tiny.cc\n",
            "lcaudell5kt@sakura.ne.jp\n",
            "lcawthorneuo1@mit.edu\n",
            "lchilderhouse9ia@fema.gov\n",
            "lchreea97@xinhuanet.com\n",
            "lcleftjax@smh.com.au\n",
            "lclyne12i@quantcast.com\n",
            "lcolls3hl@t-online.de\n",
            "lcosgry3om@engadget.com\n",
            "lcostellowrdb@linkedin.com\n",
            "lcoupehy3@youtube.com\n",
            "lcowope12b1@acquirethisname.com\n",
            "lcreaserynl@noaa.gov\n",
            "lcrowd11xx@last.fm\n",
            "lculleniad@chron.com\n",
            "lculmerxx7@biglobe.ne.jp\n",
            "ldankersleyzeh@unesco.org\n",
            "ldearloved0e@multiply.com\n",
            "ldecavillelee@storify.com\n",
            "ldeernessk5t@deliciousdays.com\n",
            "ldefreynet3r@seesaa.net\n",
            "ldenisard10ca@who.int\n",
            "lderislyon9@columbia.edu\n",
            "ldevaanat5@dailymail.co.uk\n",
            "ldickenson3ah@wp.com\n",
            "ldilgarnoegl@irs.gov\n",
            "ldinan7bo@exblog.jp\n",
            "ldinleyg9f@squidoo.com\n",
            "ldonettqml@pen.io\n",
            "ldosdalea3s@harvard.edu\n",
            "ldowning48l@cnet.com\n",
            "ldrysdalle57@fda.gov\n",
            "lduberypvs@ted.com\n",
            "ldugmore8z8@fastcompany.com\n",
            "ldullingvvc@noaa.gov\n",
            "ldunkertontbm@mysql.com\n",
            "ldunton4zh@blogger.com\n",
            "ldunyonq@quantcast.com\n",
            "ldupeyfwn@craigslist.org\n",
            "ldurdlegd9@ameblo.jp\n",
            "lenriqueo8x@rakuten.co.jp\n",
            "leustacexe4@washingtonpost.com\n",
            "leyckelpck@yelp.com\n",
            "lfanshawwa9@nydailynews.com\n",
            "lfantinirxy@ow.ly\n",
            "lferbyr0e@cocolog-nifty.com\n",
            "lferonjeb@e-recht24.de\n",
            "lferraraxlz@webs.com\n",
            "lferrinie80@ning.com\n",
            "lfominovn4m@zimbio.com\n",
            "lfraniakgaz@cdbaby.com\n",
            "lfronzekmh6@reference.com\n",
            "lgadsden12k2@icio.us\n",
            "lgarm5gy@shutterfly.com\n",
            "lgarmsup5@deliciousdays.com\n",
            "lgarnsworthdru@123-reg.co.uk\n",
            "lgartrellud3@symantec.com\n",
            "lgaunson3nm@tmall.com\n",
            "lgobat9rc@nature.com\n",
            "lgodlymfu@psu.edu\n",
            "lgomarn4l@blogger.com\n",
            "lgores6ll@themeforest.net\n",
            "lgossonb1z@slideshare.net\n",
            "lgostyke5fa@gmpg.org\n",
            "lgoymerdkd@gravatar.com\n",
            "lgrayshontvm@nih.gov\n",
            "lgreatbanksbte@nature.com\n",
            "lgrinikhinabn@opensource.org\n",
            "lgubbin44k@unesco.org\n",
            "lgudyer3dk@altervista.org\n",
            "lhaffnerlqp@cmu.edu\n",
            "lhaisellda1@smugmug.com\n",
            "lharkinsxit@unc.edu\n",
            "lhartfield11jo@pen.io\n",
            "lhaston12q@amazon.com\n",
            "lhazel5cp@sciencedirect.com\n",
            "lheibeleg5@ibm.com\n",
            "lhounsonw9n@livejournal.com\n",
            "lhrinchishinkcn@omniture.com\n",
            "lhymusm00@pen.io\n",
            "ljotchambhw@usda.gov\n",
            "lkearnslp5@loc.gov\n",
            "lkenealy6tj@shutterfly.com\n",
            "lkenefordeng6@google.es\n",
            "lkerrigannn3@springer.com\n",
            "lkienlein4wk@utexas.edu\n",
            "lkincaid6aj@nps.gov\n",
            "lkitchiner12bs@comcast.net\n",
            "lkleinschmidtby4@yandex.ru\n",
            "lkoenraadl76@oakley.com\n",
            "lkondratsph@prweb.com\n",
            "lkyntonr1j@mozilla.org\n",
            "llacotteapd@tmall.com\n",
            "llafeectj@upenn.edu\n",
            "llefrank10ct@technorati.com\n",
            "llegendredhv@harvard.edu\n",
            "lleismanitl@chicagotribune.com\n",
            "llennief79@jugem.jp\n",
            "lleynham5ph@google.es\n",
            "llilfordhwi@dropbox.com\n",
            "llinnyrt1@wp.com\n",
            "llubbock739@jiathis.com\n",
            "lluisetti9r3@bloglovin.com\n",
            "lmacgarvey44x@deliciousdays.com\n",
            "lmarjanskit9q@fda.gov\n",
            "lmayger2pi@domainmarket.com\n",
            "lmccormick72t@qq.com\n",
            "lmckellar1b9@bloglovin.com\n",
            "lmcveyqxw@youtube.com\n",
            "lmead2q6@storify.com\n",
            "lmerkleydh@java.com\n",
            "lmidgely7z7@nationalgeographic.com\n",
            "lmiellukm@spiegel.de\n",
            "lmilburngf0@smugmug.com\n",
            "lmogenot42v@house.gov\n",
            "lmoncreif2ds@google.fr\n",
            "lmooreedm8u@businesswire.com\n",
            "lmynettp6e@cbsnews.com\n",
            "lnerhenyobk@51.la\n",
            "lnevinsjmk@accuweather.com\n",
            "locurrigannce@networkadvertising.org\n",
            "lofeenyg9a@intel.com\n",
            "lohagirtiecte@upenn.edu\n",
            "lokennyyc4@spotify.com\n",
            "losharrykcd@paypal.com\n",
            "lotierneydkf@yelp.com\n",
            "lpagelsenke3@earthlink.net\n",
            "lpauncefort9ax@exblog.jp\n",
            "lperton10hj@tmall.com\n",
            "lpichefordu9q@uiuc.edu\n",
            "lpoynteriyp@istockphoto.com\n",
            "lpringleyyao@canalblog.com\n",
            "lradenhurstsa8@bing.com\n",
            "lramshaw11x9@state.gov\n",
            "lrembaud4@discovery.com\n",
            "lrickertsenkps@opera.com\n",
            "lripley7wb@netlog.com\n",
            "lroccaz1h@va.gov\n",
            "lromanfl@eepurl.com\n",
            "lronaynecpt@youtu.be\n",
            "lrowstonvr0@ocn.ne.jp\n",
            "lsaladinq6a@discuz.net\n",
            "lsarchwellx7j@princeton.edu\n",
            "lscotthb0@cmu.edu\n",
            "lscownq1c@disqus.com\n",
            "lsharrockscbr@ucoz.com\n",
            "lshead7fj@miitbeian.gov.cn\n",
            "lshortell115c@nifty.com\n",
            "lsiberytsc@goodreads.com\n",
            "lsiddallc1f@fda.gov\n",
            "lsilber4qv@seattletimes.com\n",
            "lskellonf1w@who.int\n",
            "lskyrmylj@drupal.org\n",
            "lsnaithh9y@miibeian.gov.cn\n",
            "lspellard12a9@howstuffworks.com\n",
            "lspowage7yb@exblog.jp\n",
            "lspurritt12gp@elpais.com\n",
            "lstairsxjc@gizmodo.com\n",
            "lstegel6ay@deliciousdays.com\n",
            "lstenhouserik@apple.com\n",
            "lsturtondbc@hhs.gov\n",
            "ltattersillxv7@cbc.ca\n",
            "ltunno9v4@wix.com\n",
            "lumbersqcv@seesaa.net\n",
            "lupwood8en@com.com\n",
            "lverissimodgb@quantcast.com\n",
            "lwaything8dk@weather.com\n",
            "lwillischf7y@arstechnica.com\n",
            "lwilloughbyop1@typepad.com\n",
            "lwinders5z4@hc360.com\n",
            "lwitterickt4z@printfriendly.com\n",
            "lwoollcottctn@phpbb.com\n",
            "lyerrall1s6@1688.com\n",
            "lzanetti12il@craigslist.org\n",
            "mabrahamildk@1und1.de\n",
            "madamollicq1@linkedin.com\n",
            "magglionenqm@bandcamp.com\n",
            "malenikovdaf@webs.com\n",
            "mantoniettilcg@ucla.edu\n",
            "mantoniottiiczq@usda.gov\n",
            "marrandaleibk@arstechnica.com\n",
            "mattawaynd4@mail.ru\n",
            "maylmerbq8@cam.ac.uk\n",
            "mbacop1v6@chronoengine.com\n",
            "mbahdeltf@shutterfly.com\n",
            "mbarleeh08@state.tx.us\n",
            "mbartlomiejczykald@google.com\n",
            "mbartolijnz7b@nasa.gov\n",
            "mbartoszewskis6h@mysql.com\n",
            "mbastin758@livejournal.com\n",
            "mbaxstarorg@wikimedia.org\n",
            "mbeaman1096@blogger.com\n",
            "mbeamsonjvl@hugedomains.com\n",
            "mbelfitt1gg@meetup.com\n",
            "mbelshamqel@salon.com\n",
            "mbencher4qd@hhs.gov\n",
            "mbendelowqfe@ft.com\n",
            "mberfoot57e@msu.edu\n",
            "mberntskg@seesaa.net\n",
            "mbigglestone9kk@jugem.jp\n",
            "mblakeleyyf5@gnu.org\n",
            "mblune3tb@multiply.com\n",
            "mbostockhgb@slate.com\n",
            "mbothenqo@istockphoto.com\n",
            "mbradburne3lb@loc.gov\n",
            "mbrandesg8s@wp.com\n",
            "mbrandrethgjf@liveinternet.ru\n",
            "mbraundq7s@oaic.gov.au\n",
            "mbreac8c@cbc.ca\n",
            "mbrinsfordkwm@noaa.gov\n",
            "mbroektwu@tinypic.com\n",
            "mbrozth3@yandex.ru\n",
            "mbrundill10s@soup.io\n",
            "mbunyardizo@istockphoto.com\n",
            "mburcherfak@guardian.co.uk\n",
            "mburtwhistle106f@upenn.edu\n",
            "mbyron2fl@house.gov\n",
            "mcalder1db@angelfire.com\n",
            "mcalln97@boston.com\n",
            "mcancuttqka@mail.ru\n",
            "mcardrvw@nymag.com\n",
            "mcarlisiewh@sogou.com\n",
            "mcartmael3xt@macromedia.com\n",
            "mcarvellhb6@loc.gov\n",
            "mcasarizr9@youku.com\n",
            "mcasperrina5@newyorker.com\n",
            "mcatton12e1@nymag.com\n",
            "mcaw11oa@ebay.com\n",
            "mchallengertle@archive.org\n",
            "mchark4o0@i2i.jp\n",
            "mcheers953@mlb.com\n",
            "mcircuitwaf@comcast.net\n",
            "mclaibournjn7@marriott.com\n",
            "mclaidena2q@earthlink.net\n",
            "mclynernn@netlog.com\n",
            "mcockerham10i0@google.pl\n",
            "mcockland36c@europa.eu\n",
            "mcorbishleyqqn@state.tx.us\n",
            "mcornbillmne@kickstarter.com\n",
            "mcoundleyo4@networkadvertising.org\n",
            "mcowg4q@lycos.com\n",
            "mcrallanfh9@un.org\n",
            "mcreaseddz@hp.com\n",
            "mcurtin6ig@paginegialle.it\n",
            "mdaniely10ub@guardian.co.uk\n",
            "mdarguegnh@4shared.com\n",
            "mdarlastonl15@sciencedaily.com\n",
            "mdarwoodunk@timesonline.co.uk\n",
            "mdawbyndv@flavors.me\n",
            "mdebeneditti4lx@eventbrite.com\n",
            "mdedmancaf@t.co\n",
            "mdeenerrpw@shop-pro.jp\n",
            "mdorelg8@about.com\n",
            "mdoumicz3z@amazonaws.com\n",
            "mdresseudr@typepad.com\n",
            "mdreverlkd@alibaba.com\n",
            "mduleyq8r@tinyurl.com\n",
            "mecclestone6s6@sourceforge.net\n",
            "melloittbo@arizona.edu\n",
            "meverilvrl@prweb.com\n",
            "mfancuttvnq@livejournal.com\n",
            "mfellonwla@home.pl\n",
            "mfenechcum@berkeley.edu\n",
            "mfishleyej5@i2i.jp\n",
            "mflukeswap@buzzfeed.com\n",
            "mfoynesrrz@archive.org\n",
            "mfrancesc20h@forbes.com\n",
            "mfretson5b8@addthis.com\n",
            "mfulger6if@ameblo.jp\n",
            "mgadmanzmh@psu.edu\n",
            "mgalesxvv@amazonaws.com\n",
            "mgarrow85n@state.tx.us\n",
            "mgatlandzfi@home.pl\n",
            "mgemmillcpy@moonfruit.com\n",
            "mgeorge1rz@cbc.ca\n",
            "mgiacopelloet7@home.pl\n",
            "mgilroy93o@sitemeter.com\n",
            "mgirardengos7@hud.gov\n",
            "mglauber10ei@de.vu\n",
            "mgolds95h@ftc.gov\n",
            "mgonnely5bb@stanford.edu\n",
            "mgood5s8@mashable.com\n",
            "mgouinlockc44@yahoo.com\n",
            "mgrasnerxgg@nytimes.com\n",
            "mgreenley1zf@boston.com\n",
            "mgroomebridgejed@alibaba.com\n",
            "mgudgeon11m6@woothemes.com\n",
            "mgurry6jf@goodreads.com\n",
            "mgwinnqjt@cocolog-nifty.com\n",
            "mgyurkonlf@cnbc.com\n",
            "mhaack12gd@seattletimes.com\n",
            "mhablotsv6@webs.com\n",
            "mhacqueletn@typepad.com\n",
            "mhaganxwh@upenn.edu\n",
            "mhallowes774@t.co\n",
            "mharboroe4@freewebs.com\n",
            "mhardisonv4n@slideshare.net\n",
            "mharwellfxe@harvard.edu\n",
            "mhayesmano69@umn.edu\n",
            "mhendrick4nk@myspace.com\n",
            "mhenrichseio@weather.com\n",
            "mhitzschkek5j@uol.com.br\n",
            "mhuddlei8@free.fr\n",
            "mhughesckg@sciencedaily.com\n",
            "mhullyercli@princeton.edu\n",
            "miglesiasetr@blogs.com\n",
            "mimorefm4@prweb.com\n",
            "mjanczak19k@xinhuanet.com\n",
            "mjaskowiczzph@icio.us\n",
            "mjenks4xb@rakuten.co.jp\n",
            "mjosipovitz1qt@about.com\n",
            "mjukubczak7c6@jigsy.com\n",
            "mjuniferfwq@bigcartel.com\n",
            "mkeatchnyp@elegantthemes.com\n",
            "mkelson7ur@who.int\n",
            "mkesper6hn@statcounter.com\n",
            "mkirlin47h@wiley.com\n",
            "mkisbyoyl@ihg.com\n",
            "mkittoe3ve@photobucket.com\n",
            "mkorbataw@hubpages.com\n",
            "mkuhlmey11n7@senate.gov\n",
            "mlachaizej3c@mashable.com\n",
            "mlahiffyiy@oracle.com\n",
            "mlahytf5@bloglovin.com\n",
            "mlanders822@t-online.de\n",
            "mlantaph61@devhub.com\n",
            "mlarntyy@patch.com\n",
            "mlarvent19v@goo.gl\n",
            "mlawey11s0@arizona.edu\n",
            "mledwichn26@nasa.gov\n",
            "mlegrandbb7@mashable.com\n",
            "mleishmanzxl@gizmodo.com\n",
            "mlembrick7vp@huffingtonpost.com\n",
            "mlennoxtbu@wp.com\n",
            "mlettsomvdq@ted.com\n",
            "mlewinuum@joomla.org\n",
            "mlingardn8i@google.com\n",
            "mliversidgeg65@unesco.org\n",
            "mlodwickwwm@youtube.com\n",
            "mloftinmwi@about.me\n",
            "mlonghurstg2k@blogtalkradio.com\n",
            "mloude27m@patch.com\n",
            "mludewigmgq@mit.edu\n",
            "mludlquj@apple.com\n",
            "mlukacs10gx@cnn.com\n",
            "mmacfadzanq5@sphinn.com\n",
            "mmaessch@sphinn.com\n",
            "mmahyxj8@is.gd\n",
            "mmakinphw@marketwatch.com\n",
            "mmappygp@google.com.au\n",
            "mmardegc9@cargocollective.com\n",
            "mmarlen7jj@dyndns.org\n",
            "mmartschik5i@hatena.ne.jp\n",
            "mmateur1i@webmd.com\n",
            "mmattevi6gm@simplemachines.org\n",
            "mmatthiesenpj2@thetimes.co.uk\n",
            "mmattis5w8@webeden.co.uk\n",
            "mmcalessjka@discuz.net\n",
            "mmcbrady3hw@twitter.com\n",
            "mmccartanjsg@abc.net.au\n",
            "mmccrackemol6@illinois.edu\n",
            "mmcdyeruvk@opera.com\n",
            "mmcgarrieztm@nasa.gov\n",
            "mmcgroutherhfc@msu.edu\n",
            "mmclafferty25t@mapquest.com\n",
            "mmcquielux@google.co.uk\n",
            "mmeadleyoww@ameblo.jp\n",
            "mmearingnjh@acquirethisname.com\n",
            "mmendez219@answers.com\n",
            "mmennithorpmnl@mapquest.com\n",
            "mmercyc8j@ow.ly\n",
            "mmessager31c@friendfeed.com\n",
            "mminshullcwp@google.es\n",
            "mmizzenvrc@wufoo.com\n",
            "mmoormanu9k@dmoz.org\n",
            "mmordesna@scribd.com\n",
            "mmorrowi4@wikimedia.org\n",
            "mmorstattbs8@state.gov\n",
            "mnasonjzt@elpais.com\n",
            "mnealonzqw@etsy.com\n",
            "mniecehmn@xing.com\n",
            "mogelbehr2@purevolume.com\n",
            "molcotg4k@wikipedia.org\n",
            "moylettnsz@indiatimes.com\n",
            "mpadysnb@abc.net.au\n",
            "mparisowkz@feedburner.com\n",
            "mparlattmq3@nationalgeographic.com\n",
            "mpartletonkbv@delicious.com\n",
            "mpatek72x@springer.com\n",
            "mpaulov85@smugmug.com\n",
            "mpaydonbr@istockphoto.com\n",
            "mpeachamfgr@goodreads.com\n",
            "mperfordbxx@elpais.com\n",
            "mpestortd6@blogtalkradio.com\n",
            "mpetrenkojmu@gmpg.org\n",
            "mpetrescu6qr@hibu.com\n",
            "mphillipsbvq@shop-pro.jp\n",
            "mpicardoln4@skyrock.com\n",
            "mpicoppeng@bloglovin.com\n",
            "mpiddockjhi@nature.com\n",
            "mpile4dk@g.co\n",
            "mpohlingcnd@google.ru\n",
            "mpoltonerry@xrea.com\n",
            "mpoolmangoc@nhs.uk\n",
            "mprangerjlq@vistaprint.com\n",
            "mpreshonqk@wordpress.org\n",
            "mprestiejwi@slashdot.org\n",
            "mpriscottj8g@theglobeandmail.com\n",
            "mpybus4qq@cnbc.com\n",
            "mradwellerp@vinaora.com\n",
            "mrafterq8n@dailymail.co.uk\n",
            "mraimbauld1201@state.tx.us\n",
            "mrappaport48x@csmonitor.com\n",
            "mredleyn29@lulu.com\n",
            "mredparth69b@imgur.com\n",
            "mriggecs5@princeton.edu\n",
            "mroddickh2i@arstechnica.com\n",
            "mrogeronen4@skype.com\n",
            "mrollinsx7s@google.it\n",
            "mroseoiz@deliciousdays.com\n",
            "mrozenbaum7he@ovh.net\n",
            "mruminqxe@mysql.com\n",
            "msapsford9ej@sfgate.com\n",
            "mscawtong1x@imgur.com\n",
            "mschleswigholsteinfxj@yelp.com\n",
            "mschulkenv3c@desdev.cn\n",
            "mschutteaxc@alexa.com\n",
            "mscorthorneqo1@slate.com\n",
            "msearjeantldn@opera.com\n",
            "msextymy4@nifty.com\n",
            "mshimwalli7c@yale.edu\n",
            "mshuttle10rl@house.gov\n",
            "msidsaffdmd@ovh.net\n",
            "msighartvau@businessinsider.com\n",
            "mslaymaker2at@stumbleupon.com\n",
            "msnawdenhs@webeden.co.uk\n",
            "msomnercwe@bluehost.com\n",
            "msorsbief72@msu.edu\n",
            "msoutenrgo@cloudflare.com\n",
            "msperlingu5e@amazon.co.jp\n",
            "mspooner997@vistaprint.com\n",
            "msproatd9t@wix.com\n",
            "mspurdonywt@homestead.com\n",
            "mstainsonnuj@behance.net\n",
            "mstanettn03@princeton.edu\n",
            "mstickels11fw@vimeo.com\n",
            "mstollard7rj@phpbb.com\n",
            "mstuchburiernk@miibeian.gov.cn\n",
            "msuerz27e@1und1.de\n",
            "msumnalltxd@noaa.gov\n",
            "msutherand2g@ycombinator.com\n",
            "mszwarc19y@deviantart.com\n",
            "mtheseira103d@cmu.edu\n",
            "mthistleton8xv@time.com\n",
            "mthomlinsonalq@admin.ch\n",
            "mtiltech@boston.com\n",
            "mtossellr5g@seattletimes.com\n",
            "mtrenchard60y@shop-pro.jp\n",
            "mtrunkfield1se@freewebs.com\n",
            "mtwinbourne7m3@nba.com\n",
            "mubsdall9fi@usatoday.com\n",
            "murlinsce@bloomberg.com\n",
            "mvaggers5dz@github.io\n",
            "mvasyunkinkyh@ucoz.ru\n",
            "mvenneurupi@microsoft.com\n",
            "mvernazza111e@princeton.edu\n",
            "mvivianh59@twitter.com\n",
            "mwallageswz@bloglovin.com\n",
            "mwarlawui1@wikimedia.org\n",
            "mwarmishamte1@people.com.cn\n",
            "mwestwicklb5@furl.net\n",
            "mwhitlandvds@foxnews.com\n",
            "mwooddisse8hu@unesco.org\n",
            "myarntoneqb@dedecms.com\n",
            "myielding72e@slashdot.org\n",
            "nabdee87x@plala.or.jp\n",
            "nabrami1ok@army.mil\n",
            "nacuttsfp@youtu.be\n",
            "naicken10d4@fotki.com\n",
            "naloway2mp@dedecms.com\n",
            "narnaudonnda@independent.co.uk\n",
            "nbassano4r2@moonfruit.com\n",
            "nbiddelljo9@unicef.org\n",
            "nbimsone5e@blog.com\n",
            "nblakslandmqw@apple.com\n",
            "nblesseditv@1und1.de\n",
            "nbonnorbg5@friendfeed.com\n",
            "nbowld340@businessweek.com\n",
            "nbullionre3@de.vu\n",
            "ncaddiepqx@1688.com\n",
            "ncartan8mt@google.de\n",
            "ncarushab@japanpost.jp\n",
            "ncasella11e1@4shared.com\n",
            "ncastell10gg@amazon.com\n",
            "ncheakuat@princeton.edu\n",
            "nchillingworthb7q@netvibes.com\n",
            "ncleavekdk@reference.com\n",
            "ncollishawhc7@tinypic.com\n",
            "ncolterwh6@discuz.net\n",
            "ncoveley3jr@symantec.com\n",
            "ncromley7lv@usatoday.com\n",
            "ndanbrook793@theguardian.com\n",
            "ndebrokef2e@telegraph.co.uk\n",
            "ndellcasauxe@senate.gov\n",
            "ndellorto2u@e-recht24.de\n",
            "ndenningtondhw@weibo.com\n",
            "ndivelly1d@sohu.com\n",
            "ndohrmanne0c@wordpress.org\n",
            "ndomerqfa5@scribd.com\n",
            "nduchenne2oa@blinklist.com\n",
            "ndunkirkb0s@mysql.com\n",
            "ndurbankhh@amazon.com\n",
            "nekkel8v5@creativecommons.org\n",
            "nfarreilafk@gnu.org\n",
            "nflayb04@unicef.org\n",
            "nfranklandgt8@harvard.edu\n",
            "nfriendixl@gravatar.com\n",
            "ngayler2zs@wunderground.com\n",
            "ngiblettbsc@utexas.edu\n",
            "ngifkinsm3e@vistaprint.com\n",
            "ngingleqtq@utexas.edu\n",
            "ngirone10x0@ucoz.com\n",
            "ngrabbamxns@prnewswire.com\n",
            "ngravenellcmq@shutterfly.com\n",
            "ngriffoen4vk@artisteer.com\n",
            "nguielkef@usgs.gov\n",
            "nguillemxs6@wufoo.com\n",
            "ngypps114o@psu.edu\n",
            "nhalltafu@jimdo.com\n",
            "nhalshaw4mw@bbc.co.uk\n",
            "nhartnessifd@reuters.com\n",
            "nhendrickxez7@yelp.com\n",
            "nhowesbw3@loc.gov\n",
            "nhurryh0e@princeton.edu\n",
            "njaneckirow@scientificamerican.com\n",
            "njewelo58@youtube.com\n",
            "njirikr7e@gmpg.org\n",
            "nkensingtonwch@fastcompany.com\n",
            "nkimmitta6q@godaddy.com\n",
            "nkindef9k@cornell.edu\n",
            "nkondrachenkorpz@dagondesign.com\n",
            "nkytterhtd@webnode.com\n",
            "nlelloe1n@omniture.com\n",
            "nlerven56d@sun.com\n",
            "nletixier1kx@imgur.com\n",
            "nlowdham11i3@nba.com\n",
            "nmaccracken103l@mtv.com\n",
            "nmacknockerzqa@noaa.gov\n",
            "nmangamzk1@washingtonpost.com\n",
            "nmaplethorp1qc@slashdot.org\n",
            "nmatejovsky30f@edublogs.org\n",
            "nmcgibbonibp@state.tx.us\n",
            "nmenimj9@telegraph.co.uk\n",
            "nmewfau@theglobeandmail.com\n",
            "nmewtonyp0@oracle.com\n",
            "nmizzi9jb@amazonaws.com\n",
            "nmostynx9v@google.de\n",
            "nmullankmq@theglobeandmail.com\n",
            "nmurtonavj@facebook.com\n",
            "nneweysqt@archive.org\n",
            "noccleshawsc1@wikimedia.org\n",
            "nordishqge@census.gov\n",
            "norrdi9@tiny.cc\n",
            "npaylejux@facebook.com\n",
            "npeggramqsl@addthis.com\n",
            "npoundsford11g9@abc.net.au\n",
            "npreshawho6@noaa.gov\n",
            "nralestonj9g@twitter.com\n",
            "nramelqzk@posterous.com\n",
            "nrigts5u0@sakura.ne.jp\n",
            "nsabatier712@apache.org\n",
            "nsargeaunta3u@freewebs.com\n",
            "nsaylor1xg@twitter.com\n",
            "nscranedgeobd@timesonline.co.uk\n",
            "nslorance673@purevolume.com\n",
            "nspybeyvbv@amazon.co.jp\n",
            "nstebbins97c@t.co\n",
            "nstoaks3zk@patch.com\n",
            "nstockell11mm@dmoz.org\n",
            "nstrelitzerl9b@auda.org.au\n",
            "nsuccamoresz6@nih.gov\n",
            "nsweetzeremz@a8.net\n",
            "nteesy2p@unblog.fr\n",
            "ntiffneywd2@blog.com\n",
            "ntorryfrk@google.ca\n",
            "ntraylenngx@nifty.com\n",
            "ntrembathdl2@jiathis.com\n",
            "ntwiningm7b@statcounter.com\n",
            "nvotiergfm@godaddy.com\n",
            "nvowdonou1@gravatar.com\n",
            "nwardesworthenl@toplist.cz\n",
            "nwinkworthp5f@usnews.com\n",
            "oabrahamsohneay@wix.com\n",
            "oarnoudgq7@gmpg.org\n",
            "obantingqvy@ow.ly\n",
            "obattersbymn@php.net\n",
            "oberninimju@earthlink.net\n",
            "obichardjl1@europa.eu\n",
            "obrecknockob9@a8.net\n",
            "obugg10i1@bing.com\n",
            "obugler5i7@jalbum.net\n",
            "obullion86@domainmarket.com\n",
            "ocastanho6oh@google.it\n",
            "ochallissrrw@mozilla.com\n",
            "ochastandpyh@mayoclinic.com\n",
            "ocollyearjjt@businessinsider.com\n",
            "ocowdroyp2y@japanpost.jp\n",
            "ocuffleybwg@ow.ly\n",
            "ocuschierikzn@prnewswire.com\n",
            "oczyz4v7@yahoo.co.jp\n",
            "odemanchev4z@alibaba.com\n",
            "odinse31g@samsung.com\n",
            "odonett104o@51.la\n",
            "oflippellijhl@photobucket.com\n",
            "ofolcarelli29m@icio.us\n",
            "ofratson6fg@phpbb.com\n",
            "ogwyertz1@vimeo.com\n",
            "ohabbal2fq@nasa.gov\n",
            "ohackelton20q@toplist.cz\n",
            "ohalbard7xe@domainmarket.com\n",
            "oharrinsonmqa@freewebs.com\n",
            "oheughdqx@list-manage.com\n",
            "ohoudmontjdl@360.cn\n",
            "ohoulistonxww@ow.ly\n",
            "okeemerict@infoseek.co.jp\n",
            "okennan3wm@scientificamerican.com\n",
            "okingstonl0o@lycos.com\n",
            "oleekegau@disqus.com\n",
            "olotzeom2@cmu.edu\n",
            "olunamlyc@archive.org\n",
            "omaddockjs9@ft.com\n",
            "omccarvercj@amazonaws.com\n",
            "omolyneauximz@bigcartel.com\n",
            "onettlesbmh@ted.com\n",
            "ooxley83j@eepurl.com\n",
            "opaler3ys@netvibes.com\n",
            "opanichellilzr@kickstarter.com\n",
            "ophilpintgo@trellian.com\n",
            "oplum3cy@jalbum.net\n",
            "oplumzvz@digg.com\n",
            "opostenkas@vistaprint.com\n",
            "opostins17d@shop-pro.jp\n",
            "opottberry4w8@techcrunch.com\n",
            "oseerinq@networkadvertising.org\n",
            "oskaife7em@latimes.com\n",
            "ospencer2dl@bluehost.com\n",
            "ostarzakeroza@telegraph.co.uk\n",
            "otolottiop5@netvibes.com\n",
            "otrewettgfb@symantec.com\n",
            "oumbertcri@census.gov\n",
            "oungerj0f@icio.us\n",
            "owallingnuz@bbb.org\n",
            "owaplintonxm8@google.it\n",
            "pabadsp3@cmu.edu\n",
            "pabreyg9i@canalblog.com\n",
            "pactoni7h@va.gov\n",
            "pallawyyo9@hubpages.com\n",
            "pallmark5m1@loc.gov\n",
            "pantalffy8jq@symantec.com\n",
            "pbedwardhdu@wix.com\n",
            "pbiaggiottinp5@1und1.de\n",
            "pbjorkano1q@zdnet.com\n",
            "pbleibaum2d@sciencedaily.com\n",
            "pbumpasvfc@dailymail.co.uk\n",
            "pcardillonf0@friendfeed.com\n",
            "pchesterfieldc5c@bloglovin.com\n",
            "pchestermanof3@facebook.com\n",
            "pchestertons04@businessinsider.com\n",
            "pchichgarca@howstuffworks.com\n",
            "pchoatyki@answers.com\n",
            "pclair3av@mozilla.com\n",
            "pclaremonty5t@live.com\n",
            "pcolley9lz@youku.com\n",
            "pcorpqac@xinhuanet.com\n",
            "pcrackrkq@indiegogo.com\n",
            "pcratere4es@buzzfeed.com\n",
            "pculbard669@theguardian.com\n",
            "pcurdsm80@vistaprint.com\n",
            "pcuseckvm9@deviantart.com\n",
            "pdahlberglqq@e-recht24.de\n",
            "pdavioud11s2@hexun.com\n",
            "pdelacourgdj@unicef.org\n",
            "pdevallhql@cnbc.com\n",
            "pdoag3ay@vimeo.com\n",
            "pducker10w9@discuz.net\n",
            "pdunsford23i@nymag.com\n",
            "peacleaa7@arstechnica.com\n",
            "pfaggequp@hostgator.com\n",
            "pfarensbvl@thetimes.co.uk\n",
            "pflory1105@eventbrite.com\n",
            "pforrestha1@virginia.edu\n",
            "pgaffney3ts@youku.com\n",
            "pgildersleavespe@psu.edu\n",
            "pgovier10sv@sbwire.com\n",
            "pgreenat3@gov.uk\n",
            "pgrimsleyfgk@europa.eu\n",
            "pgrzegorekat8@naver.com\n",
            "pgunsondxv@mtv.com\n",
            "phaggletonto7@privacy.gov.au\n",
            "phallgathciq@smh.com.au\n",
            "pharewoodrk7@twitpic.com\n",
            "phatzaraep@state.gov\n",
            "pheighwayleh@aol.com\n",
            "phowgate7ro@pbs.org\n",
            "phughsonjlm@gov.uk\n",
            "pjackettsfcd@nifty.com\n",
            "pjendrys6y6@lycos.com\n",
            "pkilsbyty5@gizmodo.com\n",
            "pkleinert4zg@google.es\n",
            "pkochel63o@google.com\n",
            "plabatief2y@behance.net\n",
            "plasseterqyr@jugem.jp\n",
            "pleckeyv78@smugmug.com\n",
            "plesurfwb1@admin.ch\n",
            "plevensa1t@merriam-webster.com\n",
            "plineeyv@pagesperso-orange.fr\n",
            "pmarstersybi@skype.com\n",
            "pmickleboroughke0@mozilla.com\n",
            "pninnis63z@auda.org.au\n",
            "pnorthwoodg8c@delicious.com\n",
            "pogleasanereo@devhub.com\n",
            "pohrt6i4@cocolog-nifty.com\n",
            "polivazzi7c4@instagram.com\n",
            "ponioniyy@earthlink.net\n",
            "poutram5y8@ycombinator.com\n",
            "ppannamanbnh@naver.com\n",
            "ppawelecxvg@msn.com\n",
            "ppedeljbb@icio.us\n",
            "ppeirsonztw@gizmodo.com\n",
            "pplailhtt@fda.gov\n",
            "ppulfordix4@cbc.ca\n",
            "prayhilluth@thetimes.co.uk\n",
            "prichly1vn@ask.com\n",
            "prickettsro5@webmd.com\n",
            "privetttl5@163.com\n",
            "probroe6os@github.com\n",
            "pseeman12hj@tmall.com\n",
            "psetchellh4s@naver.com\n",
            "pshilvockcjv@ucoz.ru\n",
            "psienewsb@arizona.edu\n",
            "psimcoe9ig@ihg.com\n",
            "psoonhousebew@spiegel.de\n",
            "psowerbutts8v0@engadget.com\n",
            "psperskieky@shareasale.com\n",
            "pspight112h@yelp.com\n",
            "pspurrett36e@mapquest.com\n",
            "pstreight1lm@example.com\n",
            "pswattondnp@plala.or.jp\n",
            "ptallboy81q@hud.gov\n",
            "ptassell7ep@theglobeandmail.com\n",
            "ptimewellzao@mtv.com\n",
            "ptoursmjq@cam.ac.uk\n",
            "pvarndell12gj@unesco.org\n",
            "pveldensnw5@blogger.com\n",
            "pvernekdx@1688.com\n",
            "pwingrove9da@biglobe.ne.jp\n",
            "pwoollhead978@icio.us\n",
            "pwoollin151@yelp.com\n",
            "qdunridgexpm@virginia.edu\n",
            "qgolsworthysbx@de.vu\n",
            "qkiwitz82n@cnbc.com\n",
            "qlanfear70h@unblog.fr\n",
            "qlevinhpr@yellowpages.com\n",
            "qliepmannmk4@discovery.com\n",
            "qmcreynoldsyn4@cisco.com\n",
            "qnelthropdp2@eepurl.com\n",
            "qromanelliz77@shinystat.com\n",
            "qtuliptp0@miitbeian.gov.cn\n",
            "rabisettikoy@mashable.com\n",
            "rainscow6gn@bizjournals.com\n",
            "raizikowitz268@de.vu\n",
            "raked214@technorati.com\n",
            "ralenichevo2x@engadget.com\n",
            "ralexsandrovo89@cocolog-nifty.com\n",
            "rallwoodc2n@w3.org\n",
            "randreottil4y@godaddy.com\n",
            "rantonatycq@netscape.com\n",
            "rarson5hy@cnn.com\n",
            "raxup7wh@etsy.com\n",
            "rbackeoul@google.de\n",
            "rbakervh5@pagesperso-orange.fr\n",
            "rbaleh37@ihg.com\n",
            "rbartenp0x@imdb.com\n",
            "rbeddoe7o8@tamu.edu\n",
            "rbengochea5lw@cpanel.net\n",
            "rbernaseko46@nhs.uk\n",
            "rbonnellm0v@elpais.com\n",
            "rbowenn01@chron.com\n",
            "rbowkleyf85@mail.ru\n",
            "rbraniganho9@usnews.com\n",
            "rbresnahanlff@surveymonkey.com\n",
            "rbrummittqv8@dagondesign.com\n",
            "rbudgeyio@dyndns.org\n",
            "rburkmantap@engadget.com\n",
            "rburragen94@washington.edu\n",
            "rbutternd8@examiner.com\n",
            "rcarrabotdz5@bigcartel.com\n",
            "rcasaro3r0@gov.uk\n",
            "rcasbournenr6@furl.net\n",
            "rcaselwai@ustream.tv\n",
            "rcasettic3q@msn.com\n",
            "rchampneysa3q@google.ca\n",
            "rcobden10rm@ca.gov\n",
            "rcoenow@businessinsider.com\n",
            "rcowend3e@netvibes.com\n",
            "rcroydon1sn@marketwatch.com\n",
            "rcubbini7r0@boston.com\n",
            "rcutteridgel3c@tiny.cc\n",
            "rdemetz1dk@wordpress.org\n",
            "rdeshonn4x@sciencedaily.com\n",
            "rdevenniemdo@ezinearticles.com\n",
            "rdibley108e@chronoengine.com\n",
            "rdiblingbie@dyndns.org\n",
            "rdiggellwcw@w3.org\n",
            "rdimberline6fz@merriam-webster.com\n",
            "rdubosev8s@opera.com\n",
            "rduffillaf8@sun.com\n",
            "rduffyl2e@privacy.gov.au\n",
            "rdumbardja@wired.com\n",
            "rdumbarton7tr@zimbio.com\n",
            "rdundin125g@msn.com\n",
            "rdurgan67f@usda.gov\n",
            "rdutsonehu@naver.com\n",
            "redensorije@amazon.co.jp\n",
            "reggertoniwl@cnn.com\n",
            "relsaypfc@unblog.fr\n",
            "reverillten@fotki.com\n",
            "reverittmz7@msn.com\n",
            "rfablerhcu@clickbank.net\n",
            "rfairecloughx1s@qq.com\n",
            "rfaulconer25f@360.cn\n",
            "rfeast6cz@elegantthemes.com\n",
            "rfennellypd9@oaic.gov.au\n",
            "rfilanblm@dailymotion.com\n",
            "rfosberryg55@clickbank.net\n",
            "rfowlie11l9@mtv.com\n",
            "rfrancasc5@histats.com\n",
            "rgallegoswaa@trellian.com\n",
            "rgarleedgr@wordpress.com\n",
            "rgeekieox0@1und1.de\n",
            "rgianninijai@arstechnica.com\n",
            "rgillettg0v@lycos.com\n",
            "rgirardyx7r@seattletimes.com\n",
            "rgockeler1tg@upenn.edu\n",
            "rgoggins69m@webmd.com\n",
            "rgongilf@comcast.net\n",
            "rgonoudevxk@seattletimes.com\n",
            "rgoodingcn8@devhub.com\n",
            "rgowlerzbp@privacy.gov.au\n",
            "rgrinikhinmff@imageshack.us\n",
            "rgurnell120w@theatlantic.com\n",
            "rgwiltntx@businessinsider.com\n",
            "rhairyeszs4@pbs.org\n",
            "rhandscombeh9i@github.com\n",
            "rhendrix5lo@mayoclinic.com\n",
            "rhindsbergx7o@cloudflare.com\n",
            "rhotson10f6@privacy.gov.au\n",
            "rhupe2d7@narod.ru\n",
            "rhurdidge10m5@trellian.com\n",
            "rhurlinocl@bbc.co.uk\n",
            "rhyndmanp3y@europa.eu\n",
            "rigounetjvb@tmall.com\n",
            "rilchukru@flickr.com\n",
            "rinnett10kd@howstuffworks.com\n",
            "rjearumr3f@soup.io\n",
            "rjob1op@webmd.com\n",
            "rjovicg20@ameblo.jp\n",
            "rjudd7zr@go.com\n",
            "rkabschq1j@nature.com\n",
            "rkarczinski113l@arstechnica.com\n",
            "rkennelly33e@google.pl\n",
            "rkettlestringe8vu@blinklist.com\n",
            "rkiledal7u3@addtoany.com\n",
            "rklimczak8yg@gnu.org\n",
            "rkryskantb@bbc.co.uk\n",
            "rkubalzva@livejournal.com\n",
            "rlanferrvc@apple.com\n",
            "rlarwellxam@boston.com\n",
            "rlegrovepas@theguardian.com\n",
            "rleynaghw6n@webnode.com\n",
            "rliffeygb@constantcontact.com\n",
            "rlillegardwr4@intel.com\n",
            "rlockwoodf36@ning.com\n",
            "rloveridge459@ibm.com\n",
            "rluscottpbt@buzzfeed.com\n",
            "rlyesm9x@alexa.com\n",
            "rmaclurewc0@senate.gov\n",
            "rmactavish130@imgur.com\n",
            "rmapplebeckw1m@theatlantic.com\n",
            "rmariniluj@ft.com\n",
            "rmaylingrx@nih.gov\n",
            "rmccaghanhrx@ucla.edu\n",
            "rmccreedyw6q@icio.us\n",
            "rmcleman1204@usgs.gov\n",
            "rmcwhinms0@nytimes.com\n",
            "rmenel4nn@mozilla.org\n",
            "rmerrysgp@disqus.com\n",
            "rmetzig936@xing.com\n",
            "rmickawdo@statcounter.com\n",
            "rmiddlebrooku7w@fema.gov\n",
            "rmilleyypp@nytimes.com\n",
            "rmitchenerelb@ucoz.com\n",
            "rmoultrieofc@oracle.com\n",
            "rmullingerpa0@free.fr\n",
            "rmulmurayhg6@chronoengine.com\n",
            "rnancedem@bandcamp.com\n",
            "rnarramore51g@taobao.com\n",
            "rnolleth2rb@yolasite.com\n",
            "rohrt855@skyrock.com\n",
            "rolekb15@wix.com\n",
            "roliffezfd@studiopress.com\n",
            "rorrett73j@jalbum.net\n",
            "rottewell9my@yahoo.co.jp\n",
            "rpalfreeman12hi@cmu.edu\n",
            "rpenhalewicki9c@bluehost.com\n",
            "rpenvardeni5e@ezinearticles.com\n",
            "rpeplayjvh@bravesites.com\n",
            "rpiddockenir@narod.ru\n",
            "rpleatrdc@wordpress.org\n",
            "rquinetdw1@nhs.uk\n",
            "rradeliffenyu@blogspot.com\n",
            "rraiment6zb@fc2.com\n",
            "rrawlynsf5s@webnode.com\n",
            "rreddysdp@engadget.com\n",
            "rreidteg@mail.ru\n",
            "rremon934@senate.gov\n",
            "rrisbroughlgi@rambler.ru\n",
            "rrooksby249@exblog.jp\n",
            "rsabattierxm2@cam.ac.uk\n",
            "rsambidgemh0@umich.edu\n",
            "rsandlandimp@toplist.cz\n",
            "rsavatieryx6@printfriendly.com\n",
            "rscardifieldduf@abc.net.au\n",
            "rscourfieldhm6@blog.com\n",
            "rsebbornd7o@constantcontact.com\n",
            "rshakespearenyx@epa.gov\n",
            "rshurmerd8l@europa.eu\n",
            "rsigarsmpx@freewebs.com\n",
            "rslessor6sp@go.com\n",
            "rslidekaw@nifty.com\n",
            "rsnoding2r3@shareasale.com\n",
            "rsowterfi@comsenz.com\n",
            "rstares7m0@pbs.org\n",
            "rsuggett11m3@simplemachines.org\n",
            "rsuston55b@multiply.com\n",
            "rtaleworthpbk@tiny.cc\n",
            "rthodaye25@nhs.uk\n",
            "rthrelkeld108v@cmu.edu\n",
            "rtomankowski9vf@cnn.com\n",
            "rtomaszczykau6@cpanel.net\n",
            "rtoombesc40@ehow.com\n",
            "rtopingwgr@unblog.fr\n",
            "rtottemjjq@bravesites.com\n",
            "rtremeermx9@huffingtonpost.com\n",
            "rveazeyxpx@feedburner.com\n",
            "rvenusw26@techcrunch.com\n",
            "rvuittettqc@behance.net\n",
            "rweardenak7@reuters.com\n",
            "rwegenenw01@gnu.org\n",
            "rweldonxjo@newyorker.com\n",
            "rwhitehall12c0@last.fm\n",
            "rwhyborne5b4@pinterest.com\n",
            "rwinslettcgj@wp.com\n",
            "rwitchell36y@weather.com\n",
            "rwoodrowtdt@cbc.ca\n",
            "rwoollcottp0s@ifeng.com\n",
            "sagirredx3@typepad.com\n",
            "sallport1o6@google.co.uk\n",
            "saptedntv@cbsnews.com\n",
            "sarltjva@ft.com\n",
            "sassad1v1@shinystat.com\n",
            "sastall4o3@unblog.fr\n",
            "sbains3ub@surveymonkey.com\n",
            "sbargy1t@edublogs.org\n",
            "sbaudassinr3@meetup.com\n",
            "sbaudryi5c@icio.us\n",
            "sbavridge10m@sun.com\n",
            "sbeakdhs@tripadvisor.com\n",
            "sbeecrafttv4@kickstarter.com\n",
            "sbelhamnr9@gravatar.com\n",
            "sbenkhejgs@cyberchimps.com\n",
            "sbetchley10hn@squarespace.com\n",
            "sbilham1109@is.gd\n",
            "sbillyealdaai@pinterest.com\n",
            "sboaler61t@marriott.com\n",
            "sbolstridgec6z@ft.com\n",
            "sbotterellz02@odnoklassniki.ru\n",
            "sbowater6me@canalblog.com\n",
            "sbridgetti4y@taobao.com\n",
            "sbrigshawpax@cnet.com\n",
            "sbriskerbkz@columbia.edu\n",
            "scatmullyhc@imdb.com\n",
            "scawsbyhqh@reference.com\n",
            "schaperlingax1@amazon.com\n",
            "scockettf39@de.vu\n",
            "scocklingm1w@dion.ne.jp\n",
            "scommucci72s@cbc.ca\n",
            "sconerding10r2@amazon.de\n",
            "scowderayvc@surveymonkey.com\n",
            "scowperthwaitebkp@jigsy.com\n",
            "scrangdxm@bing.com\n",
            "screffieldbql@opera.com\n",
            "scristofvaou7u@a8.net\n",
            "scrombzv7@arizona.edu\n",
            "scrookdsp@deviantart.com\n",
            "scropp125f@dagondesign.com\n",
            "scrudgey88@reverbnation.com\n",
            "scunniffeov6@liveinternet.ru\n",
            "scusiter7n2@vinaora.com\n",
            "sdavittg18@webeden.co.uk\n",
            "sdawbery304@nba.com\n",
            "sdawtonua7@wired.com\n",
            "sdellr6d@gizmodo.com\n",
            "sdenkkp7@tinyurl.com\n",
            "sdennant43j@businessinsider.com\n",
            "sdevita207@pen.io\n",
            "sdifranceshcih7b@imgur.com\n",
            "sdillowayc9y@amazon.de\n",
            "sdobelars@de.vu\n",
            "sdodimeadth4@desdev.cn\n",
            "sdomney7p9@theguardian.com\n",
            "sdrinanra@google.es\n",
            "sdringl4m@surveymonkey.com\n",
            "sdunleablw@gizmodo.com\n",
            "sdunstan364@wp.com\n",
            "sdunypjj@cisco.com\n",
            "sdurramfr8@taobao.com\n",
            "sduxbarrygn2@nbcnews.com\n",
            "sellacombedfs@rediff.com\n",
            "senderlet0w@cam.ac.uk\n",
            "sentreis2sq@sbwire.com\n",
            "serlamuzv@rediff.com\n",
            "seshelbym13@webnode.com\n",
            "sewolsw3k@zimbio.com\n",
            "sfeehilylvr@virginia.edu\n",
            "sfennyip0@gravatar.com\n",
            "sferonet6yi@tiny.cc\n",
            "sfishwicknsa@instagram.com\n",
            "sfookes10n@nydailynews.com\n",
            "sfrancaishv0@opera.com\n",
            "sfriarydfi@unblog.fr\n",
            "sfugglevuw@home.pl\n",
            "sgaishhjn@nature.com\n",
            "sgaspard5ec@sohu.com\n",
            "sgatherell5yu@mac.com\n",
            "sghilkswqn@bigcartel.com\n",
            "sgilhouleytsw@biblegateway.com\n",
            "sgohnkb2@cdbaby.com\n",
            "sgomesglu@bloglines.com\n",
            "sgoodgecti@house.gov\n",
            "sgoodyearxzy@tiny.cc\n",
            "sgoulbournenb8@pcworld.com\n",
            "sgretton10t8@t-online.de\n",
            "sgrimditchsn@twitpic.com\n",
            "sguisbyzih@twitpic.com\n",
            "sgypson5v9@paginegialle.it\n",
            "shail4hv@stanford.edu\n",
            "shamlenhof@yahoo.co.jp\n",
            "shanniganhic@mlb.com\n",
            "sharlick6dq@shop-pro.jp\n",
            "sharmecxp@redcross.org\n",
            "shayesmanowk@sbwire.com\n",
            "shayford746@4shared.com\n",
            "shickissoned7@cbc.ca\n",
            "sholbornml5@boston.com\n",
            "sholme6sm@irs.gov\n",
            "shouldennc5@godaddy.com\n",
            "shovee12d4@eepurl.com\n",
            "shugin8bz@zimbio.com\n",
            "sianitti4r8@noaa.gov\n",
            "siresonyfq@meetup.com\n",
            "sitscowiczhs2@ucsd.edu\n",
            "sivanchovmsi@icio.us\n",
            "sjeanes5yk@biblegateway.com\n",
            "sjennerv7i@sogou.com\n",
            "sjina8c7@nhs.uk\n",
            "skaganshi@vkontakte.ru\n",
            "skarlettn@seesaa.net\n",
            "skarppiprj@independent.co.uk\n",
            "skaspar21n@harvard.edu\n",
            "skeat8l3@hibu.com\n",
            "skeatwob@yellowpages.com\n",
            "skesten2np@elegantthemes.com\n",
            "skiddey9dg@jugem.jp\n",
            "skirtlandoh5@squidoo.com\n",
            "sklausenqfj@jiathis.com\n",
            "skleinschmidtwdq@vinaora.com\n",
            "sknappe1no@stumbleupon.com\n",
            "sknightlyit6@mail.ru\n",
            "sknowlsonm5u@tamu.edu\n",
            "skonzel5an@facebook.com\n",
            "slanchberryegu@vk.com\n",
            "slangstonf7q@utexas.edu\n",
            "slarmorv06@domainmarket.com\n",
            "slavallinbcp@businesswire.com\n",
            "slawtieuid@slate.com\n",
            "sleadbeatert8y@cnet.com\n",
            "slethebridgemyc@weibo.com\n",
            "sliaspfw@japanpost.jp\n",
            "sliccardixi2@auda.org.au\n",
            "slightwing10j9@cbslocal.com\n",
            "slonnonqow@tumblr.com\n",
            "sloseby11l0@harvard.edu\n",
            "sluckwelle3c@webeden.co.uk\n",
            "slummbfb@parallels.com\n",
            "smaccaughankhq@bbb.org\n",
            "smagrannellqrv@ftc.gov\n",
            "smapstony1r@mail.ru\n",
            "smasterton38h@loc.gov\n",
            "smatteaccir09@vinaora.com\n",
            "smatteizz0@weather.com\n",
            "smatteucciov2@gravatar.com\n",
            "smcgowingi5r@eventbrite.com\n",
            "smcreynolds28f@wsj.com\n",
            "smein15q@weibo.com\n",
            "smessiterykd@acquirethisname.com\n",
            "sminor11za@blogger.com\n",
            "smorlonitj@theatlantic.com\n",
            "smosdalliyt@cyberchimps.com\n",
            "smosdell867@aboutads.info\n",
            "smuscatwrs@army.mil\n",
            "snemchinovxes@php.net\n",
            "snorthgravesj1h@hp.com\n",
            "snorthin801@cbsnews.com\n",
            "snorville1sq@shinystat.com\n",
            "sodunniomxqo@shutterfly.com\n",
            "sodwyermyj@wired.com\n",
            "sokeevan4dm@sun.com\n",
            "sondricekvyk@indiegogo.com\n",
            "spashe1y3@wikia.com\n",
            "spetrussi5uq@latimes.com\n",
            "sphilpdh0@youtu.be\n",
            "spickworth2ib@w3.org\n",
            "spinsent77f@digg.com\n",
            "splewmanwml@ask.com\n",
            "spree999@constantcontact.com\n",
            "spriestmanh0g@macromedia.com\n",
            "spuntonap4@cornell.edu\n",
            "srableqyj@nhs.uk\n",
            "srediers10s2@wix.com\n",
            "sreedayx1e@networkadvertising.org\n",
            "sreedie53c@rediff.com\n",
            "srobshawe38@parallels.com\n",
            "srodrig330@psu.edu\n",
            "srosekillyzww@cbc.ca\n",
            "sroufrg9@tinyurl.com\n",
            "sroulstond43@mit.edu\n",
            "srubiebdx@meetup.com\n",
            "srudgerdyjl@networkadvertising.org\n",
            "ssainsasn@weather.com\n",
            "ssatterfittasi@zdnet.com\n",
            "ssauvage7kl@timesonline.co.uk\n",
            "sscempy6@photobucket.com\n",
            "sschindlerwm3@apple.com\n",
            "sschlagwbq@upenn.edu\n",
            "sschulkebf5@army.mil\n",
            "sscraggz3v@tripadvisor.com\n",
            "sselleyn9m@state.gov\n",
            "ssherlocku33@bizjournals.com\n",
            "sshielr6m@mit.edu\n",
            "sshortosb4@furl.net\n",
            "ssilcox2xw@wp.com\n",
            "ssimkovichuc5@gov.uk\n",
            "ssleichta32@icq.com\n",
            "ssnuggivz@usgs.gov\n",
            "ssorrie119t@bbb.org\n",
            "ssprigginrw9@reddit.com\n",
            "sstacy5ve@tumblr.com\n",
            "sstagge4i3@va.gov\n",
            "sstansbyrhm@altervista.org\n",
            "sstofflerhmw@a8.net\n",
            "ssuggens@wordpress.com\n",
            "ssurmanwells64f@adobe.com\n",
            "ssurteesh2f@netlog.com\n",
            "stallono5p@nature.com\n",
            "stappingtona0g@multiply.com\n",
            "stendahl21r@ihg.com\n",
            "sthackston4m2@over-blog.com\n",
            "sthewlesyxy@exblog.jp\n",
            "sthewlis29h@wp.com\n",
            "stipplera85@hhs.gov\n",
            "svalancextl@barnesandnoble.com\n",
            "svasyaevmyu@nbcnews.com\n",
            "swatkins6lf@weibo.com\n",
            "swegeneredb@apple.com\n",
            "swhittingtono7s@cdc.gov\n",
            "swhoralload@arizona.edu\n",
            "swiggam11ib@yandex.ru\n",
            "swilemanhxf@sakura.ne.jp\n",
            "swinspire5oi@usa.gov\n",
            "swixon3ke@sogou.com\n",
            "swoodmaniz3@geocities.com\n",
            "swyche633@tumblr.com\n",
            "tafieldozn@freewebs.com\n",
            "taldine4iz@amazon.co.uk\n",
            "tallridgev7w@lulu.com\n",
            "talp1037@noaa.gov\n",
            "tamberghhy@narod.ru\n",
            "tandreasson5a6@tuttocitta.it\n",
            "tandreepy@rediff.com\n",
            "tantrackegq@admin.ch\n",
            "taucourte6jc@myspace.com\n",
            "taudust9s@hatena.ne.jp\n",
            "tbaddercuj@wordpress.com\n",
            "tbaroschxo8@berkeley.edu\n",
            "tbecarrat0a@bing.com\n",
            "tbennell117y@google.de\n",
            "tbickerstaff113d@vimeo.com\n",
            "tbirtlew7c@ustream.tv\n",
            "tblandfordnzo@yelp.com\n",
            "tblaywxz@miitbeian.gov.cn\n",
            "tbleaszfb@angelfire.com\n",
            "tborderjvr@blinklist.com\n",
            "tbothamn8@freewebs.com\n",
            "tboyatsus@answers.com\n",
            "tbranwhitem5l@google.com.au\n",
            "tbrazer10gd@irs.gov\n",
            "tbrightysfm@bluehost.com\n",
            "tbruyetb3t@furl.net\n",
            "tburchard105t@wikipedia.org\n",
            "tburgottccx@buzzfeed.com\n",
            "tchasteaucep@bravesites.com\n",
            "tciotto464@hexun.com\n",
            "tcoard39c@nba.com\n",
            "tcogman4og@blogtalkradio.com\n",
            "tcottellql1@npr.org\n",
            "tcrossfieldfll@simplemachines.org\n",
            "tcuredaleoe9@acquirethisname.com\n",
            "tdalrymplesmf@photobucket.com\n",
            "tdantuoniqa2@ehow.com\n",
            "tdeeming75d@spotify.com\n",
            "tdigiorgiopgc@studiopress.com\n",
            "tdilrewols@adobe.com\n",
            "tdimitrijevicz9o@newyorker.com\n",
            "tdrewcliftonp8e@cpanel.net\n",
            "tearthfieldumb@exblog.jp\n",
            "telsmore1j3@plala.or.jp\n",
            "tescudier6u3@microsoft.com\n",
            "tfaithornjq6@shutterfly.com\n",
            "tfarre998@acquirethisname.com\n",
            "tfarrertqk@icio.us\n",
            "tfellsfku@istockphoto.com\n",
            "tfidoar2@creativecommons.org\n",
            "tfipp8cp@usa.gov\n",
            "tflackeswv@bloglovin.com\n",
            "tforberh7e@theatlantic.com\n",
            "tfortesquieunxy@hostgator.com\n",
            "tfoskewy7v@odnoklassniki.ru\n",
            "tfrankvy4@alexa.com\n",
            "tgainsburghd8q@admin.ch\n",
            "tgallemore20u@vk.com\n",
            "tgeipelve@pen.io\n",
            "tgeorgotjxd@bluehost.com\n",
            "tgerrenugb@marriott.com\n",
            "tgiblin8y3@reddit.com\n",
            "tgiovani7ku@jimdo.com\n",
            "tgiovanni72n@hubpages.com\n",
            "tgirauld695@spiegel.de\n",
            "tglewc9w@washington.edu\n",
            "tgoffeo7x@phpbb.com\n",
            "tgrindallc8d@hatena.ne.jp\n",
            "tgristhwaite1wu@artisteer.com\n",
            "thailwood14o@rakuten.co.jp\n",
            "thairsqqx@live.com\n",
            "thallardyx5@squidoo.com\n",
            "thannabusb1k@digg.com\n",
            "thartusovd@weibo.com\n",
            "thaston102k@list-manage.com\n",
            "thellyereca@trellian.com\n",
            "themblingb0c@yolasite.com\n",
            "therculesont2l@myspace.com\n",
            "theritegehue@hhs.gov\n",
            "thildred335@bing.com\n",
            "thiserz4@gravatar.com\n",
            "thowsamxbx@amazon.co.jp\n",
            "thubbuckeh72@symantec.com\n",
            "tianizziue4@weebly.com\n",
            "tileyr3b@gmpg.org\n",
            "timorewdl@auda.org.au\n",
            "tissakovt6y@about.me\n",
            "tjeakinsvl6@instagram.com\n",
            "tjeannequinsf7@baidu.com\n",
            "tjeffcocki2j@princeton.edu\n",
            "tjewksrmk@guardian.co.uk\n",
            "tkeavyxc5@weather.com\n",
            "tkempshall8mr@hostgator.com\n",
            "tknibbwt2@nps.gov\n",
            "tkohnerth2r@people.com.cn\n",
            "tlarretgml@xing.com\n",
            "tlebatteurydp@goo.gl\n",
            "tleflemingm53@biblegateway.com\n",
            "tlernihane4a@mac.com\n",
            "tlowensohnobn@netscape.com\n",
            "tlundbeck3xm@princeton.edu\n",
            "tmaccarterjxi@google.com.hk\n",
            "tmaccreeu00@technorati.com\n",
            "tmacguirell8@twitter.com\n",
            "tmaggiu22@discuz.net\n",
            "tmahadynci@drupal.org\n",
            "tmangerjom@odnoklassniki.ru\n",
            "tmattusevicho79@flavors.me\n",
            "tmaywooddvp@vinaora.com\n",
            "tmcclymonde6u@intel.com\n",
            "tmckall6uk@live.com\n",
            "tmckeaneyu9a@unesco.org\n",
            "tmellandvm2@prlog.org\n",
            "tmerrywjh@mysql.com\n",
            "tminnislow@alexa.com\n",
            "tmogridgegoo@chron.com\n",
            "tmolineuxsi8@mediafire.com\n",
            "tmoylani2q@linkedin.com\n",
            "tnaccixjw@si.edu\n",
            "toakjru@usatoday.com\n",
            "toaksec7@flavors.me\n",
            "toggers10ao@sciencedaily.com\n",
            "toleary4g4@scientificamerican.com\n",
            "tolin2kp@engadget.com\n",
            "tostlernkh@homestead.com\n",
            "tpearmineev@illinois.edu\n",
            "tpellamonutenz49@buzzfeed.com\n",
            "tpeyntuedto@archive.org\n",
            "tpoacherfh5@bandcamp.com\n",
            "tquarles4hy@reverbnation.com\n",
            "trabbeef@mozilla.com\n",
            "treaman4y@zdnet.com\n",
            "tricard1rp@tripod.com\n",
            "trigneyz42@columbia.edu\n",
            "trittmeieryl9@google.cn\n",
            "trockhallkkq@hostgator.com\n",
            "tsaleway40c@jalbum.net\n",
            "tsedcole51h@nps.gov\n",
            "tsharrocks11jm@webnode.com\n",
            "tshetliffk3y@symantec.com\n",
            "tsholldez@drupal.org\n",
            "tsimonetonbde@abc.net.au\n",
            "tsinderlandbk1@omniture.com\n",
            "tsmethurstvce@blogs.com\n",
            "tspargoueg@hatena.ne.jp\n",
            "tstartenwyk@reddit.com\n",
            "tsteedb7p@dion.ne.jp\n",
            "tstiegarmds@ameblo.jp\n",
            "tstoodales5b@1688.com\n",
            "tstruthers10td@example.com\n",
            "tsugarman4xm@columbia.edu\n",
            "tswinbourne12c1@mac.com\n",
            "ttappingtons4q@gmpg.org\n",
            "ttartf2u@qq.com\n",
            "ttaylers9s@wsj.com\n",
            "tthomazinqjs@dion.ne.jp\n",
            "ttomasian7zs@yandex.ru\n",
            "ttomini4qr@qq.com\n",
            "ttrotton2if@prweb.com\n",
            "ttue7yx@nsw.gov.au\n",
            "tvandenoordmp4@narod.ru\n",
            "tvials2x4@prweb.com\n",
            "tweadickdu1@trellian.com\n",
            "twharbyxde@privacy.gov.au\n",
            "twheeldon11sp@craigslist.org\n",
            "twiggam123d@nifty.com\n",
            "twoodard10b@seesaa.net\n",
            "tyesipovwsi@biblegateway.com\n",
            "uberendsenypz@about.com\n",
            "ucasarinoq49@cyberchimps.com\n",
            "ucunnanetvn@marriott.com\n",
            "ucurle73b@joomla.org\n",
            "udavidyd8m@microsoft.com\n",
            "ueasump1z@wix.com\n",
            "ujennionso7w@arstechnica.com\n",
            "upoldingksd@diigo.com\n",
            "uripperejb@hatena.ne.jp\n",
            "usollittwmf@opensource.org\n",
            "uwoehlerc1t@youtu.be\n",
            "uyorstonfxq@tamu.edu\n",
            "vadamou11gq@weibo.com\n",
            "vbehnecke6g@msn.com\n",
            "vbimznd@ucoz.ru\n",
            "vcogdonvti@state.tx.us\n",
            "vcollington8y8@ucla.edu\n",
            "vcowterd489@answers.com\n",
            "vcurrornuu@nasa.gov\n",
            "vdeehanz7u@marriott.com\n",
            "vdendonbp@linkedin.com\n",
            "vdenyukhinoiv@macromedia.com\n",
            "vdilleycc8@google.nl\n",
            "vdoggrell9j2@spotify.com\n",
            "vduero5k@scientificamerican.com\n",
            "vechqqv@deliciousdays.com\n",
            "vemett6tv@amazon.co.uk\n",
            "veyres8qa@wisc.edu\n",
            "vfairham9y0@dot.gov\n",
            "vfanton10zj@rediff.com\n",
            "vfardonuy6@wikimedia.org\n",
            "vhallwardn2m@parallels.com\n",
            "vhollyard9pi@meetup.com\n",
            "vhowiez5q@aol.com\n",
            "vizzett87k@flavors.me\n",
            "vjerroldw02@youtu.be\n",
            "vkeelanblp@wikimedia.org\n",
            "vkrzyzowskivmp@ebay.com\n",
            "vlisciandro10b2@twitter.com\n",
            "vlyddiardi34@youtu.be\n",
            "vmalinsxvc@nhs.uk\n",
            "vmariellexiu@sun.com\n",
            "vmechell1kn@google.de\n",
            "vmennithorp10nb@lulu.com\n",
            "vmonckton30o@yellowpages.com\n",
            "vpumfreyzxx@i2i.jp\n",
            "vputnamhdi@whitehouse.gov\n",
            "vsaiceb70@tuttocitta.it\n",
            "vsmales4xt@reverbnation.com\n",
            "vsnedkerlmu@nhs.uk\n",
            "vstanyanll9@istockphoto.com\n",
            "vswetland3o6@symantec.com\n",
            "vtrengrove10pa@buzzfeed.com\n",
            "vtumec56@reuters.com\n",
            "vubankuva@yellowpages.com\n",
            "vvlasenkon3f@dyndns.org\n",
            "vwadley12b8@sourceforge.net\n",
            "vwauchopejas@prlog.org\n",
            "vwombwelly5p@cafepress.com\n",
            "vwoodrough69@ted.com\n",
            "vyakobowitch2d6@histats.com\n",
            "walhirsiiks@house.gov\n",
            "washmanhdm@behance.net\n",
            "wbatistewyq@soup.io\n",
            "wblinermanlx5@tuttocitta.it\n",
            "wboddy5yw@mashable.com\n",
            "wbodicumjox@cdbaby.com\n",
            "wbrownell3cm@usa.gov\n",
            "wbussenp95@foxnews.com\n",
            "wcadoganaer@trellian.com\n",
            "wcalytonvxh@zdnet.com\n",
            "wdeabill4fx@mozilla.org\n",
            "wdoeydvd@istockphoto.com\n",
            "wduddy9uc@yale.edu\n",
            "wdufray5tm@blogspot.com\n",
            "weayrs10m7@nymag.com\n",
            "wespositon2w@dedecms.com\n",
            "wfishleighf32@mozilla.org\n",
            "wgabbotts2zi@goodreads.com\n",
            "wgarlette107m@columbia.edu\n",
            "wgiannazzoknx@imageshack.us\n",
            "wglennon12js@icio.us\n",
            "wgoldwater1220@senate.gov\n",
            "wgoodingejcn@latimes.com\n",
            "wgransden2ft@marketwatch.com\n",
            "wgreenhowg4v@squidoo.com\n",
            "wgummarymso@home.pl\n",
            "wgusneyfyg@baidu.com\n",
            "whalifaxr9r@dailymotion.com\n",
            "wharnessnvr@epa.gov\n",
            "whedditche92@si.edu\n",
            "whumbyujy@zdnet.com\n",
            "whutsonkhe@bigcartel.com\n",
            "whyderh70@chron.com\n",
            "widleltm@businessweek.com\n",
            "wkayserhhs@cargocollective.com\n",
            "wkennham6@sohu.com\n",
            "wkynett4yy@sphinn.com\n",
            "wlampldnf@bloglovin.com\n",
            "wluke910@yahoo.co.jp\n",
            "wmaccreacne@tinyurl.com\n",
            "wmacdonoghje0@weibo.com\n",
            "wmacronaldw4k@hexun.com\n",
            "wmacsorley5jh@theglobeandmail.com\n",
            "wmalhampqm@census.gov\n",
            "wmanntschke62x@de.vu\n",
            "wmatyashevvfa@wordpress.org\n",
            "wmcclymontgms@hatena.ne.jp\n",
            "wmcgilmartin10w5@ibm.com\n",
            "wmclice69g@51.la\n",
            "wmiskimmonakt@nytimes.com\n",
            "wmoyse11ve@utexas.edu\n",
            "wmuddimer12kq@seattletimes.com\n",
            "wnorwellcb4@sina.com.cn\n",
            "wochiltreewog@google.it\n",
            "woscullyqe8@hp.com\n",
            "wparkynsxg1@github.com\n",
            "wpatrichejdq@cbc.ca\n",
            "wpeagrimk0g@flickr.com\n",
            "wpottagesfk@shop-pro.jp\n",
            "wpratorjvc@shinystat.com\n",
            "wrennockat@omniture.com\n",
            "wroglieroe2o@google.de\n",
            "wroubeix121q@cocolog-nifty.com\n",
            "wruthvenb44@trellian.com\n",
            "wrycraftvoy@sogou.com\n",
            "wsawtero7g@shutterfly.com\n",
            "wshortcliffe2f@friendfeed.com\n",
            "wsobtka8bb@nature.com\n",
            "wspiersu34@nymag.com\n",
            "wspriggincw0@netlog.com\n",
            "wstarbucke4my@devhub.com\n",
            "wstiff113h@walmart.com\n",
            "wtitchmarsh66s@statcounter.com\n",
            "wtownsuzr@photobucket.com\n",
            "wtregennak08@tripadvisor.com\n",
            "wtuckwell48h@cam.ac.uk\n",
            "wtweddlej8o@columbia.edu\n",
            "wtwinn9u5@google.nl\n",
            "wveelersofm@mayoclinic.com\n",
            "wverseyiv2@nih.gov\n",
            "wwandrich10wp@vinaora.com\n",
            "wwatsham10bz@bbc.co.uk\n",
            "xemblingxdl@cbsnews.com\n",
            "xfattore4qm@com.com\n",
            "xfebryme@whitehouse.gov\n",
            "xfilmereop@trellian.com\n",
            "xglavinzyi@howstuffworks.com\n",
            "xhammerman3ij@eventbrite.com\n",
            "xhigbind4b@ifeng.com\n",
            "xhowmana66@instagram.com\n",
            "xottley1h@japanpost.jp\n",
            "xpogosian8yf@scribd.com\n",
            "xprobettsx9p@fda.gov\n",
            "yactonx6m@yale.edu\n",
            "yblemen65x@netvibes.com\n",
            "ybygateepc@mozilla.org\n",
            "ychalcrofthg8@google.es\n",
            "ydober7zd@imdb.com\n",
            "ykeirtd8@forbes.com\n",
            "ymakiverh4i@nytimes.com\n",
            "yolooneyu0e@miibeian.gov.cn\n",
            "ypiattoyog@freewebs.com\n",
            "yrubkeoc3@dion.ne.jp\n",
            "yshalcros21i@google.co.uk\n",
            "ystockton88z@dagondesign.com\n",
            "ywhibley10xv@ebay.co.uk\n",
            "ywhortonzi0@linkedin.com\n",
            "yyakunikoveuk@storify.com\n",
            "zbelwarde9v@latimes.com\n",
            "zcammockqt4@bloomberg.com\n",
            "zcorryer707@e-recht24.de\n",
            "zcranhamll3@typepad.com\n",
            "zfewster8xc@pagesperso-orange.fr\n",
            "zgrimsdykeavt@state.gov\n",
            "zhartmannbhy@mapy.cz\n",
            "zivanv46@php.net\n",
            "zjillingsf9q@elegantthemes.com\n",
            "zkightlyrrn@vk.com\n",
            "zkuhnkei7u@mail.ru\n",
            "zlegan95l@tripadvisor.com\n",
            "zlorkinsit5@behance.net\n",
            "zluard90w@mapy.cz\n",
            "zlumsdallsh9@sogou.com\n",
            "zphethean7b3@nytimes.com\n",
            "zridenljf@psu.edu\n",
            "zrozzellv51@oaic.gov.au\n",
            "zsedgefieldfy2@jalbum.net\n",
            "zshutlerb93@admin.ch\n",
            "zstonnerhme@sphinn.com\n",
            "zzecchinellih3k@prnewswire.com\n"
          ]
        }
      ]
    },
    {
      "cell_type": "markdown",
      "source": [
        "3. Ejecuta la siguiente consulta para obtener todos los nombres, apellidos y direcciones de correo electrónico de los clientes de ZoomZoom en la ciudad de Nueva York, Nueva York. Los clientes deben ser ordenados alfabéticamente, con el apellido seguido del nombre:"
      ],
      "metadata": {
        "id": "02Eaf_lOGde2"
      }
    },
    {
      "cell_type": "code",
      "source": [
        "sql_exec_query('''\n",
        "SELECT first_name, last_name, email\n",
        "FROM customers\n",
        "WHERE city='New York City' AND state='NY'\n",
        "ORDER BY last_name, first_name;\n",
        "''')"
      ],
      "metadata": {
        "id": "tiOE6u7SGmSY",
        "colab": {
          "base_uri": "https://localhost:8080/"
        },
        "outputId": "9f6df133-1183-4d79-acbc-d0e3de79fee6"
      },
      "execution_count": 32,
      "outputs": [
        {
          "output_type": "stream",
          "name": "stdout",
          "text": [
            "first_name     last_name        email\n",
            "-------------  ---------------  ------------------------------------\n",
            "Nell           Abdy             nabdyec4@fema.gov\n",
            "Thomasine      Absolon          tabsolonomk@forbes.com\n",
            "Ram            Acheson          racheson1ai@bloglovin.com\n",
            "Pru            Achrameev        pachrameev2sr@example.com\n",
            "Jandy          Adamowicz        jadamowiczb1w@clickbank.net\n",
            "Kati           Adrian           kadrianeem@51.la\n",
            "Orly           Aers             oaersx61@redcross.org\n",
            "Bradney        Aglione          baglionee5n@usgs.gov\n",
            "Mellicent      Ainslee          mainsleeir0@abc.net.au\n",
            "Fergus         Aireton          fairetonq16@yellowpages.com\n",
            "Ugo            Aldam            ualdamhnc@wikimedia.org\n",
            "Fairlie        Allport          fallportjgi@php.net\n",
            "Arvin          Ambroix          aambroixh9h@liveinternet.ru\n",
            "Lorine         Ambrosini        lambrosinipff@bigcartel.com\n",
            "Goddart        Ameer-Beg        gameerbeg74t@epa.gov\n",
            "Clevie         Amor             camorfsk@networkadvertising.org\n",
            "Issy           Andrieux         iandrieuxsj@dell.com\n",
            "Ev             Angelo           eangelog9w@timesonline.co.uk\n",
            "Griffy         Angelo           gangelolhl@howstuffworks.com\n",
            "Sim            Annandale        sannandale8xb@edublogs.org\n",
            "Starla         Anten            santenlc2@jiathis.com\n",
            "Melloney       Antonutti        mantonuttiagw@free.fr\n",
            "Skelly         Arnaudon         sarnaudon4mj@yahoo.com\n",
            "Josselyn       Arthur           jarthurzlz@lulu.com\n",
            "Garth          Ashington        gashington2p5@google.ru\n",
            "Egan           Aspland          easplandfld@ihg.com\n",
            "Mirabel        Atterley         matterleym75@netscape.com\n",
            "Jonathan       Atwell           jatwellpvl@dagondesign.com\n",
            "Clim           Axworthy         caxworthyygr@un.org\n",
            "Brooks         Babbage          bbabbage10uw@qq.com\n",
            "Giusto         Backe            gbacke1f@digg.com\n",
            "Rodrick        Baguley          rbaguleypve@webs.com\n",
            "Paten          Barfitt          pbarfittphy@cafepress.com\n",
            "Amanda         Barth            abarth1282@mapy.cz\n",
            "Gal            Barwise          gbarwisek2e@godaddy.com\n",
            "Jasmine        Basili           jbasili9rg@redcross.org\n",
            "Evelin         Bateman          ebatemanieh@gizmodo.com\n",
            "Jaimie         Bazelle          jbazelleywd@mlb.com\n",
            "Juliet         Beadles          jbeadlesti@time.com\n",
            "Marabel        Beddie           mbeddieyai@yelp.com\n",
            "Darnell        Beecham          dbeechampyj@ft.com\n",
            "Sebastien      Beeck            sbeeckvvu@exblog.jp\n",
            "Lina           Beet             lbeet9kh@cpanel.net\n",
            "Keeley         Befroy           kbefroytg0@amazonaws.com\n",
            "Davis          Begent           dbegentqca@bing.com\n",
            "Brittany       Bein             bbeinc2o@dailymail.co.uk\n",
            "Federica       Bellini          fbellinigpw@quantcast.com\n",
            "Benton         Benbow           bbenbow2su@apple.com\n",
            "Idalia         Benbrick         ibenbrickqxi@webs.com\n",
            "Vinny          Berrill          vberrillgsu@phoca.cz\n",
            "Artair         Betchley         abetchley4h@dagondesign.com\n",
            "Evvie          Biddles          ebiddlesgbo@prnewswire.com\n",
            "Molly          Bilston          mbilston8j9@nifty.com\n",
            "Diena          Birt             dbirt3nl@independent.co.uk\n",
            "Fidole         Blankett         fblankett6s1@over-blog.com\n",
            "Nickolai       Blaycock         nblaycockwce@slashdot.org\n",
            "Karie          Blenkinsopp      kblenkinsoppcro@blog.com\n",
            "Corbett        Blincoe          cblincoeshe@domainmarket.com\n",
            "Thorn          Blumfield        tblumfield9e8@google.ca\n",
            "Benjamin       Bollom           bbollomuss@qq.com\n",
            "Ervin          Bonde            ebonde3ty@fema.gov\n",
            "Clarence       Boughton         cboughton9ti@redcross.org\n",
            "Che            Boulding         cbouldingyrh@qq.com\n",
            "Allyn          Boyn             aboynurm@oakley.com\n",
            "Storm          Braganca         sbragancazy6@rakuten.co.jp\n",
            "Ketty          Brastead         kbrastead4r6@tuttocitta.it\n",
            "William        Bratt            wbrattlzp@quantcast.com\n",
            "Harli          Brewett          hbrewettc2g@archive.org\n",
            "Dannie         Briars           dbriarsotm@mit.edu\n",
            "Lanny          Brickham         lbrickham6yr@ted.com\n",
            "Brittani       Bridel           bbridelb84@springer.com\n",
            "Deonne         Bridel           dbridel9h4@goo.ne.jp\n",
            "Phil           Brilon           pbrilonoug@blog.com\n",
            "Rafaello       Brimson          rbrimson53l@netvibes.com\n",
            "Earl           Broad            ebroad2mg@sciencedaily.com\n",
            "Byrann         Brockest         bbrockestdpt@jigsy.com\n",
            "Teri           Brozsset         tbrozssetrtw@clickbank.net\n",
            "Marielle       Brunicke         mbrunickem27@usa.gov\n",
            "Hester         Buckel           hbuckel8y7@posterous.com\n",
            "Hillie         Bullus           hbullus4ea@symantec.com\n",
            "Leonhard       Burgoin          lburgoinhux@tripod.com\n",
            "Merle          Buttwell         mbuttwelldnm@berkeley.edu\n",
            "Travis         Cable            tcablev5l@usnews.com\n",
            "Julieta        Caddie           jcaddiengc@accuweather.com\n",
            "Arri           Cainey           acaineyvun@jimdo.com\n",
            "Gerrie         Campo            gcampolv0@vimeo.com\n",
            "Shae           Cannam           scannam12ij@ucla.edu\n",
            "Lyndsey        Cappel           lcappelx2b@seattletimes.com\n",
            "Noe            Capper           ncapperjmd@tripod.com\n",
            "Brendis        Carayol          bcarayolpwz@tripadvisor.com\n",
            "Ethelred       Carrodus         ecarrodusw2x@sciencedaily.com\n",
            "Lezley         Carruthers       lcarruthersts5@wired.com\n",
            "Consuela       Carwithan        ccarwithancm1@sbwire.com\n",
            "Tessa          Casbourne        tcasbourne12hr@msn.com\n",
            "Anastassia     Caseley          acaseley7kj@twitpic.com\n",
            "Owen           Castagnone       ocastagnone567@slate.com\n",
            "Glynn          Castana          gcastana58r@samsung.com\n",
            "Brodie         Castenda         bcastendabo9@dmoz.org\n",
            "Biddy          Cato             bcatoc5q@dedecms.com\n",
            "Sallyanne      Caveney          scaveneyk4p@feedburner.com\n",
            "Nicola         Challes          nchalleshz4@a8.net\n",
            "Jillane        Charlet          jcharlet1yz@admin.ch\n",
            "Jessey         Chevins          jchevinsfgg@sogou.com\n",
            "Averil         Chipping         achippingkhr@mit.edu\n",
            "Valentijn      Christoffels     vchristoffelsb8z@pcworld.com\n",
            "Maurita        Churm            mchurmuab@wisc.edu\n",
            "Ky             Cinelli          kcinelli110z@ca.gov\n",
            "Mackenzie      Clair            mclaircks@jalbum.net\n",
            "Cal            Clery            cclerywqx@163.com\n",
            "Banky          Cleyburn         bcleyburnuv2@statcounter.com\n",
            "Kort           Clitsome         kclitsomeawq@nih.gov\n",
            "Dante          Clorley          dclorleyftg@nbcnews.com\n",
            "Timothy        Clowney          tclowney5aj@hud.gov\n",
            "Christin       Cobby            ccobbyg01@bing.com\n",
            "Nikki          Cohani           ncohaniar0@tuttocitta.it\n",
            "Lucina         Conibear         lconibearm5f@skype.com\n",
            "Cirstoforo     Conley           cconleytqz@networkadvertising.org\n",
            "Vasili         Copestick        vcopestickcln@hostgator.com\n",
            "Ody            Coram            ocoramdrf@1und1.de\n",
            "Mufi           Cordelle         mcordelle11zk@alexa.com\n",
            "Sapphire       Corriea          scorrieavfx@last.fm\n",
            "Genni          Cosgreave        gcosgreaveb3g@163.com\n",
            "Eugenie        Couldwell        ecouldwellj4n@sciencedirect.com\n",
            "Lazaro         Coultish         lcoultishtui@linkedin.com\n",
            "Cy             Cowburn          ccowburnpi3@indiegogo.com\n",
            "Paolina        Cowles           pcowlesp9u@alexa.com\n",
            "Queenie        Creenan          qcreenanw1p@accuweather.com\n",
            "Paquito        Creser           pcreser10og@nbcnews.com\n",
            "Edgar          Crickmore        ecrickmore9b0@canalblog.com\n",
            "Maia           Cripps           mcrippscut@jimdo.com\n",
            "Lock           Cristea          lcristeaywn@shutterfly.com\n",
            "Zondra         Cristofol        zcristofolxtj@cnet.com\n",
            "Sam            Crolla           scrolla4se@oaic.gov.au\n",
            "Robby          Crook            rcrookvd5@wisc.edu\n",
            "Gaelan         Crossthwaite     gcrossthwaiteruo@bloomberg.com\n",
            "Louise         Croughan         lcroughan1156@buzzfeed.com\n",
            "Danica         Croxon           dcroxone8b@alexa.com\n",
            "Dari           Cruwys           dcruwys12je@hao123.com\n",
            "Ethe           Curless          ecurlessbjs@google.com.hk\n",
            "Ogden          Cusack           ocusackq82@ovh.net\n",
            "Colette        Cuttings         ccuttings1272@mysql.com\n",
            "Alvira         D'Orsay          adorsayca5@time.com\n",
            "Marthe         D'eye            mdeyee6l@purevolume.com\n",
            "Jephthah       Dafydd           jdafyddwfd@mashable.com\n",
            "Kearney        Dain             kdaineze@live.com\n",
            "Clem           Danbi            cdanbi4ql@prweb.com\n",
            "Cecilius       Danbrook         cdanbrookkrp@surveymonkey.com\n",
            "Wilfrid        Danihelka        wdanihelkac80@amazonaws.com\n",
            "Lindon         Dawby            ldawbyjds@ft.com\n",
            "Jeanna         De Metz          jdemetzr70@bizjournals.com\n",
            "Michel         De Santos        mdesantosfqq@wikimedia.org\n",
            "Abelard        De Vere          adevereea9@mapy.cz\n",
            "Gannie         Dearle           gdearle6pz@yellowbook.com\n",
            "Brandais       Dearle-Palser    bdearlepalser8hy@dion.ne.jp\n",
            "Emmaline       Dehm             edehm1041@dailymail.co.uk\n",
            "Lucille        Delamar          ldelamarjjc@cbc.ca\n",
            "Padget         Dell Casa        pdellcasapf2@intel.com\n",
            "Hashim         Delleschi        hdelleschit4i@linkedin.com\n",
            "Rebekah        Deluce           rdelucer3v@netlog.com\n",
            "Casey          Deme             cdemeb54@census.gov\n",
            "Cesya          Denning          cdenning8w2@multiply.com\n",
            "Ketti          Deport           kdeport6rq@imageshack.us\n",
            "Terza          Dericut          tdericut12y@google.it\n",
            "Zared          Di Batista       zdibatistaqck@i2i.jp\n",
            "Kevan          Diamant          kdiamanthjr@aboutads.info\n",
            "Farah          Diess            fdiessv6p@dailymail.co.uk\n",
            "Deva           Dobie            ddobie3v2@taobao.com\n",
            "Allison        Docksey          adockseyz8w@wsj.com\n",
            "Bartholomeo    Doers            bdoers3sa@jigsy.com\n",
            "Rockie         Dog              rdog3yu@patch.com\n",
            "Harp           Domeny           hdomenyrg7@ft.com\n",
            "Pier           Dongate          pdongater2p@walmart.com\n",
            "Akim           Downse           adownsetjj@zdnet.com\n",
            "Katya          Dreigher         kdreigherfmn@t-online.de\n",
            "Olive          Drewe            odrewerf7@lulu.com\n",
            "Barbette       Drohan           bdrohanhlu@wufoo.com\n",
            "Duffie         Duesbury         dduesbury385@blogspot.com\n",
            "Gaspar         Duffett          gduffettldi@vkontakte.ru\n",
            "Mauricio       Dumingo          mdumingo116q@symantec.com\n",
            "Gordon         Duprey           gdupreyaql@gnu.org\n",
            "Rivkah         Dyhouse          rdyhouse10lv@gnu.org\n",
            "Jeane          Dyka             jdykag7w@disqus.com\n",
            "Garner         Dymocke          gdymockejmf@topsy.com\n",
            "Row            Eagling          reaglingvtt@scientificamerican.com\n",
            "Saul           Earwaker         searwakerlai@nytimes.com\n",
            "Linus          Eason            leason8ht@ning.com\n",
            "Lena           Easseby          leasseby2n3@independent.co.uk\n",
            "Rosa           Eastmead         reastmead11vm@google.ru\n",
            "Iseabal        Ebden            iebden4ev@disqus.com\n",
            "Kass           Eberts           kebertscpe@domainmarket.com\n",
            "Freedman       Ebsworth         febsworthxy8@netscape.com\n",
            "Arv            Echallier        aechallier10a6@chron.com\n",
            "Tina           Eddins           teddinsqk2@ftc.gov\n",
            "Dorry          Ede              dedeqc1@godaddy.com\n",
            "Karoly         Edess            kedessq26@indiatimes.com\n",
            "Dulcine        Edgcombe         dedgcombe4db@ocn.ne.jp\n",
            "Caterina       Edgecumbe        cedgecumbe7lg@mlb.com\n",
            "Leena          Edmeades         ledmeades100b@marriott.com\n",
            "Ddene          Egle of Germany  degleofgermanydpj@discuz.net\n",
            "Deanna         Eliet            delieto0b@nifty.com\n",
            "Berke          Elion            belionr6x@census.gov\n",
            "Caril          Ellicombe        cellicombe6g3@ucla.edu\n",
            "Alejandra      Elloway          aellowayikq@msn.com\n",
            "Francklin      Ellsom           fellsomsr3@pbs.org\n",
            "Carlotta       Emblin           cemblinrtt@simplemachines.org\n",
            "Everard        Emson            eemsonqbk@mac.com\n",
            "Aldis          Enriquez         aenriquez4p0@drupal.org\n",
            "Dorey          Enstone          denstonechv@amazonaws.com\n",
            "Delphinia      Entwhistle       dentwhistleuxv@blinklist.com\n",
            "Ash            Ephson           aephsonv3j@amazon.de\n",
            "Conrado        Escoffier        cescoffierz1@va.gov\n",
            "Perceval       Escreet          pescreetr9q@symantec.com\n",
            "Verge          Esel             veselad@vistaprint.com\n",
            "Davy           Ethridge         dethridgeb0n@chicagotribune.com\n",
            "Betta          Fahrenbach       bfahrenbachjz8@census.gov\n",
            "Orren          Fairpool         ofairpoolkbq@cyberchimps.com\n",
            "Averyl         Farryn           afarryno38@plala.or.jp\n",
            "Erna           Fateley          efateleymzw@gmpg.org\n",
            "Fionna         Fayne            ffaynec30@imdb.com\n",
            "Mortie         Feares           mfearesl10@nhs.uk\n",
            "Nert           Felgate          nfelgate797@utexas.edu\n",
            "Enos           Fernant          efernant9od@ted.com\n",
            "Gustavo        Fibbens          gfibbenszwp@chronoengine.com\n",
            "Gale           Figurski         gfigurski10pw@webmd.com\n",
            "Maire          Filyakov         mfilyakov6a7@taobao.com\n",
            "Annalise       Fiorentino       afiorentino23y@acquirethisname.com\n",
            "Magdalene      Focke            mfockev67@vinaora.com\n",
            "Terrence       Forder           tforderffm@china.com.cn\n",
            "Sim            Formie           sformiehlj@cdbaby.com\n",
            "Merill         Forsdicke        mforsdickev4o@imageshack.us\n",
            "Wilona         Forster          wforster10cn@hhs.gov\n",
            "Bradney        Forty            bfortyz7h@wikia.com\n",
            "Lesley         Fouch            lfouch41m@yellowbook.com\n",
            "Kettie         Fouracre         kfouracreldq@macromedia.com\n",
            "Davin          Foy              dfoy68d@msn.com\n",
            "Devland        Frear            dfrearzon@salon.com\n",
            "Ninnetta       Fredson          nfredson7a4@ca.gov\n",
            "Leanor         Frenzl           lfrenzlwy4@tamu.edu\n",
            "Gates          Frichley         gfrichleyzwu@live.com\n",
            "Rosie          Fulcher          rfulcher6ee@bravesites.com\n",
            "Lari           Furnival         lfurnivalyo7@geocities.jp\n",
            "Kelcey         Furphy           kfurphyxz6@reverbnation.com\n",
            "Fanni          Gaitone          fgaitone288@weather.com\n",
            "Carlynn        Ganforth         cganforth3ne@purevolume.com\n",
            "Mallory        Garret           mgarretmux@narod.ru\n",
            "Gena           Garric           ggarriclud@bluehost.com\n",
            "Bernetta       Garwood          bgarwoodftv@goo.gl\n",
            "Ellwood        Gatchel          egatchelohw@nba.com\n",
            "Daphna         Gather           dgatherx51@wikispaces.com\n",
            "Lindon         Gauntley         lgauntley3ul@mayoclinic.com\n",
            "Elayne         Gavozzi          egavozzitq8@moonfruit.com\n",
            "Kore           Gaymar           kgaymar80s@tumblr.com\n",
            "Jules          Gellett          jgellett9g0@trellian.com\n",
            "Brion          Gendrich         bgendrichgsf@google.com\n",
            "Marylou        Gerhold          mgerhold2s7@dailymail.co.uk\n",
            "Paxton         Gheeraert        pgheeraertrjd@bravesites.com\n",
            "Aldrich        Ghidetti         aghidettiuui@cnn.com\n",
            "Petunia        Ghio             pghiopa3@timesonline.co.uk\n",
            "Morry          Gidney           mgidneykc3@ox.ac.uk\n",
            "Hadleigh       Gilffilland      hgilffilland296@cbslocal.com\n",
            "Gertrude       Giorgini         ggiorginic79@yahoo.co.jp\n",
            "Barton         Giraldo          bgiraldoh5g@tumblr.com\n",
            "Alyse          Gittose          agittosekxy@youtu.be\n",
            "Mira           Glasby           mglasby3z7@google.de\n",
            "Etheline       Gledstane        egledstane7rm@google.ca\n",
            "Eunice         Gocher           egocherqu5@google.fr\n",
            "Coralie        Godmar           cgodmarylr@merriam-webster.com\n",
            "Cassondra      Golthorpp        cgolthorpp4pc@vimeo.com\n",
            "Cherice        Gooddy           cgooddys8m@wired.com\n",
            "Ky             Gooddy           kgooddy5oo@weibo.com\n",
            "Danica         Goodey           dgoodey11wj@mozilla.com\n",
            "Sherwood       Gorcke           sgorckemj0@icq.com\n",
            "Malinde        Gosenell         mgosenellczp@stumbleupon.com\n",
            "Ebenezer       Gouda            egoudaewm@sitemeter.com\n",
            "Inesita        Gowland          igowland11i8@barnesandnoble.com\n",
            "Templeton      Graffham         tgraffhamail@goo.gl\n",
            "Henriette      Grcic            hgrcicy53@uol.com.br\n",
            "Derril         Greber           dgreber7uf@utexas.edu\n",
            "Melisande      Greenhead        mgreenheadtsp@youtu.be\n",
            "Nappie         Greenland        ngreenlandfey@cyberchimps.com\n",
            "Polly          Greenshiels      pgreenshielsa6z@yale.edu\n",
            "Marys          Grimstead        mgrimstead4a2@sohu.com\n",
            "Ly             Gripton          lgriptonfrh@canalblog.com\n",
            "Clevie         Grundey          cgrundeysa5@epa.gov\n",
            "Deerdre        Gull             dgullkhp@edublogs.org\n",
            "Hilliard       Gunnell          hgunnell11f8@intel.com\n",
            "Leif           Gunston          lgunston7e6@ihg.com\n",
            "Zaccaria       Gutcher          zgutchersle@scribd.com\n",
            "Maure          Gwillym          mgwillym93p@mit.edu\n",
            "Elane          Halfhyde         ehalfhydeqdr@patch.com\n",
            "Pauli          Halpine          phalpinebbl@miitbeian.gov.cn\n",
            "Fernanda       Haney`           fhaney1fn@geocities.com\n",
            "Thomas         Hardbattle       thardbattle3ir@slashdot.org\n",
            "Eldon          Hardwin          ehardwinaod@spiegel.de\n",
            "Mikaela        Harfleet         mharfleetyj1@hostgator.com\n",
            "Kyla           Hartle           khartlef2z@xrea.com\n",
            "Hersch         Haselhurst       hhaselhurstg5v@unc.edu\n",
            "Miner          Hassin           mhassinxys@apple.com\n",
            "Danice         Hasted           dhastedzj1@eventbrite.com\n",
            "Kory           Havenhand        khavenhand55e@europa.eu\n",
            "Irwinn         Hawket           ihawketz2s@moonfruit.com\n",
            "Giffer         Headon           gheadon2nm@toplist.cz\n",
            "Ayn            Hearse           ahearseec2@nyu.edu\n",
            "Nappy          Hearson          nhearson6wh@state.tx.us\n",
            "Davis          Hebden           dhebdenfwu@vistaprint.com\n",
            "Johanna        Hedworth         jhedworthdvl@mtv.com\n",
            "Urbain         Heffy            uheffy10f2@ning.com\n",
            "Nissie         Height           nheightgzj@upenn.edu\n",
            "Janella        Helbeck          jhelbeck5o4@chron.com\n",
            "Timothea       Held             theldsdw@about.me\n",
            "Yulma          Helling          yhellingsrk@alexa.com\n",
            "Killy          Hendrix          khendrixomp@smh.com.au\n",
            "Fenelia        Hercock          fhercocktkv@unesco.org\n",
            "Mark           Hilldrop         mhilldrop11ov@themeforest.net\n",
            "Alfredo        Hobbema          ahobbemaq0j@over-blog.com\n",
            "Carolann       Hodgen           chodgen7t2@blogs.com\n",
            "Merle          Hollier          mhollierlji@wisc.edu\n",
            "Roberto        Hollier          rhollierpkq@dion.ne.jp\n",
            "Lissy          Hooks            lhooks4vc@bloomberg.com\n",
            "Alidia         Houchin          ahouchinht4@yahoo.co.jp\n",
            "Tailor         Houlridge        thoulridge7pj@studiopress.com\n",
            "Albina         Hoys             ahoysol7@narod.ru\n",
            "Mame           Huke             mhuke76w@wordpress.com\n",
            "Whitaker       Hurkett          whurkettvyi@state.tx.us\n",
            "Jarred         Hyndes           jhyndes7er@simplemachines.org\n",
            "Shanta         Ibbitt           sibbittu59@chron.com\n",
            "Hedvig         Iddon            hiddonbi0@cloudflare.com\n",
            "Zabrina        Imlen            zimlenzje@liveinternet.ru\n",
            "Antonina       Impey            aimpey10tv@is.gd\n",
            "Liuka          Ingleton         lingletono99@theguardian.com\n",
            "Alphard        Insley           ainsleyq2y@angelfire.com\n",
            "Gabby          Ireland          gireland8ku@apple.com\n",
            "Marline        Isaq             misaq9kw@reference.com\n",
            "Clemente       Ishaki           cishakigft@cnet.com\n",
            "Kirsteni       Isted            kistedxqq@cbc.ca\n",
            "Dante          Itskovitz        ditskovitz68s@facebook.com\n",
            "Abel           Ivancevic        aivancevic84q@redcross.org\n",
            "Alli           Jacomb           ajacombjro@patch.com\n",
            "Melba          Jagger           mjaggernww@prlog.org\n",
            "Olga           Janaszkiewicz    ojanaszkiewiczgfr@dedecms.com\n",
            "Filberte       Jannequin        fjannequin9zq@sogou.com\n",
            "Meade          Jannex           mjannexkyi@ibm.com\n",
            "Lincoln        Jeacock          ljeacockfiv@networkadvertising.org\n",
            "Rozina         Jeal             rjealb9@howstuffworks.com\n",
            "Sergeant       Jeannaud         sjeannaudbo5@samsung.com\n",
            "Weidar         Jeffries         wjeffriesals@technorati.com\n",
            "Katey          Jellman          kjellmanvyb@scientificamerican.com\n",
            "Enrichetta     Jimson           ejimsonji8@merriam-webster.com\n",
            "Alejandra      Jinda            ajinda3hy@w3.org\n",
            "Jarid          Jiru             jjiruxsk@google.fr\n",
            "Bennie         Jizhaki          bjizhaki5zc@scribd.com\n",
            "Gaylor         Jochen           gjochend1j@123-reg.co.uk\n",
            "Dael           Joder            djodery5y@pagesperso-orange.fr\n",
            "Jocelin        Jonsson          jjonsson10ce@technorati.com\n",
            "Erena          Jorn             ejornydr@surveymonkey.com\n",
            "Zackariah      Josefsohn        zjosefsohntws@google.nl\n",
            "Sheffield      Jowle            sjowleew6@ftc.gov\n",
            "Tommi          Kearley          tkearleyyj5@gravatar.com\n",
            "Debbi          Kelcher          dkelcher3wg@vistaprint.com\n",
            "Cele           Kelsow           ckelsowo0v@sourceforge.net\n",
            "Claudie        Kemme            ckemmex9s@census.gov\n",
            "Rick           Kemsley          rkemsley11t6@oracle.com\n",
            "Jaymie         Kernaghan        jkernaghandtu@github.com\n",
            "Mayer          Kernocke         mkernockef6y@studiopress.com\n",
            "Zacharia       Keuneke          zkeuneke12d3@scientificamerican.com\n",
            "Allistir       Khilkov          akhilkovczy@seattletimes.com\n",
            "Melloney       Kimbell          mkimbellne6@sun.com\n",
            "Beverlee       Kindle           bkindle12gr@pbs.org\n",
            "Dulcie         Kinnie           dkinniega8@histats.com\n",
            "Tasia          Kippen           tkippen9za@facebook.com\n",
            "Cherida        Kirkhouse        ckirkhousew9m@1688.com\n",
            "Eduino         Kitchinham       ekitchinhamcpf@shop-pro.jp\n",
            "Vivyan         Kite             vkite3rf@i2i.jp\n",
            "Mort           Kleinzweig       mkleinzweigmqz@globo.com\n",
            "Pablo          Knok             pknokzkr@blogspot.com\n",
            "Elna           Knowlden         eknowldenq7h@census.gov\n",
            "Ellery         Kock             ekock33c@nifty.com\n",
            "Pierson        Koenraad         pkoenraadrey@wix.com\n",
            "Jozef          Kondratowicz     jkondratowiczgg4@quantcast.com\n",
            "Shanan         Konzel           skonzelz4c@hugedomains.com\n",
            "Ellswerth      Kopp             ekoppura@tumblr.com\n",
            "Sly            Korneev          skorneev8ro@usatoday.com\n",
            "Hillary        Kosel            hkoseluhg@gnu.org\n",
            "Xever          Kurth            xkurth7on@php.net\n",
            "Shalna         Labat            slabat8sh@t.co\n",
            "Kennett        Labell           klabellej2@google.ca\n",
            "Nappie         Labusquiere      nlabusquieres4n@sfgate.com\n",
            "Erin           Ladbrook         eladbrookshq@google.co.jp\n",
            "Nettle         Ladson           nladson8ul@sina.com.cn\n",
            "Emeline        Laise            elaisei90@harvard.edu\n",
            "Ellery         Lally            elallyhr8@vkontakte.ru\n",
            "Sunny          Lambell          slambellsml@icio.us\n",
            "Albie          Larham           alarhamdxi@sfgate.com\n",
            "Frederica      Laughrey         flaughrey11x5@bloomberg.com\n",
            "Agna           Le Maitre        alemaitre8zj@blogs.com\n",
            "Bogart         Lebond           blebondp9k@scribd.com\n",
            "Trenna         Leere            tleere299@nhs.uk\n",
            "Brannon        Leidl            bleidlraj@mozilla.org\n",
            "Maria          Leindecker       mleindeckermrn@netvibes.com\n",
            "Jessee         Lemmen           jlemmenf6c@google.co.jp\n",
            "Shelden        Lenthall         slenthallboo@fc2.com\n",
            "Sadye          Leuchars         sleucharsi7k@japanpost.jp\n",
            "Herta          Libby            hlibbynhh@deliciousdays.com\n",
            "Emerson        Lightbown        elightbowny26@twitpic.com\n",
            "Kaiser         Lilleycrop       klilleycrophhb@shutterfly.com\n",
            "Inesita        Lillo            ilillorqt@goo.gl\n",
            "Obie           Linn             olinnbli@booking.com\n",
            "Cari           Linner           clinnermvt@tmall.com\n",
            "Barbabas       Lissaman         blissaman87o@weather.com\n",
            "Alvera         Livzey           alivzeyu5s@fastcompany.com\n",
            "Fin            Lockney          flockneyiw5@histats.com\n",
            "Branden        Lodo             blodop2i@google.com.au\n",
            "Dermot         Lodwick          dlodwickpqw@wp.com\n",
            "Minnie         Lopez            mlopezqib@creativecommons.org\n",
            "Allix          Lothean          alotheanya4@homestead.com\n",
            "Danika         Lough            dloughabx@skype.com\n",
            "Cyrille        Loughran         cloughran285@omniture.com\n",
            "Bathsheba      Lovemore         blovemorezvh@indiegogo.com\n",
            "Alexei         Lowe             alowegjg@discovery.com\n",
            "Catlaina       Loyndon          cloyndonj9c@ihg.com\n",
            "Davis          Luckman          dluckmanyfr@baidu.com\n",
            "Abdel          Lurcock          alurcockpbb@github.com\n",
            "Letitia        Lyles            llylesh26@disqus.com\n",
            "Donielle       Lynes            dlynes1x4@mediafire.com\n",
            "Thelma         Lyte             tlytepqh@hhs.gov\n",
            "Romola         MacChaell        rmacchaell6bp@godaddy.com\n",
            "Kaila          MacGillicuddy    kmacgillicuddy3nn@slate.com\n",
            "Kathye         MacGinlay        kmacginlayryq@quantcast.com\n",
            "Ali            MacIllrick       amacillrickhgd@php.net\n",
            "Lucita         MacKibbon        lmackibbon9q3@xrea.com\n",
            "Sasha          Macconaghy       smacconaghyrjc@pcworld.com\n",
            "Town           Maccrea          tmaccrea5wx@purevolume.com\n",
            "Lindsey        Madsen           lmadsen1013@qq.com\n",
            "Milzie         Makeswell        mmakeswellsv5@nasa.gov\n",
            "Lucita         Malkin           lmalkin1274@topsy.com\n",
            "Harris         Mallebone        hmallebonegkz@mtv.com\n",
            "Hollyanne      Mallion          hmalliongop@un.org\n",
            "Gregoire       Marciek          gmarciek182@washington.edu\n",
            "Hobard         Mariet           hmarietw1g@histats.com\n",
            "Ennis          Marqyes          emarqyesq1r@bandcamp.com\n",
            "Kathlin        Mates            kmates12dp@so-net.ne.jp\n",
            "Diego          Mathie           dmathier13@vinaora.com\n",
            "Esta           Matteucci        ematteucciztn@reverbnation.com\n",
            "Nalani         Matthessen       nmatthessenyza@wikimedia.org\n",
            "Pall           Matthias         pmatthiasdmo@nhs.uk\n",
            "Sherie         Matthias         smatthiasbl8@guardian.co.uk\n",
            "Artie          Mattimoe         amattimoeux5@cdbaby.com\n",
            "Fredia         Maxwaile         fmaxwaile11ae@state.gov\n",
            "Nealson        Maytom           nmaytommmh@go.com\n",
            "Joelie         McAline          jmcaline1pu@csmonitor.com\n",
            "Junie          McAllen          jmcallenqrw@un.org\n",
            "Papagena       McAnellye        pmcanellye68i@si.edu\n",
            "Adriane        McCaffery        amccafferyaj8@weebly.com\n",
            "Arty           McCall           amccalloy4@drupal.org\n",
            "Sherrie        McClenaghan      smcclenaghanorw@bluehost.com\n",
            "Gwyneth        McCobb           gmccobbxm@addtoany.com\n",
            "Anne-corinne   McCole           amccole6q3@nationalgeographic.com\n",
            "Carolyne       McCrory          cmccroryh4d@usa.gov\n",
            "Hyacinthie     McElhargy        hmcelhargym9y@over-blog.com\n",
            "Verge          McElroy          vmcelroyhl1@tripod.com\n",
            "Haley          McFadin          hmcfadinxm4@ft.com\n",
            "Ced            McFarland        cmcfarlandfpd@nhs.uk\n",
            "Alister        McGahy           amcgahyfe9@cdbaby.com\n",
            "Dorry          McGinnell        dmcginnelljly@amazon.com\n",
            "Derry          McGiven          dmcgiven2ab@cornell.edu\n",
            "Caren          McGuigan         cmcguiganlzd@wix.com\n",
            "Liane          McKenna          lmckennaj65@issuu.com\n",
            "Dukey          McKissack        dmckissack8bk@va.gov\n",
            "Arnie          McMeekan         amcmeekanr6o@deliciousdays.com\n",
            "Helga          McMillan         hmcmillan8bq@sakura.ne.jp\n",
            "Aeriel         McMorland        amcmorland103m@elpais.com\n",
            "Molli          McNaughton       mmcnaughtonrit@shareasale.com\n",
            "Orin           McNerlin         omcnerlinse3@walmart.com\n",
            "Bobbie         McPaike          bmcpaike5qe@odnoklassniki.ru\n",
            "Pieter         McPhillimey      pmcphillimeyj3f@yale.edu\n",
            "Hugibert       McSpirron        hmcspirronfwb@hugedomains.com\n",
            "Rowena         Meaking          rmeakingtx0@ask.com\n",
            "Karlyn         Mechan           kmechanzpe@bigcartel.com\n",
            "Darrin         Meier            dmeier4g2@artisteer.com\n",
            "Adelbert       Mellish          amellish56f@themeforest.net\n",
            "Zollie         Mellish          zmellishuvi@ow.ly\n",
            "Odey           Menco            omencof8c@yolasite.com\n",
            "Trixie         Mennear          tmennear123l@i2i.jp\n",
            "Berky          Merdew           bmerdew9yk@nba.com\n",
            "Ciro           Merkle           cmerklechc@tumblr.com\n",
            "Frederich      Merrison         fmerrisonqpv@theguardian.com\n",
            "Gaynor         Merrison         gmerrison11s8@jalbum.net\n",
            "Clarette       Merryweather     cmerryweather3zy@sitemeter.com\n",
            "Felic          Michel           fmichelwl9@si.edu\n",
            "Rudolf         Minerdo          rminerdozvj@ft.com\n",
            "Eolande        Misken           emisken9i8@ucla.edu\n",
            "Axe            Mixter           amixter5ba@who.int\n",
            "Mona           Mocker           mmockerz4x@uol.com.br\n",
            "Lorin          Moizer           lmoizer91l@sphinn.com\n",
            "Desiree        Molesworth       dmolesworth7f2@newsvine.com\n",
            "Barbra         Molines          bmolinestsx@histats.com\n",
            "Misty          Molines          mmolineswnq@edublogs.org\n",
            "Dede           Morrell          dmorrell7j1@instagram.com\n",
            "Magnum         Mourton          mmourton11du@economist.com\n",
            "Dietrich       Muldownie        dmuldownieaco@mit.edu\n",
            "Analise        Mullany          amullany8vz@xrea.com\n",
            "Ervin          Mungin           emungin7ki@vistaprint.com\n",
            "Whitby         Murrum           wmurrumw6x@ehow.com\n",
            "Clemens        Naul             cnaulfsi@alexa.com\n",
            "Eirena         Neely            eneelytls@meetup.com\n",
            "Christy        Nelthrop         cnelthrop11lc@blogs.com\n",
            "Cybil          Noke             cnokecn@jigsy.com\n",
            "Jammal         Norssister       jnorssisterq1m@time.com\n",
            "Simonette      Nystrom          snystrom116f@fc2.com\n",
            "Brit           O'Corrigane      bocorriganepyt@geocities.com\n",
            "Danna          O'Dunneen        dodunneenmte@google.cn\n",
            "Jedediah       O'Moylan         jomoylangak@zdnet.com\n",
            "Ebenezer       Ondra            eondraxyb@quantcast.com\n",
            "Evy            Onthank          eonthankkr9@yelp.com\n",
            "Garald         Ortas            gortasoqs@yellowbook.com\n",
            "Maddy          Osbidston        mosbidstondb0@google.co.uk\n",
            "Shanon         Osbourne         sosbourne7yn@paypal.com\n",
            "Nikolia        Osipov           nosipovnfu@pen.io\n",
            "Dorri          Ovendale         dovendaleaof@google.com.hk\n",
            "Marilin        Page             mpageilc@etsy.com\n",
            "Cart           Pagram           cpagram6sf@issuu.com\n",
            "Madelon        Paice            mpaice85f@furl.net\n",
            "Sindee         Parfett          sparfettwnv@ezinearticles.com\n",
            "Karen          Parramore        kparramorelo6@imageshack.us\n",
            "Daffy          Patrono          dpatronompv@cornell.edu\n",
            "Allin          Pawlyn           apawlyn11gk@bandcamp.com\n",
            "Borg           Pawnsford        bpawnsford3of@addthis.com\n",
            "Pancho         Pedri            ppedrioml@google.com\n",
            "Neils          Pedrick          npedrick23s@icq.com\n",
            "Wilfred        Pendall          wpendallzeq@friendfeed.com\n",
            "Farlie         Peoples          fpeoplesxuk@sun.com\n",
            "Dionysus       Pepye            dpepyeuha@nhs.uk\n",
            "Christan       Petrelluzzi      cpetrelluzziva1@alexa.com\n",
            "Ralina         Petronis         rpetroniskp1@wiley.com\n",
            "Hulda          Petty            hpettyx0x@redcross.org\n",
            "Hetti          Pettyfer         hpettyfer4a7@php.net\n",
            "Raynard        Philo            rphilonhd@amazon.co.jp\n",
            "Lillis         Philot           lphilotaoh@shareasale.com\n",
            "Emilio         Pieper           epieperocg@hatena.ne.jp\n",
            "Liam           Pimm             lpimm24e@instagram.com\n",
            "Bordy          Pitkethly        bpitkethly2im@godaddy.com\n",
            "Jose           Pitson           jpitsonf08@merriam-webster.com\n",
            "Ruprecht       Plues            rplues1st@digg.com\n",
            "Jarrett        Pods             jpodsmja@opera.com\n",
            "Dalton         Polini           dpolinib3k@miitbeian.gov.cn\n",
            "Ronalda        Pollok           rpollokf4q@twitpic.com\n",
            "Jarrad         Pontin           jpontinuj4@godaddy.com\n",
            "Shaughn        Port             sportpwh@shop-pro.jp\n",
            "Reba           Poulett          rpoulett6ma@cocolog-nifty.com\n",
            "Joe            Pratley          jpratleywmc@amazon.co.uk\n",
            "Erin           Praton           epratongtp@cbsnews.com\n",
            "Kessiah        Prescott         kprescotthdw@amazonaws.com\n",
            "Henrik         Prichet          hprichetqvr@globo.com\n",
            "Urson          Propper          upropperq03@engadget.com\n",
            "Saxe           Provis           sprovis6et@dyndns.org\n",
            "Cybill         Qualtrough       cqualtrough11wh@vkontakte.ru\n",
            "Shelby         Quincee          squinceesf1@youtu.be\n",
            "Cheston        Rabjohns         crabjohnsnuq@scribd.com\n",
            "Nonnah         Raffin           nraffin5yq@ucoz.ru\n",
            "Parnell        Raffles          praffles11x2@wikipedia.org\n",
            "Zebedee        Rahill           zrahill1v9@multiply.com\n",
            "Auberon        Ramsay           aramsayrxh@paginegialle.it\n",
            "Teador         Reding           tredinghfh@youtube.com\n",
            "Bette          Reeman           breeman11sd@over-blog.com\n",
            "Tori           Reims            treims9qe@i2i.jp\n",
            "Austine        Revan            arevanr41@guardian.co.uk\n",
            "Jacky          Richens          jrichensxbi@seattletimes.com\n",
            "Boigie         Ringwood         bringwoodb39@opera.com\n",
            "Herve          Rispin           hrispin4bz@ustream.tv\n",
            "Riane          Rodson           rrodsonx7n@webs.com\n",
            "Albertine      Roobottom        aroobottom43z@youku.com\n",
            "Harris         Rossiter         hrossitere76@earthlink.net\n",
            "Faunie         Rothschild       frothschildwhl@bing.com\n",
            "Laverna        Rowler           lrowlerypn@sun.com\n",
            "Krystalle      Roylance         kroylancef1j@domainmarket.com\n",
            "Heindrick      Russilll         hrussilll3rq@dell.com\n",
            "Donia          Ryves            dryvespns@illinois.edu\n",
            "Melitta        Sacchetti        msacchettihqt@t-online.de\n",
            "Judah          Sainsberry       jsainsberry8z6@bloomberg.com\n",
            "Maren          Salmon           msalmonvae@cpanel.net\n",
            "Guillaume      Sambiedge        gsambiedgeaz4@blogger.com\n",
            "Gauthier       Samuel           gsamuelkfg@usnews.com\n",
            "Octavia        Sang             osang963@cisco.com\n",
            "Ber            Sanpher          bsanpher104d@mashable.com\n",
            "Roxie          Sansam           rsansam2tv@cnet.com\n",
            "Amalita        Savidge          asavidge6na@e-recht24.de\n",
            "Gorden         Sazio            gsazioekf@ovh.net\n",
            "Obadias        Scad             oscadrtj@adobe.com\n",
            "Normie         Scamal           nscamal7ra@bigcartel.com\n",
            "Nigel          Schnitter        nschnitterdis@mac.com\n",
            "Elsy           Schoenfisch      eschoenfischmlv@slashdot.org\n",
            "Lonee          Schonfeld        lschonfeld274@scribd.com\n",
            "Sybilla        Schrei           sschrei7xk@sourceforge.net\n",
            "Poul           Schruyers        pschruyersi4o@unicef.org\n",
            "Hilarius       Scorah           hscorahj9h@google.co.jp\n",
            "Noble          Scroggs          nscroggsjns@loc.gov\n",
            "Bibi           Seawright        bseawright3qw@paypal.com\n",
            "Dorine         Selesnick        dselesnickaue@microsoft.com\n",
            "Far            Semiras          fsemiras39w@theatlantic.com\n",
            "Tannie         Severs           tseverssiv@china.com.cn\n",
            "Merna          Shakesbye        mshakesbyeb94@oaic.gov.au\n",
            "Roosevelt      Shave            rshavensq@weebly.com\n",
            "Hamlen         Shaxby           hshaxby3gm@shinystat.com\n",
            "Georgeta       Sheryne          gsherynejyc@google.fr\n",
            "Ardis          Shirer           ashirerknu@tmall.com\n",
            "Albrecht       Shitliff         ashitliffm2q@fastcompany.com\n",
            "Griffy         Shoebridge       gshoebridgeztb@cnbc.com\n",
            "Yoshiko        Shorey           yshorey6q2@woothemes.com\n",
            "Daphne         Shrimplin        dshrimplinbhz@oaic.gov.au\n",
            "Flor           Siddens          fsiddensdy4@gizmodo.com\n",
            "Gare           Simoes           gsimoesp5v@unblog.fr\n",
            "Gallagher      Simonnot         gsimonnot825@merriam-webster.com\n",
            "Tarah          Skelding         tskeldingq65@google.com.au\n",
            "Pierce         Skeleton         pskeletoncf6@cnn.com\n",
            "Thalia         Skipsea          tskipseadnu@blogger.com\n",
            "Shaun          Smickle          ssmickleuf6@imgur.com\n",
            "Dredi          Smiths           dsmiths10g2@goo.ne.jp\n",
            "Yankee         Snar             ysnar10dw@moonfruit.com\n",
            "Stanislaw      Sokell           ssokellk8a@howstuffworks.com\n",
            "Lanni          Sommerville      lsommervilleecd@toplist.cz\n",
            "Erna           Sothcott         esothcottz9v@mayoclinic.com\n",
            "Stefan         Southwood        ssouthwoodjng@usatoday.com\n",
            "Anica          Sparey           asparey10jh@cdc.gov\n",
            "Katusha        Spawton          kspawtonx2e@alexa.com\n",
            "Layton         Spolton          lspoltondr@free.fr\n",
            "Aleta          Squire           asquirefgh@simplemachines.org\n",
            "Darcee         St. John         dstjohnkra@paginegialle.it\n",
            "Freeland       Stalf            fstalfltt@cisco.com\n",
            "Benny          Standage         bstandagest7@zdnet.com\n",
            "Guinevere      Steabler         gsteablerah6@si.edu\n",
            "Ronalda        Stife            rstifeas0@themeforest.net\n",
            "Abagael        Stirling         astirling50d@google.fr\n",
            "Geoffrey       Stoaks           gstoaksjkq@redcross.org\n",
            "Lauraine       Stobo            lstoboyea@live.com\n",
            "Linn           Stockey          lstockeyvr8@springer.com\n",
            "Ibrahim        Stoller          istollert0z@themeforest.net\n",
            "Frans          Storrah          fstorrahvhq@npr.org\n",
            "Bernardine     Stourton         bstourtonq0u@simplemachines.org\n",
            "Violante       Stowe            vstowel1u@dedecms.com\n",
            "Zachery        Straun           zstraunpnw@youtu.be\n",
            "Cher           Strettle         cstrettleu30@yahoo.co.jp\n",
            "Zelma          Stuehmeier       zstuehmeieroyn@domainmarket.com\n",
            "Shaughn        Suckling         ssucklingc9u@pinterest.com\n",
            "Andrey         Sussex           asussexmec@sphinn.com\n",
            "Burch          Suston           bsustono9r@webmd.com\n",
            "Damian         Suston           dsustonm2l@latimes.com\n",
            "Vida           Swafield         vswafielduf9@oaic.gov.au\n",
            "Bendix         Swettenham       bswettenhamwww@sakura.ne.jp\n",
            "Chester        Swithenby        cswithenbyd46@google.com.br\n",
            "Timotheus      Sword            tsword731@booking.com\n",
            "Mona           Tailour          mtailourn99@opensource.org\n",
            "Lacy           Tapin            ltapinj2h@behance.net\n",
            "Abey           Tapping          atappingc96@shinystat.com\n",
            "Linnell        Tawton           ltawton65g@vkontakte.ru\n",
            "Kile           Temlett          ktemlettomt@myspace.com\n",
            "Berkeley       Temple           btempleo0e@paypal.com\n",
            "Blinni         Thal             bthalt00@noaa.gov\n",
            "Starr          Thickin          sthickinuf7@discovery.com\n",
            "Whitney        Thirsk           wthirskxng@yandex.ru\n",
            "Timmy          Thorburn         tthorburnqwc@washingtonpost.com\n",
            "Wendell        Tieraney         wtieraney11d8@yellowpages.com\n",
            "Karlyn         Tilbey           ktilbeyjyj@epa.gov\n",
            "Carma          Tilling          ctillinggpg@uol.com.br\n",
            "Duncan         Tinklin          dtinklin6d8@huffingtonpost.com\n",
            "Hartley        Tinto            htinto89f@jigsy.com\n",
            "Franny         Tipping          ftipping110@skyrock.com\n",
            "Gusti          Tombleson        gtombleson229@vkontakte.ru\n",
            "Hagen          Tomczykiewicz    htomczykiewiczejd@woothemes.com\n",
            "Harwilll       Tomsen           htomsenj6b@latimes.com\n",
            "Irvine         Tongue           itonguea70@msn.com\n",
            "Adella         Topliss          atoplisso4p@cnn.com\n",
            "Hilary         Trask            htrask7dx@digg.com\n",
            "Ferris         Traynor          ftraynorbin@alexa.com\n",
            "Trixi          Trebilcock       ttrebilcocke3j@netvibes.com\n",
            "Ardyce         Trenholme        atrenholmeuxs@edublogs.org\n",
            "Casar          Triner           ctrinerz4r@bbb.org\n",
            "Clary          Trippett         ctrippett9w4@indiatimes.com\n",
            "Selig          Trousdale        strousdalelna@miitbeian.gov.cn\n",
            "Letta          Troy             ltroyw7r@ow.ly\n",
            "Suzy           Truelock         struelockype@yahoo.co.jp\n",
            "Ransom         Truesdale        rtruesdaleoe7@wiley.com\n",
            "Minetta        Trulocke         mtrulockezep@phpbb.com\n",
            "Averil         Trusslove        atrusslovehwo@fema.gov\n",
            "Casi           Trustey          ctrustey1pg@washington.edu\n",
            "Freeland       Tummons          ftummonsdqp@edublogs.org\n",
            "Julina         Tunnow           jtunnowtl8@google.co.jp\n",
            "Demeter        Twelftree        dtwelftree3sw@reddit.com\n",
            "Liam           Twyning          ltwyningniz@ebay.com\n",
            "Zak            Ugolotti         zugolottio7i@ebay.co.uk\n",
            "Timothy        Vallow           tvallowf8p@yelp.com\n",
            "Malina         Van Arsdall      mvanarsdall6qd@tmall.com\n",
            "Marla          Varey            mvareyvrw@newyorker.com\n",
            "Major          Vasyukov         mvasyukovluf@pinterest.com\n",
            "Magdalene      Veryard          mveryardss@behance.net\n",
            "Pansy          Vial             pvialhq4@tmall.com\n",
            "Barris         Vowell           bvowell882@mlb.com\n",
            "Goober         Wakeman          gwakemanszw@google.ru\n",
            "Ninon          Wales            nwaleshnt@multiply.com\n",
            "Hailey         Wallace          hwallace5ia@home.pl\n",
            "Homere         Walles           hwalles4y8@utexas.edu\n",
            "Kally          Wankel           kwankel63e@exblog.jp\n",
            "Kristofer      Wankling         kwanklinge4q@china.com.cn\n",
            "Morton         Wantling         mwantlinggt5@mozilla.com\n",
            "Zachery        Washtell         zwashtellzrc@cbslocal.com\n",
            "Waneta         Wasiel           wwasielhgq@chron.com\n",
            "Orel           Wastall          owastallywh@bloomberg.com\n",
            "Peri           Wedge            pwedge7zz@noaa.gov\n",
            "Mabel          Wetherby         mwetherbyokf@youtu.be\n",
            "Elspeth        Whistlecraft     ewhistlecraftr0p@creativecommons.org\n",
            "Bobina         Wickie           bwickieoc5@yahoo.com\n",
            "Noelyn         Wiggins          nwigginsv10@illinois.edu\n",
            "Nicolle        Wildbore         nwildborevbn@google.co.uk\n",
            "Meyer          Windrus          mwindrusn21@sohu.com\n",
            "Kort           Winsbury         kwinsburyqrh@devhub.com\n",
            "Merl           Wisden           mwisdenrcy@ihg.com\n",
            "Filmer         Witts            fwittsvjn@booking.com\n",
            "Isabelita      Wolfendale       iwolfendalee4p@netvibes.com\n",
            "Cherlyn        Wooddisse        cwooddissemai@ebay.com\n",
            "Gallard        Wooller          gwoollern4w@cdc.gov\n",
            "Shelden        Woollett         swoollett10d6@networksolutions.com\n",
            "Kipp           Woolmore         kwoolmoren74@mapy.cz\n",
            "Todd           Wych             twychwmh@shareasale.com\n",
            "Horacio        Wyd              hwyd5fr@tinyurl.com\n",
            "Filberto       Wyer             fwyerlm5@devhub.com\n",
            "Renato         Wyllie           rwyllieec6@pcworld.com\n",
            "Patrice        Yarker           pyarker5jv@diigo.com\n",
            "Rawley         Yegorov          ryegorovd3@google.es\n",
            "Maximilian     Yendle           myendlec48@cam.ac.uk\n",
            "Christophorus  Yokelman         cyokelmansud@ibm.com\n",
            "Michelina      Youdell          myoudellwbo@unc.edu\n",
            "Gladys         des Remedios     gdesremediosu9y@goo.ne.jp\n"
          ]
        }
      ]
    },
    {
      "cell_type": "markdown",
      "source": [
        "4. Ejecuta la siguiente consulta para obtener todos los clientes que tienen un número de teléfono, ordenados por la fecha en que el cliente fue agregado a la base de datos:"
      ],
      "metadata": {
        "id": "QwzaiWmbG4wp"
      }
    },
    {
      "cell_type": "code",
      "source": [
        "sql_exec_query('''\n",
        "SELECT *\n",
        "FROM customers\n",
        "WHERE phone IS NOT NULL\n",
        "ORDER BY date_added LIMIT 10;\n",
        "''')"
      ],
      "metadata": {
        "id": "xmVKKYZIG97J",
        "outputId": "881e3ba1-c789-45da-c099-d8b09fef9cdf",
        "colab": {
          "base_uri": "https://localhost:8080/"
        }
      },
      "execution_count": 34,
      "outputs": [
        {
          "output_type": "stream",
          "name": "stdout",
          "text": [
            "  customer_id  title    first_name    last_name    suffix    email                           gender    ip_address       phone         street_address          city           state      postal_code    latitude    longitude  date_added\n",
            "-------------  -------  ------------  -----------  --------  ------------------------------  --------  ---------------  ------------  ----------------------  -------------  -------  -------------  ----------  -----------  -------------------\n",
            "         2625           Binky         Dawtrey                bdawtrey20w@shareasale.com      M         15.75.236.78     804-990-4322  0353 Iowa Road          Richmond       VA               23208     37.5593     -77.4471  2012-11-09 00:00:00\n",
            "         6173           Danila        Gristwood              dgristwood4rg@furl.net          F         254.239.58.108   832-157-3870  79865 Hagan Terrace     Katy           TX               77493     29.8678     -95.8298  2012-11-09 00:00:00\n",
            "         7486           Ciro          Ferencowicz            cferencowicz5rx@ucoz.ru         M         8.151.167.184    786-458-8754  61 Village Crossing     Miami          FL               33111     25.5584     -80.4582  2012-11-09 00:00:00\n",
            "        13390           Danika        Lough                  dloughabx@skype.com             F         188.19.7.207     212-769-6845  38463 Forest Dale Way   New York City  NY               10019     40.7651     -73.9858  2012-11-09 00:00:00\n",
            "        17099           Pearla        Halksworth             phalksworthd6y@cyberchimps.com  F         114.138.82.24    541-198-6063  130 Marcy Crossing      Eugene         OR               97405     44.0185    -123.1     2012-11-09 00:00:00\n",
            "        18685           Ingram        Crossman               icrossmanef0@weebly.com         M         207.145.1.202    503-352-8809  86 Michigan Junction    Salem          OR               97306     44.8685    -123.044   2012-11-09 00:00:00\n",
            "        30046           Nanete        Hassur                 nhassurn6l@alibaba.com          F         232.115.170.92   209-364-5939  13961 Steensland Trail  Stockton       CA               95205     37.9625    -121.262   2012-11-09 00:00:00\n",
            "        35683           Betteanne     Rulf                   brulfrj6@jalbum.net             F         52.208.248.90    503-396-8643  1 Cordelia Crossing     Salem          OR               97306     44.8685    -123.044   2012-11-09 00:00:00\n",
            "         8571           Christina     Kenningham             ckenningham6m2@princeton.edu    F         245.162.246.123  615-646-6020  39223 Lunder Street     Memphis        TN               38119     35.0821     -89.8501  2012-11-10 00:00:00\n",
            "        17626           Dav           Vanyard                dvanyarddll@taobao.com          M         88.119.149.125   706-947-1265  086 East Hill           Columbus       GA               31904     32.5161     -84.9785  2012-11-10 00:00:00\n"
          ]
        }
      ]
    },
    {
      "cell_type": "markdown",
      "source": [
        "En esta actividad, utilizaste varias palabras clave básicas en una consulta SELECT y ayudaste al gerente de mercadotecnia a obtener los datos que necesitaba para la campaña de mercadotecnia."
      ],
      "metadata": {
        "id": "0fYBpObcr_Tq"
      }
    },
    {
      "cell_type": "markdown",
      "source": [
        "# 1.5. Creando Tablas\n",
        "Ahora que sabes cómo leer datos de tablas, verás cómo crear nuevas tablas. Hay dos maneras de hacerlo: creando tablas en blanco o usando consultas SELECT.\n",
        "## 1.5.1 Creando Tablas en Blanco\n",
        "Para crear una nueva tabla en blanco, usas la declaración CREATE TABLE. Esta declaración tiene la siguiente estructura:"
      ],
      "metadata": {
        "id": "tv2a2AuUsJbQ"
      }
    },
    {
      "cell_type": "code",
      "source": [
        "sql_exec('''\n",
        "CREATE TABLE IF NOT EXISTS mi_tabla (\n",
        "    column_name_1 INTEGER PRIMARY KEY,\n",
        "    column_name_2 TEXT NOT NULL,\n",
        "    column_name_3 TEXT NOT NULL,\n",
        "    column_name_last INTEGER NOT NULL\n",
        ");\n",
        "''')\n"
      ],
      "metadata": {
        "colab": {
          "base_uri": "https://localhost:8080/"
        },
        "id": "m7QTxPigsRn6",
        "outputId": "9761bc87-41d0-49b6-a92d-d252354e336e"
      },
      "execution_count": 35,
      "outputs": [
        {
          "output_type": "stream",
          "name": "stdout",
          "text": [
            "Query executed successfully\n"
          ]
        }
      ]
    },
    {
      "cell_type": "code",
      "source": [
        "# Revisar que la tabla si fue creada\n",
        "\n",
        "sql_exec_query('''\n",
        "SELECT name FROM sqlite_master WHERE type='table';\n",
        "''')\n"
      ],
      "metadata": {
        "colab": {
          "base_uri": "https://localhost:8080/"
        },
        "id": "ME2YmZDOwQev",
        "outputId": "601e27ed-9943-4cb3-e473-402ba47a051b"
      },
      "execution_count": 36,
      "outputs": [
        {
          "output_type": "stream",
          "name": "stdout",
          "text": [
            "name\n",
            "----------------------------\n",
            "countries\n",
            "customer_survey\n",
            "customers\n",
            "emails\n",
            "products\n",
            "sales\n",
            "salespeople\n",
            "top_cities_data\n",
            "public_transportation_by_zip\n",
            "closest_dealerships\n",
            "customer_sales\n",
            "dealerships\n",
            "mi_tabla\n"
          ]
        }
      ]
    },
    {
      "cell_type": "markdown",
      "source": [
        "En este contexto, `{table_name}` representa el nombre de la tabla, `{column_name}` el de la columna, `{data_type}` designa el tipo de dato de dicha columna, y `Basic Data Types of SQL\n",
        "` se refiere a una o varias palabras clave opcionales que proporcionan características específicas a la columna. Antes de profundizar en el uso de la consulta CREATE TABLE, es esencial familiarizarse con los tipos de datos y las restricciones aplicables a las columnas."
      ],
      "metadata": {
        "id": "W9Rr7XhDsbjR"
      }
    },
    {
      "cell_type": "markdown",
      "source": [
        "# 1.6 Tipos de Datos Básicos de SQL\n",
        "\n",
        "Toda columna dentro de una tabla está definida por un tipo de dato. En este segmento, abordaremos los tipos de datos más comunes en PostgreSQL, que comprenden:\n",
        "- Valores Numéricos\n",
        "- Texto o Carácter\n",
        "- Valores Booleanos (Verdadero o Falso)\n",
        "- Fecha y Tiempo\n",
        "- Estructuras de Datos (como arreglos y JSON)"
      ],
      "metadata": {
        "id": "Ee_rsHgKsgri"
      }
    },
    {
      "cell_type": "markdown",
      "source": [
        "## 1.6.1 Numérico\n",
        "Los tipos de datos numéricos representan números. La siguiente figura proporciona una visión general de algunos de los principales tipos:"
      ],
      "metadata": {
        "id": "AC4VKJVrsjIx"
      }
    },
    {
      "cell_type": "markdown",
      "source": [
        "<figure>\n",
        "<center><img src='https://github.com/limspiga/data-modeling/blob/main/images/af2bc6b0-f8fa-4ce3-91a0-7526172aa1e2.png?raw=true' width=\"600\" />\n",
        "<figcaption>Figure 2.28: Major numeric data types.</figcaption></center>\n",
        "</figure>"
      ],
      "metadata": {
        "id": "hC0jg7_vsxCR"
      }
    },
    {
      "cell_type": "markdown",
      "source": [
        "Character\n",
        "Character data types store text information. The following figure summarizes character data types:"
      ],
      "metadata": {
        "id": "Axr2ZSFNs1yJ"
      }
    },
    {
      "cell_type": "markdown",
      "source": [
        "## 1.6.2 Carácter\n",
        "Los tipos de datos de carácter almacenan información de texto. La siguiente figura resume los tipos de datos de carácter:"
      ],
      "metadata": {
        "id": "TNP8QnJZs_7r"
      }
    },
    {
      "cell_type": "markdown",
      "source": [
        "<figure>\n",
        "<center><img src='https://github.com/limspiga/data-modeling/blob/main/images/6ea87a36-32ac-4075-b243-7cfbd5c43dd6.png?raw=true' width=\"500\" />\n",
        "<figcaption>Figura 2.29: Principales tipos de datos de carácter.</figcaption></center>\n",
        "</figure>"
      ],
      "metadata": {
        "id": "X5WohY8qtXpo"
      }
    },
    {
      "cell_type": "markdown",
      "source": [
        "Internamente, todos los tipos de datos de carácter en SQLite (así como en muchos otros sistemas RDBMS) comparten la misma estructura de datos. El tipo de dato de carácter más utilizado es varchar(n).\n",
        "\n",
        "## 1.6.2 Booleano\n",
        "Los booleanos son un tipo de dato utilizado para representar Verdadero o Falso. La siguiente tabla resume los valores que se representan como Booleano cuando se usan en una consulta con un tipo de columna de dato Booleano:\n",
        "\n",
        "<figure>\n",
        "<center><img src='https://github.com/limspiga/data-modeling/blob/main/images/e8606409-35fc-47c0-8304-196c28f1a0f3.png?raw=true' width=\"400\" />\n",
        "<figcaption>Figure 2.30: Accepted Boolean values</figcaption></center>\n",
        "</figure>"
      ],
      "metadata": {
        "id": "TKDeCsWytAB6"
      }
    },
    {
      "cell_type": "markdown",
      "source": [
        "Aunque se aceptan todos estos valores, se recomienda seguir las mejores prácticas usando los valores Verdadero y Falso. Además, los booleanos pueden asumir valores NULL.\n",
        "## 1.6.3 Fecha y hora (Datetime)\n",
        "\n",
        "El tipo de dato \"fecha y hora\" permite almacenar información temporal, como fechas y momentos específicos. A continuación, se presentan ejemplos de estos tipos de datos:\n",
        "\n",
        "<figure>\n",
        "<center><img src='https://github.com/limspiga/data-modeling/blob/main/images/7f0b75cf-4d20-4ac1-a16d-aab231dbf3f4.png?raw=true' width=\"600\" />\n",
        "<figcaption>Figura 2.31: Tipos de datos fecha y hora populares</figcaption></center>\n",
        "</figure>\n"
      ],
      "metadata": {
        "id": "YM-ETpt_trLi"
      }
    },
    {
      "cell_type": "markdown",
      "source": [
        "# 1.7 Estructuras de Datos: JSON y Arreglos\n",
        "\n",
        "Muchas versiones modernas de SQL también admiten estructuras de datos, como el Formato de Objeto de Notación JavaScript (JSON) y arreglos. Los arreglos son simplemente listas de datos, usualmente escritos como elementos encerrados entre corchetes. Por ejemplo, ['gato', 'perro', 'caballo'] es un arreglo. Un objeto JSON es una serie de pares clave-valor separados por comas y encerrados entre llaves. Por ejemplo, {'nombre': 'Bob', 'edad': 27, 'ciudad': 'Nueva York'} es un objeto JSON válido. Estas estructuras de datos aparecen constantemente en aplicaciones tecnológicas, y poder usarlas en una base de datos facilita la realización de muchos tipos de análisis.\n",
        "Explorarás las estructuras de datos con más detalle en el Capítulo 7, Análisis Usando Tipos de Datos Complejos. Antes de eso, aprenderás sobre algunas operaciones básicas en un RDBMS usando SQL.\n",
        "\n",
        "\n",
        "\n",
        "\n"
      ],
      "metadata": {
        "id": "jLsyzUs5x64V"
      }
    },
    {
      "cell_type": "markdown",
      "source": [
        "# 1.8 Restricciones de Columna\n",
        "Las restricciones de columna son palabras clave que te ayudan a especificar las propiedades que deseas atribuir a una columna en particular. En otras palabras, puedes asegurarte de que todas las filas en esa columna cumplan con la restricción especificada. Algunas de las principales restricciones de columna son las siguientes:\n",
        "\n",
        "- NOT NULL: Esta restricción garantiza que ningún valor en una columna pueda ser NULL.\n",
        "- UNIQUE: Esta restricción garantiza que cada fila para una columna tenga un valor único y que ningún valor se repita.\n",
        "• PRIMARY KEY: Esta es una restricción especial que es única para cada fila y te ayuda a encontrar una fila específica más rápidamente. Si la clave primaria de esta tabla contiene solo una columna, puedes agregar esta restricción PRIMARY KEY a la definición de la columna de la clave primaria. Si la clave primaria de esta tabla consta de varias columnas, necesitas usar una restricción de tabla para definir la clave en la declaración CREATE.\n"
      ],
      "metadata": {
        "id": "dM_JuGxtG8TV"
      }
    },
    {
      "cell_type": "markdown",
      "source": [
        "## 1.8.1  Declaración CREATE Simple\n",
        "\n",
        "Ahora que conoces sobre los tipos de datos y restricciones de columna, puedes empezar a crear tu primera tabla. Supongamos que quieres crear una tabla llamada poblaciones_estados con columnas para las iniciales y poblaciones de los estados. La consulta se vería así:\n",
        "\n",
        "\n",
        "Figura 2.32: Declaración CREATE simple\n"
      ],
      "metadata": {
        "id": "OdG-rwjaG_6Y"
      }
    },
    {
      "cell_type": "code",
      "source": [
        "sql_exec('''\n",
        "CREATE TABLE state_populations (\n",
        "  state VARCHAR(2) PRIMARY KEY,\n",
        "  population NUMERIC\n",
        ");\n",
        "''')"
      ],
      "metadata": {
        "colab": {
          "base_uri": "https://localhost:8080/"
        },
        "id": "3hI3J1WuyuD6",
        "outputId": "8178ebc9-403e-4332-9f39-3de3253e84b3"
      },
      "execution_count": 37,
      "outputs": [
        {
          "output_type": "stream",
          "name": "stdout",
          "text": [
            "Query executed successfully\n"
          ]
        }
      ]
    },
    {
      "cell_type": "markdown",
      "source": [
        "\n",
        "\n",
        "\n",
        "\n",
        "Una vez que ejecutes esta declaración, puedes ejecutar una simple consulta SELECT para verificar que la tabla ha sido creada. Sin embargo, no verás ninguna fila en la salida ya que no has ejecutado ninguna declaración para poblarla.\n",
        "\n",
        "Nota\n",
        "\n",
        "A veces, puedes ejecutar una consulta CREATE TABLE y obtener el error relation {nombre_tabla} already exists. Esto simplemente significa que ya existe una tabla con el mismo nombre. Debes eliminar la tabla con el mismo nombre o cambiar el nombre de tu tabla. Aprenderás cómo eliminar una tabla más adelante en este capítulo.\n",
        "\n",
        "\n",
        "Pronto explorarás la segunda forma de crear una tabla, que es mediante una consulta SQL. Pero primero, realizarás un ejercicio para crear una tabla en blanco en SQL."
      ],
      "metadata": {
        "id": "-hkFHSCkyuLb"
      }
    },
    {
      "cell_type": "markdown",
      "source": [
        "##  Ejercicio 2.03: Creación de la Tabla countries en SQL\n",
        "\n",
        "En este ejercicio, el objetivo es crear una tabla en la base de datos para almacenar información sobre diferentes países. Esta tabla será útil para el equipo de marketing de ZoomZoom que quiere analizar datos específicos de diversos países.\n",
        "\n",
        "Sigue estos pasos para completar el ejercicio:\n",
        "1. Ejecuta la siguiente consulta para eliminar la tabla \"countries\" ya que ya existe en la base de datos:\n"
      ],
      "metadata": {
        "id": "y9MVjdqq6dsa"
      }
    },
    {
      "cell_type": "code",
      "source": [
        "sql_exec('''\n",
        "DROP TABLE IF EXISTS countries;\n",
        "''')"
      ],
      "metadata": {
        "colab": {
          "base_uri": "https://localhost:8080/"
        },
        "id": "MDgE82ha7iSK",
        "outputId": "cdfa627c-35f5-4ef0-9179-0e072f845b10"
      },
      "execution_count": 38,
      "outputs": [
        {
          "output_type": "stream",
          "name": "stdout",
          "text": [
            "Query executed successfully\n"
          ]
        }
      ]
    },
    {
      "cell_type": "markdown",
      "source": [
        "2. Ejecuta la siguiente consulta para crear la tabla \"countries\":"
      ],
      "metadata": {
        "id": "V1UxNEYm7nZp"
      }
    },
    {
      "cell_type": "code",
      "source": [
        "sql_exec('''\n",
        "    CREATE TABLE countries (\n",
        "      key INT PRIMARY KEY,\n",
        "      name text UNIQUE,\n",
        "      founding_year INT,\n",
        "      capital text\n",
        "    );\n",
        "''')"
      ],
      "metadata": {
        "colab": {
          "base_uri": "https://localhost:8080/"
        },
        "id": "rGaTHmA37nnt",
        "outputId": "cc00e17a-522c-4e1a-a6c8-95327d131be0"
      },
      "execution_count": 39,
      "outputs": [
        {
          "output_type": "stream",
          "name": "stdout",
          "text": [
            "Query executed successfully\n"
          ]
        }
      ]
    },
    {
      "cell_type": "markdown",
      "source": [
        "Deberías obtener un mensaje de resultado como el siguiente, que indica la creación de una tabla en blanco:"
      ],
      "metadata": {
        "id": "wpeeGEfb7zuK"
      }
    },
    {
      "cell_type": "markdown",
      "source": [
        "En este ejercicio, aprendiste cómo crear una tabla utilizando diferentes restricciones de columna y la declaración CREATE TABLE. En la siguiente sección, crearás tablas utilizando la consulta SELECT.\n"
      ],
      "metadata": {
        "id": "TkFAFRaY72RJ"
      }
    },
    {
      "cell_type": "markdown",
      "source": [
        "## 1.8.2 Creando Tablas con SELECT\n",
        "Ya sabes cómo crear una tabla. Sin embargo, supongamos que quisieras crear una tabla utilizando datos de una tabla existente. Esto se puede hacer utilizando una modificación de la declaración CREATE TABLE:\n",
        "\n",
        "```sql\n",
        "CREATE TABLE {table_name} AS (\n",
        "  {select_query}\n",
        ");\n",
        "\n",
        "```"
      ],
      "metadata": {
        "id": "XhkfqBPH74Wn"
      }
    },
    {
      "cell_type": "markdown",
      "source": [
        "Aquí, {select_query} es cualquier consulta SELECT que pueda ejecutarse en tu base de datos. Por ejemplo, supongamos que quisieras crear una tabla basada en la tabla de productos que solo tuviera productos del año 2014. Supón que el título de la tabla es products_2014; podrías escribir la siguiente consulta:"
      ],
      "metadata": {
        "id": "U5B7vvsQ78qw"
      }
    },
    {
      "cell_type": "code",
      "source": [
        "sql_exec('''\n",
        "CREATE TABLE products_2014 AS\n",
        "SELECT *\n",
        "FROM products\n",
        "WHERE year = 2014;\n",
        "''')"
      ],
      "metadata": {
        "colab": {
          "base_uri": "https://localhost:8080/"
        },
        "id": "mHoUML948BmO",
        "outputId": "371ad295-21a7-4694-d5aa-224a485db4c4"
      },
      "execution_count": 40,
      "outputs": [
        {
          "output_type": "stream",
          "name": "stdout",
          "text": [
            "Query executed successfully\n"
          ]
        }
      ]
    },
    {
      "cell_type": "markdown",
      "source": [
        "Esto se puede hacer con cualquier consulta, y la tabla heredará todas las propiedades de la consulta de salida.\n",
        "Sqlite también ofrece otra forma de crear una tabla a partir de una consulta, que utiliza una sintaxis SELECT ... INTO ... . A continuación, se muestra un ejemplo de esta sintaxis:"
      ],
      "metadata": {
        "id": "yDRUn3__8BuT"
      }
    },
    {
      "cell_type": "markdown",
      "source": [
        "Un desafío que surge al crear una tabla mediante una consulta es que no se definen de forma explícita los tipos de datos, lo cual puede generar confusión."
      ],
      "metadata": {
        "id": "sM_NqhB_8lVb"
      }
    },
    {
      "cell_type": "code",
      "source": [
        "sql_exec_query('''\n",
        "PRAGMA table_info(products_2014);\n",
        "''')"
      ],
      "metadata": {
        "colab": {
          "base_uri": "https://localhost:8080/"
        },
        "id": "qKb0eZW68nd8",
        "outputId": "17246ed3-b45f-4f1f-832e-d220459d8688"
      },
      "execution_count": 41,
      "outputs": [
        {
          "output_type": "stream",
          "name": "stdout",
          "text": [
            "  cid  name                   type      notnull  dflt_value      pk\n",
            "-----  ---------------------  ------  ---------  ------------  ----\n",
            "    0  product_id             INT             0                   0\n",
            "    1  model                  TEXT            0                   0\n",
            "    2  year                   INT             0                   0\n",
            "    3  product_type           TEXT            0                   0\n",
            "    4  base_msrp              REAL            0                   0\n",
            "    5  production_start_date  NUM             0                   0\n",
            "    6  production_end_date    NUM             0                   0\n"
          ]
        }
      ]
    },
    {
      "cell_type": "markdown",
      "source": [
        "A partir del resultado, puedes identificar todas las columnas y sus tipos de datos en la tabla products_2014."
      ],
      "metadata": {
        "id": "p-X1lrpl8uIq"
      }
    },
    {
      "cell_type": "markdown",
      "source": [
        "# 1.9 Actualizando Tablas\n",
        "Con el tiempo, es posible que necesites modificar una tabla agregando columnas, incorporando nuevos datos o actualizando filas existentes. Esta sección te ayudará a comprender cómo hacerlo."
      ],
      "metadata": {
        "id": "IoWPKyPz82hd"
      }
    },
    {
      "cell_type": "markdown",
      "source": [
        "### Agregando y Removiendo Columnas\n",
        "Para agregar nuevas columnas a una tabla existente, utilizas la instrucción ALTER TABLE ... ADD COLUMN, como se muestra en la siguiente consulta:\n",
        "```sql\n",
        "ALTER TABLE {table_name}\n",
        "ADD COLUMN {column_name} {data_type};\n",
        "```"
      ],
      "metadata": {
        "id": "6g56k2Ou868d"
      }
    },
    {
      "cell_type": "markdown",
      "source": [
        "Por ejemplo, si quisieras agregar una nueva columna a la tabla products_2014 que usarás para almacenar el peso de los productos en kilogramos llamada weight, podrías hacerlo utilizando la siguiente consulta:\n",
        "\n"
      ],
      "metadata": {
        "id": "jAWNdnXZ9AsT"
      }
    },
    {
      "cell_type": "code",
      "source": [
        "sql_exec('''\n",
        "ALTER TABLE products_2014\n",
        "ADD COLUMN weight INT;\n",
        "''')"
      ],
      "metadata": {
        "colab": {
          "base_uri": "https://localhost:8080/"
        },
        "id": "mB57xNAR9A04",
        "outputId": "3c6b9912-fa81-48c0-bdc3-003f4b91f358"
      },
      "execution_count": 42,
      "outputs": [
        {
          "output_type": "stream",
          "name": "stdout",
          "text": [
            "Query executed successfully\n"
          ]
        }
      ]
    },
    {
      "cell_type": "markdown",
      "source": [
        "Esta consulta creará una nueva columna llamada weight en la tabla products_2014 y le asignará el tipo de dato entero, de modo que solo se puedan almacenar enteros en ella."
      ],
      "metadata": {
        "id": "bBGJjDhZ9A76"
      }
    },
    {
      "cell_type": "markdown",
      "source": [
        "Si quieres eliminar una columna de una tabla, puedes usar la instrucción ALTER TABLE ... DROP COLUMN:\n",
        "```sql\n",
        "ALTER TABLE {table_name}\n",
        "DROP COLUMN {column_name};\n",
        "```\n",
        "Aquí, {table_name} es el nombre de la tabla que deseas modificar, y {column_name} es el nombre de la columna que quieres eliminar. Imagina que decides eliminar la columna weight que acabas de crear. Podrías deshacerte de ella utilizando la siguiente consulta:\n"
      ],
      "metadata": {
        "id": "dkPhmmKZ9OhI"
      }
    },
    {
      "cell_type": "code",
      "source": [
        "sql_exec('''\n",
        "ALTER TABLE products_2014\n",
        "DROP COLUMN weight;\n",
        "''')"
      ],
      "metadata": {
        "colab": {
          "base_uri": "https://localhost:8080/"
        },
        "id": "wX9rjSs-9Os8",
        "outputId": "5bf2ec25-7d50-406f-9eca-32a71aea1f4b"
      },
      "execution_count": 43,
      "outputs": [
        {
          "output_type": "stream",
          "name": "stdout",
          "text": [
            "Query executed successfully\n"
          ]
        }
      ]
    },
    {
      "cell_type": "markdown",
      "source": [
        "Como puedes ver en la captura de pantalla a continuación, la columna ha sido eliminada"
      ],
      "metadata": {
        "id": "grmQ8UmaQ1bv"
      }
    },
    {
      "cell_type": "code",
      "source": [
        "sql_exec_query('''\n",
        "PRAGMA table_info(products_2014);\n",
        "''')\n"
      ],
      "metadata": {
        "colab": {
          "base_uri": "https://localhost:8080/"
        },
        "id": "rOKE_VWORIAK",
        "outputId": "90ae22fd-deda-4bde-a427-7ffda2ab29ec"
      },
      "execution_count": 44,
      "outputs": [
        {
          "output_type": "stream",
          "name": "stdout",
          "text": [
            "  cid  name                   type      notnull  dflt_value      pk\n",
            "-----  ---------------------  ------  ---------  ------------  ----\n",
            "    0  product_id             INT             0                   0\n",
            "    1  model                  TEXT            0                   0\n",
            "    2  year                   INT             0                   0\n",
            "    3  product_type           TEXT            0                   0\n",
            "    4  base_msrp              REAL            0                   0\n",
            "    5  production_start_date  NUM             0                   0\n",
            "    6  production_end_date    NUM             0                   0\n"
          ]
        }
      ]
    },
    {
      "cell_type": "markdown",
      "source": [
        "## 1.9.1 Agregando Nuevos Datos\n",
        "Puedes agregar nuevos datos a una tabla utilizando varios métodos en SQL. Uno de esos métodos es simplemente insertar valores directamente en una tabla usando la declaración INSERT INTO... VALUES. Tiene la siguiente estructura:\n",
        "\n",
        "```sql\n",
        "INSERT INTO {table_name} (\n",
        "  {column_1], {column_2}, ...{column_last}\n",
        ")\n",
        "VALUES (\n",
        "  {column_value_1}, {column_value_2}, ... {column_value_last}\n",
        ");\n",
        "```\n",
        "Aquí, {table_name} es el nombre de la tabla en la que deseas insertar tus datos, {column_1}, {column_2}, ... {column_last} es una lista de las columnas cuyos valores quieres insertar, y {column_value_1}, {column_value_2}, ... {column_value_last} es la lista de valores que deseas insertar en la tabla. Si una columna en la tabla no se incluye en la declaración INSERT, se asume que la columna tiene un valor NULL.\n",
        "\n",
        "Por ejemplo, supongamos que quieres insertar una nueva entrada para un scooter en la tabla products_2014. Esto se puede hacer con la siguiente consulta:\n"
      ],
      "metadata": {
        "id": "GN7GSxOJ9O1R"
      }
    },
    {
      "cell_type": "code",
      "source": [
        "sql_exec('''\n",
        "INSERT INTO products_2014 (\n",
        "product_id, model, year,\n",
        "  product_type, base_msrp,\n",
        "  production_start_date, production_end_date\n",
        ")\n",
        "VALUES (\n",
        "  14, 'Nimbus 5000', 2014,\n",
        "  'scooter', 500.00,\n",
        "  '2014-03-03', '2020-03-03'\n",
        ");\n",
        "''')"
      ],
      "metadata": {
        "colab": {
          "base_uri": "https://localhost:8080/"
        },
        "id": "pDSnNgp19ZQs",
        "outputId": "e93bd200-08f2-452a-e5d0-ec801341e172"
      },
      "execution_count": 46,
      "outputs": [
        {
          "output_type": "stream",
          "name": "stdout",
          "text": [
            "Query executed successfully\n"
          ]
        }
      ]
    },
    {
      "cell_type": "markdown",
      "source": [
        "Esta consulta agrega una nueva fila a la tabla products_2014 en consecuencia. Puedes ejecutar una consulta SELECT para ver todas las filas en la tabla:"
      ],
      "metadata": {
        "id": "TuwByV4A9PUB"
      }
    },
    {
      "cell_type": "code",
      "source": [
        "sql_exec_query('''\n",
        "SELECT * FROM products_2014;\n",
        "''')"
      ],
      "metadata": {
        "colab": {
          "base_uri": "https://localhost:8080/"
        },
        "id": "NWpMSnkJSaZh",
        "outputId": "fdffcfdf-0135-46ae-ab16-ed43d44db66e"
      },
      "execution_count": 47,
      "outputs": [
        {
          "output_type": "stream",
          "name": "stdout",
          "text": [
            "  product_id  model                    year  product_type      base_msrp  production_start_date    production_end_date\n",
            "------------  ---------------------  ------  --------------  -----------  -----------------------  ---------------------\n",
            "           2  Lemon Limited Edition    2014  scooter              799.99  2013-08-30 00:00:00      2013-11-24 00:00:00\n",
            "          14  Nimbus 5000              2014  scooter              500     2014-03-03               2020-03-03\n",
            "          14  Nimbus 5000              2014  scooter              500     2014-03-03               2020-03-03\n"
          ]
        }
      ]
    },
    {
      "cell_type": "markdown",
      "source": [
        "Otra forma de insertar datos en una tabla es usar la declaración INSERT con una consulta SELECT utilizando la siguiente sintaxis:\n",
        "\n",
        "\n",
        "```sql\n",
        "INSERT INTO {table_name} ({column_1], {column_2}, ...{column_last})\n",
        "{select_query};\n",
        "```\n",
        "\n",
        "Aquí, {table_name} es el nombre de la tabla en la que deseas insertar los datos, {column_1}, {column_2}, ... {column_last} es una lista de las columnas cuyos valores quieres insertar, y {select_query} es una consulta con la misma estructura que los valores que deseas insertar en la tabla.\n",
        "\n",
        "Toma el ejemplo de la tabla products_2014. La has creado con una consulta SELECT con una fila. Anteriormente en esta sección, has insertado una fila en ella. Por lo tanto, ahora contiene dos filas. Si también deseas insertar los productos de 2016, podrías usar la siguiente consulta, que inserta una fila más en la tabla:\n",
        "\n",
        "\n"
      ],
      "metadata": {
        "id": "nNpEGE69UD_Q"
      }
    },
    {
      "cell_type": "code",
      "source": [
        "sql_exec_query('''\n",
        "SELECT *\n",
        "FROM products\n",
        "WHERE year=2016;\n",
        "''')"
      ],
      "metadata": {
        "colab": {
          "base_uri": "https://localhost:8080/"
        },
        "id": "ZISaASVKUzGU",
        "outputId": "ad18d80f-ea31-4291-8b2c-85c2bf9f0e6b"
      },
      "execution_count": 48,
      "outputs": [
        {
          "output_type": "stream",
          "name": "stdout",
          "text": [
            "  product_id  model      year  product_type      base_msrp  production_start_date    production_end_date\n",
            "------------  -------  ------  --------------  -----------  -----------------------  ---------------------\n",
            "           3  Lemon      2016  scooter              499.99  2015-12-27 00:00:00      2021-08-24 00:00:00\n"
          ]
        }
      ]
    },
    {
      "cell_type": "code",
      "source": [
        "sql_exec('''\n",
        "INSERT INTO products_2014(\n",
        "  product_id, model, year, product_type, base_msrp,\n",
        "  production_start_date, production_end_date\n",
        ")\n",
        "SELECT*\n",
        "FROM products\n",
        "WHERE year=2016;\n",
        "''')"
      ],
      "metadata": {
        "colab": {
          "base_uri": "https://localhost:8080/"
        },
        "id": "0UpXoKzvUY3X",
        "outputId": "3ae50df6-98d2-4b22-c50e-3921d860efe7"
      },
      "execution_count": 52,
      "outputs": [
        {
          "output_type": "stream",
          "name": "stdout",
          "text": [
            "Query executed successfully\n"
          ]
        }
      ]
    },
    {
      "cell_type": "code",
      "source": [
        "sql_exec_query('''\n",
        "SELECT * FROM products_2014;\n",
        "''')"
      ],
      "metadata": {
        "colab": {
          "base_uri": "https://localhost:8080/"
        },
        "id": "CAU00XzJUq9N",
        "outputId": "8aceafff-ee27-487a-c9e7-857230ee3ddb"
      },
      "execution_count": 53,
      "outputs": [
        {
          "output_type": "stream",
          "name": "stdout",
          "text": [
            "  product_id  model                    year  product_type      base_msrp  production_start_date    production_end_date\n",
            "------------  ---------------------  ------  --------------  -----------  -----------------------  ---------------------\n",
            "           2  Lemon Limited Edition    2014  scooter              799.99  2013-08-30 00:00:00      2013-11-24 00:00:00\n",
            "          14  Nimbus 5000              2014  scooter              500     2014-03-03               2020-03-03\n",
            "          14  Nimbus 5000              2014  scooter              500     2014-03-03               2020-03-03\n",
            "           3  Lemon                    2016  scooter              499.99  2015-12-27 00:00:00      2021-08-24 00:00:00\n",
            "           3  Lemon                    2016  scooter              499.99  2015-12-27 00:00:00      2021-08-24 00:00:00\n",
            "           3  Lemon                    2016  scooter              499.99  2015-12-27 00:00:00      2021-08-24 00:00:00\n"
          ]
        }
      ]
    },
    {
      "cell_type": "markdown",
      "source": [
        "Ahora contiene tres filas de tres diferentes formas de insertar datos: una fila de CREATE como resultado de una consulta SELECT, una fila de INSERT con datos, y una fila de INSERT utilizando el resultado de una consulta SELECT.\n"
      ],
      "metadata": {
        "id": "0rsuvyQFUY-q"
      }
    },
    {
      "cell_type": "markdown",
      "source": [
        "## 1.9.2  Actualizando Filas Existentes\n",
        "A veces, es posible que necesites actualizar los valores de los datos presentes en una tabla. Para hacer esto, puedes usar la declaración `UPDATE`:\n",
        "\n",
        "```sql\n",
        "UPDATE {table_name} SET\n",
        "  {column_1} = {column_value_1},\n",
        "  {column_2} = {column_value_2},\n",
        "  ...\n",
        "  {column_last} = {column_value_last}\n",
        "WHERE {conditional};\n",
        "```\n",
        "\n"
      ],
      "metadata": {
        "id": "vVhFskjuVd_0"
      }
    },
    {
      "cell_type": "markdown",
      "source": [
        "Aquí, {table_name} es el nombre de la tabla cuyos datos serán modificados, {column_1}, {column_2},... {column_last} es la lista de columnas cuyos valores deseas cambiar, {column_value_1}, {column_value_2}, ... {column_value_last} es la lista de nuevos valores que deseas actualizar en esas columnas, y {WHERE} es una declaración condicional similar a la que encontrarías en una consulta SELECT.\n",
        "Para ilustrar el uso de la instrucción UPDATE, imagina que, por el resto del año, la compañía ha decidido vender todos los modelos de scooters anteriores a 2018 por $299.99. Podrías cambiar los datos en la tabla products_2014 utilizando la siguiente consulta:"
      ],
      "metadata": {
        "id": "-CAUzKaMVmrZ"
      }
    },
    {
      "cell_type": "code",
      "source": [
        "sql_exec('''\n",
        "UPDATE Products_2014 SET\n",
        "  base_msrp = 299.99\n",
        "WHERE product_type = 'scooter'\n",
        "AND year<2018;\n",
        "''')"
      ],
      "metadata": {
        "colab": {
          "base_uri": "https://localhost:8080/"
        },
        "id": "xBPZN4xrVm22",
        "outputId": "1d539b04-c146-4b87-809e-6e1cb4f366da"
      },
      "execution_count": 55,
      "outputs": [
        {
          "output_type": "stream",
          "name": "stdout",
          "text": [
            "Query executed successfully\n"
          ]
        }
      ]
    },
    {
      "cell_type": "code",
      "source": [
        "sql_exec_query('''\n",
        "SELECT *\n",
        "FROM Products_2014\n",
        "WHERE product_type = 'scooter'\n",
        "AND year<2018;\n",
        "''')"
      ],
      "metadata": {
        "colab": {
          "base_uri": "https://localhost:8080/"
        },
        "id": "njufCHovXQmd",
        "outputId": "7d00849e-fc8e-4442-f762-ce40a508cba6"
      },
      "execution_count": 56,
      "outputs": [
        {
          "output_type": "stream",
          "name": "stdout",
          "text": [
            "  product_id  model                    year  product_type      base_msrp  production_start_date    production_end_date\n",
            "------------  ---------------------  ------  --------------  -----------  -----------------------  ---------------------\n",
            "           2  Lemon Limited Edition    2014  scooter              299.99  2013-08-30 00:00:00      2013-11-24 00:00:00\n",
            "          14  Nimbus 5000              2014  scooter              299.99  2014-03-03               2020-03-03\n",
            "          14  Nimbus 5000              2014  scooter              299.99  2014-03-03               2020-03-03\n",
            "           3  Lemon                    2016  scooter              299.99  2015-12-27 00:00:00      2021-08-24 00:00:00\n",
            "           3  Lemon                    2016  scooter              299.99  2015-12-27 00:00:00      2021-08-24 00:00:00\n",
            "           3  Lemon                    2016  scooter              299.99  2015-12-27 00:00:00      2021-08-24 00:00:00\n"
          ]
        }
      ]
    },
    {
      "cell_type": "markdown",
      "source": [
        "Esta consulta produce el siguiente resultado. Puedes ver que la columna base_msrp de los tres registros ha sido actualizada a 299.99 porque todos son scooters fabricados antes de 2018."
      ],
      "metadata": {
        "id": "6mJcca8OV4jR"
      }
    },
    {
      "cell_type": "markdown",
      "source": [
        "## Ejercicio 2.04: Actualizando la tabla para aumentar el precio de un vehículo\n",
        "\n",
        "Durante este ejercicio, realizarás modificaciones en una tabla utilizando el comando UPDATE. A raíz del incremento en el precio de los metales escasos utilizados en la fabricación de vehículos eléctricos, el Modelo Chi de 2022 experimentará un ajuste de precio del 10%, llevando su valor actual de $95,000 a un nuevo monto.\n",
        "\n",
        "En situaciones cotidianas, simplemente se ajustaría el precio en la tabla de productos. No obstante, ya que continuaremos utilizando la base de datos sqlda a lo largo del libro, es recomendable preservar los valores originales para asegurar la coherencia de los resultados SQL. Por ello, optaremos por generar tablas adicionales para ejemplificar las operaciones con los comandos INSERT, ALTER, UPDATE, DELETE y DROP.\n",
        "\n",
        "Realiza los siguientes pasos para completar el ejercicio:\n",
        "\n",
        "1. Ejecuta la siguiente consulta para crear una tabla product_2022 a partir de la tabla de productos:"
      ],
      "metadata": {
        "id": "ErCdVhU2WEX-"
      }
    },
    {
      "cell_type": "code",
      "source": [
        "sql_exec('''\n",
        "CREATE TABLE products_2022 AS\n",
        "SELECT *\n",
        "FROM products\n",
        "WHERE year=2022;\n",
        "''')"
      ],
      "metadata": {
        "colab": {
          "base_uri": "https://localhost:8080/"
        },
        "id": "M9axxNsBWNtN",
        "outputId": "e4da1e3c-0cfd-4b0a-fddc-8b1b6039235c"
      },
      "execution_count": 57,
      "outputs": [
        {
          "output_type": "stream",
          "name": "stdout",
          "text": [
            "Query executed successfully\n"
          ]
        }
      ]
    },
    {
      "cell_type": "markdown",
      "source": [
        "Ejecuta la siguiente consulta para actualizar el precio del Modelo Chi en un 10% en la tabla products_2022:"
      ],
      "metadata": {
        "id": "7aHUFcRdWN0u"
      }
    },
    {
      "cell_type": "code",
      "source": [
        "sql_exec_query('''\n",
        "SELECT *\n",
        "FROM products_2022\n",
        "WHERE model='Model Chi'\n",
        "AND year=2022;\n",
        "''')"
      ],
      "metadata": {
        "colab": {
          "base_uri": "https://localhost:8080/"
        },
        "id": "h7Qa_h3oYvQZ",
        "outputId": "3a56cf57-f5be-4946-b297-3c92b3077633"
      },
      "execution_count": 59,
      "outputs": [
        {
          "output_type": "stream",
          "name": "stdout",
          "text": [
            "  product_id  model        year  product_type      base_msrp  production_start_date    production_end_date\n",
            "------------  ---------  ------  --------------  -----------  -----------------------  ---------------------\n",
            "          11  Model Chi    2022  automobile            95000  2021-10-01 00:00:00      \\N\n"
          ]
        }
      ]
    },
    {
      "cell_type": "code",
      "source": [
        "sql_exec('''\n",
        "UPDATE Products_2022 SET\n",
        "  base_msrp = base_msrp*1.10\n",
        "WHERE model='Model Chi'\n",
        "AND year=2022;\n",
        "''')"
      ],
      "metadata": {
        "colab": {
          "base_uri": "https://localhost:8080/"
        },
        "id": "LDwHXrD3WUxR",
        "outputId": "d39aa7c0-fcdd-4813-94ba-0f5d797d2c0f"
      },
      "execution_count": 61,
      "outputs": [
        {
          "output_type": "stream",
          "name": "stdout",
          "text": [
            "Query executed successfully\n"
          ]
        }
      ]
    },
    {
      "cell_type": "markdown",
      "source": [
        "4. Escribe la consulta SELECT para verificar si el precio del Modelo Chi en 2022 ha sido actualizado:"
      ],
      "metadata": {
        "id": "jmR4uCWOWaS7"
      }
    },
    {
      "cell_type": "code",
      "source": [
        "sql_exec_query('''\n",
        "SELECT *\n",
        "FROM products_2022\n",
        "WHERE model='Model Chi'\n",
        "AND year=2022;\n",
        "''')"
      ],
      "metadata": {
        "colab": {
          "base_uri": "https://localhost:8080/"
        },
        "id": "7jAkRRVnWatw",
        "outputId": "c804bfb0-be70-450a-f325-d9f7f9ce2984"
      },
      "execution_count": 63,
      "outputs": [
        {
          "output_type": "stream",
          "name": "stdout",
          "text": [
            "  product_id  model        year  product_type      base_msrp  production_start_date    production_end_date\n",
            "------------  ---------  ------  --------------  -----------  -----------------------  ---------------------\n",
            "          11  Model Chi    2022  automobile           126445  2021-10-01 00:00:00      \\N\n"
          ]
        }
      ]
    },
    {
      "cell_type": "markdown",
      "source": [
        "Como puedes ver en el resultado, el precio del Modelo Chi ahora es de $104,500; anteriormente era de \\$95,000."
      ],
      "metadata": {
        "id": "1vNuTuuDWg-S"
      }
    },
    {
      "cell_type": "markdown",
      "source": [
        "## 1.9.3   Gestión de Datos: Eliminación y Actualización\n",
        "Con el tiempo, es común encontrarse con datos en una tabla que ya no son relevantes o han quedado obsoletos. En estas situaciones, se vuelve esencial poder eliminar o actualizar estos datos.\n",
        "\n",
        "### 1.9.3.1  Cómo Suprimir Valores Específicos de una Fila\n",
        "En determinadas circunstancias, quizás necesites eliminar un valor específico dentro de una fila. Una manera sencilla de hacerlo es mediante el uso del comando UPDATE, estableciendo el valor de la columna deseada en NULL:\n",
        "\n",
        "\n",
        "\n",
        "```sql\n",
        "UPDATE {table_name} SET\n",
        "  {column_1} = NULL,\n",
        "  {column_2} = NULL,\n",
        "  ...\n",
        "  {column_last} = NULL\n",
        "WHERE {conditional};\n",
        "```\n",
        "\n"
      ],
      "metadata": {
        "id": "TQoLNK4tWqeX"
      }
    },
    {
      "cell_type": "markdown",
      "source": [
        "Aquí, {table_name} es el nombre de la tabla con los datos que necesitan ser modificados, {column_1}, {column_2},... {column_last} es la lista de columnas cuyos valores quieres eliminar, y {WHERE} es una declaración condicional como la que encontrarías en una consulta SELECT.\n",
        "\n",
        "Por ejemplo, tienes la dirección de correo electrónico incorrecta registrada para el cliente con el ID de cliente igual a 3. Para corregir eso, puedes usar la siguiente consulta:"
      ],
      "metadata": {
        "id": "B8xSx3xfaptB"
      }
    },
    {
      "cell_type": "code",
      "source": [
        "sql_exec_query('''\n",
        "  SELECT email\n",
        "  FROM customers\n",
        "  WHERE customer_id=3;\n",
        "''')"
      ],
      "metadata": {
        "colab": {
          "base_uri": "https://localhost:8080/"
        },
        "id": "-gL6PkT8a0SU",
        "outputId": "316106f3-5736-41e5-c9fa-60536fe77856"
      },
      "execution_count": 138,
      "outputs": [
        {
          "output_type": "stream",
          "name": "stdout",
          "text": [
            "email\n",
            "----------------------\n",
            "bjordan2@geocities.com\n"
          ]
        }
      ]
    },
    {
      "cell_type": "code",
      "source": [
        "sql_exec('''\n",
        "UPDATE customers SET\n",
        "  email = NULL\n",
        "WHERE customer_id=3;\n",
        "''')"
      ],
      "metadata": {
        "colab": {
          "base_uri": "https://localhost:8080/"
        },
        "id": "L_kGSH7ZbGBD",
        "outputId": "9f31bf84-a383-48b8-b358-fda6c384ca1f"
      },
      "execution_count": 121,
      "outputs": [
        {
          "output_type": "stream",
          "name": "stdout",
          "text": [
            "Query returned successfully\n"
          ]
        }
      ]
    },
    {
      "cell_type": "code",
      "source": [
        "sql_exec_query('''\n",
        "  SELECT email\n",
        "  FROM customers\n",
        "  WHERE customer_id=3;\n",
        "''')"
      ],
      "metadata": {
        "colab": {
          "base_uri": "https://localhost:8080/"
        },
        "id": "g6WeT0ISe5Zn",
        "outputId": "17d75e0b-532c-4a54-ba8e-6986c5719491"
      },
      "execution_count": 137,
      "outputs": [
        {
          "output_type": "stream",
          "name": "stdout",
          "text": [
            "email\n",
            "----------------------\n",
            "bjordan2@geocities.com\n"
          ]
        }
      ]
    },
    {
      "cell_type": "markdown",
      "source": [
        "Sin embargo, podría haber casos en los que necesites eliminar filas de una tabla. Por ejemplo, en la base de datos, tienes una fila etiquetada como cliente de prueba, que ya no es necesaria y debe ser eliminada. En la siguiente sección, aprenderás cómo eliminar filas de una tabla."
      ],
      "metadata": {
        "id": "RGk67Vn8bS-x"
      }
    },
    {
      "cell_type": "markdown",
      "source": [
        "## 1.9.4 Eliminando Filas de una Tabla\n",
        "Eliminar una fila de una tabla se puede hacer utilizando la declaración DELETE, que tiene el siguiente aspecto:\n",
        "```sql\n",
        "DELETE FROM {table_name}\n",
        "WHERE {condition};\n",
        "```\n",
        "Por ejemplo, debes eliminar los productos cuyo tipo (product_type) es scooter de la tabla products_2014. Para hacerlo, puedes usar la siguiente consulta:\n"
      ],
      "metadata": {
        "id": "9aufsCnGbhhP"
      }
    },
    {
      "cell_type": "code",
      "source": [
        "sql_exec('''\n",
        "DELETE FROM products_2014\n",
        "WHERE product_type='scooter';\n",
        "''')"
      ],
      "metadata": {
        "colab": {
          "base_uri": "https://localhost:8080/"
        },
        "id": "Qtzg5Fq-bif6",
        "outputId": "e67448b0-3cbc-4c06-9cb1-89ca926fdfc0"
      },
      "execution_count": 114,
      "outputs": [
        {
          "output_type": "stream",
          "name": "stdout",
          "text": [
            "Query returned successfully\n"
          ]
        }
      ]
    },
    {
      "cell_type": "code",
      "source": [
        "sql_exec_query(\"SELECT * FROM products_2014;\")"
      ],
      "metadata": {
        "colab": {
          "base_uri": "https://localhost:8080/"
        },
        "id": "W7PcKEOVd0sV",
        "outputId": "2ea60ced-efc0-4d24-c27c-a04530aab0b8"
      },
      "execution_count": 142,
      "outputs": [
        {
          "output_type": "stream",
          "name": "stdout",
          "text": [
            "  product_id  model                    year  product_type      base_msrp  production_start_date    production_end_date\n",
            "------------  ---------------------  ------  --------------  -----------  -----------------------  ---------------------\n",
            "           2  Lemon Limited Edition    2014  scooter              799.99  2013-08-30 00:00:00      2013-11-24 00:00:00\n"
          ]
        }
      ]
    },
    {
      "cell_type": "markdown",
      "source": [
        "\n",
        "En las últimas secciones, has insertado tres productos en esta tabla, todos ellos scooters. Después de ejecutar la declaración DELETE, PostgreSQL muestra que no había ningún producto en esta tabla ya que todos los registros son eliminados.\n",
        "\n",
        "Si deseas eliminar todos los datos en la tabla products_2014 sin borrar la tabla, podrías escribir la siguiente consulta, que es DELETE sin ninguna condición:"
      ],
      "metadata": {
        "id": "ontXxVu3bi0F"
      }
    },
    {
      "cell_type": "code",
      "source": [
        "sql_exec(\"DELETE FROM products_2014;\")"
      ],
      "metadata": {
        "colab": {
          "base_uri": "https://localhost:8080/"
        },
        "id": "UiPgJKXAbjKv",
        "outputId": "b2f7df3a-a2f1-4e57-ab8b-b11abd9e321f"
      },
      "execution_count": 143,
      "outputs": [
        {
          "output_type": "stream",
          "name": "stdout",
          "text": [
            "Query executed successfully\n"
          ]
        }
      ]
    },
    {
      "cell_type": "code",
      "source": [
        "sql_exec_query(\"SELECT * FROM products_2014;\")"
      ],
      "metadata": {
        "colab": {
          "base_uri": "https://localhost:8080/"
        },
        "id": "IdL1-uGmdp7T",
        "outputId": "b221e9db-a3de-40e6-d692-aad48f32f5de"
      },
      "execution_count": 144,
      "outputs": [
        {
          "output_type": "stream",
          "name": "stdout",
          "text": [
            "  product_id  model                    year  product_type      base_msrp  production_start_date    production_end_date\n",
            "------------  ---------------------  ------  --------------  -----------  -----------------------  ---------------------\n",
            "           2  Lemon Limited Edition    2014  scooter              799.99  2013-08-30 00:00:00      2013-11-24 00:00:00\n"
          ]
        }
      ]
    },
    {
      "cell_type": "markdown",
      "source": [
        "## 1.9.5 Eliminando Tablas\n",
        "Para eliminar todos los datos de una tabla y la tabla misma, puedes usar simplemente la instrucción DROP TABLE con la siguiente sintaxis:\n",
        "\n",
        "```sql\n",
        "DROP TABLE {nombre_tabla};\n",
        "```\n",
        "Aquí, {nombre_tabla} es el nombre de la tabla que deseas eliminar. Si quisieras eliminar todos los datos en la tabla products_2014 junto con la tabla en sí, escribirías lo siguiente:"
      ],
      "metadata": {
        "id": "f_MOvHKjcPmC"
      }
    },
    {
      "cell_type": "code",
      "source": [
        "sql_exec(\"DROP TABLE products_2014;\")"
      ],
      "metadata": {
        "colab": {
          "base_uri": "https://localhost:8080/"
        },
        "id": "s2xvrwlNcX64",
        "outputId": "812f32e6-f024-493f-f84c-698e0669c6f7"
      },
      "execution_count": 145,
      "outputs": [
        {
          "output_type": "stream",
          "name": "stdout",
          "text": [
            "Query executed successfully\n"
          ]
        }
      ]
    },
    {
      "cell_type": "code",
      "source": [
        "sql_exec_query(\"SELECT name FROM sqlite_master WHERE type='table';\")"
      ],
      "metadata": {
        "colab": {
          "base_uri": "https://localhost:8080/"
        },
        "id": "mjTgADxOfVHi",
        "outputId": "df92706d-e69f-4544-fbac-33198afc8d09"
      },
      "execution_count": 146,
      "outputs": [
        {
          "output_type": "stream",
          "name": "stdout",
          "text": [
            "name\n",
            "----------------------------\n",
            "countries\n",
            "customer_survey\n",
            "customers\n",
            "emails\n",
            "products\n",
            "sales\n",
            "salespeople\n",
            "top_cities_data\n",
            "public_transportation_by_zip\n",
            "closest_dealerships\n",
            "customer_sales\n",
            "dealerships\n"
          ]
        }
      ]
    },
    {
      "cell_type": "markdown",
      "source": [
        "Si intentas leer de esta tabla, recibirás un mensaje de error de SQlite indicándote que la tabla no existe."
      ],
      "metadata": {
        "id": "JOBW-dvycYC5"
      }
    },
    {
      "cell_type": "code",
      "source": [
        "sql_exec(\"DROP TABLE IF EXISTS products_2014;\")"
      ],
      "metadata": {
        "colab": {
          "base_uri": "https://localhost:8080/"
        },
        "id": "GOQyL36I8TvN",
        "outputId": "09fb975d-dfde-4931-fcae-c293ce843333"
      },
      "execution_count": 64,
      "outputs": [
        {
          "output_type": "stream",
          "name": "stdout",
          "text": [
            "Query executed successfully\n"
          ]
        }
      ]
    },
    {
      "cell_type": "markdown",
      "source": [
        "El comando DROP TABLE IF EXISTS es útil para automatizar scripts SQL, especialmente antes de un CREATE TABLE. Si una tabla ya existe, intentar crearla nuevamente generará un error. Utilizar DROP TABLE IF EXISTS antes de CREATE TABLE asegura que cualquier tabla previa con el mismo nombre sea eliminada antes de intentar crear una nueva. Aunque es práctico en operaciones donde se usan tablas temporales, hay que tener precaución para no eliminar tablas importantes. Por ello, generalmente se usa solo en entornos de procesamiento de datos automatizados."
      ],
      "metadata": {
        "id": "kkfGH28U8qPL"
      }
    },
    {
      "cell_type": "markdown",
      "source": [
        "## Ejercicio 2.05: Eliminando una Tabla de Referencia Innecesaria\n",
        "\n",
        "En este ejercicio, te familiarizarás con el proceso de eliminación de una tabla a través de SQL. Imagina que el equipo de marketing ya culminó su análisis sobre el número potencial de clientes por estado y, por lo tanto, ya no requiere la tabla state_populations. Con el propósito de optimizar el espacio en la base de datos, es pertinente eliminar dicha tabla. Si aún no has generado esta tabla, te sugiero volver a la sección \"Simple CREATE Statement\" de este capítulo y hacerlo. Sigue estos pasos para llevar a cabo el ejercicio:\n",
        "\n",
        "1. Ejecuta la siguiente consulta para eliminar la tabla state_populations:"
      ],
      "metadata": {
        "id": "CigNiuPe-AZp"
      }
    },
    {
      "cell_type": "code",
      "source": [
        "sql_exec(\" DROP TABLE state_populations;\")"
      ],
      "metadata": {
        "colab": {
          "base_uri": "https://localhost:8080/"
        },
        "id": "mrs4owFQ-7iW",
        "outputId": "eab94824-711c-4b30-85b6-0dc8ce69b349"
      },
      "execution_count": 65,
      "outputs": [
        {
          "output_type": "stream",
          "name": "stdout",
          "text": [
            "Query executed successfully\n"
          ]
        }
      ]
    },
    {
      "cell_type": "markdown",
      "source": [
        "\n",
        "\n",
        "   \n",
        "2. Verifica que la tabla state_populations haya sido eliminada de la base de datos."
      ],
      "metadata": {
        "id": "x8TvNa0d-7rv"
      }
    },
    {
      "cell_type": "code",
      "source": [
        "sql_exec_query('''\n",
        "SELECT name FROM sqlite_master WHERE type='table';\n",
        "''')"
      ],
      "metadata": {
        "colab": {
          "base_uri": "https://localhost:8080/"
        },
        "id": "8ZyqHYYj-7yi",
        "outputId": "5709593f-391e-4c0e-b943-436738f94774"
      },
      "execution_count": 66,
      "outputs": [
        {
          "output_type": "stream",
          "name": "stdout",
          "text": [
            "name\n",
            "----------------------------\n",
            "customer_survey\n",
            "customers\n",
            "emails\n",
            "products\n",
            "sales\n",
            "salespeople\n",
            "top_cities_data\n",
            "public_transportation_by_zip\n",
            "closest_dealerships\n",
            "customer_sales\n",
            "dealerships\n",
            "mi_tabla\n",
            "countries\n",
            "products_2022\n"
          ]
        }
      ]
    },
    {
      "cell_type": "markdown",
      "source": [
        "\n",
        "3. Dado que la tabla acaba de ser eliminada, una consulta SELECT en esta tabla generará un error, como se esperaba:\n",
        "Verás el error mostrado en la siguiente figura:\n",
        "Figura 2.45: Error mostrado ya que la tabla state_populations fue eliminada.\n"
      ],
      "metadata": {
        "id": "pmTwSOvw-74h"
      }
    },
    {
      "cell_type": "code",
      "source": [
        "sql_exec_query('''\n",
        "SELECT *\n",
        "FROM state_populations;\n",
        "''')"
      ],
      "metadata": {
        "colab": {
          "base_uri": "https://localhost:8080/"
        },
        "id": "a4TE3JPH-8CJ",
        "outputId": "6a4b93fb-6d25-49c8-9d4a-f17261877252"
      },
      "execution_count": 67,
      "outputs": [
        {
          "output_type": "stream",
          "name": "stdout",
          "text": [
            "no such table: state_populations\n"
          ]
        }
      ]
    },
    {
      "cell_type": "markdown",
      "source": [
        "4. Además, elimina la tabla products_2022 que fue creada anteriormente para mantener la base de datos limpia:\n",
        "    DROP TABLE products_2022;\n",
        "\n",
        "  SELECT *\n",
        "FROM state_populations;\n",
        "."
      ],
      "metadata": {
        "id": "KtmQvoX6-8Jc"
      }
    },
    {
      "cell_type": "code",
      "source": [
        "sql_exec(\"DROP TABLE products_2022;\")"
      ],
      "metadata": {
        "colab": {
          "base_uri": "https://localhost:8080/"
        },
        "id": "qZO5Xuzf-8Rk",
        "outputId": "cbeb3e0d-5568-432e-cdea-96114438514b"
      },
      "execution_count": 68,
      "outputs": [
        {
          "output_type": "stream",
          "name": "stdout",
          "text": [
            "Query executed successfully\n"
          ]
        }
      ]
    },
    {
      "cell_type": "markdown",
      "source": [
        "En este ejercicio, aprendiste cómo eliminar una tabla usando la declaración DROP TABLE. En la siguiente actividad, pondrás a prueba las habilidades que adquiriste al crear y modificar tablas usando SQL"
      ],
      "metadata": {
        "id": "kGS5Pp5p_MW_"
      }
    },
    {
      "cell_type": "markdown",
      "source": [
        "## Actividad 2.02: Creación y Modificación de Tablas para Operaciones de Marketing\n",
        "\n",
        "En esta actividad, pondrás a prueba tu habilidad para crear y modificar tablas usando SQL.\n",
        "\n",
        "Realizaste un trabajo sobresaliente al recopilar datos para el equipo de marketing. No obstante, el gerente de marketing, al cual asististe, identificó un error en su solicitud. En vez de requerir únicamente una consulta, necesita establecer una nueva tabla dentro de la base de datos analítica de la empresa. Asimismo, es esencial hacer ciertas modificaciones a los datos existentes en la tabla de clientes. Tu misión es apoyar al gerente de marketing en la gestión de esta tabla.\n",
        "\n",
        "1. Crea una nueva tabla llamada customers_nyc que extraiga todas las filas de la tabla de clientes donde el cliente vive en la Ciudad de Nueva York, en el estado de Nueva York.\n",
        "2. Elimina todos los clientes con el código postal 10014 de la nueva tabla. Debido a leyes locales, no serán elegibles para marketing.\n",
        "3. Añade una nueva columna de texto llamada evento.\n",
        "4. Establece el valor de la columna evento a fiesta de agradecimiento.\n",
        "\n",
        "A continuación, se muestra la salida esperada:\n",
        "\n",
        "<figure>\n",
        "<center><img src='https://github.com/limspiga/data-modeling/blob/main/images/55e3a327-4203-4bf6-b304-001eaefb5a7c.png?raw=true' width=\"600\" />\n",
        "<figcaption>Figura 2.46: La tabla customers_nyc con el evento establecido en \"fiesta de agradecimiento\".</figcaption></center>\n",
        "</figure>\n",
        "\n",
        "\n",
        "Le informas al gerente que has completado estos pasos. Él le dice al equipo de operaciones de marketing, quienes luego utilizan los datos para lanzar una campaña de marketing. Posteriormente, el gerente de marketing te pide que elimines la tabla customers_nyc.\n",
        "\n",
        "En esta actividad, utilizaste diferentes operaciones CRUD para modificar una tabla según lo solicitado por el gerente de marketing. Ahora cerrarás el círculo para explorar cómo se conectan SQL y la analítica."
      ],
      "metadata": {
        "id": "onTIWFPUAMrW"
      }
    },
    {
      "cell_type": "markdown",
      "source": [
        "**Solución**\n",
        "\n",
        "1. Ejecuta la siguiente consulta para crear la tabla con los clientes de la Ciudad de Nueva York:"
      ],
      "metadata": {
        "id": "E9x2IYhCBfk0"
      }
    },
    {
      "cell_type": "code",
      "source": [
        "sql_exec('''\n",
        "CREATE TABLE customers_nyc AS\n",
        "SELECT *\n",
        "FROM customers\n",
        "WHERE city='New York City'\n",
        "AND state='NY';\n",
        "''')"
      ],
      "metadata": {
        "colab": {
          "base_uri": "https://localhost:8080/"
        },
        "id": "0LIC4NxHBm4L",
        "outputId": "60f68638-c52d-4b9b-be52-61a21cf560aa"
      },
      "execution_count": 86,
      "outputs": [
        {
          "output_type": "stream",
          "name": "stdout",
          "text": [
            "Query executed successfully\n"
          ]
        }
      ]
    },
    {
      "cell_type": "markdown",
      "source": [
        "2. Ejecute el siguiente código para ver el resultado:"
      ],
      "metadata": {
        "id": "sKC4nljECLYc"
      }
    },
    {
      "cell_type": "code",
      "source": [
        "sql_exec_query('''\n",
        "SELECT * FROM customers_nyc LIMIT 10;\n",
        "''')"
      ],
      "metadata": {
        "colab": {
          "base_uri": "https://localhost:8080/"
        },
        "id": "0ReAti2rBvdd",
        "outputId": "6ad84a1b-fe81-44c9-cc5a-ec6f3c7c65c1"
      },
      "execution_count": 87,
      "outputs": [
        {
          "output_type": "stream",
          "name": "stdout",
          "text": [
            "  customer_id  title    first_name    last_name    suffix    email                        gender    ip_address       phone         street_address          city           state      postal_code    latitude    longitude  date_added\n",
            "-------------  -------  ------------  -----------  --------  ---------------------------  --------  ---------------  ------------  ----------------------  -------------  -------  -------------  ----------  -----------  -------------------\n",
            "           52           Giusto        Backe                  gbacke1f@digg.com            M         26.56.68.189     212-959-9172  6 Onsgard Terrace       New York City  NY               10131     40.7808     -73.9772  2013-03-02 00:00:00\n",
            "          162           Artair        Betchley               abetchley4h@dagondesign.com  M         108.147.128.250                7 Boyd Road             New York City  NY               10090     40.7808     -73.9772  2017-02-19 00:00:00\n",
            "          374           Verge         Esel                   veselad@vistaprint.com       M         58.238.20.156    917-653-2378  6 Algoma Park           New York City  NY               10014     40.7339     -74.0054  2018-10-14 00:00:00\n",
            "          406           Rozina        Jeal                   rjealb9@howstuffworks.com    F         50.235.32.29     917-610-2582  64653 Homewood Terrace  New York City  NY               10105     40.7628     -73.9785  2013-05-12 00:00:00\n",
            "          456  Rev      Cybil         Noke                   cnokecn@jigsy.com            F         5.31.139.106     212-306-6098  88 Sycamore Parkway     New York City  NY               10260     40.7808     -73.9772  2019-09-18 00:00:00\n",
            "          472           Rawley        Yegorov                ryegorovd3@google.es         M         183.199.243.74   212-560-1255  872 Old Shore Parkway   New York City  NY               10034     40.8662     -73.9221  2017-07-21 00:00:00\n",
            "          496           Layton        Spolton                lspoltondr@free.fr           M         108.112.8.165    646-900-8237  7 Old Gate Drive        New York City  NY               10024     40.7864     -73.9764  2013-08-16 00:00:00\n",
            "         1028           Issy          Andrieux               iandrieuxsj@dell.com         F         199.50.5.37      212-206-7889  33337 Dahle Way         New York City  NY               10115     40.8111     -73.9642  2020-07-24 00:00:00\n",
            "         1037           Magdalene     Veryard                mveryardss@behance.net       F         93.201.129.213                 41028 Katie Junction    New York City  NY               10039     40.8265     -73.9383  2016-10-29 00:00:00\n",
            "         1063           Juliet        Beadles                jbeadlesti@time.com          F         47.96.88.226     212-645-4677  34984 Goodland Point    New York City  NY               10120     40.7506     -73.9894  2017-04-13 00:00:00\n"
          ]
        }
      ]
    },
    {
      "cell_type": "markdown",
      "source": [
        "3. Ejecute la siguiente consulta para eliminar usuarios con el código postal 10014:\n"
      ],
      "metadata": {
        "id": "T9DnLkrbCtSs"
      }
    },
    {
      "cell_type": "code",
      "source": [
        "sql_exec('''\n",
        "DELETE FROM customers_nyc\n",
        "WHERE postal_code='10014';\n",
        "''')"
      ],
      "metadata": {
        "colab": {
          "base_uri": "https://localhost:8080/"
        },
        "id": "7BY3W2JxC0fx",
        "outputId": "fcbfd6e3-c82e-4e6f-a920-b585758088fd"
      },
      "execution_count": 88,
      "outputs": [
        {
          "output_type": "stream",
          "name": "stdout",
          "text": [
            "Query executed successfully\n"
          ]
        }
      ]
    },
    {
      "cell_type": "markdown",
      "source": [
        "4. Ejecute la siguiente consulta para agregar la nueva columna de evento:\n"
      ],
      "metadata": {
        "id": "SNP8HobsC0wb"
      }
    },
    {
      "cell_type": "code",
      "source": [
        "sql_exec('''\n",
        "ALTER TABLE customers_nyc\n",
        "ADD COLUMN event text;\n",
        "''')"
      ],
      "metadata": {
        "colab": {
          "base_uri": "https://localhost:8080/"
        },
        "id": "pceMnNOHC08b",
        "outputId": "c42ada61-0fa5-4a95-f372-4e5a1d346241"
      },
      "execution_count": 89,
      "outputs": [
        {
          "output_type": "stream",
          "name": "stdout",
          "text": [
            "Query executed successfully\n"
          ]
        }
      ]
    },
    {
      "cell_type": "markdown",
      "source": [
        "5. Actualice la tabla customers_nyc y establezca la columna de evento a \"fiesta de agradecimiento\" utilizando la siguiente consulta:\n"
      ],
      "metadata": {
        "id": "wPa45XeuC1NG"
      }
    },
    {
      "cell_type": "code",
      "source": [
        "sql_exec('''\n",
        "UPDATE customers_nyc SET\n",
        "event = 'thank-you party';\n",
        "''')"
      ],
      "metadata": {
        "colab": {
          "base_uri": "https://localhost:8080/"
        },
        "id": "vhKGjCo8C1Xy",
        "outputId": "bae16092-6af9-4920-b10d-4bda8ec8a1db"
      },
      "execution_count": 90,
      "outputs": [
        {
          "output_type": "stream",
          "name": "stdout",
          "text": [
            "Query executed successfully\n"
          ]
        }
      ]
    },
    {
      "cell_type": "markdown",
      "source": [
        "6. Ejecute el siguiente código para ver el resultado:\n"
      ],
      "metadata": {
        "id": "GiTRFc6oC1iN"
      }
    },
    {
      "cell_type": "code",
      "source": [
        "sql_exec_query('''\n",
        "SELECT *\n",
        "FROM customers_nyc;\n",
        "''')"
      ],
      "metadata": {
        "id": "lpaEkIndC1xk"
      },
      "execution_count": null,
      "outputs": []
    },
    {
      "cell_type": "markdown",
      "source": [
        "8. Elimina la tabla customers_nyc según lo solicitado por el gerente usando DROP TABLE:"
      ],
      "metadata": {
        "id": "-erAKBijDJjL"
      }
    },
    {
      "cell_type": "code",
      "source": [
        "sql_exec('''\n",
        "   DROP TABLE customers_nyc;\n",
        "''')"
      ],
      "metadata": {
        "colab": {
          "base_uri": "https://localhost:8080/"
        },
        "id": "3Fwg_DRKDOPZ",
        "outputId": "8d2138ad-d773-426e-f758-eb5516fa45f9"
      },
      "execution_count": 92,
      "outputs": [
        {
          "output_type": "stream",
          "name": "stdout",
          "text": [
            "Query executed successfully\n"
          ]
        }
      ]
    },
    {
      "cell_type": "markdown",
      "source": [
        "\n",
        "Esto eliminará la tabla customers_nyc de la base de datos."
      ],
      "metadata": {
        "id": "p7ZDEccHDOsc"
      }
    },
    {
      "cell_type": "markdown",
      "source": [
        "# 1.10 SQL y Análisis de Datos\n",
        "\n",
        "A lo largo de este capítulo, habrás observado que los términos \"tabla SQL\" y \"conjunto de datos\" se usan de manera casi sinónima. De hecho, podemos ver a las tablas SQL como conjuntos de datos, donde las filas representan unidades individuales de observación y las columnas actúan como características o atributos. Al percibir las tablas SQL bajo esta óptica, es evidente que SQL es una herramienta óptima para gestionar y almacenar datos en un ordenador.\n",
        "\n",
        "No obstante, el alcance de SQL va más allá de ser un simple almacén de datos. Las implementaciones actuales de SQL no solo facilitan el almacenamiento, sino que también ofrecen herramientas avanzadas para procesar y analizar datos mediante diversas funciones. Con SQL, es posible depurar datos, reformularlos en estructuras más adecuadas y llevar a cabo análisis estadísticos para identificar patrones reveladores. El propósito subsiguiente de este libro es profundizar en cómo se puede emplear SQL de manera eficaz y eficiente para estos fines."
      ],
      "metadata": {
        "id": "mfG-CP5wERaU"
      }
    },
    {
      "cell_type": "markdown",
      "source": [
        "# Resumen\n",
        "- **Bases de datos relacionales**: Estas son esenciales para la analítica de datos, ofreciendo una tecnología madura y omnipresente para almacenar y consultar datos estructurados.\n",
        "  \n",
        "- **Tablas**: Las bases de datos relacionales almacenan datos en forma de tablas, lo que ofrece rendimiento, eficiencia y facilidad de uso.\n",
        "\n",
        "- **Lenguaje SQL**: Es el lenguaje estándar para acceder y manipular bases de datos relacionales. Admite una amplia variedad de tipos de datos.\n",
        "\n",
        "- **Operaciones CRUD**: Con SQL, puedes Crear, Leer, Actualizar y Eliminar (CRUD) datos. Esto incluye crear y eliminar tablas, insertar, actualizar y eliminar registros.\n",
        "\n",
        "- **Consulta y filtrado**: SQL permite al usuario seleccionar campos específicos, filtrar datos y ordenarlos según sus necesidades.\n",
        "\n",
        "Próximos pasos. Después de entender los fundamentos de SQL, el siguiente enfoque es cómo se puede usar SQL para la limpieza y transformación de datos en la analítica.\n"
      ],
      "metadata": {
        "id": "2TO8C418Eooq"
      }
    }
  ]
}