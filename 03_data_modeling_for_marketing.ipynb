{
  "nbformat": 4,
  "nbformat_minor": 0,
  "metadata": {
    "colab": {
      "provenance": []
    },
    "kernelspec": {
      "name": "python3",
      "display_name": "Python 3"
    },
    "language_info": {
      "name": "python"
    }
  },
  "cells": [
    {
      "cell_type": "markdown",
      "source": [
        "# 3. SQL para preparación de datos\n",
        "\n",
        "# 3.1 Introducción\n",
        "Según Forbes, los analistas de datos pasan casi el 80% de su tiempo preparando datos. Trabajar con datos mal organizados puede resultar en análisis incorrectos. Aquí es donde SQL se vuelve una herramienta poderosa, ayudándote a ordenar y limpiar los datos eficientemente.\n",
        "\n",
        "En este capítulo, aprenderás a juntar datos de diferentes fuentes usando las funciones JOIN y UNION de SQL. También conocerás herramientas que te ayudarán a limpiar los datos, como las funciones CASE WHEN, COALESCE, NULLIF y LEAST/GREATEST. Y para terminar, veremos cómo evitar información duplicada usando el comando DISTINCT.\n",
        "\n",
        "Todo esto te permitirá trabajar con datos más limpios y precisos."
      ],
      "metadata": {
        "id": "2dRYTSQhI50-"
      }
    },
    {
      "cell_type": "markdown",
      "source": [],
      "metadata": {
        "id": "pMRUfqR0OX3O"
      }
    },
    {
      "cell_type": "code",
      "source": [
        "# @title Preparación del entorno\n",
        "!pip install tabulate\n",
        "import sqlite3\n",
        "from tabulate import tabulate\n",
        "\n",
        "# Descargamos la base de datos sqlda\n",
        "!curl https://raw.githubusercontent.com/limspiga/data-modeling/main/db/sqlda.sql -O\n",
        "\n",
        "# Código auxiliar. Nota: ejecutar cuando se carge este libro.\n",
        "def sql_exec_query(query):\n",
        "  conn = sqlite3.connect('sqlda.sql')\n",
        "  cur = conn.cursor()\n",
        "  try:\n",
        "    cur.execute(query)\n",
        "    headers = [column[0] for column in cur.description]\n",
        "    print(tabulate(cur,  headers=headers))\n",
        "    # conn.commit()\n",
        "  except Exception as e:\n",
        "    print(str(e))\n",
        "    # conn.rollback()\n",
        "  cur.close()\n",
        "  conn.close()\n",
        "\n",
        "def sql_exec(query):\n",
        "  conn = sqlite3.connect('sqlda.sql')\n",
        "  cur = conn.cursor()\n",
        "  try:\n",
        "      cur.execute(query)\n",
        "      conn.commit()\n",
        "      print(\"Query executed successfully\")\n",
        "  except sqlite3.Error as e:\n",
        "      print(str(e))\n",
        "      conn.rollback()\n",
        "  cur.close()\n",
        "  conn.close()"
      ],
      "metadata": {
        "id": "_85ndUbsnr89",
        "outputId": "ab7fd78c-31a4-479d-846c-4da22f071b10",
        "colab": {
          "base_uri": "https://localhost:8080/"
        },
        "cellView": "form"
      },
      "execution_count": null,
      "outputs": [
        {
          "output_type": "stream",
          "name": "stdout",
          "text": [
            "Requirement already satisfied: tabulate in /usr/local/lib/python3.10/dist-packages (0.9.0)\n",
            "  % Total    % Received % Xferd  Average Speed   Time    Time     Time  Current\n",
            "                                 Dload  Upload   Total   Spent    Left  Speed\n",
            "100 60.5M  100 60.5M    0     0  76.9M      0 --:--:-- --:--:-- --:--:-- 76.9M\n"
          ]
        }
      ]
    },
    {
      "cell_type": "markdown",
      "source": [
        "# 3.2 Ensamble de Datos\n",
        "\n",
        "En el segundo capítulo abordaste operaciones básicas en SQL para el manejo de una sola tabla. En esta sección, aprenderás a trabajar con datos distribuidos en múltiples tablas, utilizando uniones y agrupaciones para consolidar la información.\n",
        "\n",
        "## 3.2.1  Conexión de Tablas con JOIN\n",
        "En muchas situaciones, la información que queremos no está toda en una sola tabla. Usar un simple comando SELECT en una tabla no es suficiente. Pero no hay de qué preocuparse, porque SQL nos da herramientas para unir tablas relacionadas, como el comando JOIN.\n",
        "\n",
        "Para que lo veas más claro, imagina que tenemos dos tablas en la base de datos ZoomZoom:\n",
        "\n",
        "- una de concesionarios y otra de\n",
        "- vendedores."
      ],
      "metadata": {
        "id": "WYADHWrMnsH9"
      }
    },
    {
      "cell_type": "code",
      "source": [
        "sql_exec_query('''\n",
        "  PRAGMA table_info(dealerships);\n",
        "''')\n",
        "\n",
        "# Figura 3.1: Estructura de la tabla de concesionarios"
      ],
      "metadata": {
        "id": "5C-lkMuioRb4",
        "outputId": "cbbdee42-9078-441c-9445-6e5ac5747b3d",
        "colab": {
          "base_uri": "https://localhost:8080/"
        }
      },
      "execution_count": null,
      "outputs": [
        {
          "output_type": "stream",
          "name": "stdout",
          "text": [
            "  cid  name            type        notnull  dflt_value      pk\n",
            "-----  --------------  --------  ---------  ------------  ----\n",
            "    0  dealership_id   INTEGER           0                   1\n",
            "    1  street_address  TEXT              0                   0\n",
            "    2  city            TEXT              0                   0\n",
            "    3  state           TEXT              0                   0\n",
            "    4  postal_code     TEXT              0                   0\n",
            "    5  latitude        REAL              0                   0\n",
            "    6  longitude       REAL              0                   0\n",
            "    7  date_opened     DATETIME          0                   0\n",
            "    8  date_closed     DATETIME          0                   0\n"
          ]
        }
      ]
    },
    {
      "cell_type": "markdown",
      "source": [
        "Y la tabla de los vendedores se ve así:"
      ],
      "metadata": {
        "id": "pfX-2X1Mr26O"
      }
    },
    {
      "cell_type": "code",
      "source": [
        "sql_exec_query('''\n",
        "  PRAGMA table_info(salespeople);\n",
        "''')\n",
        "\n",
        "# Figura 3.2: Estructura de la tabla de vendedores"
      ],
      "metadata": {
        "id": "mPAIei3qr7Db",
        "outputId": "aecb8033-04e1-4ed5-88ba-6059ed20400c",
        "colab": {
          "base_uri": "https://localhost:8080/"
        }
      },
      "execution_count": null,
      "outputs": [
        {
          "output_type": "stream",
          "name": "stdout",
          "text": [
            "  cid  name              type        notnull  dflt_value      pk\n",
            "-----  ----------------  --------  ---------  ------------  ----\n",
            "    0  salesperson_id    INTEGER           0                   1\n",
            "    1  dealership_id     INTEGER           0                   0\n",
            "    2  title             TEXT              0                   0\n",
            "    3  first_name        TEXT              0                   0\n",
            "    4  last_name         TEXT              0                   0\n",
            "    5  suffix            TEXT              0                   0\n",
            "    6  username          TEXT              0                   0\n",
            "    7  gender            TEXT              0                   0\n",
            "    8  hire_date         DATETIME          0                   0\n",
            "    9  termination_date  DATETIME          0                   0\n"
          ]
        }
      ]
    },
    {
      "cell_type": "markdown",
      "source": [
        "En la tabla que muestra los detalles de los vendedores, hay una columna etiquetada como `dealership_id`. Esta columna tiene un papel muy importante: nos dice a qué concesionario pertenece cada vendedor, conectándolo directamente con una entrada específica en la tabla de concesionarios a través de una coincidencia de `dealership_id`.\n",
        "\n",
        "Esta relación es posible gracias a un concepto llamado \"**clave extranjera**\", que en este caso es el `dealership_id` en la tabla de vendedores. Una \"clave extranjera\" es simplemente un campo que establece una conexión directa con el campo correspondiente (la \"clave principal\") en otra tabla, creando así un puente entre las dos tablas.\n",
        "\n",
        "Gracias a este puente, podemos explorar y analizar los datos de formas muy variadas e interesantes. Imagina que quieres saber quiénes son los vendedores que trabajan en los concesionarios de California; este tipo de preguntas se pueden responder fácilmente. Primero, identificarías qué concesionarios están en California y luego usarías esa información para encontrar a los vendedores correspondientes. A continuación, veremos cómo hacerlo con una consulta SQL:\n"
      ],
      "metadata": {
        "id": "4mvr7IQ3U_4G"
      }
    },
    {
      "cell_type": "code",
      "source": [
        "sql_exec_query('''\n",
        "SELECT *\n",
        "FROM dealerships\n",
        "WHERE state='CA';\n",
        "''')\n",
        "\n",
        "# Figura 3.3: Concesionarios en California"
      ],
      "metadata": {
        "id": "svlip4fno6Ec",
        "outputId": "90b80dc5-c035-4fc5-c4e4-d171425864cf",
        "colab": {
          "base_uri": "https://localhost:8080/"
        }
      },
      "execution_count": null,
      "outputs": [
        {
          "output_type": "stream",
          "name": "stdout",
          "text": [
            "  dealership_id  street_address              city         state      postal_code    latitude    longitude  date_opened          date_closed\n",
            "---------------  --------------------------  -----------  -------  -------------  ----------  -----------  -------------------  -------------\n",
            "              2  808 South Hobart Boulevard  Los Angeles  CA               90005     34.0578     -118.305  2017-01-26 00:00:00  \\N\n",
            "              5  2210 Bunker Hill Drive      San Mateo    CA               94402     37.5245     -122.344  2017-01-26 00:00:00  \\N\n"
          ]
        }
      ]
    },
    {
      "cell_type": "markdown",
      "source": [
        "Ahora que sabes que los únicos dos concesionarios en California tienen los IDs 2 y 5, respectivamente, puedes entonces consultar la tabla de vendedores, de la siguiente manera:\n"
      ],
      "metadata": {
        "id": "7pv8Suy0o6Zm"
      }
    },
    {
      "cell_type": "code",
      "source": [
        "sql_exec_query('''\n",
        "SELECT *\n",
        "FROM salespeople\n",
        "WHERE dealership_id in (2, 5)\n",
        "ORDER BY 1 LIMIT 9;\n",
        "''')\n",
        "\n",
        "# Figura 3.4: Vendedores en California"
      ],
      "metadata": {
        "id": "eO71yjqao6lU",
        "outputId": "6cfe9cb0-10d2-4d0c-f86e-66d7a165f418",
        "colab": {
          "base_uri": "https://localhost:8080/"
        }
      },
      "execution_count": null,
      "outputs": [
        {
          "output_type": "stream",
          "name": "stdout",
          "text": [
            "  salesperson_id    dealership_id  title    first_name    last_name    suffix    username       gender    hire_date            termination_date\n",
            "----------------  ---------------  -------  ------------  -----------  --------  -------------  --------  -------------------  ------------------\n",
            "              23                2           Beauregard    Peschke                bpeschkem      Male      2021-05-09 00:00:00\n",
            "              51                5           Lanette       Gerriessen             lgerriessen1e  Female    2021-02-18 00:00:00\n",
            "              57                5           Spense        Pithcock               spithcock1k    Male      2020-08-11 00:00:00\n",
            "              61                5           Ludvig        Baynam                 lbaynam1o      Male      2019-04-22 00:00:00\n",
            "              62                2           Carroll       Pudan                  cpudan1p       Female    2019-01-12 00:00:00\n",
            "              63                2           Adrianne      Otham                  aotham1q       Female    2017-08-16 00:00:00\n",
            "              71                2           Georgianna    Bastian                gbastian1y     Female    2021-08-19 00:00:00\n",
            "              75                2           Saundra       Shoebottom             sshoebottom22  Female    2020-11-12 00:00:00\n",
            "             108                2           Hale          Brigshaw               hbrigshaw2z    Male      2018-03-26 00:00:00\n"
          ]
        }
      ]
    },
    {
      "cell_type": "markdown",
      "source": [
        "Aunque puedes obtener la información que buscas con el método actual, implica hacer dos consultas separadas, lo que puede resultar tedioso. Sería mucho más práctico si pudiéramos fusionar la información de los concesionarios y los vendedores en una sola tabla y luego simplemente filtrar los resultados para mostrar solo los de California. Afortunadamente, SQL nos ofrece una solución eficiente para esto: la cláusula JOIN. Esta cláusula nos permite unir dos o más tablas en una, basándonos en criterios específicos que definimos.\n",
        "\n",
        "## Tipos de Joins\n",
        "En este capítulo, aprenderás sobre tres joins fundamentales, que se ilustran en la siguiente figura: joins internos, joins externos y cross joins:\n",
        "\n",
        "<figure>\n",
        "<center><img src='https://github.com/limspiga/data-modeling/blob/main/images/7b05c1b2-f698-4eea-8593-cfebb8519a76.png?raw=true' width=\"300\" />\n",
        "<figcaption>\n",
        "Figura 3.5: Tipos principales de joins</figcaption></center>\n",
        "</figure>\n",
        "\n",
        "\n",
        "\n"
      ],
      "metadata": {
        "id": "ZPbjwzqto6vY"
      }
    },
    {
      "cell_type": "markdown",
      "source": [
        "### Inner Joins\n",
        "\n",
        "Un \"join interno\" es una herramienta que usamos para combinar información de dos tablas diferentes, pero solo cuando cumplen con una condición específica que establecemos, llamada \"predicado de join\". Esta condición, la mayoría de las veces, es una igualdad, como que un número o nombre en una tabla sea igual a un número o nombre en la otra tabla.\n",
        "\n",
        "Imagina que es como un filtro que solo deja pasar las combinaciones de filas de ambas tablas que cumplen con esta condición. Si una combinación de filas no cumple con la condición que establecimos, simplemente no la incluimos en los resultados finales.\n",
        "\n",
        "Para hacer un \"join interno\", cada fila de la primera tabla se revisa junto con cada fila de la segunda tabla para ver si cumplen con la condición de \"join\". Solo vemos en los resultados las combinaciones que sí la cumplen.\n",
        "\n",
        "A continuación, veremos cómo se formula esto técnicamente en SQL:\n",
        "\n",
        "```sql\n",
        "SELECT {columns}\n",
        "FROM {table1}\n",
        "INNER JOIN {table2}\n",
        "  ON {table1}.{common_key_1}={table2}.{common_key_2};\n",
        "```\n"
      ],
      "metadata": {
        "id": "hmcmgWBTR3Wl"
      }
    },
    {
      "cell_type": "markdown",
      "source": [
        "\n",
        "Aquí, {columns} son las columnas que quieres obtener de la tabla unida, {table1} es la primera tabla, {table2} es la segunda tabla, {common_key_1} es la columna en {table1} a la que quieres unirte, y {common_key_2} es la columna en {table2} a la que quieres unirte.\n",
        "\n",
        "Ahora, regresa a las dos tablas discutidas anteriormente: concesionarios y vendedores. Como se mencionó anteriormente, sería bueno si pudieras agregar la información de la tabla de concesionarios a la tabla de vendedores sabiendo en qué estado está cada concesionario. Por el momento, supone que todos los ID de los vendedores tienen un valor dealership_id válido.\n",
        "\n",
        "Puedes unir las dos tablas usando una condición de igualdad en el predicado de unión, como sigue:\n"
      ],
      "metadata": {
        "id": "zyaXl_S9o7JY"
      }
    },
    {
      "cell_type": "code",
      "source": [
        "sql_exec_query('''\n",
        "SELECT *\n",
        "FROM salespeople\n",
        "INNER JOIN dealerships\n",
        "  ON salespeople.dealership_id = dealerships.dealership_id\n",
        "ORDER BY 1 LIMIT 10;\n",
        "''')\n",
        "\n",
        "# Figura 3.6: La tabla de vendedores unida a la tabla de concesionarios"
      ],
      "metadata": {
        "id": "EFFEdMM3o7Vj",
        "outputId": "2119209d-49c3-45c0-df0a-144d555b20a8",
        "colab": {
          "base_uri": "https://localhost:8080/"
        }
      },
      "execution_count": null,
      "outputs": [
        {
          "output_type": "stream",
          "name": "stdout",
          "text": [
            "  salesperson_id    dealership_id  title    first_name    last_name    suffix    username    gender    hire_date            termination_date      dealership_id  street_address          city          state      postal_code    latitude    longitude  date_opened          date_closed\n",
            "----------------  ---------------  -------  ------------  -----------  --------  ----------  --------  -------------------  ------------------  ---------------  ----------------------  ------------  -------  -------------  ----------  -----------  -------------------  -------------\n",
            "               1               17           Electra       Elleyne                eelleyne0   Female    2020-01-26 00:00:00                                   17  2120 Walnut Street      Philadelphia  PA               19092     39.951      -75.177   2017-01-26 00:00:00  \\N\n",
            "               2                6           Montague      Alcoran                malcoran1   Male      2021-08-27 00:00:00                                    6  7315 California Avenue  Seattle       WA               98136     47.538     -122.387   2017-01-26 00:00:00  \\N\n",
            "               3               17           Ethyl         Sloss        IV        esloss2     Female    2019-04-07 00:00:00                                   17  2120 Walnut Street      Philadelphia  PA               19092     39.951      -75.177   2017-01-26 00:00:00  \\N\n",
            "               4               10           Nester        Dugood                 ndugood3    Male      2020-01-29 00:00:00                                   10  7425 Wilson Avenue      Chicago       IL               60706     41.9635     -87.8136  2017-01-26 00:00:00  \\N\n",
            "               5               17           Cornall       Swanger                cswanger4   Male      2021-01-11 00:00:00                                   17  2120 Walnut Street      Philadelphia  PA               19092     39.951      -75.177   2017-01-26 00:00:00  \\N\n",
            "               6                8           Ellary        Nend                   enend5      Male      2019-01-02 00:00:00                                    8  5938 Cornfoot Road      Portland      OR               97218     45.5757    -122.603   2017-01-26 00:00:00  \\N\n",
            "               7                1           Granville     Fidell                 gfidell6    Male      2020-02-12 00:00:00                                    1  52 Hillside Terrace     Millburn      NJ               07039     40.7928     -74.3233  2017-01-26 00:00:00  \\N\n",
            "               8               18           Lanie         Tisun                  ltisun7     Male      2020-08-08 00:00:00                                   18  1447 Hardesty Avenue    Kansas City   MO               64195     39.0957     -94.5193  2017-01-26 00:00:00  \\N\n",
            "               9               14           Lamar         Treleven               ltreleven8  Male      2021-01-02 00:00:00                                   14  800 North Mays Street   Round Rock    TX               78664     30.5155     -97.6819  2017-01-26 00:00:00  \\N\n",
            "              10                1           Jereme        Onele                  jonele9     Male      2019-04-12 00:00:00                                    1  52 Hillside Terrace     Millburn      NJ               07039     40.7928     -74.3233  2017-01-26 00:00:00  \\N\n"
          ]
        }
      ]
    },
    {
      "cell_type": "markdown",
      "source": [
        "\n",
        "\n",
        "Como puedes ver en el resultado anterior, la tabla es el resultado de unir la tabla de vendedores con la de concesionarios. Nota que la primera tabla listada en la consulta, vendedores, está en el lado izquierdo del resultado, mientras que la tabla de concesionarios está en el lado derecho. Este orden de izquierda-derecha será muy importante en la próxima sección cuando aprendas sobre los joins externos entre tablas. Durante un join externo, si una tabla está en el lado izquierdo o derecho puede afectar el resultado de la consulta. Para un join interno, sin embargo, el orden de las tablas no es importante para los predicados de unión que usan una operación de igualdad.\n",
        "\n",
        "Ahora, mira las columnas involucradas; dealership_id en la tabla de vendedores coincide con dealership_id en la tabla de concesionarios. Esto muestra cómo se cumple el predicado de unión. Al ejecutar esta consulta de unión, has creado efectivamente un nuevo \"superconjunto de datos\" que consta de las dos tablas fusionadas donde las dos columnas dealership_id son iguales.\n",
        "\n",
        "Ahora puedes ejecutar una consulta SELECT sobre este \"superconjunto de datos\" de la misma manera que una tabla grande usando las cláusulas y palabras clave del Capítulo 2, Los conceptos básicos de SQL para análisis. Por ejemplo, volviendo al problema de múltiples consultas para determinar cuál de las consultas de ventas funciona en California, ahora puedes abordarlo con una consulta fácil:\n"
      ],
      "metadata": {
        "id": "lkhHpa6lo7hy"
      }
    },
    {
      "cell_type": "code",
      "source": [
        "sql_exec_query('''\n",
        "SELECT *\n",
        "FROM salespeople\n",
        "INNER JOIN dealerships\n",
        "  ON salespeople.dealership_id = dealerships.dealership_id\n",
        "WHERE dealerships.state = 'CA'\n",
        "ORDER BY 1 LIMIT 9;\n",
        "''')\n",
        "\n",
        "# Figura 3.7: Vendedores en California con una consulta"
      ],
      "metadata": {
        "id": "GFqavAe4o7uo",
        "outputId": "f35d1381-a73d-4483-d5d5-dbc096d1e3da",
        "colab": {
          "base_uri": "https://localhost:8080/"
        }
      },
      "execution_count": null,
      "outputs": [
        {
          "output_type": "stream",
          "name": "stdout",
          "text": [
            "  salesperson_id    dealership_id  title    first_name    last_name    suffix    username       gender    hire_date            termination_date      dealership_id  street_address              city         state      postal_code    latitude    longitude  date_opened          date_closed\n",
            "----------------  ---------------  -------  ------------  -----------  --------  -------------  --------  -------------------  ------------------  ---------------  --------------------------  -----------  -------  -------------  ----------  -----------  -------------------  -------------\n",
            "              23                2           Beauregard    Peschke                bpeschkem      Male      2021-05-09 00:00:00                                    2  808 South Hobart Boulevard  Los Angeles  CA               90005     34.0578     -118.305  2017-01-26 00:00:00  \\N\n",
            "              51                5           Lanette       Gerriessen             lgerriessen1e  Female    2021-02-18 00:00:00                                    5  2210 Bunker Hill Drive      San Mateo    CA               94402     37.5245     -122.344  2017-01-26 00:00:00  \\N\n",
            "              57                5           Spense        Pithcock               spithcock1k    Male      2020-08-11 00:00:00                                    5  2210 Bunker Hill Drive      San Mateo    CA               94402     37.5245     -122.344  2017-01-26 00:00:00  \\N\n",
            "              61                5           Ludvig        Baynam                 lbaynam1o      Male      2019-04-22 00:00:00                                    5  2210 Bunker Hill Drive      San Mateo    CA               94402     37.5245     -122.344  2017-01-26 00:00:00  \\N\n",
            "              62                2           Carroll       Pudan                  cpudan1p       Female    2019-01-12 00:00:00                                    2  808 South Hobart Boulevard  Los Angeles  CA               90005     34.0578     -118.305  2017-01-26 00:00:00  \\N\n",
            "              63                2           Adrianne      Otham                  aotham1q       Female    2017-08-16 00:00:00                                    2  808 South Hobart Boulevard  Los Angeles  CA               90005     34.0578     -118.305  2017-01-26 00:00:00  \\N\n",
            "              71                2           Georgianna    Bastian                gbastian1y     Female    2021-08-19 00:00:00                                    2  808 South Hobart Boulevard  Los Angeles  CA               90005     34.0578     -118.305  2017-01-26 00:00:00  \\N\n",
            "              75                2           Saundra       Shoebottom             sshoebottom22  Female    2020-11-12 00:00:00                                    2  808 South Hobart Boulevard  Los Angeles  CA               90005     34.0578     -118.305  2017-01-26 00:00:00  \\N\n",
            "             108                2           Hale          Brigshaw               hbrigshaw2z    Male      2018-03-26 00:00:00                                    2  808 South Hobart Boulevard  Los Angeles  CA               90005     34.0578     -118.305  2017-01-26 00:00:00  \\N\n"
          ]
        }
      ]
    },
    {
      "cell_type": "markdown",
      "source": [
        "\n",
        "Esto te da el siguiente resultado, que muestra las primeras filas del conjunto de resultados completo:\n",
        "\n",
        "\n",
        "Observarás que el resultado en la Figura 3.6 y la Figura 3.7 es casi idéntico, siendo la excepción que la tabla en la Figura 3.7 tiene los datos de los concesionarios añadidos también. Si quieres recuperar solo la parte de la tabla de vendedores de esto, puedes seleccionar las columnas de vendedores usando la siguiente sintaxis de estrella:\n"
      ],
      "metadata": {
        "id": "ZbEU370eKkXS"
      }
    },
    {
      "cell_type": "code",
      "source": [
        "sql_exec_query('''\n",
        "SELECT salespeople.*\n",
        "FROM salespeople\n",
        "INNER JOIN dealerships\n",
        "  ON dealerships.dealership_id = salespeople.dealership_id\n",
        "WHERE dealerships.state = 'CA'\n",
        "ORDER BY 1 LIMIT 9;\n",
        "''')\n",
        "\n",
        "# Figura 3.8: Vendedores en California con SELECT alias de tabla"
      ],
      "metadata": {
        "id": "dqjrPDRKpf-s",
        "outputId": "7b78d6fb-da33-446c-f784-077ab3185226",
        "colab": {
          "base_uri": "https://localhost:8080/"
        }
      },
      "execution_count": null,
      "outputs": [
        {
          "output_type": "stream",
          "name": "stdout",
          "text": [
            "  salesperson_id    dealership_id  title    first_name    last_name    suffix    username       gender    hire_date            termination_date\n",
            "----------------  ---------------  -------  ------------  -----------  --------  -------------  --------  -------------------  ------------------\n",
            "              23                2           Beauregard    Peschke                bpeschkem      Male      2021-05-09 00:00:00\n",
            "              51                5           Lanette       Gerriessen             lgerriessen1e  Female    2021-02-18 00:00:00\n",
            "              57                5           Spense        Pithcock               spithcock1k    Male      2020-08-11 00:00:00\n",
            "              61                5           Ludvig        Baynam                 lbaynam1o      Male      2019-04-22 00:00:00\n",
            "              62                2           Carroll       Pudan                  cpudan1p       Female    2019-01-12 00:00:00\n",
            "              63                2           Adrianne      Otham                  aotham1q       Female    2017-08-16 00:00:00\n",
            "              71                2           Georgianna    Bastian                gbastian1y     Female    2021-08-19 00:00:00\n",
            "              75                2           Saundra       Shoebottom             sshoebottom22  Female    2020-11-12 00:00:00\n",
            "             108                2           Hale          Brigshaw               hbrigshaw2z    Male      2018-03-26 00:00:00\n"
          ]
        }
      ]
    },
    {
      "cell_type": "markdown",
      "source": [
        "\n",
        "Hay otro atajo que puede ayudar al escribir sentencias con varias cláusulas JOIN. Puedes asignar un alias a los nombres de las tablas para evitar escribir el nombre completo de la tabla cada vez. Simplemente escribe el nombre del alias después de la primera mención de la tabla después de la cláusula JOIN, y podrás ahorrar una cantidad considerable de escritura. Por ejemplo, para la consulta anterior, si quisieras asignar un alias a \"salespeople\" con \"s\" y a \"dealerships\" con \"d\", podrías escribir la siguiente sentencia:"
      ],
      "metadata": {
        "id": "otK95sq9pgK-"
      }
    },
    {
      "cell_type": "code",
      "source": [
        "sql_exec_query('''\n",
        "SELECT s.*\n",
        "FROM salespeople s\n",
        "INNER JOIN dealerships d\n",
        "  ON d.dealership_id = s.dealership_id\n",
        "WHERE d.state = 'CA'\n",
        "ORDER BY 1\n",
        "LIMIT 9;\n",
        "''')"
      ],
      "metadata": {
        "id": "9ICOVcaqTt7s",
        "outputId": "b6e301e9-0618-4ea0-efa6-2eb4ecfb802f",
        "colab": {
          "base_uri": "https://localhost:8080/"
        }
      },
      "execution_count": null,
      "outputs": [
        {
          "output_type": "stream",
          "name": "stdout",
          "text": [
            "  salesperson_id    dealership_id  title    first_name    last_name    suffix    username       gender    hire_date            termination_date\n",
            "----------------  ---------------  -------  ------------  -----------  --------  -------------  --------  -------------------  ------------------\n",
            "              23                2           Beauregard    Peschke                bpeschkem      Male      2021-05-09 00:00:00\n",
            "              51                5           Lanette       Gerriessen             lgerriessen1e  Female    2021-02-18 00:00:00\n",
            "              57                5           Spense        Pithcock               spithcock1k    Male      2020-08-11 00:00:00\n",
            "              61                5           Ludvig        Baynam                 lbaynam1o      Male      2019-04-22 00:00:00\n",
            "              62                2           Carroll       Pudan                  cpudan1p       Female    2019-01-12 00:00:00\n",
            "              63                2           Adrianne      Otham                  aotham1q       Female    2017-08-16 00:00:00\n",
            "              71                2           Georgianna    Bastian                gbastian1y     Female    2021-08-19 00:00:00\n",
            "              75                2           Saundra       Shoebottom             sshoebottom22  Female    2020-11-12 00:00:00\n",
            "             108                2           Hale          Brigshaw               hbrigshaw2z    Male      2018-03-26 00:00:00\n"
          ]
        }
      ]
    },
    {
      "cell_type": "markdown",
      "source": [
        "Alternatively, you could also put the AS keyword between the table name and alias to make the alias more explicit:"
      ],
      "metadata": {
        "id": "ila48kCrpggx"
      }
    },
    {
      "cell_type": "code",
      "source": [
        "sql_exec_query('''\n",
        "SELECT s.*\n",
        "FROM salespeople AS s\n",
        "INNER JOIN dealerships AS d\n",
        "  ON d.dealership_id = s.dealership_id\n",
        "WHERE d.state = 'CA'\n",
        "ORDER BY 1\n",
        "LIMIT 9;\n",
        "''')"
      ],
      "metadata": {
        "id": "7PmJu8uZTyB3",
        "outputId": "26ce3d98-9c92-467d-866b-58177520d091",
        "colab": {
          "base_uri": "https://localhost:8080/"
        }
      },
      "execution_count": null,
      "outputs": [
        {
          "output_type": "stream",
          "name": "stdout",
          "text": [
            "  salesperson_id    dealership_id  title    first_name    last_name    suffix    username       gender    hire_date            termination_date\n",
            "----------------  ---------------  -------  ------------  -----------  --------  -------------  --------  -------------------  ------------------\n",
            "              23                2           Beauregard    Peschke                bpeschkem      Male      2021-05-09 00:00:00\n",
            "              51                5           Lanette       Gerriessen             lgerriessen1e  Female    2021-02-18 00:00:00\n",
            "              57                5           Spense        Pithcock               spithcock1k    Male      2020-08-11 00:00:00\n",
            "              61                5           Ludvig        Baynam                 lbaynam1o      Male      2019-04-22 00:00:00\n",
            "              62                2           Carroll       Pudan                  cpudan1p       Female    2019-01-12 00:00:00\n",
            "              63                2           Adrianne      Otham                  aotham1q       Female    2017-08-16 00:00:00\n",
            "              71                2           Georgianna    Bastian                gbastian1y     Female    2021-08-19 00:00:00\n",
            "              75                2           Saundra       Shoebottom             sshoebottom22  Female    2020-11-12 00:00:00\n",
            "             108                2           Hale          Brigshaw               hbrigshaw2z    Male      2018-03-26 00:00:00\n"
          ]
        }
      ]
    },
    {
      "cell_type": "markdown",
      "source": [
        "Ahora que has cubierto los conceptos básicos de las uniones internas (inner joins), es hora de discutir las uniones externas (outer joins)."
      ],
      "metadata": {
        "id": "0Yn4S2WEUHtI"
      }
    },
    {
      "cell_type": "markdown",
      "source": [
        "\n",
        "### Uniones Externas (Outer Joins)\n",
        "Como se discutió, las uniones internas solo retornarán filas de las dos tablas cuando se cumpla el predicado de unión para ambas tablas, es decir, cuando ambas tablas tengan filas que puedan satisfacer el predicado de unión. De lo contrario, no se retornarán filas de ninguna de las tablas. Puede ocurrir que, a veces, quieras retornar todas las filas de una de las tablas, incluso si la otra tabla no tiene ninguna fila que cumpla con el predicado de unión. En este caso, dado que no hay ninguna fila que cumpla con el predicado de unión, la segunda tabla no retornará nada más que NULL. La unión externa es un tipo de unión en el que todas las filas de al menos una tabla, si cumplen con la condición WHERE de la consulta, se presentarán después de la operación JOIN.\n",
        "\n",
        "Las uniones externas pueden clasificarse en tres categorías: uniones externas izquierdas (left outer joins), uniones externas derechas (right outer joins) y uniones externas completas (full outer joins):\n",
        "- Unión externa izquierda (Left outer join): Las uniones externas izquierdas son aquellas en las que se retornará cada fila de la tabla izquierda (es decir, la tabla mencionada primero en una cláusula de unión). Si no se encuentra una fila de la otra tabla (la tabla derecha), se retorna una fila de NULL de la tabla derecha. Las uniones externas izquierdas se realizan utilizando las palabras clave LEFT OUTER JOIN, seguidas de un predicado de unión. Esto también puede escribirse abreviadamente como LEFT JOIN.\n",
        "\n",
        "  Para mostrar cómo funcionan las uniones externas izquierdas, examina dos tablas: la tabla de clientes (customers) y la tabla de correos electrónicos (emails). Por el momento, asume que no a todos los clientes se les ha enviado un correo electrónico, y quieres enviar correos a todos los clientes que no han recibido un correo electrónico. Puedes utilizar una unión externa izquierda para hacer que eso ocurra, ya que el lado izquierdo de la unión es la tabla de clientes. Para ayudar a gestionar la salida, limitarás esta a las primeras 1,000 filas. Se utiliza el siguiente fragmento de código:"
      ],
      "metadata": {
        "id": "nwrOsW11UJeM"
      }
    },
    {
      "cell_type": "code",
      "source": [
        "sql_exec_query('''\n",
        "SELECT *\n",
        "FROM\n",
        " customers c\n",
        "LEFT OUTER JOIN\n",
        "  emails e ON e.customer_id=c.customer_id\n",
        "ORDER BY\n",
        "  c.customer_id\n",
        "LIMIT\n",
        "10;\n",
        "''')\n",
        "\n",
        "# Figure 3.9: Customers left-joined to emails"
      ],
      "metadata": {
        "id": "mLRJnYUsUTDZ",
        "outputId": "01570388-5dce-45ef-8684-295ab1cb2e3f",
        "colab": {
          "base_uri": "https://localhost:8080/"
        }
      },
      "execution_count": null,
      "outputs": [
        {
          "output_type": "stream",
          "name": "stdout",
          "text": [
            "  customer_id  title    first_name    last_name    suffix    email                      gender    ip_address     phone         street_address       city         state      postal_code    latitude    longitude  date_added             email_id    customer_id  email_subject                               opened    clicked    bounced    sent_date            opened_date          clicked_date\n",
            "-------------  -------  ------------  -----------  --------  -------------------------  --------  -------------  ------------  -------------------  -----------  -------  -------------  ----------  -----------  -------------------  ----------  -------------  ------------------------------------------  --------  ---------  ---------  -------------------  -------------------  --------------\n",
            "            1           Arlena        Riveles                ariveles0@stumbleupon.com  F         98.36.172.246                                                                                                   2019-12-19 00:00:00      370722              1  A New Year, And Some New EVs                f         f          f          2021-09-03 15:00:00  \\N                   \\N\n",
            "            1           Arlena        Riveles                ariveles0@stumbleupon.com  F         98.36.172.246                                                                                                   2019-12-19 00:00:00      282584              1  Black Friday. Green Cars.                   t         f          f          2020-07-21 15:00:00  2020-07-23 01:12:32  \\N\n",
            "            1           Arlena        Riveles                ariveles0@stumbleupon.com  F         98.36.172.246                                                                                                   2019-12-19 00:00:00      323983              1  Save the Planet with some Holiday Savings.  f         f          f          2021-07-20 15:00:00  \\N                   \\N\n",
            "            2  Dr       Ode           Stovin                 ostovin1@npr.org           M         16.97.59.186   314-534-4361  2573 Fordem Parkway  Saint Louis  MO               63116     38.5814     -90.2625  2017-05-29 00:00:00      209804              2  25% off all EVs. It's a Christmas Miracle!  f         f          f          2019-07-23 15:00:00  \\N                   \\N\n",
            "            2  Dr       Ode           Stovin                 ostovin1@npr.org           M         16.97.59.186   314-534-4361  2573 Fordem Parkway  Saint Louis  MO               63116     38.5814     -90.2625  2017-05-29 00:00:00      370723              2  A New Year, And Some New EVs                f         f          f          2021-09-03 15:00:00  \\N                   \\N\n",
            "            2  Dr       Ode           Stovin                 ostovin1@npr.org           M         16.97.59.186   314-534-4361  2573 Fordem Parkway  Saint Louis  MO               63116     38.5814     -90.2625  2017-05-29 00:00:00      117146              2  An Electric Car for a New Age               f         f          f          2017-11-26 15:00:00  \\N                   \\N\n",
            "            2  Dr       Ode           Stovin                 ostovin1@npr.org           M         16.97.59.186   314-534-4361  2573 Fordem Parkway  Saint Louis  MO               63116     38.5814     -90.2625  2017-05-29 00:00:00      282585              2  Black Friday. Green Cars.                   f         f          f          2020-07-21 15:00:00  \\N                   \\N\n",
            "            2  Dr       Ode           Stovin                 ostovin1@npr.org           M         16.97.59.186   314-534-4361  2573 Fordem Parkway  Saint Louis  MO               63116     38.5814     -90.2625  2017-05-29 00:00:00      174737              2  Like a Bat out of Heaven                    f         f          f          2019-05-19 15:00:00  \\N                   \\N\n",
            "            2  Dr       Ode           Stovin                 ostovin1@npr.org           M         16.97.59.186   314-534-4361  2573 Fordem Parkway  Saint Louis  MO               63116     38.5814     -90.2625  2017-05-29 00:00:00      323984              2  Save the Planet with some Holiday Savings.  f         f          f          2021-07-20 15:00:00  \\N                   \\N\n",
            "            2  Dr       Ode           Stovin                 ostovin1@npr.org           M         16.97.59.186   314-534-4361  2573 Fordem Parkway  Saint Louis  MO               63116     38.5814     -90.2625  2017-05-29 00:00:00      144183              2  Tis' the Season for Savings                 f         f          f          2018-07-23 15:00:00  \\N                   \\N\n"
          ]
        }
      ]
    },
    {
      "cell_type": "markdown",
      "source": [
        "Cuando observas el resultado de la consulta, deberías ver que están presentes las entradas de la tabla de clientes. Sin embargo, para algunas de las filas, como la del customer_id 27, que se puede ver en la Figura 3.9, las columnas que pertenecen a la tabla de correos electrónicos están completamente llenas de valores NULL. Esta configuración explica cómo el outer join es diferente del inner join. Si se hubiera utilizado el inner join, la fila del customer_id 27 no aparecería, porque no hay un registro correspondiente en la tabla de correos electrónicos."
      ],
      "metadata": {
        "id": "gRYL_KotOZTJ"
      }
    },
    {
      "cell_type": "markdown",
      "source": [
        "Esta consulta, sin embargo, sigue siendo útil porque ahora puedes utilizarla para encontrar a las personas que nunca han recibido un correo electrónico. Debido a que esos clientes a los que nunca se les envió un correo electrónico tienen una columna customer_id nula en los valores devueltos de la tabla de correos electrónicos, puedes encontrar a todos estos clientes verificando la columna customer_id en la tabla de correos electrónicos, de la siguiente manera:"
      ],
      "metadata": {
        "id": "7z_jeCdhOgW4"
      }
    },
    {
      "cell_type": "code",
      "source": [
        "sql_exec_query('''\n",
        "SELECT\n",
        "    c.customer_id,\n",
        "    c.title,\n",
        "    c.first_name,\n",
        "    c.last_name,\n",
        "    c.suffix,\n",
        "    c.email,\n",
        "    e.email_id,\n",
        "    e.email_subject,\n",
        "    e.opened,\n",
        "    e.clicked,\n",
        "    e.bounced,\n",
        "    e.sent_date,\n",
        "    e.opened_date,\n",
        "    e.clicked_date\n",
        "FROM\n",
        "  customers c\n",
        "LEFT OUTER JOIN\n",
        "  emails e ON c.customer_id = e.customer_id\n",
        "WHERE\n",
        "  e.customer_id IS NULL\n",
        "ORDER BY\n",
        "  c.customer_id\n",
        "LIMIT 1000;\n",
        "''')\n",
        "\n",
        "# Figura 3.10: Clientes a los que no se les ha enviado correos electrónicos"
      ],
      "metadata": {
        "id": "7gcYDLIQOjR3"
      },
      "execution_count": null,
      "outputs": []
    },
    {
      "cell_type": "markdown",
      "source": [
        "Como puedes ver, todas las entradas están en blanco en la columna email_id de la tabla de correos electrónicos, lo que indica que el cliente de esa fila no ha recibido ningún correo electrónico. Simplemente podrías tomar los correos electrónicos de esta unión para obtener a todos los clientes que no han recibido un correo electrónico.\n",
        "\n",
        "• Unión externa derecha: Una unión externa derecha es muy similar a una unión externa izquierda, excepto que ahora la tabla de la \"derecha\" (la segunda tabla listada) tendrá todas las filas visibles, y la tabla de la \"izquierda\" tendrá valores NULL si no se cumple la condición de UNIÓN. Para ilustrar, vamos a \"invertir\" la última consulta uniendo por la derecha la tabla de correos electrónicos a la tabla de clientes con la siguiente consulta:"
      ],
      "metadata": {
        "id": "KXBB8P4FO8BK"
      }
    },
    {
      "cell_type": "code",
      "source": [
        "sql_exec_query('''\n",
        "SELECT\n",
        "    e.email_id,\n",
        "    e.email_subject,\n",
        "    e.opened,\n",
        "    e.clicked,\n",
        "    e.bounced,\n",
        "    e.sent_date,\n",
        "    e.opened_date,\n",
        "    e.clicked_date,\n",
        "    c.customer_id,\n",
        "    c.title,\n",
        "    c.first_name,\n",
        "    c.last_name,\n",
        "    c.suffix,\n",
        "c.email\n",
        "FROM emails e\n",
        "RIGHT OUTER JOIN customers c\n",
        "  ON e.customer_id=c.customer_id\n",
        "ORDER BY\n",
        "  c.customer_id\n",
        "LIMIT\n",
        "1000;\n",
        "''')\n",
        "\n",
        "# Figura 3.11: Correos electrónicos unidos por la derecha a la tabla de clientes"
      ],
      "metadata": {
        "id": "sDWjvu7fO-vM"
      },
      "execution_count": null,
      "outputs": []
    },
    {
      "cell_type": "markdown",
      "source": [
        "Observa que este resultado es similar al que se produjo en la Figura 3.9, excepto que los datos de la tabla de correos electrónicos están ahora en el lado izquierdo, y los datos de la tabla de clientes están en el lado derecho. Una vez más, el customer_id 27 tiene NULL para el correo electrónico. Esto muestra la simetría entre una unión por la derecha y una unión por la izquierda."
      ],
      "metadata": {
        "id": "7atfMlnmPPQe"
      }
    },
    {
      "cell_type": "markdown",
      "source": [
        "Unión externa completa: Finalmente, está la unión externa completa. La unión externa completa devolverá todas las filas de las tablas izquierda y derecha, independientemente de si se cumple el predicado de unión. Para las filas donde se cumple el predicado de unión, las dos filas se combinan tal como en una unión interna. Para las filas donde no se cumple, cada fila de ambas tablas será seleccionada como una fila individual, con NULL llenando las columnas de la otra tabla. La unión externa completa se invoca usando la cláusula FULL OUTER JOIN, seguida de un predicado de unión. Aquí está la sintaxis de esta unión:"
      ],
      "metadata": {
        "id": "BBp1j9PXPR6W"
      }
    },
    {
      "cell_type": "code",
      "source": [
        "sql_exec_query('''\n",
        "SELECT *\n",
        "FROM emails e\n",
        "FULL OUTER JOIN\n",
        "  customers c\n",
        "  ON e.customer_id=c.customer_id;\n",
        "''')\n",
        "\n",
        "# Figura 3.12: Los correos electrónicos están completamente unidos por fuera a la tabla de clientes"
      ],
      "metadata": {
        "id": "4f9Jk7VZPVYy"
      },
      "execution_count": null,
      "outputs": []
    },
    {
      "cell_type": "markdown",
      "source": [
        "En esta sección, aprendiste cómo implementar tres tipos diferentes de uniones externas. En la siguiente sección, aprenderás sobre la unión cruzada.\n",
        "\n",
        "Uniones Cruzadas\n",
        "La unión cruzada es un tipo de unión que no tiene un predicado de unión. Eso significa que cada fila de la tabla \"izquierda\" se emparejará con todas las filas de la tabla \"derecha\", independientemente de si están relacionadas o no. También se le conoce como producto cartesiano. Se le llama \"cartesiano\" en honor al matemático francés René Descartes, quien planteó la idea de este tipo de operación. Se puede invocar usando la cláusula CROSS JOIN, seguida del nombre de la otra tabla. Para entender mejor esto, tomemos el ejemplo de la tabla de productos.\n",
        "\n",
        "Un análisis común es el análisis de cesta de mercado, que estudia los patrones de venta entre múltiples productos. Por ejemplo, los pañales se venden usualmente junto con toallitas para bebés. Entonces, si estás organizando un sorteo de dos meses para pañales con fines de marketing y esperas que más clientes vengan al pasillo de pañales o a la página web, podrías querer colocar también toallitas para bebés allí. Para llevar a cabo un análisis de cesta de mercado, quieres conocer todas las posibles combinaciones de dos productos que podrías crear a partir de un conjunto dado de productos (como los que se encuentran en la tabla de productos) para crear un sorteo de dos meses con fines de marketing. Puedes utilizar una unión cruzada para obtener la respuesta a la pregunta utilizando la siguiente consulta:"
      ],
      "metadata": {
        "id": "eGh6MXiPPkdW"
      }
    },
    {
      "cell_type": "code",
      "source": [
        "sql_exec_query('''\n",
        "SELECT\n",
        "  P1.product_id, p1.model,\n",
        "  P2.product_id, p2.model\n",
        "FROM\n",
        "  products p1\n",
        "CROSS JOIN\n",
        "  products p2;\n",
        "''')\n",
        "\n",
        "# Figure 3.13: The cross join of a product to itself"
      ],
      "metadata": {
        "id": "N9o2fvbvPgT6"
      },
      "execution_count": null,
      "outputs": []
    },
    {
      "cell_type": "markdown",
      "source": [
        "En este caso, has unido cada valor de cada campo en una tabla con el mismo\n",
        "en otra tabla. El resultado de la consulta tiene 144 filas, que es el equivalente a multiplicar los 12 productos por los mismos 12 productos (12 * 12). También puedes ver que la unión cruzada no requiere un predicado de unión. En otras palabras, una unión cruzada puede simplemente considerarse como una unión externa sin condiciones para unirse.\n",
        "\n",
        "En general, las uniones cruzadas no se usan mucho en la práctica ya que pueden entorpecer el proceso si no se manejan con cuidado. Unir cruzadamente dos tablas grandes puede resultar en la creación de cientos de miles de millones de filas, lo que puede estancar y colapsar una base de datos. Por lo tanto, si decides usar una unión cruzada, asegúrate de tomar el máximo cuidado al usarla.\n",
        "\n",
        "Hasta ahora, has cubierto lo básico del uso de uniones para fusionar tablas para un análisis personalizado de datos. Practicarás esto en el siguiente ejercicio."
      ],
      "metadata": {
        "id": "vhYWSN6PP3en"
      }
    },
    {
      "cell_type": "markdown",
      "source": [
        "## Ejercicio 3.01: Usando Uniones para Analizar una Concesionaria de Ventas\n",
        "En este ejercicio, utilizarás las uniones para juntar tablas relacionadas. Por ejemplo, el jefe de ventas de tu empresa quisiera una lista de todos los clientes que compraron un coche. Para realizar la tarea, necesitas crear una consulta que devuelva todos los ID de los clientes, nombres, apellidos y números de teléfono válidos de los clientes que compraron un coche."
      ],
      "metadata": {
        "id": "eFsJK1qeP_rS"
      }
    },
    {
      "cell_type": "markdown",
      "source": [
        "Para completar este ejercicio, realiza los siguientes pasos:\n",
        "1. Abre pgAdmin, conéctate a la base de datos sqlda y abre el editor de consultas SQL.\n",
        "2. Usa una unión interna para juntar las tablas de ventas, clientes y productos, la cual devolverá datos para los ID de los clientes, nombres, apellidos y números de teléfono válidos:"
      ],
      "metadata": {
        "id": "cFZ6EQBoQGPa"
      }
    },
    {
      "cell_type": "code",
      "source": [
        "sql_exec_query('''\n",
        "SELECT\n",
        "  c.customer_id, c.first_name,\n",
        "  c.last_name, c.phone\n",
        "FROM sales s\n",
        "INNER JOIN\n",
        "  customers c ON c.customer_id=s.customer_id\n",
        "INNER JOIN\n",
        "  products p ON p.product_id=s.product_id\n",
        "WHERE\n",
        "  p.product_type='automobile'\n",
        "  AND c.phone IS NOT NULL;\n",
        "''')\n",
        "\n",
        "# Figure 3.14: Customers who bought a car"
      ],
      "metadata": {
        "id": "lH7nGiamQGan"
      },
      "execution_count": null,
      "outputs": []
    },
    {
      "cell_type": "markdown",
      "source": [
        "Puedes ver que ejecutar la consulta te ayudó a unir los datos de las tablas de ventas, clientes y productos y obtener una lista de clientes que compraron un coche y tienen un número de teléfono."
      ],
      "metadata": {
        "id": "2v3H6VmlQBgO"
      }
    },
    {
      "cell_type": "markdown",
      "source": [
        "En este ejercicio, utilizando uniones, pudiste reunir tablas relacionadas de manera fácil y eficiente. Varias veces, también querrás combinar el resultado de tus consultas para formar nuevas consultas, de modo que puedas construir análisis de datos sobre análisis existentes. Ahora puedes avanzar para aprender sobre métodos para unir consultas en un conjunto de datos."
      ],
      "metadata": {
        "id": "BjPPHn4YQURn"
      }
    },
    {
      "cell_type": "markdown",
      "source": [
        "# Subconsultas (Subqueries)\n",
        "Hasta ahora, has estado extrayendo datos de tablas. Puedes haber observado que los resultados de todas las consultas SELECT son relaciones bidimensionales que se parecen a las tablas en una base de datos relacional. Sabiendo esto, puedes preguntarte si hay alguna forma de usar las relaciones producidas por las consultas SELECT en lugar de referenciar una tabla existente en tu base de datos. La respuesta es \"sí\". Simplemente puedes tomar una consulta, insertarla entre un par de paréntesis y darle un alias. Esto te ayudará a construir un análisis sobre un análisis existente, reduciendo así los errores y mejorando la eficiencia.\n",
        "\n",
        "Por ejemplo, si quisieras encontrar a todos los vendedores que trabajan en California y obtener los resultados igual que en la Figura 3.7, podrías escribir la consulta usando la siguiente alternativa:"
      ],
      "metadata": {
        "id": "10YlRN1-Qajh"
      }
    },
    {
      "cell_type": "code",
      "source": [
        "sql_exec_query('''\n",
        "SELECT *\n",
        "FROM\n",
        "  salespeople\n",
        "INNER JOIN (\n",
        "  SELECT\n",
        "* FROM\n",
        "     dealerships\n",
        "  WHERE\n",
        "dealerships.state = 'CA' )d\n",
        "ON d.dealership_id = salespeople.dealership_id\n",
        "ORDER BY\n",
        "1;\n",
        "''')\n",
        "\n",
        "# Figure 3.14: Customers who bought a car"
      ],
      "metadata": {
        "id": "72HXf3MWQbMa"
      },
      "execution_count": null,
      "outputs": []
    },
    {
      "cell_type": "markdown",
      "source": [
        "Aquí, en lugar de unir las dos tablas y filtrar las filas donde el estado es igual a 'CA', primero encuentras los concesionarios donde el estado es igual a 'CA', y luego unes internamente las filas de esa consulta con los vendedores.\n",
        "\n",
        "Si una consulta solo tiene una columna, puedes usar una subconsulta con la palabra clave IN en una cláusula WHERE. Por ejemplo, otra forma de extraer los detalles de la tabla de vendedores usando el ID del concesionario para el estado de California sería como sigue:"
      ],
      "metadata": {
        "id": "iJZ-RPNYQm3w"
      }
    },
    {
      "cell_type": "code",
      "source": [
        "sql_exec_query('''\n",
        "SELECT *\n",
        "FROM\n",
        "  salespeople\n",
        "  WHERE dealership_id IN (\n",
        "  SELECT dealership_id FROM dealerships\n",
        "  WHERE dealerships.state = 'CA'\n",
        "  )\n",
        "ORDER BY 1;\n",
        "''')\n"
      ],
      "metadata": {
        "id": "hKvEyHmPQnJd"
      },
      "execution_count": null,
      "outputs": []
    },
    {
      "cell_type": "markdown",
      "source": [
        "Como se ilustra en todos estos ejemplos, es bastante fácil escribir la misma consulta utilizando múltiples técnicas. En la próxima sección, aprenderás sobre uniones."
      ],
      "metadata": {
        "id": "Km_GYbTyQyCi"
      }
    },
    {
      "cell_type": "markdown",
      "source": [
        "# Uniones (Unions)\n",
        "Hasta ahora, en este capítulo, has aprendido cómo unir datos horizontalmente. Puedes usar uniones para agregar nuevas columnas horizontalmente. Sin embargo, puedes estar interesado en juntar múltiples consultas verticalmente, es decir, manteniendo el mismo número de columnas pero agregando múltiples filas. Por favor, ve este ejemplo para más claridad sobre esto.\n",
        "\n",
        "Supongamos que quisieras visualizar las direcciones de los concesionarios y los clientes usando Google Maps. Para hacer esto, necesitarías las direcciones de tanto los clientes como los concesionarios. Podrías construir una consulta con todas las direcciones de los clientes de la siguiente manera:"
      ],
      "metadata": {
        "id": "kkURwDG7QyS-"
      }
    },
    {
      "cell_type": "code",
      "source": [
        "sql_exec_query('''\n",
        "SELECT\n",
        "  street_address, city, state, postal_code\n",
        "FROM\n",
        "  customers\n",
        "WHERE\n",
        "  street_address IS NOT NULL;\n",
        "''')"
      ],
      "metadata": {
        "id": "DGoynTZqQzGh"
      },
      "execution_count": null,
      "outputs": []
    },
    {
      "cell_type": "markdown",
      "source": [
        "\n",
        "También podrías recuperar las direcciones de los concesionarios con la siguiente consulta:"
      ],
      "metadata": {
        "id": "KlJauDF4Q1UP"
      }
    },
    {
      "cell_type": "code",
      "source": [
        "sql_exec_query('''\n",
        "SELECT\n",
        "  street_address, city, state, postal_code\n",
        "FROM\n",
        "  dealerships\n",
        "WHERE\n",
        "  street_address IS NOT NULL;\n",
        "''')"
      ],
      "metadata": {
        "id": "07RLSzTpQ1ag"
      },
      "execution_count": null,
      "outputs": []
    },
    {
      "cell_type": "markdown",
      "source": [
        "Para reducir la complejidad, sería ideal si hubiera una forma de ensamblar las dos consultas en una lista con una única consulta. Aquí es donde entra en juego la palabra clave UNION. Puedes usar las dos consultas anteriores y crear la siguiente consulta:"
      ],
      "metadata": {
        "id": "yMtoZQcjRaV1"
      }
    },
    {
      "cell_type": "code",
      "source": [
        "sql_exec_query('''\n",
        "( SELECT\n",
        "  street_address, city, state, postal_code\n",
        "FROM\n",
        "  customers\n",
        "WHERE\n",
        "  street_address IS NOT NULL\n",
        ")UNION ( SELECT\n",
        "  street_address, city, state, postal_code\n",
        "FROM\n",
        "  dealerships\n",
        "WHERE\n",
        "  street_address IS NOT NULL\n",
        ")\n",
        "ORDER BY 1;\n",
        "''')\n",
        "\n",
        "# Figure 3.15: Union of addresses"
      ],
      "metadata": {
        "id": "J2NBt1jMRh2Q"
      },
      "execution_count": null,
      "outputs": []
    },
    {
      "cell_type": "markdown",
      "source": [
        "Ten en cuenta que existen ciertas condiciones que debes tener en mente cuando usas UNION. En primer lugar, UNION requiere que las subconsultas tengan el mismo número de columnas y los mismos tipos de datos para las columnas. Si no es así, la consulta no se ejecutará. En segundo lugar, técnicamente UNION puede que no devuelva todas las filas de sus subconsultas. UNION, por defecto, elimina todas las filas duplicadas en el resultado. Si deseas conservar las filas duplicadas, es preferible usar la palabra clave UNION ALL. Por ejemplo, si ambas consultas anteriores devuelven una fila con valores de dirección tales como '123 Main St', 'Madison', 'WI', '53710', el resultado de la instrucción UNION solo contendrá un registro para este conjunto de valores, pero el resultado de la instrucción UNION ALL incluirá dos registros del mismo valor, uno de cada consulta.\n",
        "\n",
        "En el próximo ejercicio, implementarás operaciones de unión.\n",
        "\n"
      ],
      "metadata": {
        "id": "aBzw13xmR4e1"
      }
    },
    {
      "cell_type": "markdown",
      "source": [
        "## Ejercicio 3.02: Generando una Lista de Invitados de Clientes Élite Usando UNION\n",
        "En este ejercicio, ensamblarás dos consultas usando UNION. Para ayudar a construir conciencia de marketing para el nuevo Modelo Chi, el equipo de marketing quisiera organizar una fiesta para algunos de los clientes más ricos de ZoomZoom en Los Ángeles, CA. Para ayudar a facilitar la fiesta, les gustaría que hicieras una lista de invitados con clientes de ZoomZoom que viven en Los Ángeles, CA, así como vendedores que trabajan en el concesionario ZoomZoom en Los Ángeles, CA. La lista de invitados debería incluir detalles como los nombres y apellidos y si el invitado es un cliente o un empleado.\n"
      ],
      "metadata": {
        "id": "tLq-8JlsR6LL"
      }
    },
    {
      "cell_type": "markdown",
      "source": [
        "Para completar la tarea, ejecuta lo siguiente:\n",
        "\n",
        "1. Abre pgAdmin, conéctate a la base de datos sqlda y abre el editor de consultas SQL.\n",
        "\n",
        "  Escribe una consulta que haga una lista de los clientes de ZoomZoom y los empleados de la empresa que viven en Los Ángeles, CA. La lista de invitados debe contener nombres y apellidos y si el invitado es un cliente o un empleado:"
      ],
      "metadata": {
        "id": "akne65gSR9Y-"
      }
    },
    {
      "cell_type": "code",
      "source": [
        "sql_exec_query('''\n",
        "( SELECT\n",
        "  first_name, last_name, 'Customer' as guest_type\n",
        "FROM\n",
        "  customers\n",
        "WHERE\n",
        "  city='Los Angeles'\n",
        "  AND state='CA'\n",
        ")\n",
        "UNION (\n",
        "  SELECT\n",
        "  first_name, last_name,\n",
        "  'Employee' as guest_type\n",
        "FROM\n",
        "  salespeople s\n",
        "INNER JOIN\n",
        "  dealerships d ON d.dealership_id=s.dealership_id\n",
        "WHERE\n",
        "  d.city='Los Angeles'\n",
        "  AND d.state='CA'\n",
        ");\n",
        "''')\n",
        "\n",
        "# Figure 3.16: Customer and employee guest list in Los Angeles, CA"
      ],
      "metadata": {
        "id": "dqvO90f1SCQR"
      },
      "execution_count": null,
      "outputs": []
    },
    {
      "cell_type": "markdown",
      "source": [
        "Puedes ver la lista de invitados de clientes y empleados de Los Ángeles, CA, después de ejecutar la consulta UNION."
      ],
      "metadata": {
        "id": "D0CvkIoRSNgQ"
      }
    },
    {
      "cell_type": "markdown",
      "source": [
        "2. Para demostrar el uso de UNION ALL, primero ejecuta una consulta simple que combine la tabla de productos con todas las filas:"
      ],
      "metadata": {
        "id": "Xym5H24fSJ9o"
      }
    },
    {
      "cell_type": "code",
      "source": [
        "sql_exec_query('''\n",
        "SELECT * FROM products\n",
        "UNION\n",
        "SELECT * FROM products\n",
        "ORDER BY 1;\n",
        "''')"
      ],
      "metadata": {
        "id": "-tU-GhO6SSOb"
      },
      "execution_count": null,
      "outputs": []
    },
    {
      "cell_type": "markdown",
      "source": [
        "Puedes ver que la consulta devuelve 12 filas y no hay filas duplicadas, justo como la tabla de productos original. Sin embargo, supongamos que ejecutas la siguiente consulta:"
      ],
      "metadata": {
        "id": "se7eS6_tSX1p"
      }
    },
    {
      "cell_type": "code",
      "source": [
        "sql_exec_query('''\n",
        "SELECT * FROM products\n",
        "UNION ALL\n",
        "SELECT * FROM products\n",
        "ORDER BY 1;\n",
        "''')"
      ],
      "metadata": {
        "id": "ZBm-bCxHSYDc"
      },
      "execution_count": null,
      "outputs": []
    },
    {
      "cell_type": "markdown",
      "source": [
        "Verás que la consulta devuelve 24 filas, en las que cada fila se repite dos veces. Esto se debe a que la instrucción UNION ALL mantiene las filas duplicadas de ambas tablas de productos."
      ],
      "metadata": {
        "id": "5NbRg_dQShRd"
      }
    },
    {
      "cell_type": "markdown",
      "source": [
        "En el ejercicio, usaste la palabra clave UNION para combinar filas de diferentes consultas sin esfuerzo. En la próxima sección, explorarás expresiones de tabla común (CTEs)."
      ],
      "metadata": {
        "id": "WFi3XCx_Sq4N"
      }
    },
    {
      "cell_type": "markdown",
      "source": [
        "## Expresiones de tabla común (CTEs)\n",
        "Las CTEs son simplemente una versión diferente de las subconsultas. Las CTEs establecen tablas temporales utilizando la cláusula WITH. Para entender mejor esta cláusula, observa la siguiente consulta, que usaste anteriormente para encontrar a los vendedores basados en California:"
      ],
      "metadata": {
        "id": "feY5iz3UStEG"
      }
    },
    {
      "cell_type": "code",
      "source": [
        "sql_exec_query('''\n",
        "SELECT *\n",
        "FROM\n",
        "  salespeople\n",
        "INNER JOIN (\n",
        "  SELECT\n",
        "* FROM\n",
        "    dealerships\n",
        "  WHERE\n",
        "dealerships.state = 'CA' )d\n",
        "ON d.dealership_id = salespeople.dealership_id\n",
        "ORDER BY\n",
        "1;\n",
        "''')"
      ],
      "metadata": {
        "id": "w14g0RmlSxbn"
      },
      "execution_count": null,
      "outputs": []
    },
    {
      "cell_type": "markdown",
      "source": [
        "Esto podría escribirse usando CTEs, de la siguiente manera:"
      ],
      "metadata": {
        "id": "TYe4EepBS3PV"
      }
    },
    {
      "cell_type": "code",
      "source": [
        "sql_exec_query('''\n",
        "WITH d as (\n",
        "  SELECT\n",
        "* FROM\n",
        "    dealerships\n",
        "  WHERE\n",
        "    dealerships.state = 'CA'\n",
        "  )\n",
        "SELECT *\n",
        "FROM\n",
        "  salespeople\n",
        "INNER JOIN\n",
        "  d ON d.dealership_id = salespeople.dealership_id\n",
        "ORDER BY 1;\n",
        "1;\n",
        "''')"
      ],
      "metadata": {
        "id": "QOt5gWucS5lG"
      },
      "execution_count": null,
      "outputs": []
    },
    {
      "cell_type": "markdown",
      "source": [
        "Una ventaja de las CTEs es que pueden diseñarse para ser recursivas. Las CTEs recursivas pueden referenciarse a sí mismas. Debido a esta característica, puedes usarlas para resolver problemas que otras consultas no pueden. Sin embargo, las CTEs recursivas están más allá del alcance de este libro.\n",
        "Ahora que conoces varias formas de unir datos a lo largo de una base de datos, observa cómo transformar los datos de estos resultados."
      ],
      "metadata": {
        "id": "Vxva3TYrTEPE"
      }
    },
    {
      "cell_type": "markdown",
      "source": [
        "# Limpieza de Datos\n",
        "A menudo, los datos brutos presentados en el resultado de una consulta pueden no estar en la forma deseada. Es posible que desees eliminar valores, sustituir valores o mapear valores a otros valores. Para lograr estas tareas, SQL proporciona una amplia variedad de declaraciones y funciones. Las funciones son palabras clave que toman entradas (como una columna o un valor escalar) y procesan esas entradas para obtener algún tipo de salida. Aprenderás sobre algunas funciones útiles para la transformación y limpieza de datos en las siguientes secciones.\n",
        "## La Función CASE WHEN\n",
        "CASE WHEN es una función que permite que una consulta mapee varios valores en una columna a otros valores. El formato general de una declaración CASE WHEN es el siguiente:\n",
        "\n",
        "\n",
        "\n",
        "```sql\n",
        "CASE\n",
        "  WHEN condition1 THEN value1\n",
        "  WHEN condition2 THEN value2\n",
        "  ...\n",
        "  WHEN conditionX THEN valueX\n",
        "  ELSE else_value\n",
        "END;\n",
        "```\n",
        "\n"
      ],
      "metadata": {
        "id": "7PhWuwaPTLu4"
      }
    },
    {
      "cell_type": "markdown",
      "source": [
        "Aquí, condition1 y condition2, hasta conditionX, son condiciones booleanas; valor1 y valor2, hasta valorX, son valores que se asignarán conforme a las condiciones booleanas; y else_value es el valor que se asignará si ninguna de las condiciones booleanas se cumple. Para cada fila, el programa comienza desde la parte superior de la instrucción CASE WHEN y evalúa la primera condición booleana. Luego, el programa recorre cada condición booleana desde la primera. Para la primera condición desde el inicio de la instrucción que se evalúa como verdadera, la instrucción devolverá el valor asociado con esa condición. Si ninguna de las instrucciones se evalúa como verdadera, entonces se devolverá el valor asociado con la instrucción ELSE.\n",
        "\n",
        "Por ejemplo, quieres devolver todas las filas para los clientes de la tabla de clientes. Además, te gustaría añadir una columna que etiquete a un usuario como siendo de tipo \"Cliente Élite\" si vive en el código postal 33111, o como tipo \"Cliente Premium\" si vive en el código postal 33124. De lo contrario, marcará al cliente como tipo \"Cliente Estándar\". Esta columna se llamará customer_type. Puedes crear esta tabla utilizando una instrucción CASE WHEN, como sigue:"
      ],
      "metadata": {
        "id": "oDVg1JqUT7RJ"
      }
    },
    {
      "cell_type": "code",
      "source": [
        "sql_exec_query('''\n",
        "SELECT CASE\n",
        "    WHEN postal_code='33111' THEN 'Elite Customer'\n",
        "    WHEN postal_code='33124' THEN 'Premium Customer'\n",
        "      ELSE 'Standard Customer'\n",
        "  END AS customer_type,\n",
        "  *\n",
        "FROM customers LIMIT 12;\n",
        "''')\n",
        "# Figure 3.17: The customer_type query"
      ],
      "metadata": {
        "colab": {
          "base_uri": "https://localhost:8080/"
        },
        "id": "yu3ZFDfwTp8w",
        "outputId": "33886113-2050-4970-8285-5f72ae45ea28"
      },
      "execution_count": null,
      "outputs": [
        {
          "output_type": "stream",
          "name": "stdout",
          "text": [
            "customer_type        customer_id  title    first_name    last_name    suffix    email                    gender    ip_address       phone         street_address    city    state    postal_code    latitude    longitude    date_added\n",
            "-----------------  -------------  -------  ------------  -----------  --------  -----------------------  --------  ---------------  ------------  ----------------  ------  -------  -------------  ----------  -----------  -------------------\n",
            "Standard Customer            716           Jarred        Bester                 jbesterjv@nih.gov        M         216.51.110.28                                                                                             2018-09-19 00:00:00\n",
            "Standard Customer           1228           Ag            Smerdon                asmerdony3@house.gov     F         117.161.100.72                                                                                            2021-12-23 00:00:00\n",
            "Standard Customer           1876           Giuditta      Eim                    geim1g3@typepad.com      F         222.23.231.134   202-227-5491                                                                             2014-03-13 00:00:00\n",
            "Standard Customer           1991           Nichole       Rosle                  nrosle1ja@ning.com       M         37.231.217.159   614-146-7408                                                                             2015-04-24 00:00:00\n",
            "Standard Customer           2275           Chic          Bryning                cbryning1r6@pcworld.com  M         117.177.14.194   512-939-4727                                                                             2016-11-05 00:00:00\n",
            "Standard Customer           2360           Jessee        Lytell                 jlytell1tj@intel.com     M         175.24.207.52                                                                                             2017-11-07 00:00:00\n",
            "Standard Customer           2552           Tova          Simao                  tsimao1yv@yahoo.co.jp    F         148.224.240.142                                                                                           2019-06-05 00:00:00\n",
            "Standard Customer           3050           Huberto       Colerick               hcolerick2cp@360.cn      M         28.156.44.20     513-537-8523                                                                             2017-12-21 00:00:00\n",
            "Standard Customer           3236           Sherwynd      Lammert                slammert2hv@tmall.com    M         236.100.61.192                                                                                            2021-02-15 00:00:00\n",
            "Standard Customer           3615           Hayyim        Tuftin                 htuftin2se@nih.gov       M         229.140.153.89   281-129-7442                                                                             2018-01-26 00:00:00\n",
            "Standard Customer           4396           Morganica     Itzkin                 mitzkin3e3@google.pl     F         151.111.52.68    415-568-8196                                                                             2014-09-12 00:00:00\n",
            "Standard Customer           4610           Carroll       Pavy                   cpavy3k1@linkedin.com    F         64.9.157.221                                                                                              2014-11-12 00:00:00\n"
          ]
        }
      ]
    },
    {
      "cell_type": "markdown",
      "source": [
        "Como puedes ver en la tabla anterior, hay una columna llamada customer_type que indica el tipo de cliente que es un usuario. La instrucción CASE WHEN mapeó efectivamente un código postal a una cadena que describe el tipo de cliente. Utilizando una instrucción CASE WHEN, puedes mapear valores de cualquier manera que desees."
      ],
      "metadata": {
        "id": "j_A4Y-hhUiEL"
      }
    },
    {
      "cell_type": "markdown",
      "source": [
        "## Ejercicio 3.03: Uso de la función CASE WHEN para obtener listas regionales\n",
        "El objetivo de este ejercicio es crear una consulta que mapee varios valores en una columna a otros valores. Por ejemplo, el jefe de ventas tiene una idea para intentar crear equipos de ventas regionales especializados que puedan vender scooters a los clientes en regiones específicas, en lugar de equipos de ventas genéricos."
      ],
      "metadata": {
        "id": "5152pVHVU3TK"
      }
    },
    {
      "cell_type": "markdown",
      "source": [
        "Para hacer realidad su idea, el jefe de ventas desea una lista de todos los clientes clasificados por regiones. Para los clientes de los estados de MA, NH, VT, ME, CT o RI, desean que se les etiquete como Nueva Inglaterra. A los clientes de los estados de GA, FL, MS, AL, LA, KY, VA, NC, SC, TN, VI, WV o AR, les gustaría que se les etiquetase como Sureste. Los clientes de cualquier otro estado deben ser etiquetados como Otros.\n",
        "\n",
        "Para completar este ejercicio, realiza los siguientes pasos:\n",
        "\n",
        "1. Abre pgAdmin, conéctate a la base de datos sqlda y abre el editor de consultas SQL.\n",
        "2. Crea una consulta que produzca una columna de customer_id y una columna llamada región, con los estados categorizados como en el siguiente escenario:"
      ],
      "metadata": {
        "id": "rpRj-kRyU-I_"
      }
    },
    {
      "cell_type": "code",
      "source": [
        "sql_exec_query('''\n",
        "SELECT\n",
        "  c.customer_id,\n",
        "  CASE\n",
        "    WHEN c.state in (\n",
        "      'MA', 'NH', 'VT', 'ME',\n",
        "      'CT', 'RI')\n",
        "    THEN 'New England'\n",
        "    WHEN c.state in (\n",
        "      'GA', 'FL', 'MS',\n",
        "      'AL', 'LA', 'KY', 'VA',\n",
        "      'NC', 'SC', 'TN', 'VI',\n",
        "      'WV', 'AR')\n",
        "    THEN 'Southeast'\n",
        "ELSE 'Other'\n",
        "  END as region\n",
        "FROM\n",
        "  customers c\n",
        "ORDER BY 1 LIMIT 10;\n",
        "\n",
        "''')\n",
        "# Figure 3.18: The regional query output"
      ],
      "metadata": {
        "colab": {
          "base_uri": "https://localhost:8080/"
        },
        "id": "E7AnWqivVAPI",
        "outputId": "c2db388c-781a-422a-a9c2-30b8100605fe"
      },
      "execution_count": null,
      "outputs": [
        {
          "output_type": "stream",
          "name": "stdout",
          "text": [
            "  customer_id  region\n",
            "-------------  -----------\n",
            "            1  Other\n",
            "            2  Other\n",
            "            3  Southeast\n",
            "            4  Southeast\n",
            "            5  Southeast\n",
            "            6  Southeast\n",
            "            7  Southeast\n",
            "            8  New England\n",
            "            9  Other\n",
            "           10  Other\n"
          ]
        }
      ]
    },
    {
      "cell_type": "markdown",
      "source": [
        "Esta consulta asignará un estado a una de las regiones dependiendo de si el estado está en la condición CASE WHEN indicada para esa línea. Deberías obtener el siguiente resultado"
      ],
      "metadata": {
        "id": "jGyYuBf0VLuS"
      }
    },
    {
      "cell_type": "markdown",
      "source": [
        "En el resultado anterior, en el caso de cada cliente, se ha asignado una región basándose en el estado donde reside el cliente.\n",
        "\n",
        "En este ejercicio, aprendiste cómo asignar diversos valores en una columna a otros valores utilizando la función CASE WHEN. En la próxima sección, aprenderás sobre una función útil, COALESCE, que ayudará a reemplazar los valores NULL."
      ],
      "metadata": {
        "id": "m_IR19q_VSNt"
      }
    },
    {
      "cell_type": "markdown",
      "source": [
        "## La función COALESCE\n",
        "Otra necesidad habitual en la manipulación de bases de datos es sustituir los valores NULL por un valor predeterminado. Este objetivo puede alcanzarse de forma sencilla utilizando la función `COALESCE`. Dicha función permite enumerar una serie de columnas y valores escalares; si el primer elemento de la lista es NULL, se reemplaza automáticamente con el segundo valor disponible en la lista. Este proceso continúa iterativamente a lo largo de la lista hasta encontrar un valor que no sea NULL. En caso de que todos los valores de la lista sean NULL, el resultado que retorna la función será NULL.\n",
        "\n",
        "Para ilustrar un uso simple de la función COALESCE, estudia la tabla de clientes. Algunos de los registros no tienen el valor del campo del teléfono poblado:"
      ],
      "metadata": {
        "id": "-Mxi2IYdVbzb"
      }
    },
    {
      "cell_type": "markdown",
      "source": [
        "<figure>\n",
        "<center><img src='https://github.com/limspiga/data-modeling/blob/main/images/8a3515a9-c8cc-44c6-ba13-4f6d505209ad.png?raw=true' width=\"400\" />\n",
        "<figcaption>\n",
        "Figura 3.19: La consulta COALESCE</figcaption></center>\n",
        "</figure>\n"
      ],
      "metadata": {
        "id": "bUrc2IbeWHPY"
      }
    },
    {
      "cell_type": "code",
      "source": [
        "sql_exec_query('''\n",
        "SELECT\n",
        "  first_name, last_name,\n",
        "  COALESCE(phone, 'NO PHONE') as phone\n",
        "FROM\n",
        "customers\n",
        "ORDER BY 1 LIMIT 10;\n",
        "''')\n",
        "# Figura 3.20: La consulta COALESCE"
      ],
      "metadata": {
        "colab": {
          "base_uri": "https://localhost:8080/"
        },
        "id": "g0WM5gT-VqqO",
        "outputId": "d0148ff5-786c-4ed0-a18c-4e7b5729f0ca"
      },
      "execution_count": null,
      "outputs": [
        {
          "output_type": "stream",
          "name": "stdout",
          "text": [
            "first_name    last_name    phone\n",
            "------------  -----------  ------------\n",
            "Aaren         Norrey       NO PHONE\n",
            "Aaren         Sadat        504-559-3464\n",
            "Aaren         Whelpdale    607-761-2568\n",
            "Aaren         Lamlin       414-937-4628\n",
            "Aaren         Deeman       NO PHONE\n",
            "Aarika        Emmanuel     NO PHONE\n",
            "Aarika        Danaher      904-175-3112\n",
            "Aarika        Guerin       501-121-5841\n",
            "Aarika        Chadwell     915-856-7492\n",
            "Aarika        Mawhinney    205-355-4381\n"
          ]
        }
      ]
    },
    {
      "cell_type": "markdown",
      "source": [
        "Cuando se trata de crear valores predeterminados y evitar NULL, COALESCE siempre será útil."
      ],
      "metadata": {
        "id": "fW-fD-A1XEfO"
      }
    },
    {
      "cell_type": "markdown",
      "source": [
        "# La función NULLIF\n",
        "\n",
        "NULLIF se usa como lo opuesto a COALESCE. Mientras que COALESCE se utiliza para convertir NULL en un valor estándar, NULLIF es una función de dos valores y devolverá NULL si el primer valor es igual al segundo valor.\n",
        "Por ejemplo, el departamento de marketing ha creado un nuevo material de correo directo para enviar al cliente. Una de las peculiaridades de este nuevo material publicitario es que no puede aceptar personas que tengan títulos (Sr., Dr., Sra., etc.) de más de tres letras. Sin embargo, algunos registros pueden tener un título que es más largo que tres letras. Si el sistema no puede aceptarlos, deben eliminarse durante la recuperación de resultados.\n",
        "En la base de datos de muestra, el único título conocido que tiene más de tres caracteres es Honorable. Por lo tanto, les gustaría que crees una lista de correo que contenga solo todas las filas con direcciones válidas y que excluya todos los títulos que estén escritos como Honorable sustituyéndolos por NULL. Esto podría hacerse con la siguiente consulta:"
      ],
      "metadata": {
        "id": "E0aeygwWXXQE"
      }
    },
    {
      "cell_type": "code",
      "source": [
        "sql_exec_query('''\n",
        "SELECT customer_id,\n",
        "        NULLIF(title, 'Honorable') as title,\n",
        "        first_name,\n",
        "        last_name,\n",
        "        suffix,\n",
        "        email,\n",
        "        gender,\n",
        "        ip_address,\n",
        "        phone,\n",
        "        street_address,\n",
        "        city,\n",
        "        state,\n",
        "        postal_code,\n",
        "        latitude,\n",
        "        longitude,\n",
        "        date_added\n",
        "FROM\n",
        "  customers c\n",
        "ORDER BY 1;\n",
        "''')\n",
        "# Figure 3.21: The NULLIF query"
      ],
      "metadata": {
        "id": "MIKxO1tVXiex"
      },
      "execution_count": null,
      "outputs": []
    },
    {
      "cell_type": "markdown",
      "source": [
        "A continuación, aprenderás sobre otros tipos de funciones, como las funciones LEAST y GREATEST."
      ],
      "metadata": {
        "id": "LB7vXQP7XisT"
      }
    },
    {
      "cell_type": "markdown",
      "source": [
        "# Las Funciones MENOR/MAYOR ( LEAST/GREATEST)\n",
        "Dos funciones que resultan útiles para la preparación de datos son las funciones MENOR y MAYOR. Cada función acepta cualquier cantidad de valores y devuelve el menor o el mayor de los valores, respectivamente.\n",
        "\n",
        "Por ejemplo, si utilizas la función MENOR con dos parámetros, como 600 y 900, se devolverá 600 como el valor. Esto es lo contrario de lo que devolverá la función MAYOR. Los parámetros pueden ser valores literales o los valores almacenados en campos numéricos.\n",
        "\n",
        "El uso sencillo de esta variable sería reemplazar el valor si es demasiado alto o bajo. Puedes estudiar un ejemplo detenidamente para entenderlo mejor. Por ejemplo, el equipo de ventas puede querer crear una lista de ventas en la que cada scooter cueste $600 o menos. Puedes crear esto utilizando la siguiente consulta:"
      ],
      "metadata": {
        "id": "FYOMH5vZX2r1"
      }
    },
    {
      "cell_type": "code",
      "source": [
        "sql_exec_query('''\n",
        "SELECT\n",
        "  product_id, model,\n",
        "  year, product_type,\n",
        "  LEAST(600.00, base_msrp) as base_msrp,\n",
        "  production_start_date,\n",
        "  production_end_date\n",
        "FROM\n",
        "  products\n",
        "WHERE\n",
        "  product_type='scooter'\n",
        "ORDER BY 1;\n",
        "''')\n",
        "# Figura 3.22: Scooters más económicos"
      ],
      "metadata": {
        "id": "ajVbcPVFX_fQ"
      },
      "execution_count": null,
      "outputs": []
    },
    {
      "cell_type": "markdown",
      "source": [
        "Desde la salida, puedes ver que si base_msrp fuera menor que 600, la consulta SQL devolverá el valor original de base_msrp. Pero si base_msrp es mayor que 600, obtendrás 600 como resultado. Es el valor más bajo entre base_msrp y 600 el que devuelve la consulta, que es lo que se supone que debe hacer la función LEAST().\n"
      ],
      "metadata": {
        "id": "9r8szD43YFrN"
      }
    },
    {
      "cell_type": "markdown",
      "source": [
        "## La Función de Conversión (Casting)\n",
        "Otra transformación de datos útil es cambiar el tipo de datos de una columna dentro de una consulta. Esto se hace generalmente para utilizar una función disponible solo para un tipo de datos, como texto, mientras se trabaja con una columna que está en un tipo de datos diferente, como numérico. Para cambiar el tipo de datos de una columna, simplemente necesitas usar el formato columna::tipo_de_datos, donde columna es el nombre de la columna y tipo_de_datos es el tipo de datos al que deseas cambiar la columna.\n",
        "Por ejemplo, para cambiar el año en la tabla de productos a una columna de texto en una consulta, utiliza la siguiente consulta:"
      ],
      "metadata": {
        "id": "Oh0Oha2hYMyB"
      }
    },
    {
      "cell_type": "code",
      "source": [
        "sql_exec_query('''\n",
        "SELECT\n",
        "  product_id,\n",
        "  model,\n",
        "  year::TEXT,\n",
        "  product_type,\n",
        "  base_msrp,\n",
        "  production_start_date,\n",
        "  production_end_date\n",
        "FROM\n",
        "  products;\n",
        "''')\n",
        "# Figura 3.23: La columna de año como texto"
      ],
      "metadata": {
        "id": "2_DXZjtZYRJ0"
      },
      "execution_count": null,
      "outputs": []
    },
    {
      "cell_type": "markdown",
      "source": [
        "Esto convertirá la columna de año a texto. Ahora puedes aplicar funciones de texto a esta columna transformada. Ten en cuenta que no todos los tipos de datos se pueden convertir a un tipo de datos específico. Por ejemplo, la fecha y hora (datetime) no se puede convertir a tipos de datos de punto flotante (float). Tu cliente de SQL mostrará un error si alguna vez realizas una conversión inesperada."
      ],
      "metadata": {
        "id": "c1eT634HYeXY"
      }
    },
    {
      "cell_type": "markdown",
      "source": [
        "# Transformación de Datos\n",
        "Cada conjunto de datos es único, al igual que cada uno de los casos de uso empresarial para los conjuntos de datos. Esto significa que el procesamiento y la transformación de los conjuntos de datos son únicos a su manera. Sin embargo, existen algunas lógicas de procesamiento con las que te encontrarás con frecuencia en el mundo real. Aprenderás algunas de ellas en las secciones de esta sección.\n",
        "\n",
        "## Las Funciones DISTINCT y DISTINCT ON\n",
        "Cuando examinas un conjunto de datos, es posible que desees determinar los valores únicos en una columna o grupo de columnas. Este es el caso de uso principal de la palabra clave DISTINCT.\n",
        "\n",
        "Por ejemplo, si quisieras conocer todos los años de modelo únicos en la tabla de productos, podrías usar la siguiente consulta:"
      ],
      "metadata": {
        "id": "QYgDhr2CYrbR"
      }
    },
    {
      "cell_type": "code",
      "source": [
        "sql_exec_query('''\n",
        "SELECT DISTINCT year\n",
        "FROM products\n",
        "ORDER BY 1;\n",
        "''')\n",
        "# Figure 3.24: Distinct model years"
      ],
      "metadata": {
        "id": "W3RGgse4Y2eN"
      },
      "execution_count": null,
      "outputs": []
    },
    {
      "cell_type": "markdown",
      "source": [
        "También puedes usarlo con múltiples columnas para obtener todas las combinaciones distintas de columnas presentes. Por ejemplo, para encontrar todos los años de modelo distintos y los tipos de productos que se lanzaron para esos años de modelo, simplemente puedes usar lo siguiente:"
      ],
      "metadata": {
        "id": "Yv09lX-NZAr0"
      }
    },
    {
      "cell_type": "code",
      "source": [
        "sql_exec_query('''\n",
        "SELECT DISTINCT year, product_type\n",
        "FROM products\n",
        "ORDER BY 1, 2;\n",
        "''')\n",
        "# Figure 3.25: Distinct model years and product types"
      ],
      "metadata": {
        "colab": {
          "base_uri": "https://localhost:8080/"
        },
        "id": "i3Dw32PcZEKy",
        "outputId": "255708ef-87ca-41ce-f33b-06e6678760b2"
      },
      "execution_count": null,
      "outputs": [
        {
          "output_type": "stream",
          "name": "stdout",
          "text": [
            "  year  product_type\n",
            "------  --------------\n",
            "  2013  scooter\n",
            "  2014  scooter\n",
            "  2016  scooter\n",
            "  2017  automobile\n",
            "  2017  scooter\n",
            "  2018  automobile\n",
            "  2019  scooter\n",
            "  2020  automobile\n",
            "  2020  scooter\n",
            "  2022  automobile\n",
            "  2022  scooter\n"
          ]
        }
      ]
    },
    {
      "cell_type": "markdown",
      "source": [
        "Otra palabra clave relacionada con DISTINCT es DISTINCT ON. Ahora, DISTINCT ON te permite asegurarte de que solo se devuelva una fila y que una o más columnas siempre sean únicas en el conjunto. La sintaxis general de una consulta DISTINCT ON es la siguiente:\n",
        "\n",
        "```sql\n",
        "SELECT DISTINCT ON (distinct_column)\n",
        "column_1,\n",
        "column_2,\n",
        "...\n",
        "column_n\n",
        "FROM table\n",
        "ORDER BY order_column;\n",
        "```\n",
        "\n"
      ],
      "metadata": {
        "id": "mw2QhvopZOdk"
      }
    },
    {
      "cell_type": "markdown",
      "source": [
        "Aquí, distinct_column es la(s) columna(s) que deseas que sean distintas en tu consulta, column_1 hasta column_n son las columnas que deseas en la consulta, y order_column te permite determinar la primera fila que se devolverá en una consulta DISTINCT ON si varias columnas tienen el mismo valor para distinct_column.\n",
        "\n",
        "Para order_column, la primera columna mencionada debe ser distinct_column. Si no se especifica una cláusula ORDER BY, la primera fila se decidirá de manera aleatoria.\n",
        "\n",
        "Por ejemplo, deseas obtener una lista única de vendedores donde cada vendedor tenga un primer nombre único. En el caso de que dos vendedores tengan el mismo primer nombre, se devolverá el que se unió a la empresa antes. Esta consulta se vería de la siguiente manera:"
      ],
      "metadata": {
        "id": "TyO82_vvZYwl"
      }
    },
    {
      "cell_type": "code",
      "source": [
        "sql_exec_query('''\n",
        "SELECT DISTINCT ON (first_name)\n",
        "  *\n",
        "FROM\n",
        "  salespeople\n",
        "ORDER BY\n",
        "  first_name, hire_date;\n",
        "''')\n",
        "# Figure 3.26: DISTINCT ON first_name"
      ],
      "metadata": {
        "colab": {
          "base_uri": "https://localhost:8080/"
        },
        "id": "3OORfN6bZY5t",
        "outputId": "7d8c0fb5-ce64-4743-92c9-cd6efb5a157e"
      },
      "execution_count": null,
      "outputs": [
        {
          "output_type": "stream",
          "name": "stdout",
          "text": [
            "near \"ON\": syntax error\n"
          ]
        }
      ]
    },
    {
      "cell_type": "markdown",
      "source": [
        "Esta tabla garantiza ahora que cada fila tenga un nombre de usuario único. Si hay múltiples usuarios con el mismo primer nombre, la consulta seleccionará al usuario que fue contratado primero por la empresa.\n",
        "\n",
        "Por ejemplo, si la tabla de vendedores tiene múltiples filas con el nombre Abby, la fila en la Figura 3.26 con el nombre Abby (es decir, la primera fila en los resultados) corresponde a la primera persona contratada en la empresa con el nombre Abby. Del mismo modo, cuando tienes dos empleados con el mismo primer nombre, los resultados de la consulta los ordenarán por la fecha de inicio. Por ejemplo, cuando existen dos empleados, Andrey Haack con la fecha de inicio 2016-01-10 y Andrey Kures con la fecha de inicio 2016-05-17, en la base de datos, Andrey Haack se enumerará primero, ya que su fecha de inicio es anterior.\n",
        "\n",
        "En la próxima sección, pasarás por una actividad que demuestra cómo SQL se puede utilizar para crear un conjunto de datos para un modelo."
      ],
      "metadata": {
        "id": "Nvppg58oZv1T"
      }
    },
    {
      "cell_type": "markdown",
      "source": [
        "# Actividad 3.01: Construcción de un Modelo de Ventas Utilizando Técnicas de SQL\n",
        "\n",
        "En esta actividad, limpiarás y prepararás los datos para su análisis utilizando técnicas de SQL. El equipo de ciencia de datos desea construir un nuevo modelo para ayudar a predecir qué clientes son los mejores prospectos para la remarcación. Un nuevo científico de datos se ha unido a su equipo.\n",
        "\n",
        "Es tu responsabilidad ayudar al nuevo científico de datos a preparar y construir un conjunto de datos que se utilizará para entrenar un modelo. Escribe una consulta para ensamblar un conjunto de datos. Aquí están los pasos a seguir:\n",
        "\n",
        "1. Utiliza INNER JOIN para unir la tabla de clientes con la tabla de ventas.\n"
      ],
      "metadata": {
        "id": "hsro1XTIZ9hV"
      }
    },
    {
      "cell_type": "code",
      "source": [
        "sql_exec_query('''\n",
        "SELECT *\n",
        "FROM sales s\n",
        "JOIN customers c\n",
        "ON s.customer_id = c.customer_id LIMIT 12\n",
        "''')"
      ],
      "metadata": {
        "id": "u3wrILHcecdm",
        "outputId": "e9e74970-8cf2-4c1e-ca5f-7b78751899a3",
        "colab": {
          "base_uri": "https://localhost:8080/"
        }
      },
      "execution_count": 18,
      "outputs": [
        {
          "output_type": "stream",
          "name": "stdout",
          "text": [
            "  customer_id    product_id  sales_transaction_date      sales_amount  channel    dealership_id      customer_id  title    first_name    last_name    suffix    email                           gender    ip_address       phone         street_address             city          state      postal_code    latitude    longitude  date_added\n",
            "-------------  ------------  ------------------------  --------------  ---------  ---------------  -------------  -------  ------------  -----------  --------  ------------------------------  --------  ---------------  ------------  -------------------------  ------------  -------  -------------  ----------  -----------  -------------------\n",
            "        27275             7  2021-03-16 08:40:24              539.991  internet   \\N                       27275           Vonni         Bickerstaff            vbickerstaffl1m@scribd.com      F         243.25.198.130   713-436-3552  0868 South Plaza           Houston       TX               77218     29.834      -95.4342  2020-05-12 00:00:00\n",
            "         2017             7  2019-12-27 07:36:20              599.99   internet   \\N                        2017           Noll          Mewton                 nmewton1k0@nhs.uk               M         86.106.66.4      816-147-3517  01 Redwing Terrace         Independence  MO               64054     39.11       -94.4401  2019-12-31 00:00:00\n",
            "         7213             7  2021-12-04 18:43:30              479.992  internet   \\N                        7213           Selby         Heathcott              sheathcott5kc@skyrock.com       M         110.1.222.145                  60583 Ridgeview Point      Greensboro    NC               27499     36.0807     -80.0244  2021-08-28 00:00:00\n",
            "        13194             7  2019-10-26 12:16:05              539.991  internet   \\N                       13194           Janella       Hinemoor               jhinemoora6h@naver.com          F         158.145.66.14    602-375-7717  009 Bowman Court           Phoenix       AZ               85083     33.7352    -112.129   2019-09-01 00:00:00\n",
            "        34454             7  2020-01-03 04:11:06              479.992  internet   \\N                       34454           Tierney       Cottell                tcottellql1@npr.org             F         214.152.204.246  850-648-5262  3 Myrtle Way               Pensacola     FL               32590     30.6143     -87.2758  2019-12-08 00:00:00\n",
            "        10515             8  2020-07-20 08:39:07              629.991  internet   \\N                       10515           Isadora       Stainson               istainson842@elegantthemes.com  F         205.183.234.9    419-571-9391  5533 Rieder Trail          Toledo        OH               43615     41.6492     -83.6706  2020-05-01 00:00:00\n",
            "        29765             8  2020-12-28 16:30:14              699.99   internet   \\N                       29765           Turner        Lattin                 tlattinmys@nature.com           M         25.43.194.18                   472 Westend Drive          Hartford      CT               06183     41.7638     -72.673   2016-02-14 00:00:00\n",
            "        46003             4  2019-10-07 00:34:27           103500      internet   \\N                       46003           Anabelle      Southby                asouthbyzhu@usa.gov             F         104.23.103.239   410-100-8687  78 Holmberg Plaza          Baltimore     MD               21290     39.2933     -76.6238  2019-10-11 00:00:00\n",
            "         6953            12  2021-11-19 12:49:46              349.99   internet   \\N                        6953           Matilda       Floodgate              mfloodgate5d4@archive.org       F         193.206.208.174                2491 Esch Street           Las Vegas     NV               89160     35.9279    -114.972   2017-10-10 00:00:00\n",
            "        11714             3  2016-08-14 22:08:14              499.99   internet   \\N                       11714           Gertruda      Proudman               gproudman91d@list-manage.com    F         124.114.209.186                                                                                                          2016-08-07 00:00:00\n",
            "        16695             3  2016-11-07 13:14:35              399.992  internet   \\N                       16695           Martynne      Rosentholer            mrosentholercvq@boston.com      F         46.241.149.62    605-191-7587  7542 Northwestern Terrace  Sioux Falls   SD               57105     43.524      -96.7341  2016-10-27 00:00:00\n",
            "        26821             3  2016-05-17 19:23:35              449.991  internet   \\N                       26821           Sonja         Remer                  sremerkp0@blog.com              F         129.115.110.81   760-853-0562                                                                                            2016-04-07 00:00:00\n"
          ]
        }
      ]
    },
    {
      "cell_type": "markdown",
      "source": [
        "2. Utiliza INNER JOIN para unir la tabla de productos con la tabla de ventas.\n"
      ],
      "metadata": {
        "id": "Qcn0c2Cmecmt"
      }
    },
    {
      "cell_type": "code",
      "source": [
        "sql_exec_query('''\n",
        "SELECT *\n",
        "FROM sales s\n",
        "JOIN customers c\n",
        "ON s.customer_id = c.customer_id\n",
        "JOIN products p\n",
        "  ON s.product_id = p.product_id LIMIT 12\n",
        "''')"
      ],
      "metadata": {
        "id": "JcYDDXXOectg",
        "outputId": "c158420e-182e-4f08-a8e5-7af2ff912f22",
        "colab": {
          "base_uri": "https://localhost:8080/"
        }
      },
      "execution_count": 19,
      "outputs": [
        {
          "output_type": "stream",
          "name": "stdout",
          "text": [
            "  customer_id    product_id  sales_transaction_date      sales_amount  channel    dealership_id      customer_id  title    first_name    last_name    suffix    email                           gender    ip_address       phone         street_address             city          state      postal_code    latitude    longitude  date_added             product_id  model                  year  product_type      base_msrp  production_start_date    production_end_date\n",
            "-------------  ------------  ------------------------  --------------  ---------  ---------------  -------------  -------  ------------  -----------  --------  ------------------------------  --------  ---------------  ------------  -------------------------  ------------  -------  -------------  ----------  -----------  -------------------  ------------  -------------------  ------  --------------  -----------  -----------------------  ---------------------\n",
            "        27275             7  2021-03-16 08:40:24              539.991  internet   \\N                       27275           Vonni         Bickerstaff            vbickerstaffl1m@scribd.com      F         243.25.198.130   713-436-3552  0868 South Plaza           Houston       TX               77218     29.834      -95.4342  2020-05-12 00:00:00             7  Bat                    2019  scooter              599.99  2019-06-07 00:00:00      \\N\n",
            "         2017             7  2019-12-27 07:36:20              599.99   internet   \\N                        2017           Noll          Mewton                 nmewton1k0@nhs.uk               M         86.106.66.4      816-147-3517  01 Redwing Terrace         Independence  MO               64054     39.11       -94.4401  2019-12-31 00:00:00             7  Bat                    2019  scooter              599.99  2019-06-07 00:00:00      \\N\n",
            "         7213             7  2021-12-04 18:43:30              479.992  internet   \\N                        7213           Selby         Heathcott              sheathcott5kc@skyrock.com       M         110.1.222.145                  60583 Ridgeview Point      Greensboro    NC               27499     36.0807     -80.0244  2021-08-28 00:00:00             7  Bat                    2019  scooter              599.99  2019-06-07 00:00:00      \\N\n",
            "        13194             7  2019-10-26 12:16:05              539.991  internet   \\N                       13194           Janella       Hinemoor               jhinemoora6h@naver.com          F         158.145.66.14    602-375-7717  009 Bowman Court           Phoenix       AZ               85083     33.7352    -112.129   2019-09-01 00:00:00             7  Bat                    2019  scooter              599.99  2019-06-07 00:00:00      \\N\n",
            "        34454             7  2020-01-03 04:11:06              479.992  internet   \\N                       34454           Tierney       Cottell                tcottellql1@npr.org             F         214.152.204.246  850-648-5262  3 Myrtle Way               Pensacola     FL               32590     30.6143     -87.2758  2019-12-08 00:00:00             7  Bat                    2019  scooter              599.99  2019-06-07 00:00:00      \\N\n",
            "        10515             8  2020-07-20 08:39:07              629.991  internet   \\N                       10515           Isadora       Stainson               istainson842@elegantthemes.com  F         205.183.234.9    419-571-9391  5533 Rieder Trail          Toledo        OH               43615     41.6492     -83.6706  2020-05-01 00:00:00             8  Bat Limited Edition    2020  scooter              699.99  2019-10-13 00:00:00      \\N\n",
            "        29765             8  2020-12-28 16:30:14              699.99   internet   \\N                       29765           Turner        Lattin                 tlattinmys@nature.com           M         25.43.194.18                   472 Westend Drive          Hartford      CT               06183     41.7638     -72.673   2016-02-14 00:00:00             8  Bat Limited Edition    2020  scooter              699.99  2019-10-13 00:00:00      \\N\n",
            "        46003             4  2019-10-07 00:34:27           103500      internet   \\N                       46003           Anabelle      Southby                asouthbyzhu@usa.gov             F         104.23.103.239   410-100-8687  78 Holmberg Plaza          Baltimore     MD               21290     39.2933     -76.6238  2019-10-11 00:00:00             4  Model Chi              2017  automobile        115000     2017-02-17 00:00:00      2021-08-24 00:00:00\n",
            "         6953            12  2021-11-19 12:49:46              349.99   internet   \\N                        6953           Matilda       Floodgate              mfloodgate5d4@archive.org       F         193.206.208.174                2491 Esch Street           Las Vegas     NV               89160     35.9279    -114.972   2017-10-10 00:00:00            12  Lemon Zester           2022  scooter              349.99  2021-10-01 00:00:00      \\N\n",
            "        11714             3  2016-08-14 22:08:14              499.99   internet   \\N                       11714           Gertruda      Proudman               gproudman91d@list-manage.com    F         124.114.209.186                                                                                                          2016-08-07 00:00:00             3  Lemon                  2016  scooter              499.99  2015-12-27 00:00:00      2021-08-24 00:00:00\n",
            "        16695             3  2016-11-07 13:14:35              399.992  internet   \\N                       16695           Martynne      Rosentholer            mrosentholercvq@boston.com      F         46.241.149.62    605-191-7587  7542 Northwestern Terrace  Sioux Falls   SD               57105     43.524      -96.7341  2016-10-27 00:00:00             3  Lemon                  2016  scooter              499.99  2015-12-27 00:00:00      2021-08-24 00:00:00\n",
            "        26821             3  2016-05-17 19:23:35              449.991  internet   \\N                       26821           Sonja         Remer                  sremerkp0@blog.com              F         129.115.110.81   760-853-0562                                                                                            2016-04-07 00:00:00             3  Lemon                  2016  scooter              499.99  2015-12-27 00:00:00      2021-08-24 00:00:00\n"
          ]
        }
      ]
    },
    {
      "cell_type": "markdown",
      "source": [
        "3. Utiliza LEFT JOIN para unir la tabla de concesionarios (tabla derecha) con la tabla de ventas (tabla izquierda).\n"
      ],
      "metadata": {
        "id": "sKarbOeaec1j"
      }
    },
    {
      "cell_type": "code",
      "source": [
        "sql_exec_query('''\n",
        "SELECT *\n",
        "FROM sales s\n",
        "LEFT JOIN dealerships d\n",
        "  ON d.dealership_id = s.dealership_id\n",
        "JOIN customers c\n",
        "  ON s.customer_id = c.customer_id\n",
        "JOIN products p\n",
        "  ON s.product_id = p.product_id LIMIT 12\n",
        "''')"
      ],
      "metadata": {
        "id": "Q6i18EPxec7R",
        "outputId": "c8d0a07b-3a44-4040-972d-ed715216228d",
        "colab": {
          "base_uri": "https://localhost:8080/"
        }
      },
      "execution_count": 20,
      "outputs": [
        {
          "output_type": "stream",
          "name": "stdout",
          "text": [
            "  customer_id    product_id  sales_transaction_date      sales_amount  channel    dealership_id    dealership_id    street_address    city    state    postal_code    latitude    longitude    date_opened    date_closed      customer_id  title    first_name    last_name    suffix    email                           gender    ip_address       phone         street_address             city          state      postal_code    latitude    longitude  date_added             product_id  model                  year  product_type      base_msrp  production_start_date    production_end_date\n",
            "-------------  ------------  ------------------------  --------------  ---------  ---------------  ---------------  ----------------  ------  -------  -------------  ----------  -----------  -------------  -------------  -------------  -------  ------------  -----------  --------  ------------------------------  --------  ---------------  ------------  -------------------------  ------------  -------  -------------  ----------  -----------  -------------------  ------------  -------------------  ------  --------------  -----------  -----------------------  ---------------------\n",
            "        27275             7  2021-03-16 08:40:24              539.991  internet   \\N                                                                                                                                                 27275           Vonni         Bickerstaff            vbickerstaffl1m@scribd.com      F         243.25.198.130   713-436-3552  0868 South Plaza           Houston       TX               77218     29.834      -95.4342  2020-05-12 00:00:00             7  Bat                    2019  scooter              599.99  2019-06-07 00:00:00      \\N\n",
            "         2017             7  2019-12-27 07:36:20              599.99   internet   \\N                                                                                                                                                  2017           Noll          Mewton                 nmewton1k0@nhs.uk               M         86.106.66.4      816-147-3517  01 Redwing Terrace         Independence  MO               64054     39.11       -94.4401  2019-12-31 00:00:00             7  Bat                    2019  scooter              599.99  2019-06-07 00:00:00      \\N\n",
            "         7213             7  2021-12-04 18:43:30              479.992  internet   \\N                                                                                                                                                  7213           Selby         Heathcott              sheathcott5kc@skyrock.com       M         110.1.222.145                  60583 Ridgeview Point      Greensboro    NC               27499     36.0807     -80.0244  2021-08-28 00:00:00             7  Bat                    2019  scooter              599.99  2019-06-07 00:00:00      \\N\n",
            "        13194             7  2019-10-26 12:16:05              539.991  internet   \\N                                                                                                                                                 13194           Janella       Hinemoor               jhinemoora6h@naver.com          F         158.145.66.14    602-375-7717  009 Bowman Court           Phoenix       AZ               85083     33.7352    -112.129   2019-09-01 00:00:00             7  Bat                    2019  scooter              599.99  2019-06-07 00:00:00      \\N\n",
            "        34454             7  2020-01-03 04:11:06              479.992  internet   \\N                                                                                                                                                 34454           Tierney       Cottell                tcottellql1@npr.org             F         214.152.204.246  850-648-5262  3 Myrtle Way               Pensacola     FL               32590     30.6143     -87.2758  2019-12-08 00:00:00             7  Bat                    2019  scooter              599.99  2019-06-07 00:00:00      \\N\n",
            "        10515             8  2020-07-20 08:39:07              629.991  internet   \\N                                                                                                                                                 10515           Isadora       Stainson               istainson842@elegantthemes.com  F         205.183.234.9    419-571-9391  5533 Rieder Trail          Toledo        OH               43615     41.6492     -83.6706  2020-05-01 00:00:00             8  Bat Limited Edition    2020  scooter              699.99  2019-10-13 00:00:00      \\N\n",
            "        29765             8  2020-12-28 16:30:14              699.99   internet   \\N                                                                                                                                                 29765           Turner        Lattin                 tlattinmys@nature.com           M         25.43.194.18                   472 Westend Drive          Hartford      CT               06183     41.7638     -72.673   2016-02-14 00:00:00             8  Bat Limited Edition    2020  scooter              699.99  2019-10-13 00:00:00      \\N\n",
            "        46003             4  2019-10-07 00:34:27           103500      internet   \\N                                                                                                                                                 46003           Anabelle      Southby                asouthbyzhu@usa.gov             F         104.23.103.239   410-100-8687  78 Holmberg Plaza          Baltimore     MD               21290     39.2933     -76.6238  2019-10-11 00:00:00             4  Model Chi              2017  automobile        115000     2017-02-17 00:00:00      2021-08-24 00:00:00\n",
            "         6953            12  2021-11-19 12:49:46              349.99   internet   \\N                                                                                                                                                  6953           Matilda       Floodgate              mfloodgate5d4@archive.org       F         193.206.208.174                2491 Esch Street           Las Vegas     NV               89160     35.9279    -114.972   2017-10-10 00:00:00            12  Lemon Zester           2022  scooter              349.99  2021-10-01 00:00:00      \\N\n",
            "        11714             3  2016-08-14 22:08:14              499.99   internet   \\N                                                                                                                                                 11714           Gertruda      Proudman               gproudman91d@list-manage.com    F         124.114.209.186                                                                                                          2016-08-07 00:00:00             3  Lemon                  2016  scooter              499.99  2015-12-27 00:00:00      2021-08-24 00:00:00\n",
            "        16695             3  2016-11-07 13:14:35              399.992  internet   \\N                                                                                                                                                 16695           Martynne      Rosentholer            mrosentholercvq@boston.com      F         46.241.149.62    605-191-7587  7542 Northwestern Terrace  Sioux Falls   SD               57105     43.524      -96.7341  2016-10-27 00:00:00             3  Lemon                  2016  scooter              499.99  2015-12-27 00:00:00      2021-08-24 00:00:00\n",
            "        26821             3  2016-05-17 19:23:35              449.991  internet   \\N                                                                                                                                                 26821           Sonja         Remer                  sremerkp0@blog.com              F         129.115.110.81   760-853-0562                                                                                            2016-04-07 00:00:00             3  Lemon                  2016  scooter              499.99  2015-12-27 00:00:00      2021-08-24 00:00:00\n"
          ]
        }
      ]
    },
    {
      "cell_type": "markdown",
      "source": [
        "4. Devuelve todas las columnas de la tabla de clientes y la tabla de productos.\n",
        "\n"
      ],
      "metadata": {
        "id": "FcLSclEoedDW"
      }
    },
    {
      "cell_type": "code",
      "source": [
        "sql_exec_query('''\n",
        "SELECT\n",
        "  c.*, p.*\n",
        "FROM sales s\n",
        "LEFT JOIN dealerships d\n",
        "  ON d.dealership_id = s.dealership_id\n",
        "JOIN customers c\n",
        "  ON s.customer_id = c.customer_id\n",
        "JOIN products p\n",
        "  ON s.product_id = p.product_id\n",
        "   LIMIT 12;\n",
        "''')"
      ],
      "metadata": {
        "id": "HHdDTd5pedKp",
        "outputId": "276dc9c4-3b51-4ede-f5f6-6a9068ecac84",
        "colab": {
          "base_uri": "https://localhost:8080/"
        }
      },
      "execution_count": 24,
      "outputs": [
        {
          "output_type": "stream",
          "name": "stdout",
          "text": [
            "  customer_id  title    first_name    last_name    suffix    email                           gender    ip_address       phone         street_address             city          state      postal_code    latitude    longitude  date_added             product_id  model                  year  product_type      base_msrp  production_start_date    production_end_date\n",
            "-------------  -------  ------------  -----------  --------  ------------------------------  --------  ---------------  ------------  -------------------------  ------------  -------  -------------  ----------  -----------  -------------------  ------------  -------------------  ------  --------------  -----------  -----------------------  ---------------------\n",
            "        27275           Vonni         Bickerstaff            vbickerstaffl1m@scribd.com      F         243.25.198.130   713-436-3552  0868 South Plaza           Houston       TX               77218     29.834      -95.4342  2020-05-12 00:00:00             7  Bat                    2019  scooter              599.99  2019-06-07 00:00:00      \\N\n",
            "         2017           Noll          Mewton                 nmewton1k0@nhs.uk               M         86.106.66.4      816-147-3517  01 Redwing Terrace         Independence  MO               64054     39.11       -94.4401  2019-12-31 00:00:00             7  Bat                    2019  scooter              599.99  2019-06-07 00:00:00      \\N\n",
            "         7213           Selby         Heathcott              sheathcott5kc@skyrock.com       M         110.1.222.145                  60583 Ridgeview Point      Greensboro    NC               27499     36.0807     -80.0244  2021-08-28 00:00:00             7  Bat                    2019  scooter              599.99  2019-06-07 00:00:00      \\N\n",
            "        13194           Janella       Hinemoor               jhinemoora6h@naver.com          F         158.145.66.14    602-375-7717  009 Bowman Court           Phoenix       AZ               85083     33.7352    -112.129   2019-09-01 00:00:00             7  Bat                    2019  scooter              599.99  2019-06-07 00:00:00      \\N\n",
            "        34454           Tierney       Cottell                tcottellql1@npr.org             F         214.152.204.246  850-648-5262  3 Myrtle Way               Pensacola     FL               32590     30.6143     -87.2758  2019-12-08 00:00:00             7  Bat                    2019  scooter              599.99  2019-06-07 00:00:00      \\N\n",
            "        10515           Isadora       Stainson               istainson842@elegantthemes.com  F         205.183.234.9    419-571-9391  5533 Rieder Trail          Toledo        OH               43615     41.6492     -83.6706  2020-05-01 00:00:00             8  Bat Limited Edition    2020  scooter              699.99  2019-10-13 00:00:00      \\N\n",
            "        29765           Turner        Lattin                 tlattinmys@nature.com           M         25.43.194.18                   472 Westend Drive          Hartford      CT               06183     41.7638     -72.673   2016-02-14 00:00:00             8  Bat Limited Edition    2020  scooter              699.99  2019-10-13 00:00:00      \\N\n",
            "        46003           Anabelle      Southby                asouthbyzhu@usa.gov             F         104.23.103.239   410-100-8687  78 Holmberg Plaza          Baltimore     MD               21290     39.2933     -76.6238  2019-10-11 00:00:00             4  Model Chi              2017  automobile        115000     2017-02-17 00:00:00      2021-08-24 00:00:00\n",
            "         6953           Matilda       Floodgate              mfloodgate5d4@archive.org       F         193.206.208.174                2491 Esch Street           Las Vegas     NV               89160     35.9279    -114.972   2017-10-10 00:00:00            12  Lemon Zester           2022  scooter              349.99  2021-10-01 00:00:00      \\N\n",
            "        11714           Gertruda      Proudman               gproudman91d@list-manage.com    F         124.114.209.186                                                                                                          2016-08-07 00:00:00             3  Lemon                  2016  scooter              499.99  2015-12-27 00:00:00      2021-08-24 00:00:00\n",
            "        16695           Martynne      Rosentholer            mrosentholercvq@boston.com      F         46.241.149.62    605-191-7587  7542 Northwestern Terrace  Sioux Falls   SD               57105     43.524      -96.7341  2016-10-27 00:00:00             3  Lemon                  2016  scooter              499.99  2015-12-27 00:00:00      2021-08-24 00:00:00\n",
            "        26821           Sonja         Remer                  sremerkp0@blog.com              F         129.115.110.81   760-853-0562                                                                                            2016-04-07 00:00:00             3  Lemon                  2016  scooter              499.99  2015-12-27 00:00:00      2021-08-24 00:00:00\n"
          ]
        }
      ]
    },
    {
      "cell_type": "markdown",
      "source": [
        "5. Devuelve la columna dealership_id de la tabla de ventas, pero llena dealership_id en ventas con -1 si es NULL.\n"
      ],
      "metadata": {
        "id": "v1UA2GTqedUQ"
      }
    },
    {
      "cell_type": "code",
      "source": [
        "sql_exec_query('''\n",
        "SELECT\n",
        "COALESCE(s.dealership_id, -1) sales_dealership,\n",
        "c.*, p.*\n",
        "FROM sales s\n",
        "LEFT JOIN dealerships d\n",
        "ON d.dealership_id = s.dealership_id\n",
        "JOIN customers c\n",
        "ON s.customer_id = c.customer_id\n",
        "JOIN products p\n",
        "ON s.product_id = p.product_id\n",
        "   LIMIT 12;\n",
        "''')"
      ],
      "metadata": {
        "id": "QWogIC1WediZ",
        "outputId": "83d572f6-71a0-4d2f-ba7e-b501d4ce3b91",
        "colab": {
          "base_uri": "https://localhost:8080/"
        }
      },
      "execution_count": 25,
      "outputs": [
        {
          "output_type": "stream",
          "name": "stdout",
          "text": [
            "sales_dealership      customer_id  title    first_name    last_name    suffix    email                           gender    ip_address       phone         street_address             city          state      postal_code    latitude    longitude  date_added             product_id  model                  year  product_type      base_msrp  production_start_date    production_end_date\n",
            "------------------  -------------  -------  ------------  -----------  --------  ------------------------------  --------  ---------------  ------------  -------------------------  ------------  -------  -------------  ----------  -----------  -------------------  ------------  -------------------  ------  --------------  -----------  -----------------------  ---------------------\n",
            "\\N                          27275           Vonni         Bickerstaff            vbickerstaffl1m@scribd.com      F         243.25.198.130   713-436-3552  0868 South Plaza           Houston       TX               77218     29.834      -95.4342  2020-05-12 00:00:00             7  Bat                    2019  scooter              599.99  2019-06-07 00:00:00      \\N\n",
            "\\N                           2017           Noll          Mewton                 nmewton1k0@nhs.uk               M         86.106.66.4      816-147-3517  01 Redwing Terrace         Independence  MO               64054     39.11       -94.4401  2019-12-31 00:00:00             7  Bat                    2019  scooter              599.99  2019-06-07 00:00:00      \\N\n",
            "\\N                           7213           Selby         Heathcott              sheathcott5kc@skyrock.com       M         110.1.222.145                  60583 Ridgeview Point      Greensboro    NC               27499     36.0807     -80.0244  2021-08-28 00:00:00             7  Bat                    2019  scooter              599.99  2019-06-07 00:00:00      \\N\n",
            "\\N                          13194           Janella       Hinemoor               jhinemoora6h@naver.com          F         158.145.66.14    602-375-7717  009 Bowman Court           Phoenix       AZ               85083     33.7352    -112.129   2019-09-01 00:00:00             7  Bat                    2019  scooter              599.99  2019-06-07 00:00:00      \\N\n",
            "\\N                          34454           Tierney       Cottell                tcottellql1@npr.org             F         214.152.204.246  850-648-5262  3 Myrtle Way               Pensacola     FL               32590     30.6143     -87.2758  2019-12-08 00:00:00             7  Bat                    2019  scooter              599.99  2019-06-07 00:00:00      \\N\n",
            "\\N                          10515           Isadora       Stainson               istainson842@elegantthemes.com  F         205.183.234.9    419-571-9391  5533 Rieder Trail          Toledo        OH               43615     41.6492     -83.6706  2020-05-01 00:00:00             8  Bat Limited Edition    2020  scooter              699.99  2019-10-13 00:00:00      \\N\n",
            "\\N                          29765           Turner        Lattin                 tlattinmys@nature.com           M         25.43.194.18                   472 Westend Drive          Hartford      CT               06183     41.7638     -72.673   2016-02-14 00:00:00             8  Bat Limited Edition    2020  scooter              699.99  2019-10-13 00:00:00      \\N\n",
            "\\N                          46003           Anabelle      Southby                asouthbyzhu@usa.gov             F         104.23.103.239   410-100-8687  78 Holmberg Plaza          Baltimore     MD               21290     39.2933     -76.6238  2019-10-11 00:00:00             4  Model Chi              2017  automobile        115000     2017-02-17 00:00:00      2021-08-24 00:00:00\n",
            "\\N                           6953           Matilda       Floodgate              mfloodgate5d4@archive.org       F         193.206.208.174                2491 Esch Street           Las Vegas     NV               89160     35.9279    -114.972   2017-10-10 00:00:00            12  Lemon Zester           2022  scooter              349.99  2021-10-01 00:00:00      \\N\n",
            "\\N                          11714           Gertruda      Proudman               gproudman91d@list-manage.com    F         124.114.209.186                                                                                                          2016-08-07 00:00:00             3  Lemon                  2016  scooter              499.99  2015-12-27 00:00:00      2021-08-24 00:00:00\n",
            "\\N                          16695           Martynne      Rosentholer            mrosentholercvq@boston.com      F         46.241.149.62    605-191-7587  7542 Northwestern Terrace  Sioux Falls   SD               57105     43.524      -96.7341  2016-10-27 00:00:00             3  Lemon                  2016  scooter              499.99  2015-12-27 00:00:00      2021-08-24 00:00:00\n",
            "\\N                          26821           Sonja         Remer                  sremerkp0@blog.com              F         129.115.110.81   760-853-0562                                                                                            2016-04-07 00:00:00             3  Lemon                  2016  scooter              499.99  2015-12-27 00:00:00      2021-08-24 00:00:00\n"
          ]
        }
      ]
    },
    {
      "cell_type": "markdown",
      "source": [
        "6. Agrega una columna llamada \"high_savings\" que devuelva 1 si el monto de la venta fue de 500 dólares menos que base_msrp o menos. De lo contrario, devuelve 0. Asegúrate de realizar la consulta en una tabla unida.\n"
      ],
      "metadata": {
        "id": "Atvo8DJ0eds_"
      }
    },
    {
      "cell_type": "code",
      "source": [
        "sql_exec_query('''\n",
        "SELECT\n",
        "  COALESCE(s.dealership_id, -1) sales_dealership,\n",
        "  CASE\n",
        "WHEN sales_amount < base_msrp - 500 THEN 1\n",
        "    ELSE 0\n",
        "  END high_savings,\n",
        "  c.*, p.*\n",
        "FROM sales s\n",
        "LEFT JOIN dealerships d\n",
        "  ON d.dealership_id = s.dealership_id\n",
        "JOIN customers c\n",
        "  ON s.customer_id = c.customer_id\n",
        "JOIN products p\n",
        "  ON s.product_id = p.product_id\n",
        "   LIMIT 12;\n",
        "''')"
      ],
      "metadata": {
        "id": "19jsV396hjsk",
        "outputId": "06b836d0-6828-44d8-da99-3f3eb90eda98",
        "colab": {
          "base_uri": "https://localhost:8080/"
        }
      },
      "execution_count": 26,
      "outputs": [
        {
          "output_type": "stream",
          "name": "stdout",
          "text": [
            "sales_dealership      high_savings    customer_id  title    first_name    last_name    suffix    email                           gender    ip_address       phone         street_address             city          state      postal_code    latitude    longitude  date_added             product_id  model                  year  product_type      base_msrp  production_start_date    production_end_date\n",
            "------------------  --------------  -------------  -------  ------------  -----------  --------  ------------------------------  --------  ---------------  ------------  -------------------------  ------------  -------  -------------  ----------  -----------  -------------------  ------------  -------------------  ------  --------------  -----------  -----------------------  ---------------------\n",
            "\\N                               0          27275           Vonni         Bickerstaff            vbickerstaffl1m@scribd.com      F         243.25.198.130   713-436-3552  0868 South Plaza           Houston       TX               77218     29.834      -95.4342  2020-05-12 00:00:00             7  Bat                    2019  scooter              599.99  2019-06-07 00:00:00      \\N\n",
            "\\N                               0           2017           Noll          Mewton                 nmewton1k0@nhs.uk               M         86.106.66.4      816-147-3517  01 Redwing Terrace         Independence  MO               64054     39.11       -94.4401  2019-12-31 00:00:00             7  Bat                    2019  scooter              599.99  2019-06-07 00:00:00      \\N\n",
            "\\N                               0           7213           Selby         Heathcott              sheathcott5kc@skyrock.com       M         110.1.222.145                  60583 Ridgeview Point      Greensboro    NC               27499     36.0807     -80.0244  2021-08-28 00:00:00             7  Bat                    2019  scooter              599.99  2019-06-07 00:00:00      \\N\n",
            "\\N                               0          13194           Janella       Hinemoor               jhinemoora6h@naver.com          F         158.145.66.14    602-375-7717  009 Bowman Court           Phoenix       AZ               85083     33.7352    -112.129   2019-09-01 00:00:00             7  Bat                    2019  scooter              599.99  2019-06-07 00:00:00      \\N\n",
            "\\N                               0          34454           Tierney       Cottell                tcottellql1@npr.org             F         214.152.204.246  850-648-5262  3 Myrtle Way               Pensacola     FL               32590     30.6143     -87.2758  2019-12-08 00:00:00             7  Bat                    2019  scooter              599.99  2019-06-07 00:00:00      \\N\n",
            "\\N                               0          10515           Isadora       Stainson               istainson842@elegantthemes.com  F         205.183.234.9    419-571-9391  5533 Rieder Trail          Toledo        OH               43615     41.6492     -83.6706  2020-05-01 00:00:00             8  Bat Limited Edition    2020  scooter              699.99  2019-10-13 00:00:00      \\N\n",
            "\\N                               0          29765           Turner        Lattin                 tlattinmys@nature.com           M         25.43.194.18                   472 Westend Drive          Hartford      CT               06183     41.7638     -72.673   2016-02-14 00:00:00             8  Bat Limited Edition    2020  scooter              699.99  2019-10-13 00:00:00      \\N\n",
            "\\N                               1          46003           Anabelle      Southby                asouthbyzhu@usa.gov             F         104.23.103.239   410-100-8687  78 Holmberg Plaza          Baltimore     MD               21290     39.2933     -76.6238  2019-10-11 00:00:00             4  Model Chi              2017  automobile        115000     2017-02-17 00:00:00      2021-08-24 00:00:00\n",
            "\\N                               0           6953           Matilda       Floodgate              mfloodgate5d4@archive.org       F         193.206.208.174                2491 Esch Street           Las Vegas     NV               89160     35.9279    -114.972   2017-10-10 00:00:00            12  Lemon Zester           2022  scooter              349.99  2021-10-01 00:00:00      \\N\n",
            "\\N                               0          11714           Gertruda      Proudman               gproudman91d@list-manage.com    F         124.114.209.186                                                                                                          2016-08-07 00:00:00             3  Lemon                  2016  scooter              499.99  2015-12-27 00:00:00      2021-08-24 00:00:00\n",
            "\\N                               0          16695           Martynne      Rosentholer            mrosentholercvq@boston.com      F         46.241.149.62    605-191-7587  7542 Northwestern Terrace  Sioux Falls   SD               57105     43.524      -96.7341  2016-10-27 00:00:00             3  Lemon                  2016  scooter              499.99  2015-12-27 00:00:00      2021-08-24 00:00:00\n",
            "\\N                               0          26821           Sonja         Remer                  sremerkp0@blog.com              F         129.115.110.81   760-853-0562                                                                                            2016-04-07 00:00:00             3  Lemon                  2016  scooter              499.99  2015-12-27 00:00:00      2021-08-24 00:00:00\n"
          ]
        }
      ]
    },
    {
      "cell_type": "markdown",
      "source": [
        "\n",
        "Resultado Esperado:\n",
        "\n",
        "La siguiente figura muestra algunas de las filas del resultado de esta actividad. Puedes ver que varios dealership_id son reemplazados por -1 en la consulta, ya que en realidad son NULL. Esto se debe a que las ventas por Internet no pasan por un concesionario y, por lo tanto, no tienen un valor de dealership_id. Algunas de las filas también tienen su valor en la columna high_savings marcado como 1, lo que indica que el monto de la venta es de $500 o más por debajo de base_msrp. Puedes revisar algunas filas, intentar obtener los datos originales y confirmar que el SQL esté escrito correctamente:\n",
        "\n",
        "\n",
        "<figure>\n",
        "<center><img src='https://github.com/limspiga/data-modeling/blob/main/images/b070c5a4-93d0-4ec6-8a0f-a012406e0617.png?raw=true' width=\"500\" />\n",
        "<figcaption>\n",
        "Figure 3.27: Building a sales model query</figcaption></center>\n",
        "</figure>"
      ],
      "metadata": {
        "id": "bN3qNX1tervL"
      }
    },
    {
      "cell_type": "markdown",
      "source": [
        "# Resumen\n",
        "SQL te proporciona muchas herramientas para mezclar y limpiar datos. En este capítulo, primero aprendiste cómo combinar dos o más tablas. Comenzaste con la palabra clave JOIN, que fusiona datos de tablas en función de sus columnas comunes. Existen varios tipos de JOIN. Dependiendo de si deseas conservar los datos en una tabla en particular o no, puedes elegir entre INNER JOIN, LEFT OUTER JOIN, RIGHT OUTER JOIN, FULL OUTER JOIN o CROSS JOIN. Luego, aprendiste cómo utilizar subconsultas y CTE (Expresiones de Tabla Común) para preservar y reutilizar los resultados de las consultas. También puedes utilizar UNION y UNION ALL para fusionar los resultados de dos consultas con la misma estructura en un único conjunto de resultados.\n",
        "\n",
        "Después de aprender cómo combinar datos de diferentes conjuntos de datos, aprendiste a realizar ciertas transformaciones en los datos. Comenzaste con la función CASE WHEN, que es una forma genérica de convertir una expresión en otra basada en condiciones personalizadas definidas. Luego, aprendiste cómo utilizar las funciones COALESCE() y NULLIF() para convertir entre valores NULL y no NULL. También aprendiste cómo cambiar el tipo de datos de una expresión utilizando funciones de conversión, y finalmente, conociste las funciones DISTINCT y DISTINCT ON para obtener listas distintas de valores.\n",
        "\n",
        "Ahora que sabes cómo preparar un conjunto de datos, en el próximo capítulo aprenderás cómo comenzar a obtener insights analíticos utilizando funciones de agregación."
      ],
      "metadata": {
        "id": "wmwfw06Ga_Qf"
      }
    }
  ]
}