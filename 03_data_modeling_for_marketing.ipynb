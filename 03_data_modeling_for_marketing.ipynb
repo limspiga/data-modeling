{
  "nbformat": 4,
  "nbformat_minor": 0,
  "metadata": {
    "colab": {
      "provenance": []
    },
    "kernelspec": {
      "name": "python3",
      "display_name": "Python 3"
    },
    "language_info": {
      "name": "python"
    }
  },
  "cells": [
    {
      "cell_type": "markdown",
      "source": [
        "# 3. SQL para preparación de datos\n",
        "\n",
        "# 3.1 Introducción\n",
        "\n",
        "En capítulos anteriores, adquiriste una comprensión fundamental sobre análisis de datos y SQL. Dominaste cómo utilizar las instrucciones CREATE, INSERT, SELECT, ALTER, UPDATE, DELETE y DROP en SQL para desplegar operaciones de creación, lectura, actualización y eliminación (conocidas como CRUD por sus siglas en inglés). Estos conceptos son esenciales para el análisis de datos.\n",
        "\n",
        "No obstante, en la realidad profesional, como analista de datos, raramente gestionarás todo el proceso CRUD de inicio a fin. Comúnmente, no generas conjuntos de datos desde cero, sino que los recibes de fuentes externas. A menudo, estos datos presentan formatos que requieren adaptaciones antes de ser utilizables. Puede que falte información, que algunos datos no se ajusten al formato requerido, o incluso que haya información incorrecta.\n",
        "\n",
        "Forbes estima que cerca del 80% del tiempo empleado por los analistas se dedica a la preparación de datos. Usar datos impuros para construir modelos puede comprometer los análisis, llevando a conclusiones inadecuadas. Aquí es donde SQL destaca, ofreciendo herramientas eficientes para desarrollar conjuntos de datos limpios y estructurados.\n",
        "\n",
        "En este capítulo, exploraremos cómo consolidar datos usando JOIN y UNION. También abordaremos funciones como CASE WHEN, COALESCE, NULLIF y LEAST/GREATEST para la limpieza de datos. Finalmente, aprenderás a transformar y eliminar datos duplicados mediante el comando DISTINCT.\n",
        "\n",
        "# 3.2 Ensamble de Datos\n",
        "\n",
        "En el segundo capítulo, titulado \"Fundamentos de SQL para Análisis\", aprendiste operaciones básicas con una sola tabla. Pero, ¿qué sucede si la información requerida se distribuye en varias tablas? En esta sección, descubrirás cómo consolidar datos de múltiples tablas mediante uniones y agrupaciones.\n",
        "\n",
        "## 3.2.1  Conexión de Tablas con JOIN\n",
        "\n",
        "\n",
        "En muchas ocasiones, la información deseada reside en diversas tablas. Un simple comando SELECT sobre una tabla no basta. Sin embargo, SQL nos brinda herramientas para integrar tablas relacionadas a través del término JOIN.\n",
        "\n",
        "Considera, por ejemplo, dos tablas en la base de datos ZoomZoom: una de concesionarios y otra de vendedores.\n",
        "\n",
        "<figure>\n",
        "<center><img src='https://github.com/limspiga/data-modeling/blob/main/images/29104fd3-90f7-4272-8ff5-8b8c10991883.png?raw=true' width=\"300\" />\n",
        "<figcaption>\n",
        "Figure 3.1: Structure of dealerships table\".</figcaption></center>\n",
        "</figure>"
      ],
      "metadata": {
        "id": "2dRYTSQhI50-"
      }
    },
    {
      "cell_type": "markdown",
      "source": [],
      "metadata": {
        "id": "ZbEU370eKkXS"
      }
    }
  ]
}