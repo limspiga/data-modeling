{
  "nbformat": 4,
  "nbformat_minor": 0,
  "metadata": {
    "colab": {
      "provenance": []
    },
    "kernelspec": {
      "name": "python3",
      "display_name": "Python 3"
    },
    "language_info": {
      "name": "python"
    }
  },
  "cells": [
    {
      "cell_type": "markdown",
      "source": [
        "# 3. SQL para preparación de datos\n",
        "\n",
        "# 3.1 Introducción\n",
        "\n",
        "En capítulos anteriores, adquiriste una comprensión fundamental sobre análisis de datos y SQL. Dominaste cómo utilizar las instrucciones CREATE, INSERT, SELECT, ALTER, UPDATE, DELETE y DROP en SQL para desplegar operaciones de creación, lectura, actualización y eliminación (conocidas como CRUD por sus siglas en inglés). Estos conceptos son esenciales para el análisis de datos.\n",
        "\n",
        "No obstante, en la realidad profesional, como analista de datos, raramente gestionarás todo el proceso CRUD de inicio a fin. Comúnmente, no generas conjuntos de datos desde cero, sino que los recibes de fuentes externas. A menudo, estos datos presentan formatos que requieren adaptaciones antes de ser utilizables. Puede que falte información, que algunos datos no se ajusten al formato requerido, o incluso que haya información incorrecta.\n",
        "\n",
        "Forbes estima que cerca del 80% del tiempo empleado por los analistas se dedica a la preparación de datos. Usar datos impuros para construir modelos puede comprometer los análisis, llevando a conclusiones inadecuadas. Aquí es donde SQL destaca, ofreciendo herramientas eficientes para desarrollar conjuntos de datos limpios y estructurados.\n",
        "\n",
        "En este capítulo, exploraremos cómo consolidar datos usando JOIN y UNION. También abordaremos funciones como CASE WHEN, COALESCE, NULLIF y LEAST/GREATEST para la limpieza de datos. Finalmente, aprenderás a transformar y eliminar datos duplicados mediante el comando DISTINCT.\n"
      ],
      "metadata": {
        "id": "2dRYTSQhI50-"
      }
    },
    {
      "cell_type": "code",
      "source": [
        "# @title Preparación del entorno\n",
        "!pip install tabulate\n",
        "import sqlite3\n",
        "from tabulate import tabulate\n",
        "\n",
        "# Descargamos la base de datos sqlda\n",
        "!curl https://raw.githubusercontent.com/limspiga/data-modeling/main/db/sqlda.sql -O\n",
        "\n",
        "# Código auxiliar. Nota: ejecutar cuando se carge este libro.\n",
        "def sql_exec_query(query):\n",
        "  conn = sqlite3.connect('sqlda.sql')\n",
        "  cur = conn.cursor()\n",
        "  try:\n",
        "    cur.execute(query)\n",
        "    headers = [column[0] for column in cur.description]\n",
        "    print(tabulate(cur,  headers=headers))\n",
        "    # conn.commit()\n",
        "  except Exception as e:\n",
        "    print(str(e))\n",
        "    # conn.rollback()\n",
        "  cur.close()\n",
        "  conn.close()\n",
        "\n",
        "def sql_exec(query):\n",
        "  conn = sqlite3.connect('sqlda.sql')\n",
        "  cur = conn.cursor()\n",
        "  try:\n",
        "      cur.execute(query)\n",
        "      conn.commit()\n",
        "      print(\"Query executed successfully\")\n",
        "  except sqlite3.Error as e:\n",
        "      print(str(e))\n",
        "      conn.rollback()\n",
        "  cur.close()\n",
        "  conn.close()"
      ],
      "metadata": {
        "cellView": "form",
        "id": "_85ndUbsnr89",
        "outputId": "0e833772-4190-4476-dced-bf35e8d0ef76",
        "colab": {
          "base_uri": "https://localhost:8080/"
        }
      },
      "execution_count": 1,
      "outputs": [
        {
          "output_type": "stream",
          "name": "stdout",
          "text": [
            "Requirement already satisfied: tabulate in /usr/local/lib/python3.10/dist-packages (0.9.0)\n",
            "  % Total    % Received % Xferd  Average Speed   Time    Time     Time  Current\n",
            "                                 Dload  Upload   Total   Spent    Left  Speed\n",
            "100 60.5M  100 60.5M    0     0  55.8M      0  0:00:01  0:00:01 --:--:-- 55.8M\n"
          ]
        }
      ]
    },
    {
      "cell_type": "markdown",
      "source": [
        "# 3.2 Ensamble de Datos\n",
        "\n",
        "En el segundo capítulo, titulado \"Fundamentos de SQL para Análisis\", aprendiste operaciones básicas con una sola tabla. Pero, ¿qué sucede si la información requerida se distribuye en varias tablas? En esta sección, descubrirás cómo consolidar datos de múltiples tablas mediante uniones y agrupaciones.\n",
        "\n",
        "## 3.2.1  Conexión de Tablas con JOIN\n",
        "\n",
        "\n",
        "En muchas ocasiones, la información deseada reside en diversas tablas. Un simple comando SELECT sobre una tabla no basta. Sin embargo, SQL nos brinda herramientas para integrar tablas relacionadas a través del término JOIN.\n",
        "\n",
        "Considera, por ejemplo, dos tablas en la base de datos ZoomZoom: una de concesionarios y otra de vendedores.\n"
      ],
      "metadata": {
        "id": "WYADHWrMnsH9"
      }
    },
    {
      "cell_type": "code",
      "source": [
        "sql_exec_query('''\n",
        "  PRAGMA table_info(dealerships);\n",
        "''')\n",
        "\n",
        "# Figure 3.1: Structure of dealerships table"
      ],
      "metadata": {
        "id": "5C-lkMuioRb4",
        "outputId": "62d8ce0c-a2ef-4b66-e462-285a8ab0477b",
        "colab": {
          "base_uri": "https://localhost:8080/"
        }
      },
      "execution_count": 3,
      "outputs": [
        {
          "output_type": "stream",
          "name": "stdout",
          "text": [
            "  cid  name            type        notnull  dflt_value      pk\n",
            "-----  --------------  --------  ---------  ------------  ----\n",
            "    0  dealership_id   INTEGER           0                   1\n",
            "    1  street_address  TEXT              0                   0\n",
            "    2  city            TEXT              0                   0\n",
            "    3  state           TEXT              0                   0\n",
            "    4  postal_code     TEXT              0                   0\n",
            "    5  latitude        REAL              0                   0\n",
            "    6  longitude       REAL              0                   0\n",
            "    7  date_opened     DATETIME          0                   0\n",
            "    8  date_closed     DATETIME          0                   0\n"
          ]
        }
      ]
    },
    {
      "cell_type": "markdown",
      "source": [
        "Y la tabla de los vendedores se ve así:"
      ],
      "metadata": {
        "id": "pfX-2X1Mr26O"
      }
    },
    {
      "cell_type": "code",
      "source": [
        "sql_exec_query('''\n",
        "  PRAGMA table_info(salespeople);\n",
        "''')\n",
        "\n",
        "# Figure 3.2: Structure of salespeople table"
      ],
      "metadata": {
        "id": "mPAIei3qr7Db",
        "outputId": "aecb8033-04e1-4ed5-88ba-6059ed20400c",
        "colab": {
          "base_uri": "https://localhost:8080/"
        }
      },
      "execution_count": 13,
      "outputs": [
        {
          "output_type": "stream",
          "name": "stdout",
          "text": [
            "  cid  name              type        notnull  dflt_value      pk\n",
            "-----  ----------------  --------  ---------  ------------  ----\n",
            "    0  salesperson_id    INTEGER           0                   1\n",
            "    1  dealership_id     INTEGER           0                   0\n",
            "    2  title             TEXT              0                   0\n",
            "    3  first_name        TEXT              0                   0\n",
            "    4  last_name         TEXT              0                   0\n",
            "    5  suffix            TEXT              0                   0\n",
            "    6  username          TEXT              0                   0\n",
            "    7  gender            TEXT              0                   0\n",
            "    8  hire_date         DATETIME          0                   0\n",
            "    9  termination_date  DATETIME          0                   0\n"
          ]
        }
      ]
    },
    {
      "cell_type": "markdown",
      "source": [
        "En la tabla de vendedores, puedes observar que hay una columna llamada dealership_id. Esta columna dealership_id es una referencia directa a la columna dealership_id en la tabla de concesionarios. Cuando la tabla A tiene una columna que referencia la clave principal de la tabla B, se dice que la columna es una clave extranjera para la tabla A. En este caso, la columna dealership_id en vendedores es una clave extranjera para la tabla de concesionarios.\n",
        "\n",
        "Dado que estas dos tablas están relacionadas, puedes realizar algunos análisis interesantes con ellas. Por ejemplo, puedes estar interesado en determinar qué vendedores trabajan en un concesionario en California. Una forma de obtener esta información es primero consultar cuáles concesionarios están en California. Puedes hacerlo usando la siguiente consulta:\n"
      ],
      "metadata": {
        "id": "4mvr7IQ3U_4G"
      }
    },
    {
      "cell_type": "code",
      "source": [
        "sql_exec_query('''\n",
        "SELECT *\n",
        "FROM dealerships\n",
        "WHERE state='CA';\n",
        "''')\n",
        "\n",
        "# Figura 3.3: Concesionarios en California"
      ],
      "metadata": {
        "id": "svlip4fno6Ec",
        "outputId": "857fcec2-32ae-4daf-fbd1-04b7d5aa6a1d",
        "colab": {
          "base_uri": "https://localhost:8080/"
        }
      },
      "execution_count": 4,
      "outputs": [
        {
          "output_type": "stream",
          "name": "stdout",
          "text": [
            "  dealership_id  street_address              city         state      postal_code    latitude    longitude  date_opened          date_closed\n",
            "---------------  --------------------------  -----------  -------  -------------  ----------  -----------  -------------------  -------------\n",
            "              2  808 South Hobart Boulevard  Los Angeles  CA               90005     34.0578     -118.305  2017-01-26 00:00:00  \\N\n",
            "              5  2210 Bunker Hill Drive      San Mateo    CA               94402     37.5245     -122.344  2017-01-26 00:00:00  \\N\n"
          ]
        }
      ]
    },
    {
      "cell_type": "markdown",
      "source": [
        "Ahora que sabes que los únicos dos concesionarios en California tienen los IDs 2 y 5, respectivamente, puedes entonces consultar la tabla de vendedores, de la siguiente manera:\n"
      ],
      "metadata": {
        "id": "7pv8Suy0o6Zm"
      }
    },
    {
      "cell_type": "code",
      "source": [
        "sql_exec_query('''\n",
        "SELECT *\n",
        "FROM salespeople\n",
        "WHERE dealership_id in (2, 5)\n",
        "ORDER BY 1;\n",
        "''')\n",
        "\n",
        "# Figura 3.4: Vendedores en California"
      ],
      "metadata": {
        "id": "eO71yjqao6lU",
        "outputId": "800ca04b-6914-483c-f069-30f76ba07ad2",
        "colab": {
          "base_uri": "https://localhost:8080/"
        }
      },
      "execution_count": 5,
      "outputs": [
        {
          "output_type": "stream",
          "name": "stdout",
          "text": [
            "  salesperson_id    dealership_id  title    first_name    last_name    suffix    username        gender    hire_date            termination_date\n",
            "----------------  ---------------  -------  ------------  -----------  --------  --------------  --------  -------------------  ------------------\n",
            "              23                2           Beauregard    Peschke                bpeschkem       Male      2021-05-09 00:00:00\n",
            "              51                5           Lanette       Gerriessen             lgerriessen1e   Female    2021-02-18 00:00:00\n",
            "              57                5           Spense        Pithcock               spithcock1k     Male      2020-08-11 00:00:00\n",
            "              61                5           Ludvig        Baynam                 lbaynam1o       Male      2019-04-22 00:00:00\n",
            "              62                2           Carroll       Pudan                  cpudan1p        Female    2019-01-12 00:00:00\n",
            "              63                2           Adrianne      Otham                  aotham1q        Female    2017-08-16 00:00:00\n",
            "              71                2           Georgianna    Bastian                gbastian1y      Female    2021-08-19 00:00:00\n",
            "              75                2           Saundra       Shoebottom             sshoebottom22   Female    2020-11-12 00:00:00\n",
            "             108                2           Hale          Brigshaw               hbrigshaw2z     Male      2018-03-26 00:00:00\n",
            "             112                2           Karney        Jakolevitch            kjakolevitch33  Male      2020-03-19 00:00:00\n",
            "             126                2           Rock          Shakspeare             rshakspeare3h   Male      2017-08-26 00:00:00\n",
            "             127                5           Jordon        Cardnell               jcardnell3i     Male      2020-12-20 00:00:00\n",
            "             135                2           Karee         McIlrath               kmcilrath3q     Female    2019-06-25 00:00:00\n",
            "             152                5           Beniamino     Wackett                bwackett47      Male      2020-10-28 00:00:00\n",
            "             157                5           Jillane       Cearley      Sr        jcearley4c      Female    2017-11-23 00:00:00\n",
            "             160                5           Shina         Chiplen                schiplen4f      Female    2020-03-04 00:00:00\n",
            "             167                5           Joellen       Pawelczyk              jpawelczyk4m    Female    2020-08-18 00:00:00\n",
            "             174                2           Nadean        Jent                   njent4t         Female    2020-11-22 00:00:00\n",
            "             186                2           Emelita       Ellerker               eellerker55     Female    2019-04-21 00:00:00\n",
            "             188                5           Karoly        Brockelsby             kbrockelsby57   Female    2017-12-21 00:00:00\n",
            "             197                5           Giovanni      Brandle                gbrandle5g      Male      2019-01-09 00:00:00\n",
            "             202                5           Jessamyn      Gowing                 jgowing5l       Female    2018-01-04 00:00:00\n",
            "             203                2           Amabelle      Bigby                  abigby5m        Female    2019-10-07 00:00:00\n",
            "             206                5           Ferdie        Tawton                 ftawton5p       Male      2018-05-06 00:00:00\n",
            "             208                2           Lucho         Maddinon               lmaddinon5r     Male      2018-07-13 00:00:00\n",
            "             210                2           Malcolm       Fawckner               mfawckner5t     Male      2018-01-18 00:00:00\n",
            "             217                5           Moyra         Yakutin                myakutin60      Female    2018-04-09 00:00:00\n",
            "             223                5           Hewie         Hutcheon               hhutcheon66     Male      2017-10-28 00:00:00\n",
            "             242                5           Yolanda       Capon                  ycapon6p        Female    2018-11-01 00:00:00\n",
            "             254                2           Pincus        Cowp                   pcowp71         Male      2021-10-13 00:00:00\n",
            "             266                5           Galen         Batterton              gbatterton7d    Male      2018-01-31 00:00:00\n",
            "             273                2           Sharla        Turmel                 sturmel7k       Female    2017-12-08 00:00:00\n",
            "             280                5           Evaleen       Dougherty              edougherty7r    Female    2020-02-10 00:00:00\n",
            "             290                5           Ibby          Ryrie                  iryrie81        Female    2018-09-09 00:00:00\n",
            "             298                5           Cary          MacAllester            cmacallester89  Male      2020-12-11 00:00:00\n"
          ]
        }
      ]
    },
    {
      "cell_type": "markdown",
      "source": [
        "\n",
        "\n",
        "\n",
        "Aunque este método te da los resultados que quieres, es tedioso realizar dos consultas para obtener estos resultados. Lo que haría este proceso más fácil sería de alguna manera añadir la información de la tabla de concesionarios a la tabla de vendedores y luego filtrar por los usuarios en California. SQL proporciona tal herramienta con la cláusula JOIN. La cláusula JOIN es una cláusula SQL que permite a un usuario unir una o más tablas juntas basándose en condiciones distintas.\n",
        "\n",
        "### Tipos de Joins\n",
        "En este capítulo, aprenderás sobre tres joins fundamentales, que se ilustran en la siguiente figura: joins internos, joins externos y cross joins:\n",
        "\n",
        "<figure>\n",
        "<center><img src='https://github.com/limspiga/data-modeling/blob/main/images2b02b3cf-cf94-43f7-96c8-de59d23ba3f7.png?raw=true' width=\"300\" />\n",
        "<figcaption>\n",
        "Figure 3.1: Structure of dealerships table\".</figcaption></center>\n",
        "</figure>\n",
        "\n",
        "\n",
        "Figura 3.5: Tipos principales de joins\n",
        "\n",
        "#### Joins Internos\n",
        "\n",
        "Un join interno conecta filas en diferentes tablas, basándose en una condición conocida como el predicado de join. En muchos casos, el predicado de join es una condición lógica de igualdad. Cada fila en la primera tabla se compara con cada otra fila en la segunda tabla. Para las combinaciones de filas que cumplen el predicado de join interno, esa fila se devuelve en la consulta. De lo contrario, la combinación de filas se descarta.\n",
        "\n",
        "Los joins internos generalmente se escriben de la siguiente forma:\n",
        "\n",
        "```sql\n",
        "SELECT {columns}\n",
        "FROM {table1}\n",
        "INNER JOIN {table2}\n",
        "  ON {table1}.{common_key_1}={table2}.{common_key_2};\n",
        "```\n"
      ],
      "metadata": {
        "id": "ZPbjwzqto6vY"
      }
    },
    {
      "cell_type": "markdown",
      "source": [
        "\n",
        "Aquí, {columns} son las columnas que quieres obtener de la tabla unida, {table1} es la primera tabla, {table2} es la segunda tabla, {common_key_1} es la columna en {table1} a la que quieres unirte, y {common_key_2} es la columna en {table2} a la que quieres unirte.\n",
        "\n",
        "Ahora, regresa a las dos tablas discutidas anteriormente: concesionarios y vendedores. Como se mencionó anteriormente, sería bueno si pudieras agregar la información de la tabla de concesionarios a la tabla de vendedores sabiendo en qué estado está cada concesionario. Por el momento, supone que todos los ID de los vendedores tienen un valor dealership_id válido.\n",
        "\n",
        "Puedes unir las dos tablas usando una condición de igualdad en el predicado de unión, como sigue:\n"
      ],
      "metadata": {
        "id": "zyaXl_S9o7JY"
      }
    },
    {
      "cell_type": "code",
      "source": [
        "sql_exec_query('''\n",
        "SELECT *\n",
        "FROM salespeople\n",
        "INNER JOIN dealerships\n",
        "  ON salespeople.dealership_id = dealerships.dealership_id\n",
        "ORDER BY 1 LIMIT 10;\n",
        "''')\n"
      ],
      "metadata": {
        "id": "EFFEdMM3o7Vj",
        "outputId": "3fcfb72a-3bd2-4247-d2b4-1fb55afe260d",
        "colab": {
          "base_uri": "https://localhost:8080/"
        }
      },
      "execution_count": 9,
      "outputs": [
        {
          "output_type": "stream",
          "name": "stdout",
          "text": [
            "  salesperson_id    dealership_id  title    first_name    last_name    suffix    username    gender    hire_date            termination_date      dealership_id  street_address          city          state      postal_code    latitude    longitude  date_opened          date_closed\n",
            "----------------  ---------------  -------  ------------  -----------  --------  ----------  --------  -------------------  ------------------  ---------------  ----------------------  ------------  -------  -------------  ----------  -----------  -------------------  -------------\n",
            "               1               17           Electra       Elleyne                eelleyne0   Female    2020-01-26 00:00:00                                   17  2120 Walnut Street      Philadelphia  PA               19092     39.951      -75.177   2017-01-26 00:00:00  \\N\n",
            "               2                6           Montague      Alcoran                malcoran1   Male      2021-08-27 00:00:00                                    6  7315 California Avenue  Seattle       WA               98136     47.538     -122.387   2017-01-26 00:00:00  \\N\n",
            "               3               17           Ethyl         Sloss        IV        esloss2     Female    2019-04-07 00:00:00                                   17  2120 Walnut Street      Philadelphia  PA               19092     39.951      -75.177   2017-01-26 00:00:00  \\N\n",
            "               4               10           Nester        Dugood                 ndugood3    Male      2020-01-29 00:00:00                                   10  7425 Wilson Avenue      Chicago       IL               60706     41.9635     -87.8136  2017-01-26 00:00:00  \\N\n",
            "               5               17           Cornall       Swanger                cswanger4   Male      2021-01-11 00:00:00                                   17  2120 Walnut Street      Philadelphia  PA               19092     39.951      -75.177   2017-01-26 00:00:00  \\N\n",
            "               6                8           Ellary        Nend                   enend5      Male      2019-01-02 00:00:00                                    8  5938 Cornfoot Road      Portland      OR               97218     45.5757    -122.603   2017-01-26 00:00:00  \\N\n",
            "               7                1           Granville     Fidell                 gfidell6    Male      2020-02-12 00:00:00                                    1  52 Hillside Terrace     Millburn      NJ               07039     40.7928     -74.3233  2017-01-26 00:00:00  \\N\n",
            "               8               18           Lanie         Tisun                  ltisun7     Male      2020-08-08 00:00:00                                   18  1447 Hardesty Avenue    Kansas City   MO               64195     39.0957     -94.5193  2017-01-26 00:00:00  \\N\n",
            "               9               14           Lamar         Treleven               ltreleven8  Male      2021-01-02 00:00:00                                   14  800 North Mays Street   Round Rock    TX               78664     30.5155     -97.6819  2017-01-26 00:00:00  \\N\n",
            "              10                1           Jereme        Onele                  jonele9     Male      2019-04-12 00:00:00                                    1  52 Hillside Terrace     Millburn      NJ               07039     40.7928     -74.3233  2017-01-26 00:00:00  \\N\n"
          ]
        }
      ]
    },
    {
      "cell_type": "markdown",
      "source": [
        "\n",
        "La siguiente figura muestra las primeras filas del resultado:\n",
        "\n",
        "<figure>\n",
        "<center><img src='https://github.com/limspiga/data-modeling/blob/main/images/7b05c1b2-f698-4eea-8593-cfebb8519a76.png?raw=true' width=\"300\" />\n",
        "<figcaption>\n",
        "Figure 3.1: Structure of dealerships table\".</figcaption></center>\n",
        "</figure>\n",
        "\n",
        "Figura 3.6: La tabla de vendedores unida a la tabla de concesionarios\n",
        "\n",
        "Como puedes ver en el resultado anterior, la tabla es el resultado de unir la tabla de vendedores con la de concesionarios. Nota que la primera tabla listada en la consulta, vendedores, está en el lado izquierdo del resultado, mientras que la tabla de concesionarios está en el lado derecho. Este orden de izquierda-derecha será muy importante en la próxima sección cuando aprendas sobre los joins externos entre tablas. Durante un join externo, si una tabla está en el lado izquierdo o derecho puede afectar el resultado de la consulta. Para un join interno, sin embargo, el orden de las tablas no es importante para los predicados de unión que usan una operación de igualdad.\n",
        "\n",
        "Ahora, mira las columnas involucradas; dealership_id en la tabla de vendedores coincide con dealership_id en la tabla de concesionarios. Esto muestra cómo se cumple el predicado de unión. Al ejecutar esta consulta de unión, has creado efectivamente un nuevo \"superconjunto de datos\" que consta de las dos tablas fusionadas donde las dos columnas dealership_id son iguales.\n",
        "\n",
        "Ahora puedes ejecutar una consulta SELECT sobre este \"superconjunto de datos\" de la misma manera que una tabla grande usando las cláusulas y palabras clave del Capítulo 2, Los conceptos básicos de SQL para análisis. Por ejemplo, volviendo al problema de múltiples consultas para determinar cuál de las consultas de ventas funciona en California, ahora puedes abordarlo con una consulta fácil:\n"
      ],
      "metadata": {
        "id": "lkhHpa6lo7hy"
      }
    },
    {
      "cell_type": "code",
      "source": [
        "sql_exec_query('''\n",
        "SELECT *\n",
        "FROM salespeople\n",
        "INNER JOIN dealerships\n",
        "  ON salespeople.dealership_id = dealerships.dealership_id\n",
        "WHERE dealerships.state = 'CA'\n",
        "ORDER BY 1;\n",
        "''')"
      ],
      "metadata": {
        "id": "GFqavAe4o7uo",
        "outputId": "d0d96e89-e621-40c5-969b-d67bcaf0758a",
        "colab": {
          "base_uri": "https://localhost:8080/"
        }
      },
      "execution_count": 11,
      "outputs": [
        {
          "output_type": "stream",
          "name": "stdout",
          "text": [
            "  salesperson_id    dealership_id  title    first_name    last_name    suffix    username        gender    hire_date            termination_date      dealership_id  street_address              city         state      postal_code    latitude    longitude  date_opened          date_closed\n",
            "----------------  ---------------  -------  ------------  -----------  --------  --------------  --------  -------------------  ------------------  ---------------  --------------------------  -----------  -------  -------------  ----------  -----------  -------------------  -------------\n",
            "              23                2           Beauregard    Peschke                bpeschkem       Male      2021-05-09 00:00:00                                    2  808 South Hobart Boulevard  Los Angeles  CA               90005     34.0578     -118.305  2017-01-26 00:00:00  \\N\n",
            "              51                5           Lanette       Gerriessen             lgerriessen1e   Female    2021-02-18 00:00:00                                    5  2210 Bunker Hill Drive      San Mateo    CA               94402     37.5245     -122.344  2017-01-26 00:00:00  \\N\n",
            "              57                5           Spense        Pithcock               spithcock1k     Male      2020-08-11 00:00:00                                    5  2210 Bunker Hill Drive      San Mateo    CA               94402     37.5245     -122.344  2017-01-26 00:00:00  \\N\n",
            "              61                5           Ludvig        Baynam                 lbaynam1o       Male      2019-04-22 00:00:00                                    5  2210 Bunker Hill Drive      San Mateo    CA               94402     37.5245     -122.344  2017-01-26 00:00:00  \\N\n",
            "              62                2           Carroll       Pudan                  cpudan1p        Female    2019-01-12 00:00:00                                    2  808 South Hobart Boulevard  Los Angeles  CA               90005     34.0578     -118.305  2017-01-26 00:00:00  \\N\n",
            "              63                2           Adrianne      Otham                  aotham1q        Female    2017-08-16 00:00:00                                    2  808 South Hobart Boulevard  Los Angeles  CA               90005     34.0578     -118.305  2017-01-26 00:00:00  \\N\n",
            "              71                2           Georgianna    Bastian                gbastian1y      Female    2021-08-19 00:00:00                                    2  808 South Hobart Boulevard  Los Angeles  CA               90005     34.0578     -118.305  2017-01-26 00:00:00  \\N\n",
            "              75                2           Saundra       Shoebottom             sshoebottom22   Female    2020-11-12 00:00:00                                    2  808 South Hobart Boulevard  Los Angeles  CA               90005     34.0578     -118.305  2017-01-26 00:00:00  \\N\n",
            "             108                2           Hale          Brigshaw               hbrigshaw2z     Male      2018-03-26 00:00:00                                    2  808 South Hobart Boulevard  Los Angeles  CA               90005     34.0578     -118.305  2017-01-26 00:00:00  \\N\n",
            "             112                2           Karney        Jakolevitch            kjakolevitch33  Male      2020-03-19 00:00:00                                    2  808 South Hobart Boulevard  Los Angeles  CA               90005     34.0578     -118.305  2017-01-26 00:00:00  \\N\n",
            "             126                2           Rock          Shakspeare             rshakspeare3h   Male      2017-08-26 00:00:00                                    2  808 South Hobart Boulevard  Los Angeles  CA               90005     34.0578     -118.305  2017-01-26 00:00:00  \\N\n",
            "             127                5           Jordon        Cardnell               jcardnell3i     Male      2020-12-20 00:00:00                                    5  2210 Bunker Hill Drive      San Mateo    CA               94402     37.5245     -122.344  2017-01-26 00:00:00  \\N\n",
            "             135                2           Karee         McIlrath               kmcilrath3q     Female    2019-06-25 00:00:00                                    2  808 South Hobart Boulevard  Los Angeles  CA               90005     34.0578     -118.305  2017-01-26 00:00:00  \\N\n",
            "             152                5           Beniamino     Wackett                bwackett47      Male      2020-10-28 00:00:00                                    5  2210 Bunker Hill Drive      San Mateo    CA               94402     37.5245     -122.344  2017-01-26 00:00:00  \\N\n",
            "             157                5           Jillane       Cearley      Sr        jcearley4c      Female    2017-11-23 00:00:00                                    5  2210 Bunker Hill Drive      San Mateo    CA               94402     37.5245     -122.344  2017-01-26 00:00:00  \\N\n",
            "             160                5           Shina         Chiplen                schiplen4f      Female    2020-03-04 00:00:00                                    5  2210 Bunker Hill Drive      San Mateo    CA               94402     37.5245     -122.344  2017-01-26 00:00:00  \\N\n",
            "             167                5           Joellen       Pawelczyk              jpawelczyk4m    Female    2020-08-18 00:00:00                                    5  2210 Bunker Hill Drive      San Mateo    CA               94402     37.5245     -122.344  2017-01-26 00:00:00  \\N\n",
            "             174                2           Nadean        Jent                   njent4t         Female    2020-11-22 00:00:00                                    2  808 South Hobart Boulevard  Los Angeles  CA               90005     34.0578     -118.305  2017-01-26 00:00:00  \\N\n",
            "             186                2           Emelita       Ellerker               eellerker55     Female    2019-04-21 00:00:00                                    2  808 South Hobart Boulevard  Los Angeles  CA               90005     34.0578     -118.305  2017-01-26 00:00:00  \\N\n",
            "             188                5           Karoly        Brockelsby             kbrockelsby57   Female    2017-12-21 00:00:00                                    5  2210 Bunker Hill Drive      San Mateo    CA               94402     37.5245     -122.344  2017-01-26 00:00:00  \\N\n",
            "             197                5           Giovanni      Brandle                gbrandle5g      Male      2019-01-09 00:00:00                                    5  2210 Bunker Hill Drive      San Mateo    CA               94402     37.5245     -122.344  2017-01-26 00:00:00  \\N\n",
            "             202                5           Jessamyn      Gowing                 jgowing5l       Female    2018-01-04 00:00:00                                    5  2210 Bunker Hill Drive      San Mateo    CA               94402     37.5245     -122.344  2017-01-26 00:00:00  \\N\n",
            "             203                2           Amabelle      Bigby                  abigby5m        Female    2019-10-07 00:00:00                                    2  808 South Hobart Boulevard  Los Angeles  CA               90005     34.0578     -118.305  2017-01-26 00:00:00  \\N\n",
            "             206                5           Ferdie        Tawton                 ftawton5p       Male      2018-05-06 00:00:00                                    5  2210 Bunker Hill Drive      San Mateo    CA               94402     37.5245     -122.344  2017-01-26 00:00:00  \\N\n",
            "             208                2           Lucho         Maddinon               lmaddinon5r     Male      2018-07-13 00:00:00                                    2  808 South Hobart Boulevard  Los Angeles  CA               90005     34.0578     -118.305  2017-01-26 00:00:00  \\N\n",
            "             210                2           Malcolm       Fawckner               mfawckner5t     Male      2018-01-18 00:00:00                                    2  808 South Hobart Boulevard  Los Angeles  CA               90005     34.0578     -118.305  2017-01-26 00:00:00  \\N\n",
            "             217                5           Moyra         Yakutin                myakutin60      Female    2018-04-09 00:00:00                                    5  2210 Bunker Hill Drive      San Mateo    CA               94402     37.5245     -122.344  2017-01-26 00:00:00  \\N\n",
            "             223                5           Hewie         Hutcheon               hhutcheon66     Male      2017-10-28 00:00:00                                    5  2210 Bunker Hill Drive      San Mateo    CA               94402     37.5245     -122.344  2017-01-26 00:00:00  \\N\n",
            "             242                5           Yolanda       Capon                  ycapon6p        Female    2018-11-01 00:00:00                                    5  2210 Bunker Hill Drive      San Mateo    CA               94402     37.5245     -122.344  2017-01-26 00:00:00  \\N\n",
            "             254                2           Pincus        Cowp                   pcowp71         Male      2021-10-13 00:00:00                                    2  808 South Hobart Boulevard  Los Angeles  CA               90005     34.0578     -118.305  2017-01-26 00:00:00  \\N\n",
            "             266                5           Galen         Batterton              gbatterton7d    Male      2018-01-31 00:00:00                                    5  2210 Bunker Hill Drive      San Mateo    CA               94402     37.5245     -122.344  2017-01-26 00:00:00  \\N\n",
            "             273                2           Sharla        Turmel                 sturmel7k       Female    2017-12-08 00:00:00                                    2  808 South Hobart Boulevard  Los Angeles  CA               90005     34.0578     -118.305  2017-01-26 00:00:00  \\N\n",
            "             280                5           Evaleen       Dougherty              edougherty7r    Female    2020-02-10 00:00:00                                    5  2210 Bunker Hill Drive      San Mateo    CA               94402     37.5245     -122.344  2017-01-26 00:00:00  \\N\n",
            "             290                5           Ibby          Ryrie                  iryrie81        Female    2018-09-09 00:00:00                                    5  2210 Bunker Hill Drive      San Mateo    CA               94402     37.5245     -122.344  2017-01-26 00:00:00  \\N\n",
            "             298                5           Cary          MacAllester            cmacallester89  Male      2020-12-11 00:00:00                                    5  2210 Bunker Hill Drive      San Mateo    CA               94402     37.5245     -122.344  2017-01-26 00:00:00  \\N\n"
          ]
        }
      ]
    },
    {
      "cell_type": "markdown",
      "source": [
        "\n",
        "Esto te da el siguiente resultado, que muestra las primeras filas del conjunto de resultados completo:\n",
        "\n",
        "<figure>\n",
        "<center><img src='https://github.com/limspiga/data-modeling/blob/main/images/5ffdefff-aee9-4e68-ae12-170d1844cc13.png?raw=true' width=\"300\" />\n",
        "<figcaption>\n",
        "Figure 3.1: Structure of dealerships table\".</figcaption></center>\n",
        "</figure>\n",
        "\n",
        "Figura 3.7: Vendedores en California con una consulta\n",
        "\n",
        "Observarás que el resultado en la Figura 3.6 y la Figura 3.7 es casi idéntico, siendo la excepción que la tabla en la Figura 3.7 tiene los datos de los concesionarios añadidos también. Si quieres recuperar solo la parte de la tabla de vendedores de esto, puedes seleccionar las columnas de vendedores usando la siguiente sintaxis de estrella:\n"
      ],
      "metadata": {
        "id": "ZbEU370eKkXS"
      }
    },
    {
      "cell_type": "code",
      "source": [
        "sql_exec_query('''\n",
        "SELECT salespeople.*\n",
        "FROM salespeople\n",
        "INNER JOIN dealerships\n",
        "  ON dealerships.dealership_id = salespeople.dealership_id\n",
        "WHERE dealerships.state = 'CA'\n",
        "ORDER BY 1;\n",
        "''')"
      ],
      "metadata": {
        "id": "dqjrPDRKpf-s",
        "outputId": "08915998-887d-449c-dd4b-e9e6eea1125a",
        "colab": {
          "base_uri": "https://localhost:8080/"
        }
      },
      "execution_count": 12,
      "outputs": [
        {
          "output_type": "stream",
          "name": "stdout",
          "text": [
            "  salesperson_id    dealership_id  title    first_name    last_name    suffix    username        gender    hire_date            termination_date\n",
            "----------------  ---------------  -------  ------------  -----------  --------  --------------  --------  -------------------  ------------------\n",
            "              23                2           Beauregard    Peschke                bpeschkem       Male      2021-05-09 00:00:00\n",
            "              51                5           Lanette       Gerriessen             lgerriessen1e   Female    2021-02-18 00:00:00\n",
            "              57                5           Spense        Pithcock               spithcock1k     Male      2020-08-11 00:00:00\n",
            "              61                5           Ludvig        Baynam                 lbaynam1o       Male      2019-04-22 00:00:00\n",
            "              62                2           Carroll       Pudan                  cpudan1p        Female    2019-01-12 00:00:00\n",
            "              63                2           Adrianne      Otham                  aotham1q        Female    2017-08-16 00:00:00\n",
            "              71                2           Georgianna    Bastian                gbastian1y      Female    2021-08-19 00:00:00\n",
            "              75                2           Saundra       Shoebottom             sshoebottom22   Female    2020-11-12 00:00:00\n",
            "             108                2           Hale          Brigshaw               hbrigshaw2z     Male      2018-03-26 00:00:00\n",
            "             112                2           Karney        Jakolevitch            kjakolevitch33  Male      2020-03-19 00:00:00\n",
            "             126                2           Rock          Shakspeare             rshakspeare3h   Male      2017-08-26 00:00:00\n",
            "             127                5           Jordon        Cardnell               jcardnell3i     Male      2020-12-20 00:00:00\n",
            "             135                2           Karee         McIlrath               kmcilrath3q     Female    2019-06-25 00:00:00\n",
            "             152                5           Beniamino     Wackett                bwackett47      Male      2020-10-28 00:00:00\n",
            "             157                5           Jillane       Cearley      Sr        jcearley4c      Female    2017-11-23 00:00:00\n",
            "             160                5           Shina         Chiplen                schiplen4f      Female    2020-03-04 00:00:00\n",
            "             167                5           Joellen       Pawelczyk              jpawelczyk4m    Female    2020-08-18 00:00:00\n",
            "             174                2           Nadean        Jent                   njent4t         Female    2020-11-22 00:00:00\n",
            "             186                2           Emelita       Ellerker               eellerker55     Female    2019-04-21 00:00:00\n",
            "             188                5           Karoly        Brockelsby             kbrockelsby57   Female    2017-12-21 00:00:00\n",
            "             197                5           Giovanni      Brandle                gbrandle5g      Male      2019-01-09 00:00:00\n",
            "             202                5           Jessamyn      Gowing                 jgowing5l       Female    2018-01-04 00:00:00\n",
            "             203                2           Amabelle      Bigby                  abigby5m        Female    2019-10-07 00:00:00\n",
            "             206                5           Ferdie        Tawton                 ftawton5p       Male      2018-05-06 00:00:00\n",
            "             208                2           Lucho         Maddinon               lmaddinon5r     Male      2018-07-13 00:00:00\n",
            "             210                2           Malcolm       Fawckner               mfawckner5t     Male      2018-01-18 00:00:00\n",
            "             217                5           Moyra         Yakutin                myakutin60      Female    2018-04-09 00:00:00\n",
            "             223                5           Hewie         Hutcheon               hhutcheon66     Male      2017-10-28 00:00:00\n",
            "             242                5           Yolanda       Capon                  ycapon6p        Female    2018-11-01 00:00:00\n",
            "             254                2           Pincus        Cowp                   pcowp71         Male      2021-10-13 00:00:00\n",
            "             266                5           Galen         Batterton              gbatterton7d    Male      2018-01-31 00:00:00\n",
            "             273                2           Sharla        Turmel                 sturmel7k       Female    2017-12-08 00:00:00\n",
            "             280                5           Evaleen       Dougherty              edougherty7r    Female    2020-02-10 00:00:00\n",
            "             290                5           Ibby          Ryrie                  iryrie81        Female    2018-09-09 00:00:00\n",
            "             298                5           Cary          MacAllester            cmacallester89  Male      2020-12-11 00:00:00\n"
          ]
        }
      ]
    },
    {
      "cell_type": "markdown",
      "source": [
        "\n",
        "Aquí están las primeras filas devueltas por esta consulta:\n",
        "\n",
        "<figure>\n",
        "<center><img src='https://github.com/limspiga/data-modeling/blob/main/images/dba76af2-bf81-41c2-a641-d77fae772aa9.png?raw=true' width=\"300\" />\n",
        "<figcaption>\n",
        "Figure 3.1: Structure of dealerships table\".</figcaption></center>\n",
        "</figure>\n",
        "\n",
        "Figura 3.8: Vendedores en California con SELECT alias de tabla\n",
        "\n",
        "Hay otro atajo que puede ayudar mientras\n",
        "\n",
        "\n",
        "<figure>\n",
        "<center><img src='https://github.com/limspiga/data-modeling/blob/main/images/dba76af2-bf81-41c2-a641-d77fae772aa9.png?raw=true' width=\"300\" />\n",
        "<figcaption>\n",
        "Figure 3.1: Structure of dealerships table\".</figcaption></center>\n",
        "</figure>"
      ],
      "metadata": {
        "id": "otK95sq9pgK-"
      }
    },
    {
      "cell_type": "markdown",
      "source": [],
      "metadata": {
        "id": "ila48kCrpggx"
      }
    }
  ]
}